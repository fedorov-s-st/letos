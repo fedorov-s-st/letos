{
 "cells": [
  {
   "cell_type": "markdown",
   "metadata": {},
   "source": [
    "# Выбор локации для скважины"
   ]
  },
  {
   "cell_type": "markdown",
   "metadata": {},
   "source": [
    "Допустим, вы работаете в добывающей компании «ГлавРосГосНефть». Нужно решить, где бурить новую скважину.\n",
    "\n",
    "Вам предоставлены пробы нефти в трёх регионах: в каждом 10 000 месторождений, где измерили качество нефти и объём её запасов. Постройте модель машинного обучения, которая поможет определить регион, где добыча принесёт наибольшую прибыль. Проанализируйте возможную прибыль и риски техникой *Bootstrap.*\n",
    "\n",
    "Шаги для выбора локации:\n",
    "\n",
    "- В избранном регионе ищут месторождения, для каждого определяют значения признаков;\n",
    "- Строят модель и оценивают объём запасов;\n",
    "- Выбирают месторождения с самым высокими оценками значений. Количество месторождений зависит от бюджета компании и стоимости разработки одной скважины;\n",
    "- Прибыль равна суммарной прибыли отобранных месторождений."
   ]
  },
  {
   "cell_type": "markdown",
   "metadata": {},
   "source": [
    "## Загрузка и подготовка данных"
   ]
  },
  {
   "cell_type": "markdown",
   "metadata": {},
   "source": [
    "### Загрузка данных"
   ]
  },
  {
   "cell_type": "code",
   "execution_count": 1,
   "metadata": {},
   "outputs": [
    {
     "name": "stdout",
     "output_type": "stream",
     "text": [
      "Note: you may need to restart the kernel to use updated packages.\n"
     ]
    }
   ],
   "source": [
    "pip install -U scikit-learn -q\n"
   ]
  },
  {
   "cell_type": "code",
   "execution_count": 2,
   "metadata": {},
   "outputs": [],
   "source": [
    "!pip install phik -q"
   ]
  },
  {
   "cell_type": "code",
   "execution_count": 3,
   "metadata": {},
   "outputs": [],
   "source": [
    "import pandas as pd\n",
    "from sklearn.model_selection import train_test_split\n",
    "from sklearn.pipeline import Pipeline\n",
    "from sklearn.compose import ColumnTransformer\n",
    "from sklearn.impute import SimpleImputer \n",
    "from sklearn.preprocessing import ( StandardScaler, \n",
    "                                    PolynomialFeatures)\n",
    "from sklearn.linear_model import LinearRegression, Lasso, Ridge,LogisticRegression\n",
    "\n",
    "\n",
    "from sklearn.metrics import mean_squared_error,r2_score\n",
    "import  numpy as np\n",
    "import seaborn as sns\n",
    "import matplotlib.pyplot as plt\n",
    "import phik\n",
    "#import my_function as fc\n",
    "from sklearn.model_selection import RandomizedSearchCV, GridSearchCV\n",
    "from sklearn.feature_selection import SelectKBest,f_classif, mutual_info_classif  \n",
    "from sklearn.preprocessing import LabelEncoder\n",
    "import warnings\n",
    "from sklearn.dummy import DummyRegressor, DummyClassifier\n",
    "\n",
    "\n",
    "plt.rcParams[\"figure.figsize\"] = (7,7)\n",
    "\n",
    "warnings.filterwarnings('ignore')\n",
    "RANDOM_STATE = 42\n",
    "test_size=0.25"
   ]
  },
  {
   "cell_type": "code",
   "execution_count": 4,
   "metadata": {},
   "outputs": [],
   "source": [
    "# ---------------Функции--------------\n",
    "# поиск пропусков\n",
    "def nan_search(datalist):\n",
    "    for k, v in datalist.items():\n",
    "        print(k,'\\n')\n",
    "        print(v.isna().sum())\n",
    "        print('-'*50)\n",
    "\n",
    "#поиск дубликатов\n",
    "def dublic_search(datalist):\n",
    "    for k, v in datalist.items():\n",
    "        print(k,'\\n')\n",
    "        print(v.duplicated().sum())\n",
    "        print('-'*50)\n",
    "\n",
    "\n",
    "# функция для построения графиков разбиных на категориальные step =1, и количественные step=2\n",
    "def analysis(df, step:int):\n",
    "    if step==1:\n",
    "        for i in df.select_dtypes(include='object').columns:\n",
    "            print('-----',i,'-----')\n",
    "            print(df[i].value_counts())\n",
    "            print()\n",
    "            pie(df[i].value_counts(), i);\n",
    "    if step==2:\n",
    "        for i in df.select_dtypes(exclude='object').columns:\n",
    "            print('------',i,'---------')\n",
    "            print(df[i].describe())\n",
    "            print()\n",
    "            boxhist(data=df, x=i, title=i);\n",
    "\n",
    "# ящик с усами\n",
    "\n",
    "# функция для построения ящика с усами и хистограмы для просмотра распределения\n",
    "def boxhist(data, x, title):\n",
    "    fig, axes = plt.subplots(1, 2, figsize=(15, 5))\n",
    "    sns.boxplot(ax=axes[0],data=data, x=x,palette=\"crest\");\n",
    "    axes[0].set_xlabel(title)\n",
    "    axes[0].set_title(title)\n",
    "\n",
    "\n",
    "    sns.histplot(ax=axes[1],data=data, x=x, kde=True, palette=\"crest\");\n",
    "    axes[1].set_title(title);\n",
    "    axes[1].set_xlabel(title)\n",
    "    axes[1].axvline(data[x].mean(), c='k', ls='-', lw=2.5)\n",
    "    axes[1].axvline(data[x].median(), c='orange', ls='--', lw=2.5)\n",
    "    plt.xlabel(title);\n",
    "    plt.show()\n",
    "# Функция для замены выбросов на значения \"усов\"\n",
    "def emissions(df, column):\n",
    "    q1 = df[column].quantile(0.25)\n",
    "    q3 = df[column].quantile(0.75)\n",
    "    iqr = 1.5 * (q3 -q1)\n",
    "    df.loc[df[column]>q3+iqr, column]=q3+iqr\n",
    "    df.loc[df[column]<q1-iqr, column]=q1-iqr\n",
    "    return df\n",
    "\n",
    "\n",
    "\n",
    "\n",
    "# Функция сплита данных\n",
    "def split(df, target):    \n",
    "    X =df.drop([target], axis=1)\n",
    "    y=df[target]\n",
    "    X_train, X_test, y_train, y_test =train_test_split(X, y, test_size=test_size, random_state =RANDOM_STATE)\n",
    "    poly = PolynomialFeatures(2)\n",
    "    X_train_poly = poly.fit_transform(X_train)\n",
    "    X_test_poly = poly.transform(X_test)\n",
    "    X_train = pd.DataFrame(X_train_poly,columns = poly.get_feature_names_out())\n",
    "    X_test = pd.DataFrame(X_test_poly,columns = poly.get_feature_names_out())\n",
    "    return X_train, X_test, y_train, y_test"
   ]
  },
  {
   "cell_type": "code",
   "execution_count": 5,
   "metadata": {},
   "outputs": [],
   "source": [
    "# Загрузим данные\n",
    "try: \n",
    "    data_0 = pd.read_csv('C:/Users/Serg/practicum/project_2/dataset/geo_data_0.csv')\n",
    "    data_1 = pd.read_csv('C:/Users/Serg/practicum/project_2/dataset/geo_data_1.csv')\n",
    "    data_2 = pd.read_csv('C:/Users/Serg/practicum/project_2/dataset/geo_data_2.csv')\n",
    "except:  \n",
    "    data_0 = pd.read_csv('/datasets/geo_data_0.csv')\n",
    "    data_1 = pd.read_csv('/datasets/geo_data_1.csv')\n",
    "    data_2 = pd.read_csv('/datasets/geo_data_2.csv')"
   ]
  },
  {
   "cell_type": "code",
   "execution_count": 6,
   "metadata": {},
   "outputs": [
    {
     "data": {
      "text/html": [
       "<div>\n",
       "<style scoped>\n",
       "    .dataframe tbody tr th:only-of-type {\n",
       "        vertical-align: middle;\n",
       "    }\n",
       "\n",
       "    .dataframe tbody tr th {\n",
       "        vertical-align: top;\n",
       "    }\n",
       "\n",
       "    .dataframe thead th {\n",
       "        text-align: right;\n",
       "    }\n",
       "</style>\n",
       "<table border=\"1\" class=\"dataframe\">\n",
       "  <thead>\n",
       "    <tr style=\"text-align: right;\">\n",
       "      <th></th>\n",
       "      <th>id</th>\n",
       "      <th>f0</th>\n",
       "      <th>f1</th>\n",
       "      <th>f2</th>\n",
       "      <th>product</th>\n",
       "    </tr>\n",
       "  </thead>\n",
       "  <tbody>\n",
       "    <tr>\n",
       "      <th>0</th>\n",
       "      <td>txEyH</td>\n",
       "      <td>0.705745</td>\n",
       "      <td>-0.497823</td>\n",
       "      <td>1.221170</td>\n",
       "      <td>105.280062</td>\n",
       "    </tr>\n",
       "    <tr>\n",
       "      <th>1</th>\n",
       "      <td>2acmU</td>\n",
       "      <td>1.334711</td>\n",
       "      <td>-0.340164</td>\n",
       "      <td>4.365080</td>\n",
       "      <td>73.037750</td>\n",
       "    </tr>\n",
       "    <tr>\n",
       "      <th>2</th>\n",
       "      <td>409Wp</td>\n",
       "      <td>1.022732</td>\n",
       "      <td>0.151990</td>\n",
       "      <td>1.419926</td>\n",
       "      <td>85.265647</td>\n",
       "    </tr>\n",
       "    <tr>\n",
       "      <th>3</th>\n",
       "      <td>iJLyR</td>\n",
       "      <td>-0.032172</td>\n",
       "      <td>0.139033</td>\n",
       "      <td>2.978566</td>\n",
       "      <td>168.620776</td>\n",
       "    </tr>\n",
       "    <tr>\n",
       "      <th>4</th>\n",
       "      <td>Xdl7t</td>\n",
       "      <td>1.988431</td>\n",
       "      <td>0.155413</td>\n",
       "      <td>4.751769</td>\n",
       "      <td>154.036647</td>\n",
       "    </tr>\n",
       "  </tbody>\n",
       "</table>\n",
       "</div>"
      ],
      "text/plain": [
       "      id        f0        f1        f2     product\n",
       "0  txEyH  0.705745 -0.497823  1.221170  105.280062\n",
       "1  2acmU  1.334711 -0.340164  4.365080   73.037750\n",
       "2  409Wp  1.022732  0.151990  1.419926   85.265647\n",
       "3  iJLyR -0.032172  0.139033  2.978566  168.620776\n",
       "4  Xdl7t  1.988431  0.155413  4.751769  154.036647"
      ]
     },
     "execution_count": 6,
     "metadata": {},
     "output_type": "execute_result"
    }
   ],
   "source": [
    "data_0.head()"
   ]
  },
  {
   "cell_type": "code",
   "execution_count": 7,
   "metadata": {},
   "outputs": [
    {
     "name": "stdout",
     "output_type": "stream",
     "text": [
      "<class 'pandas.core.frame.DataFrame'>\n",
      "RangeIndex: 100000 entries, 0 to 99999\n",
      "Data columns (total 5 columns):\n",
      " #   Column   Non-Null Count   Dtype  \n",
      "---  ------   --------------   -----  \n",
      " 0   id       100000 non-null  object \n",
      " 1   f0       100000 non-null  float64\n",
      " 2   f1       100000 non-null  float64\n",
      " 3   f2       100000 non-null  float64\n",
      " 4   product  100000 non-null  float64\n",
      "dtypes: float64(4), object(1)\n",
      "memory usage: 3.8+ MB\n"
     ]
    }
   ],
   "source": [
    "data_0.info()"
   ]
  },
  {
   "cell_type": "code",
   "execution_count": 8,
   "metadata": {},
   "outputs": [
    {
     "data": {
      "text/html": [
       "<div>\n",
       "<style scoped>\n",
       "    .dataframe tbody tr th:only-of-type {\n",
       "        vertical-align: middle;\n",
       "    }\n",
       "\n",
       "    .dataframe tbody tr th {\n",
       "        vertical-align: top;\n",
       "    }\n",
       "\n",
       "    .dataframe thead th {\n",
       "        text-align: right;\n",
       "    }\n",
       "</style>\n",
       "<table border=\"1\" class=\"dataframe\">\n",
       "  <thead>\n",
       "    <tr style=\"text-align: right;\">\n",
       "      <th></th>\n",
       "      <th>id</th>\n",
       "      <th>f0</th>\n",
       "      <th>f1</th>\n",
       "      <th>f2</th>\n",
       "      <th>product</th>\n",
       "    </tr>\n",
       "  </thead>\n",
       "  <tbody>\n",
       "    <tr>\n",
       "      <th>0</th>\n",
       "      <td>kBEdx</td>\n",
       "      <td>-15.001348</td>\n",
       "      <td>-8.276000</td>\n",
       "      <td>-0.005876</td>\n",
       "      <td>3.179103</td>\n",
       "    </tr>\n",
       "    <tr>\n",
       "      <th>1</th>\n",
       "      <td>62mP7</td>\n",
       "      <td>14.272088</td>\n",
       "      <td>-3.475083</td>\n",
       "      <td>0.999183</td>\n",
       "      <td>26.953261</td>\n",
       "    </tr>\n",
       "    <tr>\n",
       "      <th>2</th>\n",
       "      <td>vyE1P</td>\n",
       "      <td>6.263187</td>\n",
       "      <td>-5.948386</td>\n",
       "      <td>5.001160</td>\n",
       "      <td>134.766305</td>\n",
       "    </tr>\n",
       "    <tr>\n",
       "      <th>3</th>\n",
       "      <td>KcrkZ</td>\n",
       "      <td>-13.081196</td>\n",
       "      <td>-11.506057</td>\n",
       "      <td>4.999415</td>\n",
       "      <td>137.945408</td>\n",
       "    </tr>\n",
       "    <tr>\n",
       "      <th>4</th>\n",
       "      <td>AHL4O</td>\n",
       "      <td>12.702195</td>\n",
       "      <td>-8.147433</td>\n",
       "      <td>5.004363</td>\n",
       "      <td>134.766305</td>\n",
       "    </tr>\n",
       "  </tbody>\n",
       "</table>\n",
       "</div>"
      ],
      "text/plain": [
       "      id         f0         f1        f2     product\n",
       "0  kBEdx -15.001348  -8.276000 -0.005876    3.179103\n",
       "1  62mP7  14.272088  -3.475083  0.999183   26.953261\n",
       "2  vyE1P   6.263187  -5.948386  5.001160  134.766305\n",
       "3  KcrkZ -13.081196 -11.506057  4.999415  137.945408\n",
       "4  AHL4O  12.702195  -8.147433  5.004363  134.766305"
      ]
     },
     "execution_count": 8,
     "metadata": {},
     "output_type": "execute_result"
    }
   ],
   "source": [
    "data_1.head()"
   ]
  },
  {
   "cell_type": "code",
   "execution_count": 9,
   "metadata": {},
   "outputs": [
    {
     "name": "stdout",
     "output_type": "stream",
     "text": [
      "<class 'pandas.core.frame.DataFrame'>\n",
      "RangeIndex: 100000 entries, 0 to 99999\n",
      "Data columns (total 5 columns):\n",
      " #   Column   Non-Null Count   Dtype  \n",
      "---  ------   --------------   -----  \n",
      " 0   id       100000 non-null  object \n",
      " 1   f0       100000 non-null  float64\n",
      " 2   f1       100000 non-null  float64\n",
      " 3   f2       100000 non-null  float64\n",
      " 4   product  100000 non-null  float64\n",
      "dtypes: float64(4), object(1)\n",
      "memory usage: 3.8+ MB\n"
     ]
    }
   ],
   "source": [
    "data_1.info()"
   ]
  },
  {
   "cell_type": "code",
   "execution_count": 10,
   "metadata": {},
   "outputs": [
    {
     "data": {
      "text/html": [
       "<div>\n",
       "<style scoped>\n",
       "    .dataframe tbody tr th:only-of-type {\n",
       "        vertical-align: middle;\n",
       "    }\n",
       "\n",
       "    .dataframe tbody tr th {\n",
       "        vertical-align: top;\n",
       "    }\n",
       "\n",
       "    .dataframe thead th {\n",
       "        text-align: right;\n",
       "    }\n",
       "</style>\n",
       "<table border=\"1\" class=\"dataframe\">\n",
       "  <thead>\n",
       "    <tr style=\"text-align: right;\">\n",
       "      <th></th>\n",
       "      <th>id</th>\n",
       "      <th>f0</th>\n",
       "      <th>f1</th>\n",
       "      <th>f2</th>\n",
       "      <th>product</th>\n",
       "    </tr>\n",
       "  </thead>\n",
       "  <tbody>\n",
       "    <tr>\n",
       "      <th>0</th>\n",
       "      <td>fwXo0</td>\n",
       "      <td>-1.146987</td>\n",
       "      <td>0.963328</td>\n",
       "      <td>-0.828965</td>\n",
       "      <td>27.758673</td>\n",
       "    </tr>\n",
       "    <tr>\n",
       "      <th>1</th>\n",
       "      <td>WJtFt</td>\n",
       "      <td>0.262778</td>\n",
       "      <td>0.269839</td>\n",
       "      <td>-2.530187</td>\n",
       "      <td>56.069697</td>\n",
       "    </tr>\n",
       "    <tr>\n",
       "      <th>2</th>\n",
       "      <td>ovLUW</td>\n",
       "      <td>0.194587</td>\n",
       "      <td>0.289035</td>\n",
       "      <td>-5.586433</td>\n",
       "      <td>62.871910</td>\n",
       "    </tr>\n",
       "    <tr>\n",
       "      <th>3</th>\n",
       "      <td>q6cA6</td>\n",
       "      <td>2.236060</td>\n",
       "      <td>-0.553760</td>\n",
       "      <td>0.930038</td>\n",
       "      <td>114.572842</td>\n",
       "    </tr>\n",
       "    <tr>\n",
       "      <th>4</th>\n",
       "      <td>WPMUX</td>\n",
       "      <td>-0.515993</td>\n",
       "      <td>1.716266</td>\n",
       "      <td>5.899011</td>\n",
       "      <td>149.600746</td>\n",
       "    </tr>\n",
       "  </tbody>\n",
       "</table>\n",
       "</div>"
      ],
      "text/plain": [
       "      id        f0        f1        f2     product\n",
       "0  fwXo0 -1.146987  0.963328 -0.828965   27.758673\n",
       "1  WJtFt  0.262778  0.269839 -2.530187   56.069697\n",
       "2  ovLUW  0.194587  0.289035 -5.586433   62.871910\n",
       "3  q6cA6  2.236060 -0.553760  0.930038  114.572842\n",
       "4  WPMUX -0.515993  1.716266  5.899011  149.600746"
      ]
     },
     "execution_count": 10,
     "metadata": {},
     "output_type": "execute_result"
    }
   ],
   "source": [
    "data_2.head()"
   ]
  },
  {
   "cell_type": "code",
   "execution_count": 11,
   "metadata": {},
   "outputs": [
    {
     "name": "stdout",
     "output_type": "stream",
     "text": [
      "<class 'pandas.core.frame.DataFrame'>\n",
      "RangeIndex: 100000 entries, 0 to 99999\n",
      "Data columns (total 5 columns):\n",
      " #   Column   Non-Null Count   Dtype  \n",
      "---  ------   --------------   -----  \n",
      " 0   id       100000 non-null  object \n",
      " 1   f0       100000 non-null  float64\n",
      " 2   f1       100000 non-null  float64\n",
      " 3   f2       100000 non-null  float64\n",
      " 4   product  100000 non-null  float64\n",
      "dtypes: float64(4), object(1)\n",
      "memory usage: 3.8+ MB\n"
     ]
    }
   ],
   "source": [
    "data_2.info()"
   ]
  },
  {
   "cell_type": "markdown",
   "metadata": {},
   "source": [
    "Удалим столбцы с id."
   ]
  },
  {
   "cell_type": "code",
   "execution_count": 12,
   "metadata": {},
   "outputs": [],
   "source": [
    "data_0 = data_0.drop(['id'],axis=1)\n",
    "data_1 = data_1.drop(['id'],axis=1)\n",
    "data_2 = data_2.drop(['id'],axis=1)"
   ]
  },
  {
   "cell_type": "markdown",
   "metadata": {},
   "source": [
    "Загрузили и просмотрели данные. Теперь проверим на пропуски и дубликаты."
   ]
  },
  {
   "cell_type": "markdown",
   "metadata": {},
   "source": [
    "### Предобработка данных"
   ]
  },
  {
   "cell_type": "markdown",
   "metadata": {},
   "source": [
    "Поиск пропусков."
   ]
  },
  {
   "cell_type": "code",
   "execution_count": 13,
   "metadata": {},
   "outputs": [
    {
     "name": "stdout",
     "output_type": "stream",
     "text": [
      "1 район \n",
      "\n",
      "f0         0\n",
      "f1         0\n",
      "f2         0\n",
      "product    0\n",
      "dtype: int64\n",
      "--------------------------------------------------\n",
      "2 район \n",
      "\n",
      "f0         0\n",
      "f1         0\n",
      "f2         0\n",
      "product    0\n",
      "dtype: int64\n",
      "--------------------------------------------------\n",
      "3 район \n",
      "\n",
      "f0         0\n",
      "f1         0\n",
      "f2         0\n",
      "product    0\n",
      "dtype: int64\n",
      "--------------------------------------------------\n"
     ]
    }
   ],
   "source": [
    "datalist = {'1 район':data_0,'2 район':data_1,'3 район':data_2}\n",
    "# фукция для поиска пропусков\n",
    "nan_search(datalist) "
   ]
  },
  {
   "cell_type": "markdown",
   "metadata": {},
   "source": [
    "Пропусков нет."
   ]
  },
  {
   "cell_type": "markdown",
   "metadata": {},
   "source": [
    "Поиск дубликатов"
   ]
  },
  {
   "cell_type": "code",
   "execution_count": 14,
   "metadata": {},
   "outputs": [
    {
     "name": "stdout",
     "output_type": "stream",
     "text": [
      "1 район \n",
      "\n",
      "0\n",
      "--------------------------------------------------\n",
      "2 район \n",
      "\n",
      "0\n",
      "--------------------------------------------------\n",
      "3 район \n",
      "\n",
      "0\n",
      "--------------------------------------------------\n"
     ]
    }
   ],
   "source": [
    "#функция для поиска дубликатов\n",
    "dublic_search(datalist)"
   ]
  },
  {
   "cell_type": "markdown",
   "metadata": {},
   "source": [
    "Явных дубликатов не найденно"
   ]
  },
  {
   "cell_type": "markdown",
   "metadata": {},
   "source": [
    "**Вывод** \n",
    "\n",
    "Провели предобработку данных. Пропусков и дубликатов нет. "
   ]
  },
  {
   "cell_type": "markdown",
   "metadata": {},
   "source": [
    "### Исследовательский анализ данных"
   ]
  },
  {
   "cell_type": "code",
   "execution_count": 15,
   "metadata": {},
   "outputs": [
    {
     "name": "stdout",
     "output_type": "stream",
     "text": [
      "------ f0 ---------\n",
      "count    100000.000000\n",
      "mean          0.500419\n",
      "std           0.871832\n",
      "min          -1.408605\n",
      "25%          -0.072580\n",
      "50%           0.502360\n",
      "75%           1.073581\n",
      "max           2.362331\n",
      "Name: f0, dtype: float64\n",
      "\n"
     ]
    },
    {
     "data": {
      "image/png": "[encoded data removed]",
      "text/plain": [
       "<Figure size 1080x360 with 2 Axes>"
      ]
     },
     "metadata": {
      "needs_background": "light"
     },
     "output_type": "display_data"
    },
    {
     "name": "stdout",
     "output_type": "stream",
     "text": [
      "------ f1 ---------\n",
      "count    100000.000000\n",
      "mean          0.250143\n",
      "std           0.504433\n",
      "min          -0.848218\n",
      "25%          -0.200881\n",
      "50%           0.250252\n",
      "75%           0.700646\n",
      "max           1.343769\n",
      "Name: f1, dtype: float64\n",
      "\n"
     ]
    },
    {
     "data": {
      "image/png": "[encoded data removed]",
      "text/plain": [
       "<Figure size 1080x360 with 2 Axes>"
      ]
     },
     "metadata": {
      "needs_background": "light"
     },
     "output_type": "display_data"
    },
    {
     "name": "stdout",
     "output_type": "stream",
     "text": [
      "------ f2 ---------\n",
      "count    100000.000000\n",
      "mean          2.502647\n",
      "std           3.248248\n",
      "min         -12.088328\n",
      "25%           0.287748\n",
      "50%           2.515969\n",
      "75%           4.715088\n",
      "max          16.003790\n",
      "Name: f2, dtype: float64\n",
      "\n"
     ]
    },
    {
     "data": {
      "image/png": "[encoded data removed]",
      "text/plain": [
       "<Figure size 1080x360 with 2 Axes>"
      ]
     },
     "metadata": {
      "needs_background": "light"
     },
     "output_type": "display_data"
    },
    {
     "name": "stdout",
     "output_type": "stream",
     "text": [
      "------ product ---------\n",
      "count    100000.000000\n",
      "mean         92.500000\n",
      "std          44.288691\n",
      "min           0.000000\n",
      "25%          56.497507\n",
      "50%          91.849972\n",
      "75%         128.564089\n",
      "max         185.364347\n",
      "Name: product, dtype: float64\n",
      "\n"
     ]
    },
    {
     "data": {
      "image/png": "[encoded data removed]",
      "text/plain": [
       "<Figure size 1080x360 with 2 Axes>"
      ]
     },
     "metadata": {
      "needs_background": "light"
     },
     "output_type": "display_data"
    }
   ],
   "source": [
    "analysis(data_0, step=2)"
   ]
  },
  {
   "cell_type": "markdown",
   "metadata": {},
   "source": [
    "Признак `f2` имеет нормальное распределение и выбросы"
   ]
  },
  {
   "cell_type": "code",
   "execution_count": 16,
   "metadata": {},
   "outputs": [
    {
     "name": "stdout",
     "output_type": "stream",
     "text": [
      "------ f0 ---------\n",
      "count    100000.000000\n",
      "mean          1.141296\n",
      "std           8.965932\n",
      "min         -31.609576\n",
      "25%          -6.298551\n",
      "50%           1.153055\n",
      "75%           8.621015\n",
      "max          29.421755\n",
      "Name: f0, dtype: float64\n",
      "\n"
     ]
    },
    {
     "data": {
      "image/png": "[encoded data removed]",
      "text/plain": [
       "<Figure size 1080x360 with 2 Axes>"
      ]
     },
     "metadata": {
      "needs_background": "light"
     },
     "output_type": "display_data"
    },
    {
     "name": "stdout",
     "output_type": "stream",
     "text": [
      "------ f1 ---------\n",
      "count    100000.000000\n",
      "mean         -4.796579\n",
      "std           5.119872\n",
      "min         -26.358598\n",
      "25%          -8.267985\n",
      "50%          -4.813172\n",
      "75%          -1.332816\n",
      "max          18.734063\n",
      "Name: f1, dtype: float64\n",
      "\n"
     ]
    },
    {
     "data": {
      "image/png": "[encoded data removed]",
      "text/plain": [
       "<Figure size 1080x360 with 2 Axes>"
      ]
     },
     "metadata": {
      "needs_background": "light"
     },
     "output_type": "display_data"
    },
    {
     "name": "stdout",
     "output_type": "stream",
     "text": [
      "------ f2 ---------\n",
      "count    100000.000000\n",
      "mean          2.494541\n",
      "std           1.703572\n",
      "min          -0.018144\n",
      "25%           1.000021\n",
      "50%           2.011479\n",
      "75%           3.999904\n",
      "max           5.019721\n",
      "Name: f2, dtype: float64\n",
      "\n"
     ]
    },
    {
     "data": {
      "image/png": "[encoded data removed]",
      "text/plain": [
       "<Figure size 1080x360 with 2 Axes>"
      ]
     },
     "metadata": {
      "needs_background": "light"
     },
     "output_type": "display_data"
    },
    {
     "name": "stdout",
     "output_type": "stream",
     "text": [
      "------ product ---------\n",
      "count    100000.000000\n",
      "mean         68.825000\n",
      "std          45.944423\n",
      "min           0.000000\n",
      "25%          26.953261\n",
      "50%          57.085625\n",
      "75%         107.813044\n",
      "max         137.945408\n",
      "Name: product, dtype: float64\n",
      "\n"
     ]
    },
    {
     "data": {
      "image/png": "[encoded data removed]",
      "text/plain": [
       "<Figure size 1080x360 with 2 Axes>"
      ]
     },
     "metadata": {
      "needs_background": "light"
     },
     "output_type": "display_data"
    }
   ],
   "source": [
    "analysis(data_1, step=2)"
   ]
  },
  {
   "cell_type": "markdown",
   "metadata": {},
   "source": [
    "признаки `f0` и `f1` имеют выбросы\n",
    "Видим что в столбце `product` и `f2` аномалию в данных"
   ]
  },
  {
   "cell_type": "code",
   "execution_count": 17,
   "metadata": {},
   "outputs": [
    {
     "data": {
      "text/html": [
       "<div>\n",
       "<style scoped>\n",
       "    .dataframe tbody tr th:only-of-type {\n",
       "        vertical-align: middle;\n",
       "    }\n",
       "\n",
       "    .dataframe tbody tr th {\n",
       "        vertical-align: top;\n",
       "    }\n",
       "\n",
       "    .dataframe thead th {\n",
       "        text-align: right;\n",
       "    }\n",
       "</style>\n",
       "<table border=\"1\" class=\"dataframe\">\n",
       "  <thead>\n",
       "    <tr style=\"text-align: right;\">\n",
       "      <th></th>\n",
       "      <th>f0</th>\n",
       "      <th>f1</th>\n",
       "      <th>f2</th>\n",
       "      <th>product</th>\n",
       "    </tr>\n",
       "  </thead>\n",
       "  <tbody>\n",
       "    <tr>\n",
       "      <th>11</th>\n",
       "      <td>16.320755</td>\n",
       "      <td>-0.562946</td>\n",
       "      <td>-0.001783</td>\n",
       "      <td>0.0</td>\n",
       "    </tr>\n",
       "    <tr>\n",
       "      <th>13</th>\n",
       "      <td>6.695604</td>\n",
       "      <td>-0.749449</td>\n",
       "      <td>-0.007630</td>\n",
       "      <td>0.0</td>\n",
       "    </tr>\n",
       "    <tr>\n",
       "      <th>62</th>\n",
       "      <td>21.418478</td>\n",
       "      <td>-5.134490</td>\n",
       "      <td>-0.002836</td>\n",
       "      <td>0.0</td>\n",
       "    </tr>\n",
       "    <tr>\n",
       "      <th>63</th>\n",
       "      <td>6.822701</td>\n",
       "      <td>3.104979</td>\n",
       "      <td>-0.000723</td>\n",
       "      <td>0.0</td>\n",
       "    </tr>\n",
       "    <tr>\n",
       "      <th>77</th>\n",
       "      <td>6.750150</td>\n",
       "      <td>-11.893512</td>\n",
       "      <td>-0.001601</td>\n",
       "      <td>0.0</td>\n",
       "    </tr>\n",
       "    <tr>\n",
       "      <th>...</th>\n",
       "      <td>...</td>\n",
       "      <td>...</td>\n",
       "      <td>...</td>\n",
       "      <td>...</td>\n",
       "    </tr>\n",
       "    <tr>\n",
       "      <th>99936</th>\n",
       "      <td>5.085749</td>\n",
       "      <td>-3.980305</td>\n",
       "      <td>0.005063</td>\n",
       "      <td>0.0</td>\n",
       "    </tr>\n",
       "    <tr>\n",
       "      <th>99948</th>\n",
       "      <td>8.277805</td>\n",
       "      <td>-9.178818</td>\n",
       "      <td>0.003275</td>\n",
       "      <td>0.0</td>\n",
       "    </tr>\n",
       "    <tr>\n",
       "      <th>99956</th>\n",
       "      <td>13.343983</td>\n",
       "      <td>-1.290200</td>\n",
       "      <td>0.005980</td>\n",
       "      <td>0.0</td>\n",
       "    </tr>\n",
       "    <tr>\n",
       "      <th>99961</th>\n",
       "      <td>13.854163</td>\n",
       "      <td>-11.528089</td>\n",
       "      <td>-0.005556</td>\n",
       "      <td>0.0</td>\n",
       "    </tr>\n",
       "    <tr>\n",
       "      <th>99973</th>\n",
       "      <td>12.698645</td>\n",
       "      <td>-4.384673</td>\n",
       "      <td>-0.002600</td>\n",
       "      <td>0.0</td>\n",
       "    </tr>\n",
       "  </tbody>\n",
       "</table>\n",
       "<p>8235 rows × 4 columns</p>\n",
       "</div>"
      ],
      "text/plain": [
       "              f0         f1        f2  product\n",
       "11     16.320755  -0.562946 -0.001783      0.0\n",
       "13      6.695604  -0.749449 -0.007630      0.0\n",
       "62     21.418478  -5.134490 -0.002836      0.0\n",
       "63      6.822701   3.104979 -0.000723      0.0\n",
       "77      6.750150 -11.893512 -0.001601      0.0\n",
       "...          ...        ...       ...      ...\n",
       "99936   5.085749  -3.980305  0.005063      0.0\n",
       "99948   8.277805  -9.178818  0.003275      0.0\n",
       "99956  13.343983  -1.290200  0.005980      0.0\n",
       "99961  13.854163 -11.528089 -0.005556      0.0\n",
       "99973  12.698645  -4.384673 -0.002600      0.0\n",
       "\n",
       "[8235 rows x 4 columns]"
      ]
     },
     "execution_count": 17,
     "metadata": {},
     "output_type": "execute_result"
    }
   ],
   "source": [
    "data_1.loc[data_1['product']==0]"
   ]
  },
  {
   "cell_type": "markdown",
   "metadata": {},
   "source": [
    "В этих данных много нулевых значений ~ 8%. удалим их"
   ]
  },
  {
   "cell_type": "code",
   "execution_count": 18,
   "metadata": {},
   "outputs": [],
   "source": [
    "data_1 = data_1[data_1['product']!=0]"
   ]
  },
  {
   "cell_type": "markdown",
   "metadata": {},
   "source": [
    "Присутствует много нулевых значений. Ненормально распределение данных столбце `f2`. При сравнении с данными по другим районам делаем вывод что-либо этот район плохо исследован, либо данные были утеряны."
   ]
  },
  {
   "cell_type": "code",
   "execution_count": 19,
   "metadata": {},
   "outputs": [],
   "source": [
    "data_1 = data_1[data_1['product'] > 0]"
   ]
  },
  {
   "cell_type": "code",
   "execution_count": 20,
   "metadata": {
    "scrolled": true
   },
   "outputs": [
    {
     "name": "stdout",
     "output_type": "stream",
     "text": [
      "------ f0 ---------\n",
      "count    100000.000000\n",
      "mean          0.002023\n",
      "std           1.732045\n",
      "min          -8.760004\n",
      "25%          -1.162288\n",
      "50%           0.009424\n",
      "75%           1.158535\n",
      "max           7.238262\n",
      "Name: f0, dtype: float64\n",
      "\n"
     ]
    },
    {
     "data": {
      "image/png": "[encoded data removed]",
      "text/plain": [
       "<Figure size 1080x360 with 2 Axes>"
      ]
     },
     "metadata": {
      "needs_background": "light"
     },
     "output_type": "display_data"
    },
    {
     "name": "stdout",
     "output_type": "stream",
     "text": [
      "------ f1 ---------\n",
      "count    100000.000000\n",
      "mean         -0.002081\n",
      "std           1.730417\n",
      "min          -7.084020\n",
      "25%          -1.174820\n",
      "50%          -0.009482\n",
      "75%           1.163678\n",
      "max           7.844801\n",
      "Name: f1, dtype: float64\n",
      "\n"
     ]
    },
    {
     "data": {
      "image/png": "[encoded data removed]",
      "text/plain": [
       "<Figure size 1080x360 with 2 Axes>"
      ]
     },
     "metadata": {
      "needs_background": "light"
     },
     "output_type": "display_data"
    },
    {
     "name": "stdout",
     "output_type": "stream",
     "text": [
      "------ f2 ---------\n",
      "count    100000.000000\n",
      "mean          2.495128\n",
      "std           3.473445\n",
      "min         -11.970335\n",
      "25%           0.130359\n",
      "50%           2.484236\n",
      "75%           4.858794\n",
      "max          16.739402\n",
      "Name: f2, dtype: float64\n",
      "\n"
     ]
    },
    {
     "data": {
      "image/png": "[encoded data removed]",
      "text/plain": [
       "<Figure size 1080x360 with 2 Axes>"
      ]
     },
     "metadata": {
      "needs_background": "light"
     },
     "output_type": "display_data"
    },
    {
     "name": "stdout",
     "output_type": "stream",
     "text": [
      "------ product ---------\n",
      "count    100000.000000\n",
      "mean         95.000000\n",
      "std          44.749921\n",
      "min           0.000000\n",
      "25%          59.450441\n",
      "50%          94.925613\n",
      "75%         130.595027\n",
      "max         190.029838\n",
      "Name: product, dtype: float64\n",
      "\n"
     ]
    },
    {
     "data": {
      "image/png": "[encoded data removed]",
      "text/plain": [
       "<Figure size 1080x360 with 2 Axes>"
      ]
     },
     "metadata": {
      "needs_background": "light"
     },
     "output_type": "display_data"
    }
   ],
   "source": [
    "analysis(data_2, step=2)"
   ]
  },
  {
   "cell_type": "markdown",
   "metadata": {},
   "source": [
    "Все входные признаки имеют выбросы и нормальное распределение"
   ]
  },
  {
   "cell_type": "code",
   "execution_count": 21,
   "metadata": {},
   "outputs": [],
   "source": [
    "# Заменим выбросы на значения \"усов\"\n",
    "emissions(data_0, 'f2')\n",
    "numlist =['f0', 'f1', 'f2']\n",
    "for i in numlist:\n",
    "    emissions(data_2, i)\n"
   ]
  },
  {
   "cell_type": "markdown",
   "metadata": {},
   "source": [
    "### Корреляционный анализ"
   ]
  },
  {
   "cell_type": "code",
   "execution_count": 22,
   "metadata": {},
   "outputs": [
    {
     "data": {
      "text/html": [
       "<style  type=\"text/css\" >\n",
       "#T_862cf_row0_col0,#T_862cf_row1_col1,#T_862cf_row2_col2,#T_862cf_row3_col3{\n",
       "            background-color:  #08306b;\n",
       "            color:  #f1f1f1;\n",
       "        }#T_862cf_row0_col1{\n",
       "            background-color:  #1e6db2;\n",
       "            color:  #f1f1f1;\n",
       "        }#T_862cf_row0_col2,#T_862cf_row0_col3,#T_862cf_row1_col2,#T_862cf_row2_col0,#T_862cf_row2_col1{\n",
       "            background-color:  #f7fbff;\n",
       "            color:  #000000;\n",
       "        }#T_862cf_row1_col0{\n",
       "            background-color:  #1f6eb3;\n",
       "            color:  #f1f1f1;\n",
       "        }#T_862cf_row1_col3{\n",
       "            background-color:  #eef5fc;\n",
       "            color:  #000000;\n",
       "        }#T_862cf_row2_col3{\n",
       "            background-color:  #a9cfe5;\n",
       "            color:  #000000;\n",
       "        }#T_862cf_row3_col0{\n",
       "            background-color:  #cde0f1;\n",
       "            color:  #000000;\n",
       "        }#T_862cf_row3_col1{\n",
       "            background-color:  #c6dbef;\n",
       "            color:  #000000;\n",
       "        }#T_862cf_row3_col2{\n",
       "            background-color:  #72b2d8;\n",
       "            color:  #000000;\n",
       "        }</style><table id=\"T_862cf_\" ><thead>    <tr>        <th class=\"blank level0\" ></th>        <th class=\"col_heading level0 col0\" >f0</th>        <th class=\"col_heading level0 col1\" >f1</th>        <th class=\"col_heading level0 col2\" >f2</th>        <th class=\"col_heading level0 col3\" >product</th>    </tr></thead><tbody>\n",
       "                <tr>\n",
       "                        <th id=\"T_862cf_level0_row0\" class=\"row_heading level0 row0\" >f0</th>\n",
       "                        <td id=\"T_862cf_row0_col0\" class=\"data row0 col0\" >1.000000</td>\n",
       "                        <td id=\"T_862cf_row0_col1\" class=\"data row0 col1\" >0.762170</td>\n",
       "                        <td id=\"T_862cf_row0_col2\" class=\"data row0 col2\" >0.002001</td>\n",
       "                        <td id=\"T_862cf_row0_col3\" class=\"data row0 col3\" >0.215525</td>\n",
       "            </tr>\n",
       "            <tr>\n",
       "                        <th id=\"T_862cf_level0_row1\" class=\"row_heading level0 row1\" >f1</th>\n",
       "                        <td id=\"T_862cf_row1_col0\" class=\"data row1 col0\" >0.762170</td>\n",
       "                        <td id=\"T_862cf_row1_col1\" class=\"data row1 col1\" >1.000000</td>\n",
       "                        <td id=\"T_862cf_row1_col2\" class=\"data row1 col2\" >0.000000</td>\n",
       "                        <td id=\"T_862cf_row1_col3\" class=\"data row1 col3\" >0.253544</td>\n",
       "            </tr>\n",
       "            <tr>\n",
       "                        <th id=\"T_862cf_level0_row2\" class=\"row_heading level0 row2\" >f2</th>\n",
       "                        <td id=\"T_862cf_row2_col0\" class=\"data row2 col0\" >0.002001</td>\n",
       "                        <td id=\"T_862cf_row2_col1\" class=\"data row2 col1\" >0.000000</td>\n",
       "                        <td id=\"T_862cf_row2_col2\" class=\"data row2 col2\" >1.000000</td>\n",
       "                        <td id=\"T_862cf_row2_col3\" class=\"data row2 col3\" >0.482555</td>\n",
       "            </tr>\n",
       "            <tr>\n",
       "                        <th id=\"T_862cf_level0_row3\" class=\"row_heading level0 row3\" >product</th>\n",
       "                        <td id=\"T_862cf_row3_col0\" class=\"data row3 col0\" >0.215525</td>\n",
       "                        <td id=\"T_862cf_row3_col1\" class=\"data row3 col1\" >0.253544</td>\n",
       "                        <td id=\"T_862cf_row3_col2\" class=\"data row3 col2\" >0.482555</td>\n",
       "                        <td id=\"T_862cf_row3_col3\" class=\"data row3 col3\" >1.000000</td>\n",
       "            </tr>\n",
       "    </tbody></table>"
      ],
      "text/plain": [
       "<pandas.io.formats.style.Styler at 0x7f7572e59f10>"
      ]
     },
     "execution_count": 22,
     "metadata": {},
     "output_type": "execute_result"
    }
   ],
   "source": [
    "numlist =['f0', 'f1', 'f2', 'product']\n",
    "cf = data_0.phik_matrix(interval_cols=numlist) \n",
    "cf.style.background_gradient(cmap='Blues')"
   ]
  },
  {
   "cell_type": "markdown",
   "metadata": {},
   "source": [
    "Мультиколлинеарность не наблюдается"
   ]
  },
  {
   "cell_type": "code",
   "execution_count": 23,
   "metadata": {},
   "outputs": [
    {
     "data": {
      "text/html": [
       "<style  type=\"text/css\" >\n",
       "#T_46127_row0_col0,#T_46127_row1_col1,#T_46127_row2_col2,#T_46127_row3_col3{\n",
       "            background-color:  #08306b;\n",
       "            color:  #f1f1f1;\n",
       "        }#T_46127_row0_col1{\n",
       "            background-color:  #dceaf6;\n",
       "            color:  #000000;\n",
       "        }#T_46127_row0_col2{\n",
       "            background-color:  #cee0f2;\n",
       "            color:  #000000;\n",
       "        }#T_46127_row0_col3{\n",
       "            background-color:  #4f9bcb;\n",
       "            color:  #000000;\n",
       "        }#T_46127_row1_col0,#T_46127_row1_col2,#T_46127_row1_col3,#T_46127_row2_col1{\n",
       "            background-color:  #f7fbff;\n",
       "            color:  #000000;\n",
       "        }#T_46127_row2_col0{\n",
       "            background-color:  #e6f0f9;\n",
       "            color:  #000000;\n",
       "        }#T_46127_row2_col3{\n",
       "            background-color:  #083674;\n",
       "            color:  #f1f1f1;\n",
       "        }#T_46127_row3_col0{\n",
       "            background-color:  #4d99ca;\n",
       "            color:  #000000;\n",
       "        }#T_46127_row3_col1{\n",
       "            background-color:  #dae8f6;\n",
       "            color:  #000000;\n",
       "        }#T_46127_row3_col2{\n",
       "            background-color:  #083573;\n",
       "            color:  #f1f1f1;\n",
       "        }</style><table id=\"T_46127_\" ><thead>    <tr>        <th class=\"blank level0\" ></th>        <th class=\"col_heading level0 col0\" >f0</th>        <th class=\"col_heading level0 col1\" >f1</th>        <th class=\"col_heading level0 col2\" >f2</th>        <th class=\"col_heading level0 col3\" >product</th>    </tr></thead><tbody>\n",
       "                <tr>\n",
       "                        <th id=\"T_46127_level0_row0\" class=\"row_heading level0 row0\" >f0</th>\n",
       "                        <td id=\"T_46127_row0_col0\" class=\"data row0 col0\" >1.000000</td>\n",
       "                        <td id=\"T_46127_row0_col1\" class=\"data row0 col1\" >0.195034</td>\n",
       "                        <td id=\"T_46127_row0_col2\" class=\"data row0 col2\" >0.265285</td>\n",
       "                        <td id=\"T_46127_row0_col3\" class=\"data row0 col3\" >0.670184</td>\n",
       "            </tr>\n",
       "            <tr>\n",
       "                        <th id=\"T_46127_level0_row1\" class=\"row_heading level0 row1\" >f1</th>\n",
       "                        <td id=\"T_46127_row1_col0\" class=\"data row1 col0\" >0.195034</td>\n",
       "                        <td id=\"T_46127_row1_col1\" class=\"data row1 col1\" >1.000000</td>\n",
       "                        <td id=\"T_46127_row1_col2\" class=\"data row1 col2\" >0.069251</td>\n",
       "                        <td id=\"T_46127_row1_col3\" class=\"data row1 col3\" >0.205966</td>\n",
       "            </tr>\n",
       "            <tr>\n",
       "                        <th id=\"T_46127_level0_row2\" class=\"row_heading level0 row2\" >f2</th>\n",
       "                        <td id=\"T_46127_row2_col0\" class=\"data row2 col0\" >0.265285</td>\n",
       "                        <td id=\"T_46127_row2_col1\" class=\"data row2 col1\" >0.069251</td>\n",
       "                        <td id=\"T_46127_row2_col2\" class=\"data row2 col2\" >1.000000</td>\n",
       "                        <td id=\"T_46127_row2_col3\" class=\"data row2 col3\" >0.978935</td>\n",
       "            </tr>\n",
       "            <tr>\n",
       "                        <th id=\"T_46127_level0_row3\" class=\"row_heading level0 row3\" >product</th>\n",
       "                        <td id=\"T_46127_row3_col0\" class=\"data row3 col0\" >0.670184</td>\n",
       "                        <td id=\"T_46127_row3_col1\" class=\"data row3 col1\" >0.205966</td>\n",
       "                        <td id=\"T_46127_row3_col2\" class=\"data row3 col2\" >0.978935</td>\n",
       "                        <td id=\"T_46127_row3_col3\" class=\"data row3 col3\" >1.000000</td>\n",
       "            </tr>\n",
       "    </tbody></table>"
      ],
      "text/plain": [
       "<pandas.io.formats.style.Styler at 0x7f7571a06760>"
      ]
     },
     "execution_count": 23,
     "metadata": {},
     "output_type": "execute_result"
    }
   ],
   "source": [
    "\n",
    "cf = data_1.phik_matrix(interval_cols=numlist) \n",
    "cf.style.background_gradient(cmap='Blues')"
   ]
  },
  {
   "cell_type": "markdown",
   "metadata": {},
   "source": [
    "Присутсвует мультиколлинеарность. Во время подготовки данных удалим столбец f2 "
   ]
  },
  {
   "cell_type": "code",
   "execution_count": 24,
   "metadata": {},
   "outputs": [
    {
     "data": {
      "text/html": [
       "<style  type=\"text/css\" >\n",
       "#T_9210d_row0_col0,#T_9210d_row1_col1,#T_9210d_row2_col2,#T_9210d_row3_col3{\n",
       "            background-color:  #08306b;\n",
       "            color:  #f1f1f1;\n",
       "        }#T_9210d_row0_col1,#T_9210d_row0_col2,#T_9210d_row0_col3,#T_9210d_row1_col0,#T_9210d_row1_col3,#T_9210d_row2_col0{\n",
       "            background-color:  #f7fbff;\n",
       "            color:  #000000;\n",
       "        }#T_9210d_row1_col2,#T_9210d_row2_col1{\n",
       "            background-color:  #f5fafe;\n",
       "            color:  #000000;\n",
       "        }#T_9210d_row2_col3{\n",
       "            background-color:  #bdd7ec;\n",
       "            color:  #000000;\n",
       "        }#T_9210d_row3_col0,#T_9210d_row3_col1{\n",
       "            background-color:  #c9ddf0;\n",
       "            color:  #000000;\n",
       "        }#T_9210d_row3_col2{\n",
       "            background-color:  #7fb9da;\n",
       "            color:  #000000;\n",
       "        }</style><table id=\"T_9210d_\" ><thead>    <tr>        <th class=\"blank level0\" ></th>        <th class=\"col_heading level0 col0\" >f0</th>        <th class=\"col_heading level0 col1\" >f1</th>        <th class=\"col_heading level0 col2\" >f2</th>        <th class=\"col_heading level0 col3\" >product</th>    </tr></thead><tbody>\n",
       "                <tr>\n",
       "                        <th id=\"T_9210d_level0_row0\" class=\"row_heading level0 row0\" >f0</th>\n",
       "                        <td id=\"T_9210d_row0_col0\" class=\"data row0 col0\" >1.000000</td>\n",
       "                        <td id=\"T_9210d_row0_col1\" class=\"data row0 col1\" >0.000000</td>\n",
       "                        <td id=\"T_9210d_row0_col2\" class=\"data row0 col2\" >0.000000</td>\n",
       "                        <td id=\"T_9210d_row0_col3\" class=\"data row0 col3\" >0.235537</td>\n",
       "            </tr>\n",
       "            <tr>\n",
       "                        <th id=\"T_9210d_level0_row1\" class=\"row_heading level0 row1\" >f1</th>\n",
       "                        <td id=\"T_9210d_row1_col0\" class=\"data row1 col0\" >0.000000</td>\n",
       "                        <td id=\"T_9210d_row1_col1\" class=\"data row1 col1\" >1.000000</td>\n",
       "                        <td id=\"T_9210d_row1_col2\" class=\"data row1 col2\" >0.009576</td>\n",
       "                        <td id=\"T_9210d_row1_col3\" class=\"data row1 col3\" >0.235158</td>\n",
       "            </tr>\n",
       "            <tr>\n",
       "                        <th id=\"T_9210d_level0_row2\" class=\"row_heading level0 row2\" >f2</th>\n",
       "                        <td id=\"T_9210d_row2_col0\" class=\"data row2 col0\" >0.000000</td>\n",
       "                        <td id=\"T_9210d_row2_col1\" class=\"data row2 col1\" >0.009576</td>\n",
       "                        <td id=\"T_9210d_row2_col2\" class=\"data row2 col2\" >1.000000</td>\n",
       "                        <td id=\"T_9210d_row2_col3\" class=\"data row2 col3\" >0.449355</td>\n",
       "            </tr>\n",
       "            <tr>\n",
       "                        <th id=\"T_9210d_level0_row3\" class=\"row_heading level0 row3\" >product</th>\n",
       "                        <td id=\"T_9210d_row3_col0\" class=\"data row3 col0\" >0.235537</td>\n",
       "                        <td id=\"T_9210d_row3_col1\" class=\"data row3 col1\" >0.235158</td>\n",
       "                        <td id=\"T_9210d_row3_col2\" class=\"data row3 col2\" >0.449355</td>\n",
       "                        <td id=\"T_9210d_row3_col3\" class=\"data row3 col3\" >1.000000</td>\n",
       "            </tr>\n",
       "    </tbody></table>"
      ],
      "text/plain": [
       "<pandas.io.formats.style.Styler at 0x7f7572e7f160>"
      ]
     },
     "execution_count": 24,
     "metadata": {},
     "output_type": "execute_result"
    }
   ],
   "source": [
    "\n",
    "cf = data_2.phik_matrix(interval_cols=numlist) \n",
    "cf.style.background_gradient(cmap='Blues')"
   ]
  },
  {
   "cell_type": "markdown",
   "metadata": {},
   "source": [
    "Мультиколлинеарность не наблюдается"
   ]
  },
  {
   "cell_type": "markdown",
   "metadata": {},
   "source": [
    "### Подготовка данных"
   ]
  },
  {
   "cell_type": "code",
   "execution_count": 25,
   "metadata": {},
   "outputs": [],
   "source": [
    "# удалим  столбец с мультиколлинеарностью\n",
    "#data_1 =data_1.drop(['f2'],axis=1)\n",
    "# объявим список количественных признаков\n",
    "numlist =['f0', 'f1', 'f2','f0^2','f0 f1','f0 f2','f1^2','f1 f2','f2^2']\n"
   ]
  },
  {
   "cell_type": "code",
   "execution_count": 26,
   "metadata": {},
   "outputs": [],
   "source": [
    "preprocessor = ColumnTransformer(\n",
    "    [\n",
    "    ('num', StandardScaler(), numlist)\n",
    "    ], \n",
    "    remainder='passthrough') "
   ]
  },
  {
   "cell_type": "code",
   "execution_count": 27,
   "metadata": {},
   "outputs": [],
   "source": [
    "pipe_model = Pipeline(\n",
    "    [('preprocessor', preprocessor),\n",
    "    ('models', LinearRegression())])"
   ]
  },
  {
   "cell_type": "code",
   "execution_count": 28,
   "metadata": {},
   "outputs": [],
   "source": [
    "X_train0 ,X_val0, y_train0,y_val0 = split(data_0,'product')\n",
    "X_train1 ,X_val1, y_train1,y_val1 = split(data_1,'product')\n",
    "X_train2 ,X_val2, y_train2,y_val2 = split(data_2,'product')"
   ]
  },
  {
   "cell_type": "markdown",
   "metadata": {},
   "source": [
    "**Вывод** \n",
    "- Загрузили и исследовали данные. \n",
    "- делаем вывод что-либо этот район плохо исследован, либо данные были утеряны.\n",
    "- Была проведена подготовка данных обучению.\n",
    "- создан пай план.\n",
    "- удалена мультиколлинеарность в данных по 2 району.\n"
   ]
  },
  {
   "cell_type": "markdown",
   "metadata": {},
   "source": [
    "## Обучение и проверка модели"
   ]
  },
  {
   "cell_type": "markdown",
   "metadata": {},
   "source": [
    "### обучение моделей"
   ]
  },
  {
   "cell_type": "code",
   "execution_count": 29,
   "metadata": {},
   "outputs": [],
   "source": [
    "def model(X_train ,X_val, y_train,y_val):\n",
    "    pipe_model.fit(X_train, y_train)\n",
    "    pred = pipe_model.predict(X_val)\n",
    "    score = mean_squared_error(y_val,pred,squared=False)\n",
    "    return pred, score"
   ]
  },
  {
   "cell_type": "code",
   "execution_count": 30,
   "metadata": {},
   "outputs": [
    {
     "data": {
      "text/plain": [
       "37.74255854465207"
      ]
     },
     "execution_count": 30,
     "metadata": {},
     "output_type": "execute_result"
    }
   ],
   "source": [
    "# обучение модели на данных по району №1\n",
    "pred0, score0 = model(X_train0 ,X_val0, y_train0,y_val0)\n",
    "score0"
   ]
  },
  {
   "cell_type": "markdown",
   "metadata": {},
   "source": [
    "RMSE модели по первому району -37.7"
   ]
  },
  {
   "cell_type": "code",
   "execution_count": 31,
   "metadata": {},
   "outputs": [
    {
     "name": "stdout",
     "output_type": "stream",
     "text": [
      "38.76869486087218\n"
     ]
    }
   ],
   "source": [
    "# повторим обучения для 3 района..\n",
    "pred2, score2 = model(X_train2 ,X_val2, y_train2,y_val2)\n",
    "\n",
    "print(score2)"
   ]
  },
  {
   "cell_type": "markdown",
   "metadata": {},
   "source": [
    "RMSE модели по третьему району - 38.8"
   ]
  },
  {
   "cell_type": "code",
   "execution_count": 32,
   "metadata": {},
   "outputs": [
    {
     "name": "stdout",
     "output_type": "stream",
     "text": [
      "0.8770869492643087\n"
     ]
    }
   ],
   "source": [
    "# обучение модели на данных по району №2\n",
    "pred1, score1 = model(X_train1 ,X_val1, y_train1,y_val1)\n",
    "print(score1)"
   ]
  },
  {
   "cell_type": "markdown",
   "metadata": {},
   "source": [
    "RMSE модели по второму району -0.87"
   ]
  },
  {
   "cell_type": "markdown",
   "metadata": {},
   "source": [
    "Были обучены модели предсказания объёма нефти.\n",
    "Лушче всего предказаны данные в  районе №2, rmse - 0.87.\n",
    "\n",
    "Хуже всего предсказания в районе №3, rmse-38.8."
   ]
  },
  {
   "cell_type": "markdown",
   "metadata": {},
   "source": [
    "### Средний запас предсказанного сырья и RMSE модели."
   ]
  },
  {
   "cell_type": "code",
   "execution_count": 33,
   "metadata": {},
   "outputs": [
    {
     "name": "stdout",
     "output_type": "stream",
     "text": [
      "Средний запас в районе №1 =92.40475146698024 , RMSE модели 37.74255854465207\n",
      "Средний запас в районе №2 =74.9114262193362 , RMSE модели 0.8770869492643087\n",
      "Средний запас в районе №3 =94.75969694063907 , RMSE модели 38.76869486087218\n"
     ]
    }
   ],
   "source": [
    "scorelist ={0: score0,1: score1,2: score2}\n",
    "predlist ={0: pred0,1: pred1,2: pred2}\n",
    "trulist ={0: y_val0,1: y_val1,2: y_val2}\n",
    "for i in range(3):\n",
    "    print(f'Средний запас в районе №{i+1} ={predlist[i].mean()} , RMSE модели {scorelist[i]}')"
   ]
  },
  {
   "cell_type": "markdown",
   "metadata": {},
   "source": [
    "**Вывод**\n",
    "\n",
    "Лучший результат показал модель в районе №2. Хуже всего предсказала модель в районе №3.\n",
    "Модели ошибаются не более чем на 40 тыс. баррелей.\n",
    "\n",
    "По среднему запасу лидирует район №3 с запасом 94,8 тыс. баррелей, после идет район №1 с 92 тысячами."
   ]
  },
  {
   "cell_type": "markdown",
   "metadata": {},
   "source": [
    "## Подготовка к расчёту прибыли"
   ]
  },
  {
   "cell_type": "code",
   "execution_count": 34,
   "metadata": {},
   "outputs": [],
   "source": [
    "# Бюджет\n",
    "BUDGET = 10**10\n",
    "#исследуем 500 точек\n",
    "TOTAL_OILWELL =500\n",
    "# 200 лучших\n",
    "BEST_OILWELL =200\n",
    "# цена за 1000 баррель\n",
    "PRICE = 450 *10**3"
   ]
  },
  {
   "cell_type": "code",
   "execution_count": 35,
   "metadata": {},
   "outputs": [
    {
     "name": "stdout",
     "output_type": "stream",
     "text": [
      "Для безубыточной разработки новых скважин, каждая скважина должна приносить -50.0 млн. рублей\n",
      "Запас нефти в скважене безубыточной разработки 111.1 тыс. баррелей\n",
      "Средний запас нефти в 1 районe равен 92.5\n",
      "Кол-во скважин в 1 районe для безубычной разработки 36583\n",
      "Средний запас нефти в 2 районe равен 68.8\n",
      "Кол-во скважин в 2 районe для безубычной разработки 16537\n",
      "Средний запас нефти в 3 районe равен 95.0\n",
      "Кол-во скважин в 3 районe для безубычной разработки 38178\n"
     ]
    }
   ],
   "source": [
    "summa = BUDGET / BEST_OILWELL\n",
    "total_bar = summa/PRICE\n",
    "print(f'Для безубыточной разработки новых скважин, каждая скважина должна приносить -{summa/1000000} млн. рублей')\n",
    "print(f'Запас нефти в скважене безубыточной разработки {total_bar:.1f} тыс. баррелей')\n",
    "\n",
    "for key, values in datalist.items():\n",
    "    print(f'Средний запас нефти в {key}e равен {values[\"product\"].mean():.1f}')\n",
    "    print(f'Кол-во скважин в {key}e для безубычной разработки {len(values.loc[values[\"product\"] > total_bar])}')"
   ]
  },
  {
   "cell_type": "markdown",
   "metadata": {},
   "source": [
    "**Вывод**\n",
    "- Нашли количество баррелей для безубыточной разработки - 111 тысяч баррелей.\n",
    "- В каждом районе достаточно скважин для безубыточной разработки."
   ]
  },
  {
   "cell_type": "markdown",
   "metadata": {},
   "source": [
    "## Расчёт прибыли и рисков "
   ]
  },
  {
   "cell_type": "code",
   "execution_count": 36,
   "metadata": {},
   "outputs": [],
   "source": [
    "# Функция для расчета прибыли\n",
    "def profit(target, probabilities, count):\n",
    "    probs_sorted = probabilities.sort_values(ascending=False)\n",
    "    selected = target[probs_sorted.index][:count]\n",
    "    #print(selected.sum())\n",
    "    return PRICE * selected.sum() - BUDGET"
   ]
  },
  {
   "cell_type": "markdown",
   "metadata": {},
   "source": [
    "Применим технику Bootstrap с 1000 выборок."
   ]
  },
  {
   "cell_type": "code",
   "execution_count": 40,
   "metadata": {},
   "outputs": [],
   "source": [
    "def bootstrap(rage,target, probs):\n",
    "    state = np.random.RandomState(12345)\n",
    "    values = []\n",
    "    target = pd.Series(target).reset_index(drop=True)\n",
    "    probs = pd.Series(probs).reset_index(drop=True)\n",
    "    for i in range(rage):\n",
    "        target_subsample = target.sample(n=TOTAL_OILWELL, replace=True, random_state=state)\n",
    "        probs_subsample = probs[target_subsample.index] \n",
    "        values.append(profit(target_subsample,probs_subsample,BEST_OILWELL))\n",
    "    values = pd.Series(values)\n",
    "    return values"
   ]
  },
  {
   "cell_type": "code",
   "execution_count": 41,
   "metadata": {},
   "outputs": [
    {
     "name": "stdout",
     "output_type": "stream",
     "text": [
      "Средняя выручка в районе №1: 435 млн. рублей\n",
      "95% доверительный интервал от -125 млн. руб.  до 951 млн. рублей\n",
      "Риск составляет 6.2%\n",
      "Средняя выручка в районе №2: 760 млн. рублей\n",
      "95% доверительный интервал от 328 млн. руб.  до 1163 млн. рублей\n",
      "Риск составляет 0.1%\n",
      "Средняя выручка в районе №3: 611 млн. рублей\n",
      "95% доверительный интервал от 96 млн. руб.  до 1168 млн. рублей\n",
      "Риск составляет 0.6%\n"
     ]
    }
   ],
   "source": [
    "\n",
    "\n",
    "for i in range(3):\n",
    "    values = bootstrap(1000,trulist[i],predlist[i] )\n",
    "    upper = values.quantile(0.975)/10**6\n",
    "    lower = values.quantile(0.025)/10**6\n",
    "    mean = values.mean() / 10**6\n",
    "    risk = len(values.loc[values <0]) / len(values)*100\n",
    "    print(f\"Средняя выручка в районе №{i+1}: {mean:.0f} млн. рублей\")\n",
    "    print(f'95% доверительный интервал от {lower:.0f} млн. руб.  до {upper:.0f} млн. рублей')\n",
    "    print(f'Риск составляет {risk:.1f}%')\n"
   ]
  },
  {
   "cell_type": "markdown",
   "metadata": {},
   "source": [
    "Мы отсеиваем район №1, риск потерять деньги 6%.\n",
    "\n",
    "Для добычи нефти подходят районы №2 и №3.Из них выберем район №2, т.к. самая высокая возможная прибыль при минимальном риске.\n",
    "\n",
    "Прибыль и риски района №2:\n",
    "- средняя возможная прибыль 760 млн. рублей с возможной максимальной прибылью в 1163 млн. рублей. \n",
    "- риск разработки составляет менее 0,1%."
   ]
  },
  {
   "cell_type": "markdown",
   "metadata": {},
   "source": [
    "## Вывод"
   ]
  },
  {
   "cell_type": "markdown",
   "metadata": {},
   "source": [
    "Были загружены и исследованы данные по 3 районам возможной нефтедобычи.\n",
    "- проведены поиски пропусков и дубликатов\n",
    "- построены графики размаха и распределения. Выявлены аномалии в данных по району №2 (возможно утеря данных или недобор данных).\n",
    "- обработанны выбросы.\n",
    "\n",
    "Были обучены модели для предсказания объёма нефти в скважинах в каждом районе.\n",
    "- лучшее предсказание было в 2 районе.\n",
    "- RMSE модели составило 0,8.\n",
    "- Худшее предсказание по району №3 - rmse = 38.\n",
    "\n",
    "Был произведен расчет прибыли и рисков с использованием bootstrap на 1000 выборок.\n",
    "- Район №1  был отсеян из-за больших рисков убытков, 6%.\n",
    "- Район №3 показал возможную прибыль меньше чем в районе №2. Так же риски - 0,6%.  \n",
    "- Район №2 выбран для разработки скважин. bootstrap показал возможную среднею прибыль в 760 млн. рублей.\n",
    "- 95% доверительный интервал составил от 328 млн. руб. до 1163 млн. рублей\n",
    "- риск составляет 0.1%\n"
   ]
  }
 ],
 "metadata": {
  "ExecuteTimeLog": [
   {
    "duration": 79,
    "start_time": "2024-01-18T11:53:54.426Z"
   },
   {
    "duration": 6792,
    "start_time": "2024-01-18T11:54:14.297Z"
   },
   {
    "duration": 3225,
    "start_time": "2024-01-18T11:54:26.294Z"
   },
   {
    "duration": 1602,
    "start_time": "2024-01-18T11:55:00.714Z"
   },
   {
    "duration": 16,
    "start_time": "2024-01-18T11:55:47.662Z"
   },
   {
    "duration": 860,
    "start_time": "2024-01-18T11:58:07.220Z"
   },
   {
    "duration": 15,
    "start_time": "2024-01-18T11:58:57.110Z"
   },
   {
    "duration": 15,
    "start_time": "2024-01-18T11:59:30.181Z"
   },
   {
    "duration": 10,
    "start_time": "2024-01-18T11:59:53.874Z"
   },
   {
    "duration": 16,
    "start_time": "2024-01-18T12:00:09.580Z"
   },
   {
    "duration": 482,
    "start_time": "2024-01-18T12:00:30.529Z"
   },
   {
    "duration": 10,
    "start_time": "2024-01-18T12:00:35.603Z"
   },
   {
    "duration": 23,
    "start_time": "2024-01-18T12:00:39.322Z"
   },
   {
    "duration": 10,
    "start_time": "2024-01-18T12:00:42.575Z"
   },
   {
    "duration": 18,
    "start_time": "2024-01-18T12:00:46.413Z"
   },
   {
    "duration": 11,
    "start_time": "2024-01-18T12:00:56.483Z"
   },
   {
    "duration": 22,
    "start_time": "2024-01-18T12:01:09.486Z"
   },
   {
    "duration": 25,
    "start_time": "2024-01-18T12:04:28.088Z"
   },
   {
    "duration": 123,
    "start_time": "2024-01-18T12:05:54.982Z"
   },
   {
    "duration": 151,
    "start_time": "2024-01-18T12:06:35.332Z"
   },
   {
    "duration": 14,
    "start_time": "2024-01-18T12:07:33.450Z"
   },
   {
    "duration": 41,
    "start_time": "2024-01-18T12:08:03.119Z"
   },
   {
    "duration": 33,
    "start_time": "2024-01-18T12:08:12.817Z"
   },
   {
    "duration": 38,
    "start_time": "2024-01-18T12:08:17.306Z"
   },
   {
    "duration": 4071,
    "start_time": "2024-01-18T12:21:58.221Z"
   },
   {
    "duration": 4264,
    "start_time": "2024-01-18T12:24:17.316Z"
   },
   {
    "duration": 4557,
    "start_time": "2024-01-18T12:25:06.360Z"
   },
   {
    "duration": 12,
    "start_time": "2024-01-18T12:30:22.848Z"
   },
   {
    "duration": 0,
    "start_time": "2024-01-18T12:31:21.012Z"
   },
   {
    "duration": 137096,
    "start_time": "2024-01-18T12:31:23.279Z"
   },
   {
    "duration": 302,
    "start_time": "2024-01-18T16:44:18.714Z"
   },
   {
    "duration": 321,
    "start_time": "2024-01-18T16:44:44.318Z"
   },
   {
    "duration": 327,
    "start_time": "2024-01-18T16:44:45.526Z"
   },
   {
    "duration": 287,
    "start_time": "2024-01-18T16:44:46.536Z"
   },
   {
    "duration": 48,
    "start_time": "2024-01-19T05:32:13.221Z"
   },
   {
    "duration": 6432,
    "start_time": "2024-01-19T05:32:25.961Z"
   },
   {
    "duration": 2786,
    "start_time": "2024-01-19T05:32:32.395Z"
   },
   {
    "duration": 1426,
    "start_time": "2024-01-19T05:32:35.183Z"
   },
   {
    "duration": 13,
    "start_time": "2024-01-19T05:32:36.611Z"
   },
   {
    "duration": 800,
    "start_time": "2024-01-19T05:32:36.626Z"
   },
   {
    "duration": 14,
    "start_time": "2024-01-19T05:32:37.427Z"
   },
   {
    "duration": 14,
    "start_time": "2024-01-19T05:32:37.442Z"
   },
   {
    "duration": 8,
    "start_time": "2024-01-19T05:32:37.458Z"
   },
   {
    "duration": 13,
    "start_time": "2024-01-19T05:32:37.468Z"
   },
   {
    "duration": 7,
    "start_time": "2024-01-19T05:32:37.483Z"
   },
   {
    "duration": 14,
    "start_time": "2024-01-19T05:32:37.492Z"
   },
   {
    "duration": 20,
    "start_time": "2024-01-19T05:32:37.507Z"
   },
   {
    "duration": 148,
    "start_time": "2024-01-19T05:32:37.529Z"
   },
   {
    "duration": 3684,
    "start_time": "2024-01-19T05:32:37.679Z"
   },
   {
    "duration": 3643,
    "start_time": "2024-01-19T05:32:41.364Z"
   },
   {
    "duration": 3798,
    "start_time": "2024-01-19T05:32:45.009Z"
   },
   {
    "duration": 335,
    "start_time": "2024-01-19T05:32:48.808Z"
   },
   {
    "duration": 289,
    "start_time": "2024-01-19T05:32:49.144Z"
   },
   {
    "duration": 266,
    "start_time": "2024-01-19T05:32:49.434Z"
   },
   {
    "duration": 83,
    "start_time": "2024-01-19T05:32:49.701Z"
   },
   {
    "duration": 3,
    "start_time": "2024-01-19T05:33:24.205Z"
   },
   {
    "duration": 8,
    "start_time": "2024-01-19T05:33:43.264Z"
   },
   {
    "duration": 3,
    "start_time": "2024-01-19T05:33:54.375Z"
   },
   {
    "duration": 4,
    "start_time": "2024-01-19T05:34:00.261Z"
   },
   {
    "duration": 16,
    "start_time": "2024-01-19T05:36:32.144Z"
   },
   {
    "duration": 11,
    "start_time": "2024-01-19T05:36:56.077Z"
   },
   {
    "duration": 6,
    "start_time": "2024-01-19T05:38:29.029Z"
   },
   {
    "duration": 2890,
    "start_time": "2024-01-19T05:38:39.303Z"
   },
   {
    "duration": 2317,
    "start_time": "2024-01-19T05:38:42.196Z"
   },
   {
    "duration": 6,
    "start_time": "2024-01-19T05:38:44.515Z"
   },
   {
    "duration": 25,
    "start_time": "2024-01-19T05:38:44.523Z"
   },
   {
    "duration": 440,
    "start_time": "2024-01-19T05:38:44.550Z"
   },
   {
    "duration": 10,
    "start_time": "2024-01-19T05:38:44.991Z"
   },
   {
    "duration": 25,
    "start_time": "2024-01-19T05:38:45.002Z"
   },
   {
    "duration": 22,
    "start_time": "2024-01-19T05:38:45.028Z"
   },
   {
    "duration": 48,
    "start_time": "2024-01-19T05:38:45.052Z"
   },
   {
    "duration": 34,
    "start_time": "2024-01-19T05:38:45.101Z"
   },
   {
    "duration": 21,
    "start_time": "2024-01-19T05:38:45.137Z"
   },
   {
    "duration": 18,
    "start_time": "2024-01-19T05:38:45.159Z"
   },
   {
    "duration": 12,
    "start_time": "2024-01-19T05:38:45.179Z"
   },
   {
    "duration": 80,
    "start_time": "2024-01-19T05:38:45.193Z"
   },
   {
    "duration": 3568,
    "start_time": "2024-01-19T05:38:45.275Z"
   },
   {
    "duration": 3659,
    "start_time": "2024-01-19T05:38:48.845Z"
   },
   {
    "duration": 75,
    "start_time": "2024-01-19T05:39:03.983Z"
   },
   {
    "duration": 12,
    "start_time": "2024-01-19T05:39:09.852Z"
   },
   {
    "duration": 13,
    "start_time": "2024-01-19T05:39:35.534Z"
   },
   {
    "duration": 8,
    "start_time": "2024-01-19T05:42:09.029Z"
   },
   {
    "duration": 9,
    "start_time": "2024-01-19T05:42:33.460Z"
   },
   {
    "duration": 14,
    "start_time": "2024-01-19T05:42:58.667Z"
   },
   {
    "duration": 9,
    "start_time": "2024-01-19T05:43:09.981Z"
   },
   {
    "duration": 11,
    "start_time": "2024-01-19T05:43:26.746Z"
   },
   {
    "duration": 9,
    "start_time": "2024-01-19T05:46:23.356Z"
   },
   {
    "duration": 6,
    "start_time": "2024-01-19T05:47:26.899Z"
   },
   {
    "duration": 3526,
    "start_time": "2024-01-19T05:47:37.958Z"
   },
   {
    "duration": 3488,
    "start_time": "2024-01-19T05:48:00.892Z"
   },
   {
    "duration": 7,
    "start_time": "2024-01-19T05:49:16.366Z"
   },
   {
    "duration": 7,
    "start_time": "2024-01-19T05:49:20.856Z"
   },
   {
    "duration": 7,
    "start_time": "2024-01-19T05:49:27.178Z"
   },
   {
    "duration": 6,
    "start_time": "2024-01-19T05:49:31.175Z"
   },
   {
    "duration": 6,
    "start_time": "2024-01-19T05:49:41.682Z"
   },
   {
    "duration": 6,
    "start_time": "2024-01-19T05:49:46.662Z"
   },
   {
    "duration": 7,
    "start_time": "2024-01-19T05:49:51.949Z"
   },
   {
    "duration": 7,
    "start_time": "2024-01-19T05:49:57.369Z"
   },
   {
    "duration": 7,
    "start_time": "2024-01-19T05:50:13.019Z"
   },
   {
    "duration": 6,
    "start_time": "2024-01-19T05:50:19.502Z"
   },
   {
    "duration": 8,
    "start_time": "2024-01-19T05:50:31.922Z"
   },
   {
    "duration": 274,
    "start_time": "2024-01-19T05:53:24.222Z"
   },
   {
    "duration": 243,
    "start_time": "2024-01-19T05:53:34.192Z"
   },
   {
    "duration": 253,
    "start_time": "2024-01-19T05:53:44.798Z"
   },
   {
    "duration": 5,
    "start_time": "2024-01-19T05:54:26.846Z"
   },
   {
    "duration": 2808,
    "start_time": "2024-01-19T05:57:55.370Z"
   },
   {
    "duration": 2345,
    "start_time": "2024-01-19T05:57:58.180Z"
   },
   {
    "duration": 6,
    "start_time": "2024-01-19T05:58:00.527Z"
   },
   {
    "duration": 33,
    "start_time": "2024-01-19T05:58:00.534Z"
   },
   {
    "duration": 473,
    "start_time": "2024-01-19T05:58:00.569Z"
   },
   {
    "duration": 10,
    "start_time": "2024-01-19T05:58:01.043Z"
   },
   {
    "duration": 52,
    "start_time": "2024-01-19T05:58:01.055Z"
   },
   {
    "duration": 20,
    "start_time": "2024-01-19T05:58:01.108Z"
   },
   {
    "duration": 54,
    "start_time": "2024-01-19T05:58:01.130Z"
   },
   {
    "duration": 49,
    "start_time": "2024-01-19T05:58:01.186Z"
   },
   {
    "duration": 34,
    "start_time": "2024-01-19T05:58:01.236Z"
   },
   {
    "duration": 23,
    "start_time": "2024-01-19T05:58:01.272Z"
   },
   {
    "duration": 71,
    "start_time": "2024-01-19T05:58:01.297Z"
   },
   {
    "duration": 137,
    "start_time": "2024-01-19T05:58:01.371Z"
   },
   {
    "duration": 3606,
    "start_time": "2024-01-19T05:58:01.509Z"
   },
   {
    "duration": 3584,
    "start_time": "2024-01-19T05:58:05.117Z"
   },
   {
    "duration": 15,
    "start_time": "2024-01-19T05:58:15.752Z"
   },
   {
    "duration": 96,
    "start_time": "2024-01-19T06:12:34.375Z"
   },
   {
    "duration": 17,
    "start_time": "2024-01-19T06:12:47.752Z"
   },
   {
    "duration": 15,
    "start_time": "2024-01-19T06:14:24.301Z"
   },
   {
    "duration": 5,
    "start_time": "2024-01-19T06:14:40.641Z"
   },
   {
    "duration": 18,
    "start_time": "2024-01-19T06:14:46.452Z"
   },
   {
    "duration": 2761,
    "start_time": "2024-01-19T06:15:55.420Z"
   },
   {
    "duration": 2365,
    "start_time": "2024-01-19T06:15:58.183Z"
   },
   {
    "duration": 7,
    "start_time": "2024-01-19T06:16:00.550Z"
   },
   {
    "duration": 47,
    "start_time": "2024-01-19T06:16:00.559Z"
   },
   {
    "duration": 475,
    "start_time": "2024-01-19T06:16:00.608Z"
   },
   {
    "duration": 9,
    "start_time": "2024-01-19T06:16:01.084Z"
   },
   {
    "duration": 34,
    "start_time": "2024-01-19T06:16:01.095Z"
   },
   {
    "duration": 33,
    "start_time": "2024-01-19T06:16:01.131Z"
   },
   {
    "duration": 49,
    "start_time": "2024-01-19T06:16:01.166Z"
   },
   {
    "duration": 9,
    "start_time": "2024-01-19T06:16:01.217Z"
   },
   {
    "duration": 45,
    "start_time": "2024-01-19T06:16:01.228Z"
   },
   {
    "duration": 40,
    "start_time": "2024-01-19T06:16:01.275Z"
   },
   {
    "duration": 26,
    "start_time": "2024-01-19T06:16:01.316Z"
   },
   {
    "duration": 99,
    "start_time": "2024-01-19T06:16:01.344Z"
   },
   {
    "duration": 3565,
    "start_time": "2024-01-19T06:16:01.444Z"
   },
   {
    "duration": 3625,
    "start_time": "2024-01-19T06:16:05.010Z"
   },
   {
    "duration": 12,
    "start_time": "2024-01-19T06:16:08.636Z"
   },
   {
    "duration": 16,
    "start_time": "2024-01-19T06:16:08.650Z"
   },
   {
    "duration": 4053,
    "start_time": "2024-01-19T06:16:08.667Z"
   },
   {
    "duration": 273,
    "start_time": "2024-01-19T06:16:12.722Z"
   },
   {
    "duration": 249,
    "start_time": "2024-01-19T06:16:12.997Z"
   },
   {
    "duration": 257,
    "start_time": "2024-01-19T06:16:13.248Z"
   },
   {
    "duration": 4,
    "start_time": "2024-01-19T06:16:13.506Z"
   },
   {
    "duration": 7,
    "start_time": "2024-01-19T06:16:13.511Z"
   },
   {
    "duration": 10,
    "start_time": "2024-01-19T06:16:13.519Z"
   },
   {
    "duration": 20,
    "start_time": "2024-01-19T06:16:13.530Z"
   },
   {
    "duration": 15,
    "start_time": "2024-01-19T06:17:35.593Z"
   },
   {
    "duration": 9,
    "start_time": "2024-01-19T06:19:13.357Z"
   },
   {
    "duration": 12,
    "start_time": "2024-01-19T06:19:49.516Z"
   },
   {
    "duration": 107,
    "start_time": "2024-01-19T06:36:52.349Z"
   },
   {
    "duration": 13,
    "start_time": "2024-01-19T06:37:13.121Z"
   },
   {
    "duration": 29,
    "start_time": "2024-01-19T06:37:20.590Z"
   },
   {
    "duration": 9,
    "start_time": "2024-01-19T06:39:37.852Z"
   },
   {
    "duration": 6,
    "start_time": "2024-01-19T06:39:42.367Z"
   },
   {
    "duration": 8,
    "start_time": "2024-01-19T06:39:43.246Z"
   },
   {
    "duration": 5,
    "start_time": "2024-01-19T06:42:00.151Z"
   },
   {
    "duration": 8,
    "start_time": "2024-01-19T06:42:05.945Z"
   },
   {
    "duration": 12,
    "start_time": "2024-01-19T06:42:14.262Z"
   },
   {
    "duration": 32,
    "start_time": "2024-01-19T09:13:32.642Z"
   },
   {
    "duration": 3,
    "start_time": "2024-01-19T09:13:48.275Z"
   },
   {
    "duration": 2,
    "start_time": "2024-01-19T09:13:48.720Z"
   },
   {
    "duration": 5,
    "start_time": "2024-01-19T09:13:51.380Z"
   },
   {
    "duration": 24,
    "start_time": "2024-01-19T09:13:52.223Z"
   },
   {
    "duration": 3,
    "start_time": "2024-01-19T09:14:05.864Z"
   },
   {
    "duration": 33,
    "start_time": "2024-01-19T09:14:06.356Z"
   },
   {
    "duration": 4,
    "start_time": "2024-01-19T09:14:07.416Z"
   },
   {
    "duration": 8877,
    "start_time": "2024-01-19T09:14:08.118Z"
   },
   {
    "duration": 116,
    "start_time": "2024-01-19T09:14:37.316Z"
   },
   {
    "duration": 1513,
    "start_time": "2024-01-19T09:14:44.598Z"
   },
   {
    "duration": 15,
    "start_time": "2024-01-19T09:15:28.722Z"
   },
   {
    "duration": 2,
    "start_time": "2024-01-19T09:15:42.979Z"
   },
   {
    "duration": 1397,
    "start_time": "2024-01-19T09:15:50.482Z"
   },
   {
    "duration": 2,
    "start_time": "2024-01-19T09:16:03.354Z"
   },
   {
    "duration": 2,
    "start_time": "2024-01-19T09:16:04.587Z"
   },
   {
    "duration": 9830,
    "start_time": "2024-01-19T09:16:07.373Z"
   },
   {
    "duration": 9,
    "start_time": "2024-01-19T09:16:57.140Z"
   },
   {
    "duration": 6,
    "start_time": "2024-01-19T09:17:13.336Z"
   },
   {
    "duration": 8,
    "start_time": "2024-01-19T09:17:25.026Z"
   },
   {
    "duration": 70,
    "start_time": "2024-01-19T09:22:14.002Z"
   },
   {
    "duration": 14,
    "start_time": "2024-01-19T09:22:18.894Z"
   },
   {
    "duration": 16,
    "start_time": "2024-01-19T09:22:27.959Z"
   },
   {
    "duration": 10,
    "start_time": "2024-01-19T09:22:50.308Z"
   },
   {
    "duration": 130,
    "start_time": "2024-01-19T09:29:36.441Z"
   },
   {
    "duration": 3,
    "start_time": "2024-01-19T09:30:33.696Z"
   },
   {
    "duration": 21,
    "start_time": "2024-01-19T09:30:49.249Z"
   },
   {
    "duration": 21,
    "start_time": "2024-01-19T09:32:13.478Z"
   },
   {
    "duration": 20,
    "start_time": "2024-01-19T09:32:20.248Z"
   },
   {
    "duration": 6,
    "start_time": "2024-01-19T09:32:35.746Z"
   },
   {
    "duration": 17,
    "start_time": "2024-01-19T09:38:51.979Z"
   },
   {
    "duration": 9,
    "start_time": "2024-01-19T09:38:57.215Z"
   },
   {
    "duration": 2908,
    "start_time": "2024-01-19T09:42:41.586Z"
   },
   {
    "duration": 2345,
    "start_time": "2024-01-19T09:42:44.497Z"
   },
   {
    "duration": 8,
    "start_time": "2024-01-19T09:42:46.844Z"
   },
   {
    "duration": 19,
    "start_time": "2024-01-19T09:42:46.853Z"
   },
   {
    "duration": 450,
    "start_time": "2024-01-19T09:42:46.874Z"
   },
   {
    "duration": 10,
    "start_time": "2024-01-19T09:42:47.326Z"
   },
   {
    "duration": 36,
    "start_time": "2024-01-19T09:42:47.338Z"
   },
   {
    "duration": 12,
    "start_time": "2024-01-19T09:42:47.375Z"
   },
   {
    "duration": 26,
    "start_time": "2024-01-19T09:42:47.389Z"
   },
   {
    "duration": 12,
    "start_time": "2024-01-19T09:42:47.416Z"
   },
   {
    "duration": 19,
    "start_time": "2024-01-19T09:42:47.430Z"
   },
   {
    "duration": 22,
    "start_time": "2024-01-19T09:42:47.451Z"
   },
   {
    "duration": 16,
    "start_time": "2024-01-19T09:42:47.475Z"
   },
   {
    "duration": 76,
    "start_time": "2024-01-19T09:42:47.494Z"
   },
   {
    "duration": 3948,
    "start_time": "2024-01-19T09:42:47.571Z"
   },
   {
    "duration": 3752,
    "start_time": "2024-01-19T09:42:51.521Z"
   },
   {
    "duration": 12,
    "start_time": "2024-01-19T09:42:55.275Z"
   },
   {
    "duration": 11,
    "start_time": "2024-01-19T09:42:55.289Z"
   },
   {
    "duration": 4020,
    "start_time": "2024-01-19T09:42:55.302Z"
   },
   {
    "duration": 274,
    "start_time": "2024-01-19T09:42:59.323Z"
   },
   {
    "duration": 283,
    "start_time": "2024-01-19T09:42:59.598Z"
   },
   {
    "duration": 274,
    "start_time": "2024-01-19T09:42:59.882Z"
   },
   {
    "duration": 7,
    "start_time": "2024-01-19T09:43:00.158Z"
   },
   {
    "duration": 74,
    "start_time": "2024-01-19T09:43:00.166Z"
   },
   {
    "duration": 66,
    "start_time": "2024-01-19T09:43:00.241Z"
   },
   {
    "duration": 84,
    "start_time": "2024-01-19T09:43:00.309Z"
   },
   {
    "duration": 26,
    "start_time": "2024-01-19T09:43:50.995Z"
   },
   {
    "duration": 25,
    "start_time": "2024-01-19T09:44:09.954Z"
   },
   {
    "duration": 28,
    "start_time": "2024-01-19T09:44:26.524Z"
   },
   {
    "duration": 2843,
    "start_time": "2024-01-19T09:44:34.405Z"
   },
   {
    "duration": 2412,
    "start_time": "2024-01-19T09:44:37.251Z"
   },
   {
    "duration": 6,
    "start_time": "2024-01-19T09:44:39.665Z"
   },
   {
    "duration": 24,
    "start_time": "2024-01-19T09:44:39.674Z"
   },
   {
    "duration": 481,
    "start_time": "2024-01-19T09:44:39.701Z"
   },
   {
    "duration": 10,
    "start_time": "2024-01-19T09:44:40.184Z"
   },
   {
    "duration": 33,
    "start_time": "2024-01-19T09:44:40.196Z"
   },
   {
    "duration": 20,
    "start_time": "2024-01-19T09:44:40.231Z"
   },
   {
    "duration": 35,
    "start_time": "2024-01-19T09:44:40.253Z"
   },
   {
    "duration": 12,
    "start_time": "2024-01-19T09:44:40.291Z"
   },
   {
    "duration": 36,
    "start_time": "2024-01-19T09:44:40.305Z"
   },
   {
    "duration": 9,
    "start_time": "2024-01-19T09:44:40.343Z"
   },
   {
    "duration": 13,
    "start_time": "2024-01-19T09:44:40.354Z"
   },
   {
    "duration": 72,
    "start_time": "2024-01-19T09:44:40.370Z"
   },
   {
    "duration": 3713,
    "start_time": "2024-01-19T09:44:40.443Z"
   },
   {
    "duration": 3738,
    "start_time": "2024-01-19T09:44:44.158Z"
   },
   {
    "duration": 12,
    "start_time": "2024-01-19T09:44:47.897Z"
   },
   {
    "duration": 8,
    "start_time": "2024-01-19T09:44:47.910Z"
   },
   {
    "duration": 4265,
    "start_time": "2024-01-19T09:44:47.919Z"
   },
   {
    "duration": 294,
    "start_time": "2024-01-19T09:44:52.186Z"
   },
   {
    "duration": 266,
    "start_time": "2024-01-19T09:44:52.481Z"
   },
   {
    "duration": 282,
    "start_time": "2024-01-19T09:44:52.749Z"
   },
   {
    "duration": 4,
    "start_time": "2024-01-19T09:44:53.033Z"
   },
   {
    "duration": 16,
    "start_time": "2024-01-19T09:44:53.038Z"
   },
   {
    "duration": 8,
    "start_time": "2024-01-19T09:44:53.055Z"
   },
   {
    "duration": 30,
    "start_time": "2024-01-19T09:44:53.065Z"
   },
   {
    "duration": 22,
    "start_time": "2024-01-19T09:45:02.983Z"
   },
   {
    "duration": 42,
    "start_time": "2024-01-19T09:45:06.209Z"
   },
   {
    "duration": 14,
    "start_time": "2024-01-19T09:45:35.297Z"
   },
   {
    "duration": 5,
    "start_time": "2024-01-19T09:46:11.641Z"
   },
   {
    "duration": 18,
    "start_time": "2024-01-19T09:46:37.561Z"
   },
   {
    "duration": 2782,
    "start_time": "2024-01-19T09:46:48.526Z"
   },
   {
    "duration": 2399,
    "start_time": "2024-01-19T09:46:51.310Z"
   },
   {
    "duration": 8,
    "start_time": "2024-01-19T09:46:53.712Z"
   },
   {
    "duration": 23,
    "start_time": "2024-01-19T09:46:53.722Z"
   },
   {
    "duration": 457,
    "start_time": "2024-01-19T09:46:53.748Z"
   },
   {
    "duration": 10,
    "start_time": "2024-01-19T09:46:54.206Z"
   },
   {
    "duration": 19,
    "start_time": "2024-01-19T09:46:54.217Z"
   },
   {
    "duration": 9,
    "start_time": "2024-01-19T09:46:54.237Z"
   },
   {
    "duration": 28,
    "start_time": "2024-01-19T09:46:54.247Z"
   },
   {
    "duration": 9,
    "start_time": "2024-01-19T09:46:54.276Z"
   },
   {
    "duration": 17,
    "start_time": "2024-01-19T09:46:54.286Z"
   },
   {
    "duration": 8,
    "start_time": "2024-01-19T09:46:54.305Z"
   },
   {
    "duration": 12,
    "start_time": "2024-01-19T09:46:54.315Z"
   },
   {
    "duration": 110,
    "start_time": "2024-01-19T09:46:54.330Z"
   },
   {
    "duration": 3884,
    "start_time": "2024-01-19T09:46:54.441Z"
   },
   {
    "duration": 3709,
    "start_time": "2024-01-19T09:46:58.327Z"
   },
   {
    "duration": 12,
    "start_time": "2024-01-19T09:47:02.037Z"
   },
   {
    "duration": 41,
    "start_time": "2024-01-19T09:47:02.050Z"
   },
   {
    "duration": 4111,
    "start_time": "2024-01-19T09:47:02.093Z"
   },
   {
    "duration": 288,
    "start_time": "2024-01-19T09:47:06.205Z"
   },
   {
    "duration": 281,
    "start_time": "2024-01-19T09:47:06.495Z"
   },
   {
    "duration": 270,
    "start_time": "2024-01-19T09:47:06.777Z"
   },
   {
    "duration": 4,
    "start_time": "2024-01-19T09:47:07.048Z"
   },
   {
    "duration": 22,
    "start_time": "2024-01-19T09:47:07.054Z"
   },
   {
    "duration": 5,
    "start_time": "2024-01-19T09:47:07.078Z"
   },
   {
    "duration": 40,
    "start_time": "2024-01-19T09:47:07.085Z"
   },
   {
    "duration": 16,
    "start_time": "2024-01-19T09:47:12.191Z"
   },
   {
    "duration": 4,
    "start_time": "2024-01-19T09:47:15.700Z"
   },
   {
    "duration": 248,
    "start_time": "2024-01-19T09:47:18.719Z"
   },
   {
    "duration": 5,
    "start_time": "2024-01-19T09:47:22.193Z"
   },
   {
    "duration": 2799,
    "start_time": "2024-01-19T09:47:45.135Z"
   },
   {
    "duration": 2429,
    "start_time": "2024-01-19T09:47:47.937Z"
   },
   {
    "duration": 6,
    "start_time": "2024-01-19T09:47:50.369Z"
   },
   {
    "duration": 16,
    "start_time": "2024-01-19T09:47:50.377Z"
   },
   {
    "duration": 442,
    "start_time": "2024-01-19T09:47:50.396Z"
   },
   {
    "duration": 10,
    "start_time": "2024-01-19T09:47:50.839Z"
   },
   {
    "duration": 41,
    "start_time": "2024-01-19T09:47:50.851Z"
   },
   {
    "duration": 9,
    "start_time": "2024-01-19T09:47:50.893Z"
   },
   {
    "duration": 30,
    "start_time": "2024-01-19T09:47:50.904Z"
   },
   {
    "duration": 9,
    "start_time": "2024-01-19T09:47:50.936Z"
   },
   {
    "duration": 29,
    "start_time": "2024-01-19T09:47:50.946Z"
   },
   {
    "duration": 8,
    "start_time": "2024-01-19T09:47:50.977Z"
   },
   {
    "duration": 32,
    "start_time": "2024-01-19T09:47:50.987Z"
   },
   {
    "duration": 91,
    "start_time": "2024-01-19T09:47:51.022Z"
   },
   {
    "duration": 3822,
    "start_time": "2024-01-19T09:47:51.115Z"
   },
   {
    "duration": 3677,
    "start_time": "2024-01-19T09:47:54.938Z"
   },
   {
    "duration": 11,
    "start_time": "2024-01-19T09:47:58.617Z"
   },
   {
    "duration": 5,
    "start_time": "2024-01-19T09:47:58.630Z"
   },
   {
    "duration": 4092,
    "start_time": "2024-01-19T09:47:58.637Z"
   },
   {
    "duration": 271,
    "start_time": "2024-01-19T09:48:02.731Z"
   },
   {
    "duration": 270,
    "start_time": "2024-01-19T09:48:03.003Z"
   },
   {
    "duration": 276,
    "start_time": "2024-01-19T09:48:03.274Z"
   },
   {
    "duration": 4,
    "start_time": "2024-01-19T09:48:03.551Z"
   },
   {
    "duration": 9,
    "start_time": "2024-01-19T09:48:03.557Z"
   },
   {
    "duration": 5,
    "start_time": "2024-01-19T09:48:03.567Z"
   },
   {
    "duration": 30,
    "start_time": "2024-01-19T09:48:03.573Z"
   },
   {
    "duration": 3,
    "start_time": "2024-01-19T09:48:03.604Z"
   },
   {
    "duration": 160,
    "start_time": "2024-01-19T09:48:03.608Z"
   },
   {
    "duration": 6,
    "start_time": "2024-01-19T09:48:03.771Z"
   },
   {
    "duration": 24,
    "start_time": "2024-01-19T09:48:14.226Z"
   },
   {
    "duration": 13,
    "start_time": "2024-01-19T09:48:15.239Z"
   },
   {
    "duration": 5,
    "start_time": "2024-01-19T09:48:23.628Z"
   },
   {
    "duration": 12,
    "start_time": "2024-01-19T09:48:25.439Z"
   },
   {
    "duration": 88,
    "start_time": "2024-01-19T09:48:31.898Z"
   },
   {
    "duration": 9,
    "start_time": "2024-01-19T09:48:33.138Z"
   },
   {
    "duration": 46,
    "start_time": "2024-01-19T09:48:50.532Z"
   },
   {
    "duration": 2877,
    "start_time": "2024-01-19T09:49:07.333Z"
   },
   {
    "duration": 2338,
    "start_time": "2024-01-19T09:49:10.212Z"
   },
   {
    "duration": 6,
    "start_time": "2024-01-19T09:49:12.552Z"
   },
   {
    "duration": 15,
    "start_time": "2024-01-19T09:49:12.561Z"
   },
   {
    "duration": 435,
    "start_time": "2024-01-19T09:49:12.579Z"
   },
   {
    "duration": 9,
    "start_time": "2024-01-19T09:49:13.016Z"
   },
   {
    "duration": 25,
    "start_time": "2024-01-19T09:49:13.027Z"
   },
   {
    "duration": 18,
    "start_time": "2024-01-19T09:49:13.054Z"
   },
   {
    "duration": 20,
    "start_time": "2024-01-19T09:49:13.074Z"
   },
   {
    "duration": 9,
    "start_time": "2024-01-19T09:49:13.096Z"
   },
   {
    "duration": 28,
    "start_time": "2024-01-19T09:49:13.107Z"
   },
   {
    "duration": 10,
    "start_time": "2024-01-19T09:49:13.136Z"
   },
   {
    "duration": 24,
    "start_time": "2024-01-19T09:49:13.148Z"
   },
   {
    "duration": 70,
    "start_time": "2024-01-19T09:49:13.176Z"
   },
   {
    "duration": 3903,
    "start_time": "2024-01-19T09:49:13.248Z"
   },
   {
    "duration": 3794,
    "start_time": "2024-01-19T09:49:17.153Z"
   },
   {
    "duration": 12,
    "start_time": "2024-01-19T09:49:20.949Z"
   },
   {
    "duration": 24,
    "start_time": "2024-01-19T09:49:20.965Z"
   },
   {
    "duration": 4055,
    "start_time": "2024-01-19T09:49:20.991Z"
   },
   {
    "duration": 267,
    "start_time": "2024-01-19T09:49:25.048Z"
   },
   {
    "duration": 361,
    "start_time": "2024-01-19T09:49:25.317Z"
   },
   {
    "duration": 287,
    "start_time": "2024-01-19T09:49:25.680Z"
   },
   {
    "duration": 3,
    "start_time": "2024-01-19T09:49:25.969Z"
   },
   {
    "duration": 9,
    "start_time": "2024-01-19T09:49:25.974Z"
   },
   {
    "duration": 5,
    "start_time": "2024-01-19T09:49:25.984Z"
   },
   {
    "duration": 28,
    "start_time": "2024-01-19T09:49:25.990Z"
   },
   {
    "duration": 16,
    "start_time": "2024-01-19T09:49:26.020Z"
   },
   {
    "duration": 30,
    "start_time": "2024-01-19T09:49:26.037Z"
   },
   {
    "duration": 239,
    "start_time": "2024-01-19T09:49:29.927Z"
   },
   {
    "duration": 6,
    "start_time": "2024-01-19T09:49:34.074Z"
   },
   {
    "duration": 22,
    "start_time": "2024-01-19T09:51:10.772Z"
   },
   {
    "duration": 16,
    "start_time": "2024-01-19T09:51:24.747Z"
   },
   {
    "duration": 2894,
    "start_time": "2024-01-19T09:52:03.281Z"
   },
   {
    "duration": 2322,
    "start_time": "2024-01-19T09:52:06.178Z"
   },
   {
    "duration": 7,
    "start_time": "2024-01-19T09:52:08.503Z"
   },
   {
    "duration": 17,
    "start_time": "2024-01-19T09:52:08.511Z"
   },
   {
    "duration": 465,
    "start_time": "2024-01-19T09:52:08.530Z"
   },
   {
    "duration": 9,
    "start_time": "2024-01-19T09:52:08.997Z"
   },
   {
    "duration": 91,
    "start_time": "2024-01-19T09:52:09.008Z"
   },
   {
    "duration": 9,
    "start_time": "2024-01-19T09:52:09.101Z"
   },
   {
    "duration": 38,
    "start_time": "2024-01-19T09:52:09.112Z"
   },
   {
    "duration": 12,
    "start_time": "2024-01-19T09:52:09.152Z"
   },
   {
    "duration": 25,
    "start_time": "2024-01-19T09:52:09.166Z"
   },
   {
    "duration": 8,
    "start_time": "2024-01-19T09:52:09.193Z"
   },
   {
    "duration": 11,
    "start_time": "2024-01-19T09:52:09.204Z"
   },
   {
    "duration": 108,
    "start_time": "2024-01-19T09:52:09.219Z"
   },
   {
    "duration": 3729,
    "start_time": "2024-01-19T09:52:09.328Z"
   },
   {
    "duration": 3848,
    "start_time": "2024-01-19T09:52:13.059Z"
   },
   {
    "duration": 12,
    "start_time": "2024-01-19T09:52:16.909Z"
   },
   {
    "duration": 4,
    "start_time": "2024-01-19T09:52:16.922Z"
   },
   {
    "duration": 4262,
    "start_time": "2024-01-19T09:52:16.928Z"
   },
   {
    "duration": 293,
    "start_time": "2024-01-19T09:52:21.192Z"
   },
   {
    "duration": 287,
    "start_time": "2024-01-19T09:52:21.487Z"
   },
   {
    "duration": 274,
    "start_time": "2024-01-19T09:52:21.776Z"
   },
   {
    "duration": 4,
    "start_time": "2024-01-19T09:52:22.052Z"
   },
   {
    "duration": 30,
    "start_time": "2024-01-19T09:52:22.065Z"
   },
   {
    "duration": 29,
    "start_time": "2024-01-19T09:52:22.096Z"
   },
   {
    "duration": 48,
    "start_time": "2024-01-19T09:52:22.127Z"
   },
   {
    "duration": 3,
    "start_time": "2024-01-19T09:52:22.177Z"
   },
   {
    "duration": 18,
    "start_time": "2024-01-19T09:52:22.182Z"
   },
   {
    "duration": 165,
    "start_time": "2024-01-19T09:52:22.201Z"
   },
   {
    "duration": 97,
    "start_time": "2024-01-19T09:52:22.369Z"
   },
   {
    "duration": 96,
    "start_time": "2024-01-19T09:52:22.468Z"
   },
   {
    "duration": 30,
    "start_time": "2024-01-19T09:52:22.568Z"
   },
   {
    "duration": 19,
    "start_time": "2024-01-19T12:29:21.925Z"
   },
   {
    "duration": 3540,
    "start_time": "2024-01-19T12:29:31.772Z"
   },
   {
    "duration": 3,
    "start_time": "2024-01-19T12:29:58.268Z"
   },
   {
    "duration": 3,
    "start_time": "2024-01-19T12:29:58.697Z"
   },
   {
    "duration": 25,
    "start_time": "2024-01-19T12:29:59.521Z"
   },
   {
    "duration": 11,
    "start_time": "2024-01-19T12:30:04.846Z"
   },
   {
    "duration": 22,
    "start_time": "2024-01-19T12:30:06.682Z"
   },
   {
    "duration": 10,
    "start_time": "2024-01-19T12:30:07.155Z"
   },
   {
    "duration": 10,
    "start_time": "2024-01-19T12:30:08.210Z"
   },
   {
    "duration": 5,
    "start_time": "2024-01-19T12:30:14.583Z"
   },
   {
    "duration": 2,
    "start_time": "2024-01-19T12:31:16.274Z"
   },
   {
    "duration": 2,
    "start_time": "2024-01-19T12:31:16.774Z"
   },
   {
    "duration": 32,
    "start_time": "2024-01-19T12:31:17.405Z"
   },
   {
    "duration": 17,
    "start_time": "2024-01-19T12:31:19.197Z"
   },
   {
    "duration": 15,
    "start_time": "2024-01-19T12:31:20.133Z"
   },
   {
    "duration": 121,
    "start_time": "2024-01-19T12:31:37.545Z"
   },
   {
    "duration": 31,
    "start_time": "2024-01-19T12:31:38.622Z"
   },
   {
    "duration": 15,
    "start_time": "2024-01-19T12:31:39.570Z"
   },
   {
    "duration": 5,
    "start_time": "2024-01-19T12:31:41.874Z"
   },
   {
    "duration": 2981,
    "start_time": "2024-01-19T12:31:57.009Z"
   },
   {
    "duration": 2412,
    "start_time": "2024-01-19T12:31:59.993Z"
   },
   {
    "duration": 7,
    "start_time": "2024-01-19T12:32:02.407Z"
   },
   {
    "duration": 24,
    "start_time": "2024-01-19T12:32:02.415Z"
   },
   {
    "duration": 479,
    "start_time": "2024-01-19T12:32:02.441Z"
   },
   {
    "duration": 9,
    "start_time": "2024-01-19T12:32:02.922Z"
   },
   {
    "duration": 49,
    "start_time": "2024-01-19T12:32:02.932Z"
   },
   {
    "duration": 8,
    "start_time": "2024-01-19T12:32:02.982Z"
   },
   {
    "duration": 31,
    "start_time": "2024-01-19T12:32:02.992Z"
   },
   {
    "duration": 8,
    "start_time": "2024-01-19T12:32:03.024Z"
   },
   {
    "duration": 18,
    "start_time": "2024-01-19T12:32:03.034Z"
   },
   {
    "duration": 12,
    "start_time": "2024-01-19T12:32:03.053Z"
   },
   {
    "duration": 12,
    "start_time": "2024-01-19T12:32:03.067Z"
   },
   {
    "duration": 84,
    "start_time": "2024-01-19T12:32:03.082Z"
   },
   {
    "duration": 3729,
    "start_time": "2024-01-19T12:32:03.167Z"
   },
   {
    "duration": 3805,
    "start_time": "2024-01-19T12:32:06.898Z"
   },
   {
    "duration": 12,
    "start_time": "2024-01-19T12:32:10.704Z"
   },
   {
    "duration": 9,
    "start_time": "2024-01-19T12:32:10.718Z"
   },
   {
    "duration": 3986,
    "start_time": "2024-01-19T12:32:10.729Z"
   },
   {
    "duration": 16,
    "start_time": "2024-01-19T12:32:14.717Z"
   },
   {
    "duration": 296,
    "start_time": "2024-01-19T12:32:14.734Z"
   },
   {
    "duration": 268,
    "start_time": "2024-01-19T12:32:15.031Z"
   },
   {
    "duration": 269,
    "start_time": "2024-01-19T12:32:15.301Z"
   },
   {
    "duration": 4,
    "start_time": "2024-01-19T12:32:15.571Z"
   },
   {
    "duration": 5,
    "start_time": "2024-01-19T12:32:15.576Z"
   },
   {
    "duration": 5,
    "start_time": "2024-01-19T12:32:15.583Z"
   },
   {
    "duration": 26,
    "start_time": "2024-01-19T12:32:15.589Z"
   },
   {
    "duration": 16,
    "start_time": "2024-01-19T12:32:15.617Z"
   },
   {
    "duration": 33,
    "start_time": "2024-01-19T12:32:15.635Z"
   },
   {
    "duration": 196,
    "start_time": "2024-01-19T12:32:15.670Z"
   },
   {
    "duration": 203,
    "start_time": "2024-01-19T12:32:15.869Z"
   },
   {
    "duration": 15,
    "start_time": "2024-01-19T12:32:16.073Z"
   },
   {
    "duration": 5,
    "start_time": "2024-01-19T12:32:16.091Z"
   },
   {
    "duration": 5,
    "start_time": "2024-01-19T12:32:41.954Z"
   },
   {
    "duration": 14,
    "start_time": "2024-01-19T12:34:36.351Z"
   },
   {
    "duration": 2965,
    "start_time": "2024-01-19T12:35:00.495Z"
   },
   {
    "duration": 2425,
    "start_time": "2024-01-19T12:35:03.463Z"
   },
   {
    "duration": 7,
    "start_time": "2024-01-19T12:35:05.890Z"
   },
   {
    "duration": 15,
    "start_time": "2024-01-19T12:35:05.899Z"
   },
   {
    "duration": 462,
    "start_time": "2024-01-19T12:35:05.916Z"
   },
   {
    "duration": 9,
    "start_time": "2024-01-19T12:35:06.380Z"
   },
   {
    "duration": 27,
    "start_time": "2024-01-19T12:35:06.391Z"
   },
   {
    "duration": 8,
    "start_time": "2024-01-19T12:35:06.419Z"
   },
   {
    "duration": 18,
    "start_time": "2024-01-19T12:35:06.429Z"
   },
   {
    "duration": 19,
    "start_time": "2024-01-19T12:35:06.449Z"
   },
   {
    "duration": 14,
    "start_time": "2024-01-19T12:35:06.470Z"
   },
   {
    "duration": 11,
    "start_time": "2024-01-19T12:35:06.486Z"
   },
   {
    "duration": 12,
    "start_time": "2024-01-19T12:35:06.499Z"
   },
   {
    "duration": 96,
    "start_time": "2024-01-19T12:35:06.513Z"
   },
   {
    "duration": 3796,
    "start_time": "2024-01-19T12:35:06.611Z"
   },
   {
    "duration": 3495,
    "start_time": "2024-01-19T12:35:10.409Z"
   },
   {
    "duration": 11,
    "start_time": "2024-01-19T12:35:13.906Z"
   },
   {
    "duration": 5,
    "start_time": "2024-01-19T12:35:13.919Z"
   },
   {
    "duration": 4154,
    "start_time": "2024-01-19T12:35:13.926Z"
   },
   {
    "duration": 16,
    "start_time": "2024-01-19T12:35:18.082Z"
   },
   {
    "duration": 289,
    "start_time": "2024-01-19T12:35:18.100Z"
   },
   {
    "duration": 257,
    "start_time": "2024-01-19T12:35:18.391Z"
   },
   {
    "duration": 296,
    "start_time": "2024-01-19T12:35:18.649Z"
   },
   {
    "duration": 4,
    "start_time": "2024-01-19T12:35:18.947Z"
   },
   {
    "duration": 14,
    "start_time": "2024-01-19T12:35:18.952Z"
   },
   {
    "duration": 11,
    "start_time": "2024-01-19T12:35:18.968Z"
   },
   {
    "duration": 31,
    "start_time": "2024-01-19T12:35:18.981Z"
   },
   {
    "duration": 18,
    "start_time": "2024-01-19T12:35:19.014Z"
   },
   {
    "duration": 16,
    "start_time": "2024-01-19T12:35:19.033Z"
   },
   {
    "duration": 120,
    "start_time": "2024-01-19T12:35:19.051Z"
   },
   {
    "duration": 208,
    "start_time": "2024-01-19T12:35:19.173Z"
   },
   {
    "duration": 15,
    "start_time": "2024-01-19T12:35:19.383Z"
   },
   {
    "duration": 20,
    "start_time": "2024-01-19T12:35:19.399Z"
   },
   {
    "duration": 2,
    "start_time": "2024-01-19T12:36:06.034Z"
   },
   {
    "duration": 15,
    "start_time": "2024-01-19T12:36:07.603Z"
   },
   {
    "duration": 2858,
    "start_time": "2024-01-19T12:36:11.034Z"
   },
   {
    "duration": 2429,
    "start_time": "2024-01-19T12:36:13.895Z"
   },
   {
    "duration": 7,
    "start_time": "2024-01-19T12:36:16.326Z"
   },
   {
    "duration": 32,
    "start_time": "2024-01-19T12:36:16.334Z"
   },
   {
    "duration": 484,
    "start_time": "2024-01-19T12:36:16.368Z"
   },
   {
    "duration": 9,
    "start_time": "2024-01-19T12:36:16.854Z"
   },
   {
    "duration": 45,
    "start_time": "2024-01-19T12:36:16.865Z"
   },
   {
    "duration": 21,
    "start_time": "2024-01-19T12:36:16.912Z"
   },
   {
    "duration": 35,
    "start_time": "2024-01-19T12:36:16.935Z"
   },
   {
    "duration": 8,
    "start_time": "2024-01-19T12:36:16.971Z"
   },
   {
    "duration": 56,
    "start_time": "2024-01-19T12:36:16.981Z"
   },
   {
    "duration": 17,
    "start_time": "2024-01-19T12:36:17.038Z"
   },
   {
    "duration": 28,
    "start_time": "2024-01-19T12:36:17.057Z"
   },
   {
    "duration": 121,
    "start_time": "2024-01-19T12:36:17.088Z"
   },
   {
    "duration": 3721,
    "start_time": "2024-01-19T12:36:17.210Z"
   },
   {
    "duration": 3562,
    "start_time": "2024-01-19T12:36:20.932Z"
   },
   {
    "duration": 11,
    "start_time": "2024-01-19T12:36:24.496Z"
   },
   {
    "duration": 25,
    "start_time": "2024-01-19T12:36:24.508Z"
   },
   {
    "duration": 3889,
    "start_time": "2024-01-19T12:36:24.534Z"
   },
   {
    "duration": 15,
    "start_time": "2024-01-19T12:36:28.425Z"
   },
   {
    "duration": 299,
    "start_time": "2024-01-19T12:36:28.442Z"
   },
   {
    "duration": 300,
    "start_time": "2024-01-19T12:36:28.742Z"
   },
   {
    "duration": 263,
    "start_time": "2024-01-19T12:36:29.043Z"
   },
   {
    "duration": 5,
    "start_time": "2024-01-19T12:36:29.307Z"
   },
   {
    "duration": 6,
    "start_time": "2024-01-19T12:36:29.313Z"
   },
   {
    "duration": 15,
    "start_time": "2024-01-19T12:36:29.320Z"
   },
   {
    "duration": 30,
    "start_time": "2024-01-19T12:36:29.337Z"
   },
   {
    "duration": 3,
    "start_time": "2024-01-19T12:36:29.368Z"
   },
   {
    "duration": 18,
    "start_time": "2024-01-19T12:36:29.372Z"
   },
   {
    "duration": 174,
    "start_time": "2024-01-19T12:36:29.392Z"
   },
   {
    "duration": 100,
    "start_time": "2024-01-19T12:36:29.569Z"
   },
   {
    "duration": 10,
    "start_time": "2024-01-19T12:36:29.671Z"
   },
   {
    "duration": 19,
    "start_time": "2024-01-19T12:36:29.683Z"
   },
   {
    "duration": 10,
    "start_time": "2024-01-19T12:39:03.519Z"
   },
   {
    "duration": 9,
    "start_time": "2024-01-19T12:39:27.957Z"
   },
   {
    "duration": 10,
    "start_time": "2024-01-19T12:39:49.762Z"
   },
   {
    "duration": 9,
    "start_time": "2024-01-19T12:40:13.350Z"
   },
   {
    "duration": 8,
    "start_time": "2024-01-19T12:40:43.611Z"
   },
   {
    "duration": 2889,
    "start_time": "2024-01-19T12:41:16.455Z"
   },
   {
    "duration": 2346,
    "start_time": "2024-01-19T12:41:19.346Z"
   },
   {
    "duration": 7,
    "start_time": "2024-01-19T12:41:21.694Z"
   },
   {
    "duration": 16,
    "start_time": "2024-01-19T12:41:21.703Z"
   },
   {
    "duration": 438,
    "start_time": "2024-01-19T12:41:21.721Z"
   },
   {
    "duration": 11,
    "start_time": "2024-01-19T12:41:22.161Z"
   },
   {
    "duration": 21,
    "start_time": "2024-01-19T12:41:22.174Z"
   },
   {
    "duration": 9,
    "start_time": "2024-01-19T12:41:22.196Z"
   },
   {
    "duration": 17,
    "start_time": "2024-01-19T12:41:22.206Z"
   },
   {
    "duration": 9,
    "start_time": "2024-01-19T12:41:22.226Z"
   },
   {
    "duration": 38,
    "start_time": "2024-01-19T12:41:22.236Z"
   },
   {
    "duration": 7,
    "start_time": "2024-01-19T12:41:22.275Z"
   },
   {
    "duration": 24,
    "start_time": "2024-01-19T12:41:22.283Z"
   },
   {
    "duration": 68,
    "start_time": "2024-01-19T12:41:22.308Z"
   },
   {
    "duration": 3759,
    "start_time": "2024-01-19T12:41:22.378Z"
   },
   {
    "duration": 3590,
    "start_time": "2024-01-19T12:41:26.139Z"
   },
   {
    "duration": 16,
    "start_time": "2024-01-19T12:41:29.731Z"
   },
   {
    "duration": 19,
    "start_time": "2024-01-19T12:41:29.749Z"
   },
   {
    "duration": 4316,
    "start_time": "2024-01-19T12:41:29.770Z"
   },
   {
    "duration": 16,
    "start_time": "2024-01-19T12:41:34.088Z"
   },
   {
    "duration": 285,
    "start_time": "2024-01-19T12:41:34.106Z"
   },
   {
    "duration": 261,
    "start_time": "2024-01-19T12:41:34.393Z"
   },
   {
    "duration": 297,
    "start_time": "2024-01-19T12:41:34.656Z"
   },
   {
    "duration": 4,
    "start_time": "2024-01-19T12:41:34.955Z"
   },
   {
    "duration": 11,
    "start_time": "2024-01-19T12:41:34.960Z"
   },
   {
    "duration": 13,
    "start_time": "2024-01-19T12:41:34.972Z"
   },
   {
    "duration": 32,
    "start_time": "2024-01-19T12:41:34.986Z"
   },
   {
    "duration": 2,
    "start_time": "2024-01-19T12:41:35.022Z"
   },
   {
    "duration": 20,
    "start_time": "2024-01-19T12:41:35.026Z"
   },
   {
    "duration": 22,
    "start_time": "2024-01-19T12:41:35.048Z"
   },
   {
    "duration": 98,
    "start_time": "2024-01-19T12:41:35.073Z"
   },
   {
    "duration": 115,
    "start_time": "2024-01-19T12:41:35.173Z"
   },
   {
    "duration": 11,
    "start_time": "2024-01-19T12:43:44.328Z"
   },
   {
    "duration": 4,
    "start_time": "2024-01-19T12:43:56.633Z"
   },
   {
    "duration": 25,
    "start_time": "2024-01-19T12:44:10.337Z"
   },
   {
    "duration": 4,
    "start_time": "2024-01-19T12:44:33.595Z"
   },
   {
    "duration": 173,
    "start_time": "2024-01-19T12:44:35.368Z"
   },
   {
    "duration": 30,
    "start_time": "2024-01-19T12:44:49.420Z"
   },
   {
    "duration": 2876,
    "start_time": "2024-01-19T12:45:21.398Z"
   },
   {
    "duration": 2467,
    "start_time": "2024-01-19T12:45:24.276Z"
   },
   {
    "duration": 6,
    "start_time": "2024-01-19T12:45:26.745Z"
   },
   {
    "duration": 16,
    "start_time": "2024-01-19T12:45:26.753Z"
   },
   {
    "duration": 445,
    "start_time": "2024-01-19T12:45:26.771Z"
   },
   {
    "duration": 10,
    "start_time": "2024-01-19T12:45:27.218Z"
   },
   {
    "duration": 26,
    "start_time": "2024-01-19T12:45:27.229Z"
   },
   {
    "duration": 9,
    "start_time": "2024-01-19T12:45:27.257Z"
   },
   {
    "duration": 24,
    "start_time": "2024-01-19T12:45:27.267Z"
   },
   {
    "duration": 11,
    "start_time": "2024-01-19T12:45:27.292Z"
   },
   {
    "duration": 23,
    "start_time": "2024-01-19T12:45:27.305Z"
   },
   {
    "duration": 8,
    "start_time": "2024-01-19T12:45:27.330Z"
   },
   {
    "duration": 17,
    "start_time": "2024-01-19T12:45:27.339Z"
   },
   {
    "duration": 71,
    "start_time": "2024-01-19T12:45:27.366Z"
   },
   {
    "duration": 3619,
    "start_time": "2024-01-19T12:45:27.439Z"
   },
   {
    "duration": 3640,
    "start_time": "2024-01-19T12:45:31.064Z"
   },
   {
    "duration": 15,
    "start_time": "2024-01-19T12:45:34.705Z"
   },
   {
    "duration": 5,
    "start_time": "2024-01-19T12:45:34.722Z"
   },
   {
    "duration": 4006,
    "start_time": "2024-01-19T12:45:34.728Z"
   },
   {
    "duration": 17,
    "start_time": "2024-01-19T12:45:38.735Z"
   },
   {
    "duration": 342,
    "start_time": "2024-01-19T12:45:38.753Z"
   },
   {
    "duration": 274,
    "start_time": "2024-01-19T12:45:39.097Z"
   },
   {
    "duration": 276,
    "start_time": "2024-01-19T12:45:39.373Z"
   },
   {
    "duration": 4,
    "start_time": "2024-01-19T12:45:39.651Z"
   },
   {
    "duration": 16,
    "start_time": "2024-01-19T12:45:39.656Z"
   },
   {
    "duration": 6,
    "start_time": "2024-01-19T12:45:39.674Z"
   },
   {
    "duration": 32,
    "start_time": "2024-01-19T12:45:39.682Z"
   },
   {
    "duration": 3,
    "start_time": "2024-01-19T12:45:39.716Z"
   },
   {
    "duration": 12,
    "start_time": "2024-01-19T12:45:39.721Z"
   },
   {
    "duration": 51,
    "start_time": "2024-01-19T12:45:39.735Z"
   },
   {
    "duration": 0,
    "start_time": "2024-01-19T12:45:39.789Z"
   },
   {
    "duration": 0,
    "start_time": "2024-01-19T12:45:39.790Z"
   },
   {
    "duration": 0,
    "start_time": "2024-01-19T12:45:39.791Z"
   },
   {
    "duration": 6675,
    "start_time": "2024-01-21T04:52:39.856Z"
   },
   {
    "duration": 3066,
    "start_time": "2024-01-21T04:52:46.534Z"
   },
   {
    "duration": 1500,
    "start_time": "2024-01-21T04:52:49.602Z"
   },
   {
    "duration": 16,
    "start_time": "2024-01-21T04:52:51.104Z"
   },
   {
    "duration": 892,
    "start_time": "2024-01-21T04:52:51.122Z"
   },
   {
    "duration": 15,
    "start_time": "2024-01-21T04:52:52.015Z"
   },
   {
    "duration": 16,
    "start_time": "2024-01-21T04:52:52.032Z"
   },
   {
    "duration": 17,
    "start_time": "2024-01-21T04:52:52.049Z"
   },
   {
    "duration": 18,
    "start_time": "2024-01-21T04:52:52.067Z"
   },
   {
    "duration": 9,
    "start_time": "2024-01-21T04:52:52.087Z"
   },
   {
    "duration": 18,
    "start_time": "2024-01-21T04:52:52.097Z"
   },
   {
    "duration": 11,
    "start_time": "2024-01-21T04:52:52.117Z"
   },
   {
    "duration": 37,
    "start_time": "2024-01-21T04:52:52.129Z"
   },
   {
    "duration": 127,
    "start_time": "2024-01-21T04:52:52.170Z"
   },
   {
    "duration": 3767,
    "start_time": "2024-01-21T04:52:52.299Z"
   },
   {
    "duration": 3901,
    "start_time": "2024-01-21T04:52:56.067Z"
   },
   {
    "duration": 14,
    "start_time": "2024-01-21T04:52:59.969Z"
   },
   {
    "duration": 8,
    "start_time": "2024-01-21T04:52:59.985Z"
   },
   {
    "duration": 4734,
    "start_time": "2024-01-21T04:52:59.994Z"
   },
   {
    "duration": 41,
    "start_time": "2024-01-21T04:53:04.730Z"
   },
   {
    "duration": 333,
    "start_time": "2024-01-21T04:53:04.772Z"
   },
   {
    "duration": 284,
    "start_time": "2024-01-21T04:53:05.106Z"
   },
   {
    "duration": 296,
    "start_time": "2024-01-21T04:53:05.391Z"
   },
   {
    "duration": 4,
    "start_time": "2024-01-21T04:53:05.689Z"
   },
   {
    "duration": 29,
    "start_time": "2024-01-21T04:53:05.694Z"
   },
   {
    "duration": 23,
    "start_time": "2024-01-21T04:53:05.725Z"
   },
   {
    "duration": 60,
    "start_time": "2024-01-21T04:53:05.750Z"
   },
   {
    "duration": 3,
    "start_time": "2024-01-21T04:53:05.811Z"
   },
   {
    "duration": 28,
    "start_time": "2024-01-21T04:53:05.816Z"
   },
   {
    "duration": 129,
    "start_time": "2024-01-21T04:53:05.846Z"
   },
   {
    "duration": 0,
    "start_time": "2024-01-21T04:53:05.977Z"
   },
   {
    "duration": 0,
    "start_time": "2024-01-21T04:53:05.978Z"
   },
   {
    "duration": 0,
    "start_time": "2024-01-21T04:53:05.979Z"
   },
   {
    "duration": 9870,
    "start_time": "2024-01-21T04:55:02.437Z"
   },
   {
    "duration": 6,
    "start_time": "2024-01-21T04:55:45.651Z"
   },
   {
    "duration": 20,
    "start_time": "2024-01-21T04:56:45.279Z"
   },
   {
    "duration": 5,
    "start_time": "2024-01-21T04:56:45.750Z"
   },
   {
    "duration": 13551,
    "start_time": "2024-01-21T04:56:46.312Z"
   },
   {
    "duration": 5,
    "start_time": "2024-01-21T04:57:04.086Z"
   },
   {
    "duration": 18,
    "start_time": "2024-01-21T04:57:51.074Z"
   },
   {
    "duration": 19,
    "start_time": "2024-01-21T04:58:45.257Z"
   },
   {
    "duration": 3,
    "start_time": "2024-01-21T04:58:59.005Z"
   },
   {
    "duration": 3,
    "start_time": "2024-01-21T04:59:00.864Z"
   },
   {
    "duration": 2,
    "start_time": "2024-01-21T04:59:03.376Z"
   },
   {
    "duration": 5,
    "start_time": "2024-01-21T04:59:09.379Z"
   },
   {
    "duration": 6,
    "start_time": "2024-01-21T04:59:12.158Z"
   },
   {
    "duration": 5,
    "start_time": "2024-01-21T04:59:19.433Z"
   },
   {
    "duration": 3,
    "start_time": "2024-01-21T04:59:28.758Z"
   },
   {
    "duration": 2,
    "start_time": "2024-01-21T04:59:29.396Z"
   },
   {
    "duration": 32,
    "start_time": "2024-01-21T04:59:32.977Z"
   },
   {
    "duration": 19,
    "start_time": "2024-01-21T04:59:35.780Z"
   },
   {
    "duration": 17,
    "start_time": "2024-01-21T04:59:36.594Z"
   },
   {
    "duration": 5,
    "start_time": "2024-01-21T04:59:40.066Z"
   },
   {
    "duration": 13901,
    "start_time": "2024-01-21T04:59:40.766Z"
   },
   {
    "duration": 6,
    "start_time": "2024-01-21T04:59:58.979Z"
   },
   {
    "duration": 80,
    "start_time": "2024-01-21T05:00:23.396Z"
   },
   {
    "duration": 5,
    "start_time": "2024-01-21T05:00:25.158Z"
   },
   {
    "duration": 1717,
    "start_time": "2024-01-21T05:00:26.410Z"
   },
   {
    "duration": 13,
    "start_time": "2024-01-21T05:01:10.948Z"
   },
   {
    "duration": 20,
    "start_time": "2024-01-21T05:01:37.160Z"
   },
   {
    "duration": 175,
    "start_time": "2024-01-21T05:01:41.185Z"
   },
   {
    "duration": 14689,
    "start_time": "2024-01-21T05:02:03.087Z"
   },
   {
    "duration": 6,
    "start_time": "2024-01-21T05:02:20.556Z"
   },
   {
    "duration": 14576,
    "start_time": "2024-01-21T05:03:31.700Z"
   },
   {
    "duration": 7,
    "start_time": "2024-01-21T05:04:06.396Z"
   },
   {
    "duration": 98,
    "start_time": "2024-01-21T05:06:01.868Z"
   },
   {
    "duration": 84,
    "start_time": "2024-01-21T05:06:10.076Z"
   },
   {
    "duration": 113,
    "start_time": "2024-01-21T05:06:14.347Z"
   },
   {
    "duration": 90,
    "start_time": "2024-01-21T05:07:06.770Z"
   },
   {
    "duration": 122,
    "start_time": "2024-01-21T05:07:40.242Z"
   },
   {
    "duration": 47,
    "start_time": "2024-01-21T05:08:50.724Z"
   },
   {
    "duration": 22,
    "start_time": "2024-01-21T05:09:09.192Z"
   },
   {
    "duration": 1244,
    "start_time": "2024-01-21T05:09:47.622Z"
   },
   {
    "duration": 4051,
    "start_time": "2024-01-21T05:10:27.942Z"
   },
   {
    "duration": 2589,
    "start_time": "2024-01-21T05:10:31.996Z"
   },
   {
    "duration": 6,
    "start_time": "2024-01-21T05:10:34.587Z"
   },
   {
    "duration": 20,
    "start_time": "2024-01-21T05:10:34.595Z"
   },
   {
    "duration": 461,
    "start_time": "2024-01-21T05:10:34.617Z"
   },
   {
    "duration": 10,
    "start_time": "2024-01-21T05:10:35.080Z"
   },
   {
    "duration": 16,
    "start_time": "2024-01-21T05:10:35.092Z"
   },
   {
    "duration": 10,
    "start_time": "2024-01-21T05:10:35.110Z"
   },
   {
    "duration": 42,
    "start_time": "2024-01-21T05:10:35.122Z"
   },
   {
    "duration": 10,
    "start_time": "2024-01-21T05:10:35.166Z"
   },
   {
    "duration": 19,
    "start_time": "2024-01-21T05:10:35.177Z"
   },
   {
    "duration": 9,
    "start_time": "2024-01-21T05:10:35.198Z"
   },
   {
    "duration": 15,
    "start_time": "2024-01-21T05:10:35.209Z"
   },
   {
    "duration": 103,
    "start_time": "2024-01-21T05:10:35.226Z"
   },
   {
    "duration": 3979,
    "start_time": "2024-01-21T05:10:35.331Z"
   },
   {
    "duration": 3712,
    "start_time": "2024-01-21T05:10:39.311Z"
   },
   {
    "duration": 12,
    "start_time": "2024-01-21T05:10:43.025Z"
   },
   {
    "duration": 8,
    "start_time": "2024-01-21T05:10:43.039Z"
   },
   {
    "duration": 4249,
    "start_time": "2024-01-21T05:10:43.059Z"
   },
   {
    "duration": 18,
    "start_time": "2024-01-21T05:10:47.309Z"
   },
   {
    "duration": 337,
    "start_time": "2024-01-21T05:10:47.328Z"
   },
   {
    "duration": 293,
    "start_time": "2024-01-21T05:10:47.666Z"
   },
   {
    "duration": 290,
    "start_time": "2024-01-21T05:10:47.961Z"
   },
   {
    "duration": 7,
    "start_time": "2024-01-21T05:10:48.253Z"
   },
   {
    "duration": 4,
    "start_time": "2024-01-21T05:10:48.262Z"
   },
   {
    "duration": 4,
    "start_time": "2024-01-21T05:10:48.268Z"
   },
   {
    "duration": 6,
    "start_time": "2024-01-21T05:10:48.273Z"
   },
   {
    "duration": 27,
    "start_time": "2024-01-21T05:10:48.283Z"
   },
   {
    "duration": 2,
    "start_time": "2024-01-21T05:10:48.312Z"
   },
   {
    "duration": 244,
    "start_time": "2024-01-21T05:10:48.316Z"
   },
   {
    "duration": 10,
    "start_time": "2024-01-21T05:10:48.562Z"
   },
   {
    "duration": 100,
    "start_time": "2024-01-21T05:10:48.659Z"
   },
   {
    "duration": 4,
    "start_time": "2024-01-21T05:12:00.776Z"
   },
   {
    "duration": 3,
    "start_time": "2024-01-21T05:12:01.596Z"
   },
   {
    "duration": 4,
    "start_time": "2024-01-21T05:12:02.212Z"
   },
   {
    "duration": 27,
    "start_time": "2024-01-21T05:12:03.032Z"
   },
   {
    "duration": 18,
    "start_time": "2024-01-21T05:12:06.118Z"
   },
   {
    "duration": 60,
    "start_time": "2024-01-21T05:12:09.602Z"
   },
   {
    "duration": 5,
    "start_time": "2024-01-21T05:12:10.279Z"
   },
   {
    "duration": 1283,
    "start_time": "2024-01-21T05:12:13.260Z"
   },
   {
    "duration": 1744,
    "start_time": "2024-01-21T05:12:22.513Z"
   },
   {
    "duration": 2,
    "start_time": "2024-01-21T05:12:33.489Z"
   },
   {
    "duration": 3,
    "start_time": "2024-01-21T05:12:34.318Z"
   },
   {
    "duration": 3,
    "start_time": "2024-01-21T05:12:34.915Z"
   },
   {
    "duration": 27,
    "start_time": "2024-01-21T05:12:36.779Z"
   },
   {
    "duration": 17,
    "start_time": "2024-01-21T05:12:38.987Z"
   },
   {
    "duration": 19,
    "start_time": "2024-01-21T05:12:44.777Z"
   },
   {
    "duration": 90,
    "start_time": "2024-01-21T05:12:45.577Z"
   },
   {
    "duration": 6,
    "start_time": "2024-01-21T05:12:46.122Z"
   },
   {
    "duration": 77,
    "start_time": "2024-01-21T05:12:47.600Z"
   },
   {
    "duration": 3,
    "start_time": "2024-01-21T05:13:51.817Z"
   },
   {
    "duration": 1210,
    "start_time": "2024-01-21T05:14:24.297Z"
   },
   {
    "duration": 3,
    "start_time": "2024-01-21T05:15:06.345Z"
   },
   {
    "duration": 1614,
    "start_time": "2024-01-21T05:15:07.634Z"
   },
   {
    "duration": 3,
    "start_time": "2024-01-21T05:15:25.534Z"
   },
   {
    "duration": 25,
    "start_time": "2024-01-21T05:15:26.325Z"
   },
   {
    "duration": 15,
    "start_time": "2024-01-21T05:15:54.029Z"
   },
   {
    "duration": 14,
    "start_time": "2024-01-21T05:16:15.939Z"
   },
   {
    "duration": 4,
    "start_time": "2024-01-21T05:16:59.328Z"
   },
   {
    "duration": 53,
    "start_time": "2024-01-21T05:17:00.337Z"
   },
   {
    "duration": 3,
    "start_time": "2024-01-21T05:17:05.523Z"
   },
   {
    "duration": 52,
    "start_time": "2024-01-21T05:17:06.066Z"
   },
   {
    "duration": 3021,
    "start_time": "2024-01-21T05:19:13.350Z"
   },
   {
    "duration": 2616,
    "start_time": "2024-01-21T05:19:16.373Z"
   },
   {
    "duration": 7,
    "start_time": "2024-01-21T05:19:18.992Z"
   },
   {
    "duration": 18,
    "start_time": "2024-01-21T05:19:19.001Z"
   },
   {
    "duration": 504,
    "start_time": "2024-01-21T05:19:19.023Z"
   },
   {
    "duration": 11,
    "start_time": "2024-01-21T05:19:19.529Z"
   },
   {
    "duration": 24,
    "start_time": "2024-01-21T05:19:19.542Z"
   },
   {
    "duration": 10,
    "start_time": "2024-01-21T05:19:19.568Z"
   },
   {
    "duration": 16,
    "start_time": "2024-01-21T05:19:19.579Z"
   },
   {
    "duration": 9,
    "start_time": "2024-01-21T05:19:19.597Z"
   },
   {
    "duration": 15,
    "start_time": "2024-01-21T05:19:19.607Z"
   },
   {
    "duration": 37,
    "start_time": "2024-01-21T05:19:19.623Z"
   },
   {
    "duration": 12,
    "start_time": "2024-01-21T05:19:19.661Z"
   },
   {
    "duration": 100,
    "start_time": "2024-01-21T05:19:19.676Z"
   },
   {
    "duration": 3906,
    "start_time": "2024-01-21T05:19:19.778Z"
   },
   {
    "duration": 3828,
    "start_time": "2024-01-21T05:19:23.686Z"
   },
   {
    "duration": 13,
    "start_time": "2024-01-21T05:19:27.516Z"
   },
   {
    "duration": 6,
    "start_time": "2024-01-21T05:19:27.531Z"
   },
   {
    "duration": 4284,
    "start_time": "2024-01-21T05:19:27.538Z"
   },
   {
    "duration": 17,
    "start_time": "2024-01-21T05:19:31.824Z"
   },
   {
    "duration": 390,
    "start_time": "2024-01-21T05:19:31.842Z"
   },
   {
    "duration": 302,
    "start_time": "2024-01-21T05:19:32.234Z"
   },
   {
    "duration": 309,
    "start_time": "2024-01-21T05:19:32.538Z"
   },
   {
    "duration": 4,
    "start_time": "2024-01-21T05:19:32.849Z"
   },
   {
    "duration": 18,
    "start_time": "2024-01-21T05:19:32.858Z"
   },
   {
    "duration": 30,
    "start_time": "2024-01-21T05:19:32.878Z"
   },
   {
    "duration": 22,
    "start_time": "2024-01-21T05:19:32.910Z"
   },
   {
    "duration": 86,
    "start_time": "2024-01-21T05:19:32.934Z"
   },
   {
    "duration": 138,
    "start_time": "2024-01-21T05:19:33.022Z"
   },
   {
    "duration": 97,
    "start_time": "2024-01-21T05:19:33.162Z"
   },
   {
    "duration": 197,
    "start_time": "2024-01-21T05:19:33.261Z"
   },
   {
    "duration": 5,
    "start_time": "2024-01-21T05:19:33.461Z"
   },
   {
    "duration": 136,
    "start_time": "2024-01-21T05:19:33.468Z"
   },
   {
    "duration": 43,
    "start_time": "2024-01-21T05:22:44.950Z"
   },
   {
    "duration": 11,
    "start_time": "2024-01-21T05:32:20.870Z"
   },
   {
    "duration": 11,
    "start_time": "2024-01-21T05:32:50.520Z"
   },
   {
    "duration": 10,
    "start_time": "2024-01-21T05:33:20.807Z"
   },
   {
    "duration": 5,
    "start_time": "2024-01-21T05:33:29.124Z"
   },
   {
    "duration": 10,
    "start_time": "2024-01-21T05:33:31.777Z"
   },
   {
    "duration": 71,
    "start_time": "2024-01-21T05:33:39.733Z"
   },
   {
    "duration": 70,
    "start_time": "2024-01-21T05:33:47.101Z"
   },
   {
    "duration": 87,
    "start_time": "2024-01-21T05:33:54.080Z"
   },
   {
    "duration": 43,
    "start_time": "2024-01-21T05:33:57.960Z"
   },
   {
    "duration": 4,
    "start_time": "2024-01-21T05:34:00.553Z"
   },
   {
    "duration": 5,
    "start_time": "2024-01-21T05:35:28.987Z"
   },
   {
    "duration": 15,
    "start_time": "2024-01-21T05:42:19.090Z"
   },
   {
    "duration": 3132,
    "start_time": "2024-01-21T05:42:44.414Z"
   },
   {
    "duration": 2572,
    "start_time": "2024-01-21T05:42:47.549Z"
   },
   {
    "duration": 6,
    "start_time": "2024-01-21T05:42:50.123Z"
   },
   {
    "duration": 17,
    "start_time": "2024-01-21T05:42:50.132Z"
   },
   {
    "duration": 467,
    "start_time": "2024-01-21T05:42:50.150Z"
   },
   {
    "duration": 10,
    "start_time": "2024-01-21T05:42:50.619Z"
   },
   {
    "duration": 19,
    "start_time": "2024-01-21T05:42:50.631Z"
   },
   {
    "duration": 10,
    "start_time": "2024-01-21T05:42:50.658Z"
   },
   {
    "duration": 27,
    "start_time": "2024-01-21T05:42:50.669Z"
   },
   {
    "duration": 10,
    "start_time": "2024-01-21T05:42:50.698Z"
   },
   {
    "duration": 30,
    "start_time": "2024-01-21T05:42:50.710Z"
   },
   {
    "duration": 20,
    "start_time": "2024-01-21T05:42:50.741Z"
   },
   {
    "duration": 26,
    "start_time": "2024-01-21T05:42:50.762Z"
   },
   {
    "duration": 81,
    "start_time": "2024-01-21T05:42:50.790Z"
   },
   {
    "duration": 3854,
    "start_time": "2024-01-21T05:42:50.873Z"
   },
   {
    "duration": 3991,
    "start_time": "2024-01-21T05:42:54.729Z"
   },
   {
    "duration": 12,
    "start_time": "2024-01-21T05:42:58.721Z"
   },
   {
    "duration": 25,
    "start_time": "2024-01-21T05:42:58.735Z"
   },
   {
    "duration": 4327,
    "start_time": "2024-01-21T05:42:58.761Z"
   },
   {
    "duration": 17,
    "start_time": "2024-01-21T05:43:03.090Z"
   },
   {
    "duration": 329,
    "start_time": "2024-01-21T05:43:03.108Z"
   },
   {
    "duration": 296,
    "start_time": "2024-01-21T05:43:03.438Z"
   },
   {
    "duration": 299,
    "start_time": "2024-01-21T05:43:03.736Z"
   },
   {
    "duration": 3,
    "start_time": "2024-01-21T05:43:04.037Z"
   },
   {
    "duration": 16,
    "start_time": "2024-01-21T05:43:04.042Z"
   },
   {
    "duration": 4,
    "start_time": "2024-01-21T05:43:04.060Z"
   },
   {
    "duration": 73,
    "start_time": "2024-01-21T05:43:04.066Z"
   },
   {
    "duration": 108,
    "start_time": "2024-01-21T05:43:04.159Z"
   },
   {
    "duration": 8,
    "start_time": "2024-01-21T05:43:04.362Z"
   },
   {
    "duration": 202,
    "start_time": "2024-01-21T05:43:04.460Z"
   },
   {
    "duration": 5,
    "start_time": "2024-01-21T05:43:04.664Z"
   },
   {
    "duration": 203,
    "start_time": "2024-01-21T05:43:04.759Z"
   },
   {
    "duration": 96,
    "start_time": "2024-01-21T05:43:04.965Z"
   },
   {
    "duration": 3088,
    "start_time": "2024-01-21T05:45:24.374Z"
   },
   {
    "duration": 2575,
    "start_time": "2024-01-21T05:45:27.464Z"
   },
   {
    "duration": 7,
    "start_time": "2024-01-21T05:45:30.041Z"
   },
   {
    "duration": 46,
    "start_time": "2024-01-21T05:45:30.050Z"
   },
   {
    "duration": 530,
    "start_time": "2024-01-21T05:45:30.099Z"
   },
   {
    "duration": 10,
    "start_time": "2024-01-21T05:45:30.631Z"
   },
   {
    "duration": 55,
    "start_time": "2024-01-21T05:45:30.643Z"
   },
   {
    "duration": 26,
    "start_time": "2024-01-21T05:45:30.700Z"
   },
   {
    "duration": 96,
    "start_time": "2024-01-21T05:45:30.729Z"
   },
   {
    "duration": 25,
    "start_time": "2024-01-21T05:45:30.827Z"
   },
   {
    "duration": 47,
    "start_time": "2024-01-21T05:45:30.854Z"
   },
   {
    "duration": 27,
    "start_time": "2024-01-21T05:45:30.902Z"
   },
   {
    "duration": 35,
    "start_time": "2024-01-21T05:45:30.931Z"
   },
   {
    "duration": 98,
    "start_time": "2024-01-21T05:45:30.969Z"
   },
   {
    "duration": 4030,
    "start_time": "2024-01-21T05:45:31.069Z"
   },
   {
    "duration": 3779,
    "start_time": "2024-01-21T05:45:35.101Z"
   },
   {
    "duration": 13,
    "start_time": "2024-01-21T05:45:38.882Z"
   },
   {
    "duration": 10,
    "start_time": "2024-01-21T05:45:38.897Z"
   },
   {
    "duration": 4303,
    "start_time": "2024-01-21T05:45:38.908Z"
   },
   {
    "duration": 18,
    "start_time": "2024-01-21T05:45:43.213Z"
   },
   {
    "duration": 327,
    "start_time": "2024-01-21T05:45:43.233Z"
   },
   {
    "duration": 283,
    "start_time": "2024-01-21T05:45:43.562Z"
   },
   {
    "duration": 293,
    "start_time": "2024-01-21T05:45:43.847Z"
   },
   {
    "duration": 4,
    "start_time": "2024-01-21T05:45:44.142Z"
   },
   {
    "duration": 26,
    "start_time": "2024-01-21T05:45:44.148Z"
   },
   {
    "duration": 5,
    "start_time": "2024-01-21T05:45:44.175Z"
   },
   {
    "duration": 71,
    "start_time": "2024-01-21T05:45:44.181Z"
   },
   {
    "duration": 206,
    "start_time": "2024-01-21T05:45:44.254Z"
   },
   {
    "duration": 99,
    "start_time": "2024-01-21T05:45:44.463Z"
   },
   {
    "duration": 195,
    "start_time": "2024-01-21T05:45:44.565Z"
   },
   {
    "duration": 96,
    "start_time": "2024-01-21T05:45:44.762Z"
   },
   {
    "duration": 42,
    "start_time": "2024-01-21T05:45:44.860Z"
   },
   {
    "duration": 59,
    "start_time": "2024-01-21T05:45:44.904Z"
   },
   {
    "duration": 4,
    "start_time": "2024-01-21T05:59:51.133Z"
   },
   {
    "duration": 3,
    "start_time": "2024-01-21T06:04:21.181Z"
   },
   {
    "duration": 4,
    "start_time": "2024-01-21T06:13:23.735Z"
   },
   {
    "duration": 5,
    "start_time": "2024-01-21T06:15:11.387Z"
   },
   {
    "duration": 5,
    "start_time": "2024-01-21T06:21:47.643Z"
   },
   {
    "duration": 4,
    "start_time": "2024-01-21T06:28:48.572Z"
   },
   {
    "duration": 4,
    "start_time": "2024-01-21T06:28:58.333Z"
   },
   {
    "duration": 186,
    "start_time": "2024-01-21T06:35:01.738Z"
   },
   {
    "duration": 16,
    "start_time": "2024-01-21T06:35:30.559Z"
   },
   {
    "duration": 68,
    "start_time": "2024-01-21T06:35:58.173Z"
   },
   {
    "duration": 7,
    "start_time": "2024-01-21T06:36:31.104Z"
   },
   {
    "duration": 7,
    "start_time": "2024-01-21T06:36:47.561Z"
   },
   {
    "duration": 8,
    "start_time": "2024-01-21T06:37:43.639Z"
   },
   {
    "duration": 24,
    "start_time": "2024-01-21T06:42:00.027Z"
   },
   {
    "duration": 14,
    "start_time": "2024-01-21T06:42:13.310Z"
   },
   {
    "duration": 15,
    "start_time": "2024-01-21T06:42:32.576Z"
   },
   {
    "duration": 3,
    "start_time": "2024-01-21T06:52:12.530Z"
   },
   {
    "duration": 3,
    "start_time": "2024-01-21T06:58:36.588Z"
   },
   {
    "duration": 13,
    "start_time": "2024-01-21T07:00:15.382Z"
   },
   {
    "duration": 4,
    "start_time": "2024-01-21T07:04:37.126Z"
   },
   {
    "duration": 5,
    "start_time": "2024-01-21T07:07:04.663Z"
   },
   {
    "duration": 18,
    "start_time": "2024-01-21T07:25:04.225Z"
   },
   {
    "duration": 14,
    "start_time": "2024-01-21T07:25:23.421Z"
   },
   {
    "duration": 4,
    "start_time": "2024-01-21T07:25:26.619Z"
   },
   {
    "duration": 14,
    "start_time": "2024-01-21T07:25:27.499Z"
   },
   {
    "duration": 4,
    "start_time": "2024-01-21T07:38:14.999Z"
   },
   {
    "duration": 18,
    "start_time": "2024-01-21T07:38:15.623Z"
   },
   {
    "duration": 4,
    "start_time": "2024-01-21T07:40:18.011Z"
   },
   {
    "duration": 16,
    "start_time": "2024-01-21T07:40:18.803Z"
   },
   {
    "duration": 4,
    "start_time": "2024-01-21T07:40:49.359Z"
   },
   {
    "duration": 28,
    "start_time": "2024-01-21T07:40:49.959Z"
   },
   {
    "duration": 5,
    "start_time": "2024-01-21T07:41:35.172Z"
   },
   {
    "duration": 23,
    "start_time": "2024-01-21T07:41:36.160Z"
   },
   {
    "duration": 4,
    "start_time": "2024-01-21T07:42:24.971Z"
   },
   {
    "duration": 23,
    "start_time": "2024-01-21T07:42:25.866Z"
   },
   {
    "duration": 4,
    "start_time": "2024-01-21T07:42:35.637Z"
   },
   {
    "duration": 21,
    "start_time": "2024-01-21T07:42:36.292Z"
   },
   {
    "duration": 6,
    "start_time": "2024-01-21T07:43:15.227Z"
   },
   {
    "duration": 6,
    "start_time": "2024-01-21T07:43:35.924Z"
   },
   {
    "duration": 6,
    "start_time": "2024-01-21T07:44:01.350Z"
   },
   {
    "duration": 5,
    "start_time": "2024-01-21T07:44:53.300Z"
   },
   {
    "duration": 11,
    "start_time": "2024-01-21T07:45:11.759Z"
   },
   {
    "duration": 4240,
    "start_time": "2024-01-21T07:45:27.367Z"
   },
   {
    "duration": 4,
    "start_time": "2024-01-21T07:45:50.374Z"
   },
   {
    "duration": 4,
    "start_time": "2024-01-21T07:45:51.298Z"
   },
   {
    "duration": 4113,
    "start_time": "2024-01-21T07:45:51.778Z"
   },
   {
    "duration": 4133,
    "start_time": "2024-01-21T07:46:36.247Z"
   },
   {
    "duration": 4192,
    "start_time": "2024-01-21T07:52:06.316Z"
   },
   {
    "duration": 4,
    "start_time": "2024-01-21T07:53:23.202Z"
   },
   {
    "duration": 4408,
    "start_time": "2024-01-21T07:53:24.988Z"
   },
   {
    "duration": 3,
    "start_time": "2024-01-21T07:54:39.533Z"
   },
   {
    "duration": 14,
    "start_time": "2024-01-21T07:54:40.452Z"
   },
   {
    "duration": 4241,
    "start_time": "2024-01-21T07:54:52.188Z"
   },
   {
    "duration": 6,
    "start_time": "2024-01-21T07:56:17.222Z"
   },
   {
    "duration": 3,
    "start_time": "2024-01-21T07:58:00.696Z"
   },
   {
    "duration": 4,
    "start_time": "2024-01-21T07:58:01.830Z"
   },
   {
    "duration": 5684,
    "start_time": "2024-01-21T07:58:04.400Z"
   },
   {
    "duration": 4,
    "start_time": "2024-01-21T08:02:30.978Z"
   },
   {
    "duration": 4,
    "start_time": "2024-01-21T08:02:39.311Z"
   },
   {
    "duration": 22,
    "start_time": "2024-01-21T08:02:40.884Z"
   },
   {
    "duration": 6,
    "start_time": "2024-01-21T08:03:12.164Z"
   },
   {
    "duration": 7,
    "start_time": "2024-01-21T08:03:27.784Z"
   },
   {
    "duration": 4,
    "start_time": "2024-01-21T08:03:55.026Z"
   },
   {
    "duration": 5723,
    "start_time": "2024-01-21T08:03:58.021Z"
   },
   {
    "duration": 3,
    "start_time": "2024-01-21T08:04:04.263Z"
   },
   {
    "duration": 4,
    "start_time": "2024-01-21T08:04:05.509Z"
   },
   {
    "duration": 4208,
    "start_time": "2024-01-21T08:04:10.134Z"
   },
   {
    "duration": 4249,
    "start_time": "2024-01-21T08:10:03.051Z"
   },
   {
    "duration": 111,
    "start_time": "2024-01-21T08:10:53.132Z"
   },
   {
    "duration": 90,
    "start_time": "2024-01-21T08:11:10.317Z"
   },
   {
    "duration": 4311,
    "start_time": "2024-01-21T08:11:19.764Z"
   },
   {
    "duration": 3105,
    "start_time": "2024-01-21T08:12:24.630Z"
   },
   {
    "duration": 2643,
    "start_time": "2024-01-21T08:12:27.738Z"
   },
   {
    "duration": 1527,
    "start_time": "2024-01-21T08:12:30.383Z"
   },
   {
    "duration": 19,
    "start_time": "2024-01-21T08:12:31.913Z"
   },
   {
    "duration": 515,
    "start_time": "2024-01-21T08:12:31.934Z"
   },
   {
    "duration": 18,
    "start_time": "2024-01-21T08:12:32.451Z"
   },
   {
    "duration": 35,
    "start_time": "2024-01-21T08:12:32.471Z"
   },
   {
    "duration": 18,
    "start_time": "2024-01-21T08:12:32.508Z"
   },
   {
    "duration": 44,
    "start_time": "2024-01-21T08:12:32.528Z"
   },
   {
    "duration": 10,
    "start_time": "2024-01-21T08:12:32.576Z"
   },
   {
    "duration": 32,
    "start_time": "2024-01-21T08:12:32.588Z"
   },
   {
    "duration": 11,
    "start_time": "2024-01-21T08:12:32.622Z"
   },
   {
    "duration": 24,
    "start_time": "2024-01-21T08:12:32.635Z"
   },
   {
    "duration": 111,
    "start_time": "2024-01-21T08:12:32.661Z"
   },
   {
    "duration": 4039,
    "start_time": "2024-01-21T08:12:32.774Z"
   },
   {
    "duration": 3837,
    "start_time": "2024-01-21T08:12:36.815Z"
   },
   {
    "duration": 17,
    "start_time": "2024-01-21T08:12:40.653Z"
   },
   {
    "duration": 5,
    "start_time": "2024-01-21T08:12:40.672Z"
   },
   {
    "duration": 4345,
    "start_time": "2024-01-21T08:12:40.679Z"
   },
   {
    "duration": 20,
    "start_time": "2024-01-21T08:12:45.026Z"
   },
   {
    "duration": 354,
    "start_time": "2024-01-21T08:12:45.059Z"
   },
   {
    "duration": 294,
    "start_time": "2024-01-21T08:12:45.415Z"
   },
   {
    "duration": 296,
    "start_time": "2024-01-21T08:12:45.711Z"
   },
   {
    "duration": 5,
    "start_time": "2024-01-21T08:12:46.009Z"
   },
   {
    "duration": 3,
    "start_time": "2024-01-21T08:12:46.016Z"
   },
   {
    "duration": 5,
    "start_time": "2024-01-21T08:12:46.021Z"
   },
   {
    "duration": 88,
    "start_time": "2024-01-21T08:12:46.027Z"
   },
   {
    "duration": 80,
    "start_time": "2024-01-21T08:12:46.119Z"
   },
   {
    "duration": 63,
    "start_time": "2024-01-21T08:12:46.201Z"
   },
   {
    "duration": 102,
    "start_time": "2024-01-21T08:12:46.358Z"
   },
   {
    "duration": 96,
    "start_time": "2024-01-21T08:12:46.464Z"
   },
   {
    "duration": 101,
    "start_time": "2024-01-21T08:12:46.561Z"
   },
   {
    "duration": 95,
    "start_time": "2024-01-21T08:12:46.665Z"
   },
   {
    "duration": 4,
    "start_time": "2024-01-21T08:12:46.761Z"
   },
   {
    "duration": 13,
    "start_time": "2024-01-21T08:12:46.766Z"
   },
   {
    "duration": 3,
    "start_time": "2024-01-21T08:12:46.780Z"
   },
   {
    "duration": 7,
    "start_time": "2024-01-21T08:12:46.785Z"
   },
   {
    "duration": 4266,
    "start_time": "2024-01-21T08:12:46.794Z"
   },
   {
    "duration": 4,
    "start_time": "2024-01-21T08:14:37.771Z"
   },
   {
    "duration": 4219,
    "start_time": "2024-01-21T08:14:47.720Z"
   },
   {
    "duration": 131,
    "start_time": "2024-01-21T08:25:21.089Z"
   },
   {
    "duration": 23,
    "start_time": "2024-01-21T08:25:26.752Z"
   },
   {
    "duration": 23,
    "start_time": "2024-01-21T08:25:44.238Z"
   },
   {
    "duration": 24,
    "start_time": "2024-01-21T08:28:37.170Z"
   },
   {
    "duration": 7,
    "start_time": "2024-01-21T08:29:42.543Z"
   },
   {
    "duration": 14,
    "start_time": "2024-01-21T08:29:48.401Z"
   },
   {
    "duration": 10,
    "start_time": "2024-01-21T08:30:11.708Z"
   },
   {
    "duration": 10,
    "start_time": "2024-01-21T08:30:19.875Z"
   },
   {
    "duration": 10,
    "start_time": "2024-01-21T08:30:47.874Z"
   },
   {
    "duration": 11,
    "start_time": "2024-01-21T08:30:57.879Z"
   },
   {
    "duration": 17,
    "start_time": "2024-01-21T08:31:08.777Z"
   },
   {
    "duration": 21,
    "start_time": "2024-01-21T08:31:13.468Z"
   },
   {
    "duration": 9,
    "start_time": "2024-01-21T08:32:03.971Z"
   },
   {
    "duration": 80,
    "start_time": "2024-01-21T08:34:29.056Z"
   },
   {
    "duration": 4490,
    "start_time": "2024-01-21T08:34:37.558Z"
   },
   {
    "duration": 5,
    "start_time": "2024-01-21T08:35:36.057Z"
   },
   {
    "duration": 18,
    "start_time": "2024-01-21T08:35:36.611Z"
   },
   {
    "duration": 11,
    "start_time": "2024-01-21T08:38:26.372Z"
   },
   {
    "duration": 17,
    "start_time": "2024-01-21T08:38:43.485Z"
   },
   {
    "duration": 16,
    "start_time": "2024-01-21T08:39:32.353Z"
   },
   {
    "duration": 4,
    "start_time": "2024-01-21T08:40:13.770Z"
   },
   {
    "duration": 24,
    "start_time": "2024-01-21T08:40:14.783Z"
   },
   {
    "duration": 4,
    "start_time": "2024-01-21T08:40:30.991Z"
   },
   {
    "duration": 4282,
    "start_time": "2024-01-21T08:40:31.899Z"
   },
   {
    "duration": 4219,
    "start_time": "2024-01-21T08:59:29.252Z"
   },
   {
    "duration": 4209,
    "start_time": "2024-01-21T09:04:39.878Z"
   },
   {
    "duration": 4230,
    "start_time": "2024-01-21T09:10:37.739Z"
   },
   {
    "duration": 4177,
    "start_time": "2024-01-21T09:11:12.382Z"
   },
   {
    "duration": 4165,
    "start_time": "2024-01-21T09:16:39.587Z"
   },
   {
    "duration": 4266,
    "start_time": "2024-01-21T09:16:52.879Z"
   },
   {
    "duration": 4156,
    "start_time": "2024-01-21T09:50:09.231Z"
   },
   {
    "duration": 4229,
    "start_time": "2024-01-21T09:50:27.409Z"
   },
   {
    "duration": 79,
    "start_time": "2024-01-21T10:03:27.035Z"
   },
   {
    "duration": 26,
    "start_time": "2024-01-21T10:08:00.158Z"
   },
   {
    "duration": 3017,
    "start_time": "2024-01-21T10:08:07.163Z"
   },
   {
    "duration": 2590,
    "start_time": "2024-01-21T10:08:10.183Z"
   },
   {
    "duration": 1358,
    "start_time": "2024-01-21T10:08:12.775Z"
   },
   {
    "duration": 10,
    "start_time": "2024-01-21T10:08:14.135Z"
   },
   {
    "duration": 503,
    "start_time": "2024-01-21T10:08:14.148Z"
   },
   {
    "duration": 15,
    "start_time": "2024-01-21T10:08:14.653Z"
   },
   {
    "duration": 18,
    "start_time": "2024-01-21T10:08:14.670Z"
   },
   {
    "duration": 8,
    "start_time": "2024-01-21T10:08:14.690Z"
   },
   {
    "duration": 19,
    "start_time": "2024-01-21T10:08:14.700Z"
   },
   {
    "duration": 38,
    "start_time": "2024-01-21T10:08:14.721Z"
   },
   {
    "duration": 17,
    "start_time": "2024-01-21T10:08:14.761Z"
   },
   {
    "duration": 11,
    "start_time": "2024-01-21T10:08:14.780Z"
   },
   {
    "duration": 11,
    "start_time": "2024-01-21T10:08:14.793Z"
   },
   {
    "duration": 131,
    "start_time": "2024-01-21T10:08:14.809Z"
   },
   {
    "duration": 151,
    "start_time": "2024-01-21T10:08:14.942Z"
   },
   {
    "duration": 0,
    "start_time": "2024-01-21T10:08:15.095Z"
   },
   {
    "duration": 0,
    "start_time": "2024-01-21T10:08:15.096Z"
   },
   {
    "duration": 0,
    "start_time": "2024-01-21T10:08:15.097Z"
   },
   {
    "duration": 0,
    "start_time": "2024-01-21T10:08:15.098Z"
   },
   {
    "duration": 0,
    "start_time": "2024-01-21T10:08:15.099Z"
   },
   {
    "duration": 0,
    "start_time": "2024-01-21T10:08:15.100Z"
   },
   {
    "duration": 0,
    "start_time": "2024-01-21T10:08:15.102Z"
   },
   {
    "duration": 0,
    "start_time": "2024-01-21T10:08:15.103Z"
   },
   {
    "duration": 0,
    "start_time": "2024-01-21T10:08:15.104Z"
   },
   {
    "duration": 0,
    "start_time": "2024-01-21T10:08:15.105Z"
   },
   {
    "duration": 0,
    "start_time": "2024-01-21T10:08:15.106Z"
   },
   {
    "duration": 0,
    "start_time": "2024-01-21T10:08:15.107Z"
   },
   {
    "duration": 0,
    "start_time": "2024-01-21T10:08:15.109Z"
   },
   {
    "duration": 0,
    "start_time": "2024-01-21T10:08:15.110Z"
   },
   {
    "duration": 0,
    "start_time": "2024-01-21T10:08:15.111Z"
   },
   {
    "duration": 0,
    "start_time": "2024-01-21T10:08:15.112Z"
   },
   {
    "duration": 0,
    "start_time": "2024-01-21T10:08:15.113Z"
   },
   {
    "duration": 0,
    "start_time": "2024-01-21T10:08:15.114Z"
   },
   {
    "duration": 0,
    "start_time": "2024-01-21T10:08:15.116Z"
   },
   {
    "duration": 1,
    "start_time": "2024-01-21T10:08:15.158Z"
   },
   {
    "duration": 0,
    "start_time": "2024-01-21T10:08:15.160Z"
   },
   {
    "duration": 0,
    "start_time": "2024-01-21T10:08:15.161Z"
   },
   {
    "duration": 0,
    "start_time": "2024-01-21T10:08:15.163Z"
   },
   {
    "duration": 0,
    "start_time": "2024-01-21T10:08:15.164Z"
   },
   {
    "duration": 12,
    "start_time": "2024-01-21T10:13:52.249Z"
   },
   {
    "duration": 4080,
    "start_time": "2024-01-21T10:13:58.548Z"
   },
   {
    "duration": 3161,
    "start_time": "2024-01-21T10:14:09.892Z"
   },
   {
    "duration": 2581,
    "start_time": "2024-01-21T10:14:13.055Z"
   },
   {
    "duration": 6,
    "start_time": "2024-01-21T10:14:15.639Z"
   },
   {
    "duration": 41,
    "start_time": "2024-01-21T10:14:15.647Z"
   },
   {
    "duration": 492,
    "start_time": "2024-01-21T10:14:15.690Z"
   },
   {
    "duration": 11,
    "start_time": "2024-01-21T10:14:16.184Z"
   },
   {
    "duration": 18,
    "start_time": "2024-01-21T10:14:16.197Z"
   },
   {
    "duration": 10,
    "start_time": "2024-01-21T10:14:16.216Z"
   },
   {
    "duration": 42,
    "start_time": "2024-01-21T10:14:16.227Z"
   },
   {
    "duration": 9,
    "start_time": "2024-01-21T10:14:16.272Z"
   },
   {
    "duration": 21,
    "start_time": "2024-01-21T10:14:16.283Z"
   },
   {
    "duration": 13,
    "start_time": "2024-01-21T10:14:16.305Z"
   },
   {
    "duration": 15,
    "start_time": "2024-01-21T10:14:16.319Z"
   },
   {
    "duration": 101,
    "start_time": "2024-01-21T10:14:16.336Z"
   },
   {
    "duration": 3986,
    "start_time": "2024-01-21T10:14:16.439Z"
   },
   {
    "duration": 3976,
    "start_time": "2024-01-21T10:14:20.427Z"
   },
   {
    "duration": 15,
    "start_time": "2024-01-21T10:14:24.404Z"
   },
   {
    "duration": 8,
    "start_time": "2024-01-21T10:14:24.420Z"
   },
   {
    "duration": 4266,
    "start_time": "2024-01-21T10:14:24.430Z"
   },
   {
    "duration": 28,
    "start_time": "2024-01-21T10:14:28.698Z"
   },
   {
    "duration": 368,
    "start_time": "2024-01-21T10:14:28.728Z"
   },
   {
    "duration": 305,
    "start_time": "2024-01-21T10:14:29.099Z"
   },
   {
    "duration": 335,
    "start_time": "2024-01-21T10:14:29.406Z"
   },
   {
    "duration": 5,
    "start_time": "2024-01-21T10:14:29.743Z"
   },
   {
    "duration": 11,
    "start_time": "2024-01-21T10:14:29.750Z"
   },
   {
    "duration": 11,
    "start_time": "2024-01-21T10:14:29.763Z"
   },
   {
    "duration": 82,
    "start_time": "2024-01-21T10:14:29.776Z"
   },
   {
    "duration": 198,
    "start_time": "2024-01-21T10:14:29.862Z"
   },
   {
    "duration": 9,
    "start_time": "2024-01-21T10:14:30.062Z"
   },
   {
    "duration": 288,
    "start_time": "2024-01-21T10:14:30.073Z"
   },
   {
    "duration": 4,
    "start_time": "2024-01-21T10:14:30.364Z"
   },
   {
    "duration": 160,
    "start_time": "2024-01-21T10:14:30.460Z"
   },
   {
    "duration": 139,
    "start_time": "2024-01-21T10:14:30.622Z"
   },
   {
    "duration": 45,
    "start_time": "2024-01-21T10:14:30.763Z"
   },
   {
    "duration": 55,
    "start_time": "2024-01-21T10:14:30.809Z"
   },
   {
    "duration": 37,
    "start_time": "2024-01-21T10:14:30.866Z"
   },
   {
    "duration": 47,
    "start_time": "2024-01-21T10:14:30.904Z"
   },
   {
    "duration": 33,
    "start_time": "2024-01-21T10:14:30.953Z"
   },
   {
    "duration": 4338,
    "start_time": "2024-01-21T10:14:30.988Z"
   },
   {
    "duration": 27,
    "start_time": "2024-01-21T10:18:21.402Z"
   },
   {
    "duration": 13,
    "start_time": "2024-01-21T10:21:01.787Z"
   },
   {
    "duration": 6,
    "start_time": "2024-01-21T10:21:12.514Z"
   },
   {
    "duration": 4198,
    "start_time": "2024-01-21T10:26:25.561Z"
   },
   {
    "duration": 3187,
    "start_time": "2024-01-21T10:28:54.289Z"
   },
   {
    "duration": 2576,
    "start_time": "2024-01-21T10:28:57.478Z"
   },
   {
    "duration": 1370,
    "start_time": "2024-01-21T10:29:00.057Z"
   },
   {
    "duration": 14,
    "start_time": "2024-01-21T10:29:01.428Z"
   },
   {
    "duration": 550,
    "start_time": "2024-01-21T10:29:01.444Z"
   },
   {
    "duration": 14,
    "start_time": "2024-01-21T10:29:01.996Z"
   },
   {
    "duration": 42,
    "start_time": "2024-01-21T10:29:02.012Z"
   },
   {
    "duration": 24,
    "start_time": "2024-01-21T10:29:02.056Z"
   },
   {
    "duration": 30,
    "start_time": "2024-01-21T10:29:02.082Z"
   },
   {
    "duration": 10,
    "start_time": "2024-01-21T10:29:02.114Z"
   },
   {
    "duration": 35,
    "start_time": "2024-01-21T10:29:02.125Z"
   },
   {
    "duration": 11,
    "start_time": "2024-01-21T10:29:02.162Z"
   },
   {
    "duration": 53,
    "start_time": "2024-01-21T10:29:02.174Z"
   },
   {
    "duration": 108,
    "start_time": "2024-01-21T10:29:02.232Z"
   },
   {
    "duration": 3958,
    "start_time": "2024-01-21T10:29:02.341Z"
   },
   {
    "duration": 3851,
    "start_time": "2024-01-21T10:29:06.301Z"
   },
   {
    "duration": 14,
    "start_time": "2024-01-21T10:29:10.158Z"
   },
   {
    "duration": 12,
    "start_time": "2024-01-21T10:29:10.174Z"
   },
   {
    "duration": 24,
    "start_time": "2024-01-21T10:29:10.188Z"
   },
   {
    "duration": 4400,
    "start_time": "2024-01-21T10:29:10.214Z"
   },
   {
    "duration": 29,
    "start_time": "2024-01-21T10:29:14.616Z"
   },
   {
    "duration": 353,
    "start_time": "2024-01-21T10:29:14.647Z"
   },
   {
    "duration": 307,
    "start_time": "2024-01-21T10:29:15.002Z"
   },
   {
    "duration": 307,
    "start_time": "2024-01-21T10:29:15.311Z"
   },
   {
    "duration": 5,
    "start_time": "2024-01-21T10:29:15.619Z"
   },
   {
    "duration": 6,
    "start_time": "2024-01-21T10:29:15.625Z"
   },
   {
    "duration": 6,
    "start_time": "2024-01-21T10:29:15.632Z"
   },
   {
    "duration": 90,
    "start_time": "2024-01-21T10:29:15.639Z"
   },
   {
    "duration": 82,
    "start_time": "2024-01-21T10:29:15.731Z"
   },
   {
    "duration": 8,
    "start_time": "2024-01-21T10:29:15.859Z"
   },
   {
    "duration": 198,
    "start_time": "2024-01-21T10:29:15.869Z"
   },
   {
    "duration": 4,
    "start_time": "2024-01-21T10:29:16.159Z"
   },
   {
    "duration": 98,
    "start_time": "2024-01-21T10:29:16.164Z"
   },
   {
    "duration": 96,
    "start_time": "2024-01-21T10:29:16.265Z"
   },
   {
    "duration": 11,
    "start_time": "2024-01-21T10:29:16.363Z"
   },
   {
    "duration": 28,
    "start_time": "2024-01-21T10:29:16.376Z"
   },
   {
    "duration": 4,
    "start_time": "2024-01-21T10:29:16.406Z"
   },
   {
    "duration": 13,
    "start_time": "2024-01-21T10:29:16.412Z"
   },
   {
    "duration": 4254,
    "start_time": "2024-01-21T10:29:16.426Z"
   },
   {
    "duration": 88,
    "start_time": "2024-01-21T10:31:44.857Z"
   },
   {
    "duration": 465,
    "start_time": "2024-01-21T10:31:52.658Z"
   },
   {
    "duration": 30,
    "start_time": "2024-01-21T10:37:52.583Z"
   },
   {
    "duration": 3154,
    "start_time": "2024-01-21T10:37:59.627Z"
   },
   {
    "duration": 2591,
    "start_time": "2024-01-21T10:38:02.784Z"
   },
   {
    "duration": 1327,
    "start_time": "2024-01-21T10:38:05.377Z"
   },
   {
    "duration": 13,
    "start_time": "2024-01-21T10:38:06.706Z"
   },
   {
    "duration": 513,
    "start_time": "2024-01-21T10:38:06.721Z"
   },
   {
    "duration": 26,
    "start_time": "2024-01-21T10:38:07.236Z"
   },
   {
    "duration": 18,
    "start_time": "2024-01-21T10:38:07.264Z"
   },
   {
    "duration": 42,
    "start_time": "2024-01-21T10:38:07.284Z"
   },
   {
    "duration": 51,
    "start_time": "2024-01-21T10:38:07.328Z"
   },
   {
    "duration": 9,
    "start_time": "2024-01-21T10:38:07.382Z"
   },
   {
    "duration": 19,
    "start_time": "2024-01-21T10:38:07.392Z"
   },
   {
    "duration": 11,
    "start_time": "2024-01-21T10:38:07.413Z"
   },
   {
    "duration": 15,
    "start_time": "2024-01-21T10:38:07.426Z"
   },
   {
    "duration": 117,
    "start_time": "2024-01-21T10:38:07.442Z"
   },
   {
    "duration": 3936,
    "start_time": "2024-01-21T10:38:07.560Z"
   },
   {
    "duration": 4101,
    "start_time": "2024-01-21T10:38:11.497Z"
   },
   {
    "duration": 14,
    "start_time": "2024-01-21T10:38:15.599Z"
   },
   {
    "duration": 18,
    "start_time": "2024-01-21T10:38:15.615Z"
   },
   {
    "duration": 11,
    "start_time": "2024-01-21T10:38:15.635Z"
   },
   {
    "duration": 4376,
    "start_time": "2024-01-21T10:38:15.647Z"
   },
   {
    "duration": 34,
    "start_time": "2024-01-21T10:38:20.025Z"
   },
   {
    "duration": 362,
    "start_time": "2024-01-21T10:38:20.061Z"
   },
   {
    "duration": 289,
    "start_time": "2024-01-21T10:38:20.424Z"
   },
   {
    "duration": 321,
    "start_time": "2024-01-21T10:38:20.715Z"
   },
   {
    "duration": 4,
    "start_time": "2024-01-21T10:38:21.037Z"
   },
   {
    "duration": 10,
    "start_time": "2024-01-21T10:38:21.043Z"
   },
   {
    "duration": 6,
    "start_time": "2024-01-21T10:38:21.054Z"
   },
   {
    "duration": 70,
    "start_time": "2024-01-21T10:38:21.064Z"
   },
   {
    "duration": 222,
    "start_time": "2024-01-21T10:38:21.136Z"
   },
   {
    "duration": 5,
    "start_time": "2024-01-21T10:38:21.360Z"
   },
   {
    "duration": 95,
    "start_time": "2024-01-21T10:38:21.367Z"
   },
   {
    "duration": 94,
    "start_time": "2024-01-21T10:38:21.465Z"
   },
   {
    "duration": 49,
    "start_time": "2024-01-21T10:38:21.561Z"
   },
   {
    "duration": 51,
    "start_time": "2024-01-21T10:38:21.612Z"
   },
   {
    "duration": 94,
    "start_time": "2024-01-21T10:38:21.665Z"
   },
   {
    "duration": 13,
    "start_time": "2024-01-21T10:38:21.760Z"
   },
   {
    "duration": 4,
    "start_time": "2024-01-21T10:38:21.774Z"
   },
   {
    "duration": 21,
    "start_time": "2024-01-21T10:38:21.779Z"
   },
   {
    "duration": 4161,
    "start_time": "2024-01-21T10:38:21.801Z"
   },
   {
    "duration": 3156,
    "start_time": "2024-01-21T10:54:38.259Z"
   },
   {
    "duration": 2611,
    "start_time": "2024-01-21T10:54:41.418Z"
   },
   {
    "duration": 1384,
    "start_time": "2024-01-21T10:54:44.032Z"
   },
   {
    "duration": 13,
    "start_time": "2024-01-21T10:54:45.418Z"
   },
   {
    "duration": 498,
    "start_time": "2024-01-21T10:54:45.433Z"
   },
   {
    "duration": 14,
    "start_time": "2024-01-21T10:54:45.932Z"
   },
   {
    "duration": 26,
    "start_time": "2024-01-21T10:54:45.947Z"
   },
   {
    "duration": 10,
    "start_time": "2024-01-21T10:54:45.975Z"
   },
   {
    "duration": 17,
    "start_time": "2024-01-21T10:54:45.986Z"
   },
   {
    "duration": 9,
    "start_time": "2024-01-21T10:54:46.006Z"
   },
   {
    "duration": 48,
    "start_time": "2024-01-21T10:54:46.017Z"
   },
   {
    "duration": 11,
    "start_time": "2024-01-21T10:54:46.067Z"
   },
   {
    "duration": 17,
    "start_time": "2024-01-21T10:54:46.080Z"
   },
   {
    "duration": 112,
    "start_time": "2024-01-21T10:54:46.099Z"
   },
   {
    "duration": 4097,
    "start_time": "2024-01-21T10:54:46.213Z"
   },
   {
    "duration": 3875,
    "start_time": "2024-01-21T10:54:50.312Z"
   },
   {
    "duration": 13,
    "start_time": "2024-01-21T10:54:54.188Z"
   },
   {
    "duration": 15,
    "start_time": "2024-01-21T10:54:54.203Z"
   },
   {
    "duration": 6,
    "start_time": "2024-01-21T10:54:54.220Z"
   },
   {
    "duration": 4390,
    "start_time": "2024-01-21T10:54:54.227Z"
   },
   {
    "duration": 26,
    "start_time": "2024-01-21T10:54:58.619Z"
   },
   {
    "duration": 345,
    "start_time": "2024-01-21T10:54:58.647Z"
   },
   {
    "duration": 292,
    "start_time": "2024-01-21T10:54:58.994Z"
   },
   {
    "duration": 317,
    "start_time": "2024-01-21T10:54:59.287Z"
   },
   {
    "duration": 4,
    "start_time": "2024-01-21T10:54:59.606Z"
   },
   {
    "duration": 19,
    "start_time": "2024-01-21T10:54:59.611Z"
   },
   {
    "duration": 5,
    "start_time": "2024-01-21T10:54:59.632Z"
   },
   {
    "duration": 134,
    "start_time": "2024-01-21T10:54:59.640Z"
   },
   {
    "duration": 0,
    "start_time": "2024-01-21T10:54:59.775Z"
   },
   {
    "duration": 0,
    "start_time": "2024-01-21T10:54:59.776Z"
   },
   {
    "duration": 0,
    "start_time": "2024-01-21T10:54:59.777Z"
   },
   {
    "duration": 0,
    "start_time": "2024-01-21T10:54:59.779Z"
   },
   {
    "duration": 0,
    "start_time": "2024-01-21T10:54:59.780Z"
   },
   {
    "duration": 0,
    "start_time": "2024-01-21T10:54:59.781Z"
   },
   {
    "duration": 0,
    "start_time": "2024-01-21T10:54:59.782Z"
   },
   {
    "duration": 0,
    "start_time": "2024-01-21T10:54:59.783Z"
   },
   {
    "duration": 0,
    "start_time": "2024-01-21T10:54:59.784Z"
   },
   {
    "duration": 0,
    "start_time": "2024-01-21T10:54:59.786Z"
   },
   {
    "duration": 0,
    "start_time": "2024-01-21T10:54:59.787Z"
   },
   {
    "duration": 5,
    "start_time": "2024-01-21T10:56:01.095Z"
   },
   {
    "duration": 3117,
    "start_time": "2024-01-21T10:56:06.758Z"
   },
   {
    "duration": 2749,
    "start_time": "2024-01-21T10:56:09.878Z"
   },
   {
    "duration": 1397,
    "start_time": "2024-01-21T10:56:12.629Z"
   },
   {
    "duration": 13,
    "start_time": "2024-01-21T10:56:14.028Z"
   },
   {
    "duration": 494,
    "start_time": "2024-01-21T10:56:14.043Z"
   },
   {
    "duration": 22,
    "start_time": "2024-01-21T10:56:14.539Z"
   },
   {
    "duration": 19,
    "start_time": "2024-01-21T10:56:14.563Z"
   },
   {
    "duration": 10,
    "start_time": "2024-01-21T10:56:14.584Z"
   },
   {
    "duration": 33,
    "start_time": "2024-01-21T10:56:14.596Z"
   },
   {
    "duration": 10,
    "start_time": "2024-01-21T10:56:14.633Z"
   },
   {
    "duration": 17,
    "start_time": "2024-01-21T10:56:14.660Z"
   },
   {
    "duration": 12,
    "start_time": "2024-01-21T10:56:14.679Z"
   },
   {
    "duration": 15,
    "start_time": "2024-01-21T10:56:14.693Z"
   },
   {
    "duration": 128,
    "start_time": "2024-01-21T10:56:14.710Z"
   },
   {
    "duration": 3973,
    "start_time": "2024-01-21T10:56:14.840Z"
   },
   {
    "duration": 3996,
    "start_time": "2024-01-21T10:56:18.815Z"
   },
   {
    "duration": 12,
    "start_time": "2024-01-21T10:56:22.814Z"
   },
   {
    "duration": 7,
    "start_time": "2024-01-21T10:56:22.828Z"
   },
   {
    "duration": 16,
    "start_time": "2024-01-21T10:56:22.837Z"
   },
   {
    "duration": 4468,
    "start_time": "2024-01-21T10:56:22.858Z"
   },
   {
    "duration": 36,
    "start_time": "2024-01-21T10:56:27.329Z"
   },
   {
    "duration": 363,
    "start_time": "2024-01-21T10:56:27.366Z"
   },
   {
    "duration": 303,
    "start_time": "2024-01-21T10:56:27.732Z"
   },
   {
    "duration": 330,
    "start_time": "2024-01-21T10:56:28.037Z"
   },
   {
    "duration": 5,
    "start_time": "2024-01-21T10:56:28.369Z"
   },
   {
    "duration": 4,
    "start_time": "2024-01-21T10:56:28.376Z"
   },
   {
    "duration": 4,
    "start_time": "2024-01-21T10:56:28.381Z"
   },
   {
    "duration": 90,
    "start_time": "2024-01-21T10:56:28.388Z"
   },
   {
    "duration": 91,
    "start_time": "2024-01-21T10:56:28.479Z"
   },
   {
    "duration": 9,
    "start_time": "2024-01-21T10:56:28.660Z"
   },
   {
    "duration": 101,
    "start_time": "2024-01-21T10:56:28.759Z"
   },
   {
    "duration": 5,
    "start_time": "2024-01-21T10:56:28.862Z"
   },
   {
    "duration": 136,
    "start_time": "2024-01-21T10:56:28.869Z"
   },
   {
    "duration": 53,
    "start_time": "2024-01-21T10:56:29.008Z"
   },
   {
    "duration": 5,
    "start_time": "2024-01-21T10:56:29.064Z"
   },
   {
    "duration": 99,
    "start_time": "2024-01-21T10:56:29.072Z"
   },
   {
    "duration": 4,
    "start_time": "2024-01-21T10:56:29.172Z"
   },
   {
    "duration": 26,
    "start_time": "2024-01-21T10:56:29.177Z"
   },
   {
    "duration": 4270,
    "start_time": "2024-01-21T10:56:29.205Z"
   },
   {
    "duration": 7,
    "start_time": "2024-01-21T10:58:10.660Z"
   },
   {
    "duration": 3091,
    "start_time": "2024-01-21T10:58:16.552Z"
   },
   {
    "duration": 2588,
    "start_time": "2024-01-21T10:58:19.645Z"
   },
   {
    "duration": 1370,
    "start_time": "2024-01-21T10:58:22.234Z"
   },
   {
    "duration": 14,
    "start_time": "2024-01-21T10:58:23.606Z"
   },
   {
    "duration": 488,
    "start_time": "2024-01-21T10:58:23.621Z"
   },
   {
    "duration": 13,
    "start_time": "2024-01-21T10:58:24.111Z"
   },
   {
    "duration": 16,
    "start_time": "2024-01-21T10:58:24.126Z"
   },
   {
    "duration": 10,
    "start_time": "2024-01-21T10:58:24.158Z"
   },
   {
    "duration": 16,
    "start_time": "2024-01-21T10:58:24.169Z"
   },
   {
    "duration": 9,
    "start_time": "2024-01-21T10:58:24.188Z"
   },
   {
    "duration": 15,
    "start_time": "2024-01-21T10:58:24.199Z"
   },
   {
    "duration": 43,
    "start_time": "2024-01-21T10:58:24.216Z"
   },
   {
    "duration": 12,
    "start_time": "2024-01-21T10:58:24.261Z"
   },
   {
    "duration": 107,
    "start_time": "2024-01-21T10:58:24.275Z"
   },
   {
    "duration": 4137,
    "start_time": "2024-01-21T10:58:24.384Z"
   },
   {
    "duration": 3931,
    "start_time": "2024-01-21T10:58:28.523Z"
   },
   {
    "duration": 13,
    "start_time": "2024-01-21T10:58:32.456Z"
   },
   {
    "duration": 29,
    "start_time": "2024-01-21T10:58:32.471Z"
   },
   {
    "duration": 21,
    "start_time": "2024-01-21T10:58:32.502Z"
   },
   {
    "duration": 4294,
    "start_time": "2024-01-21T10:58:32.525Z"
   },
   {
    "duration": 27,
    "start_time": "2024-01-21T10:58:36.821Z"
   },
   {
    "duration": 364,
    "start_time": "2024-01-21T10:58:36.858Z"
   },
   {
    "duration": 301,
    "start_time": "2024-01-21T10:58:37.223Z"
   },
   {
    "duration": 311,
    "start_time": "2024-01-21T10:58:37.525Z"
   },
   {
    "duration": 5,
    "start_time": "2024-01-21T10:58:37.837Z"
   },
   {
    "duration": 5,
    "start_time": "2024-01-21T10:58:37.843Z"
   },
   {
    "duration": 9,
    "start_time": "2024-01-21T10:58:37.850Z"
   },
   {
    "duration": 68,
    "start_time": "2024-01-21T10:58:37.863Z"
   },
   {
    "duration": 129,
    "start_time": "2024-01-21T10:58:37.933Z"
   },
   {
    "duration": 94,
    "start_time": "2024-01-21T10:58:38.065Z"
   },
   {
    "duration": 206,
    "start_time": "2024-01-21T10:58:38.161Z"
   },
   {
    "duration": 4,
    "start_time": "2024-01-21T10:58:38.459Z"
   },
   {
    "duration": 109,
    "start_time": "2024-01-21T10:58:38.465Z"
   },
   {
    "duration": 86,
    "start_time": "2024-01-21T10:58:38.576Z"
   },
   {
    "duration": 93,
    "start_time": "2024-01-21T10:58:38.665Z"
   },
   {
    "duration": 17,
    "start_time": "2024-01-21T10:58:38.760Z"
   },
   {
    "duration": 4,
    "start_time": "2024-01-21T10:58:38.779Z"
   },
   {
    "duration": 5,
    "start_time": "2024-01-21T10:58:38.785Z"
   },
   {
    "duration": 4192,
    "start_time": "2024-01-21T10:58:38.792Z"
   },
   {
    "duration": 3156,
    "start_time": "2024-01-21T11:01:53.577Z"
   },
   {
    "duration": 2874,
    "start_time": "2024-01-21T11:01:56.736Z"
   },
   {
    "duration": 1355,
    "start_time": "2024-01-21T11:01:59.612Z"
   },
   {
    "duration": 14,
    "start_time": "2024-01-21T11:02:00.970Z"
   },
   {
    "duration": 587,
    "start_time": "2024-01-21T11:02:00.985Z"
   },
   {
    "duration": 14,
    "start_time": "2024-01-21T11:02:01.574Z"
   },
   {
    "duration": 77,
    "start_time": "2024-01-21T11:02:01.590Z"
   },
   {
    "duration": 70,
    "start_time": "2024-01-21T11:02:01.669Z"
   },
   {
    "duration": 36,
    "start_time": "2024-01-21T11:02:01.741Z"
   },
   {
    "duration": 46,
    "start_time": "2024-01-21T11:02:01.780Z"
   },
   {
    "duration": 27,
    "start_time": "2024-01-21T11:02:01.828Z"
   },
   {
    "duration": 11,
    "start_time": "2024-01-21T11:02:01.857Z"
   },
   {
    "duration": 41,
    "start_time": "2024-01-21T11:02:01.870Z"
   },
   {
    "duration": 113,
    "start_time": "2024-01-21T11:02:01.913Z"
   },
   {
    "duration": 4007,
    "start_time": "2024-01-21T11:02:02.028Z"
   },
   {
    "duration": 3955,
    "start_time": "2024-01-21T11:02:06.037Z"
   },
   {
    "duration": 13,
    "start_time": "2024-01-21T11:02:09.994Z"
   },
   {
    "duration": 4,
    "start_time": "2024-01-21T11:02:10.009Z"
   },
   {
    "duration": 9,
    "start_time": "2024-01-21T11:02:10.015Z"
   },
   {
    "duration": 4286,
    "start_time": "2024-01-21T11:02:10.025Z"
   },
   {
    "duration": 26,
    "start_time": "2024-01-21T11:02:14.312Z"
   },
   {
    "duration": 368,
    "start_time": "2024-01-21T11:02:14.340Z"
   },
   {
    "duration": 297,
    "start_time": "2024-01-21T11:02:14.710Z"
   },
   {
    "duration": 323,
    "start_time": "2024-01-21T11:02:15.009Z"
   },
   {
    "duration": 5,
    "start_time": "2024-01-21T11:02:15.333Z"
   },
   {
    "duration": 18,
    "start_time": "2024-01-21T11:02:15.339Z"
   },
   {
    "duration": 3,
    "start_time": "2024-01-21T11:02:15.359Z"
   },
   {
    "duration": 123,
    "start_time": "2024-01-21T11:02:15.366Z"
   },
   {
    "duration": 0,
    "start_time": "2024-01-21T11:02:15.492Z"
   },
   {
    "duration": 0,
    "start_time": "2024-01-21T11:02:15.493Z"
   },
   {
    "duration": 0,
    "start_time": "2024-01-21T11:02:15.494Z"
   },
   {
    "duration": 0,
    "start_time": "2024-01-21T11:02:15.495Z"
   },
   {
    "duration": 0,
    "start_time": "2024-01-21T11:02:15.496Z"
   },
   {
    "duration": 0,
    "start_time": "2024-01-21T11:02:15.497Z"
   },
   {
    "duration": 0,
    "start_time": "2024-01-21T11:02:15.498Z"
   },
   {
    "duration": 0,
    "start_time": "2024-01-21T11:02:15.499Z"
   },
   {
    "duration": 0,
    "start_time": "2024-01-21T11:02:15.500Z"
   },
   {
    "duration": 0,
    "start_time": "2024-01-21T11:02:15.501Z"
   },
   {
    "duration": 0,
    "start_time": "2024-01-21T11:02:15.502Z"
   },
   {
    "duration": 0,
    "start_time": "2024-01-21T11:02:15.503Z"
   },
   {
    "duration": 10,
    "start_time": "2024-01-21T11:02:52.558Z"
   },
   {
    "duration": 3,
    "start_time": "2024-01-21T11:03:19.704Z"
   },
   {
    "duration": 3,
    "start_time": "2024-01-21T11:03:20.798Z"
   },
   {
    "duration": 76,
    "start_time": "2024-01-21T11:03:23.146Z"
   },
   {
    "duration": 21,
    "start_time": "2024-01-21T11:03:30.702Z"
   },
   {
    "duration": 2,
    "start_time": "2024-01-21T11:03:55.266Z"
   },
   {
    "duration": 2,
    "start_time": "2024-01-21T11:03:55.690Z"
   },
   {
    "duration": 69,
    "start_time": "2024-01-21T11:03:56.111Z"
   },
   {
    "duration": 100,
    "start_time": "2024-01-21T11:03:57.865Z"
   },
   {
    "duration": 5,
    "start_time": "2024-01-21T11:03:58.649Z"
   },
   {
    "duration": 69,
    "start_time": "2024-01-21T11:04:02.404Z"
   },
   {
    "duration": 1276,
    "start_time": "2024-01-21T11:04:06.347Z"
   },
   {
    "duration": 3,
    "start_time": "2024-01-21T11:04:18.213Z"
   },
   {
    "duration": 48,
    "start_time": "2024-01-21T11:04:19.004Z"
   },
   {
    "duration": 3166,
    "start_time": "2024-01-21T11:04:25.424Z"
   },
   {
    "duration": 2624,
    "start_time": "2024-01-21T11:04:28.592Z"
   },
   {
    "duration": 1333,
    "start_time": "2024-01-21T11:04:31.218Z"
   },
   {
    "duration": 13,
    "start_time": "2024-01-21T11:04:32.553Z"
   },
   {
    "duration": 558,
    "start_time": "2024-01-21T11:04:32.568Z"
   },
   {
    "duration": 14,
    "start_time": "2024-01-21T11:04:33.128Z"
   },
   {
    "duration": 66,
    "start_time": "2024-01-21T11:04:33.144Z"
   },
   {
    "duration": 16,
    "start_time": "2024-01-21T11:04:33.212Z"
   },
   {
    "duration": 32,
    "start_time": "2024-01-21T11:04:33.229Z"
   },
   {
    "duration": 18,
    "start_time": "2024-01-21T11:04:33.264Z"
   },
   {
    "duration": 40,
    "start_time": "2024-01-21T11:04:33.284Z"
   },
   {
    "duration": 16,
    "start_time": "2024-01-21T11:04:33.325Z"
   },
   {
    "duration": 17,
    "start_time": "2024-01-21T11:04:33.342Z"
   },
   {
    "duration": 107,
    "start_time": "2024-01-21T11:04:33.363Z"
   },
   {
    "duration": 4048,
    "start_time": "2024-01-21T11:04:33.472Z"
   },
   {
    "duration": 3841,
    "start_time": "2024-01-21T11:04:37.521Z"
   },
   {
    "duration": 13,
    "start_time": "2024-01-21T11:04:41.363Z"
   },
   {
    "duration": 19,
    "start_time": "2024-01-21T11:04:41.378Z"
   },
   {
    "duration": 32,
    "start_time": "2024-01-21T11:04:41.398Z"
   },
   {
    "duration": 4302,
    "start_time": "2024-01-21T11:04:41.432Z"
   },
   {
    "duration": 32,
    "start_time": "2024-01-21T11:04:45.736Z"
   },
   {
    "duration": 345,
    "start_time": "2024-01-21T11:04:45.770Z"
   },
   {
    "duration": 290,
    "start_time": "2024-01-21T11:04:46.117Z"
   },
   {
    "duration": 311,
    "start_time": "2024-01-21T11:04:46.409Z"
   },
   {
    "duration": 5,
    "start_time": "2024-01-21T11:04:46.722Z"
   },
   {
    "duration": 6,
    "start_time": "2024-01-21T11:04:46.728Z"
   },
   {
    "duration": 4,
    "start_time": "2024-01-21T11:04:46.736Z"
   },
   {
    "duration": 86,
    "start_time": "2024-01-21T11:04:46.741Z"
   },
   {
    "duration": 135,
    "start_time": "2024-01-21T11:04:46.829Z"
   },
   {
    "duration": 94,
    "start_time": "2024-01-21T11:04:46.967Z"
   },
   {
    "duration": 201,
    "start_time": "2024-01-21T11:04:47.063Z"
   },
   {
    "duration": 92,
    "start_time": "2024-01-21T11:04:47.267Z"
   },
   {
    "duration": 99,
    "start_time": "2024-01-21T11:04:47.361Z"
   },
   {
    "duration": 97,
    "start_time": "2024-01-21T11:04:47.462Z"
   },
   {
    "duration": 13,
    "start_time": "2024-01-21T11:04:47.561Z"
   },
   {
    "duration": 13,
    "start_time": "2024-01-21T11:04:47.576Z"
   },
   {
    "duration": 4,
    "start_time": "2024-01-21T11:04:47.590Z"
   },
   {
    "duration": 12,
    "start_time": "2024-01-21T11:04:47.595Z"
   },
   {
    "duration": 4277,
    "start_time": "2024-01-21T11:04:47.609Z"
   },
   {
    "duration": 8,
    "start_time": "2024-01-21T17:08:53.872Z"
   },
   {
    "duration": 7260,
    "start_time": "2024-01-21T17:09:02.299Z"
   },
   {
    "duration": 3260,
    "start_time": "2024-01-21T17:09:09.562Z"
   },
   {
    "duration": 1641,
    "start_time": "2024-01-21T17:09:12.824Z"
   },
   {
    "duration": 13,
    "start_time": "2024-01-21T17:09:14.467Z"
   },
   {
    "duration": 890,
    "start_time": "2024-01-21T17:09:14.483Z"
   },
   {
    "duration": 15,
    "start_time": "2024-01-21T17:09:15.375Z"
   },
   {
    "duration": 26,
    "start_time": "2024-01-21T17:09:15.392Z"
   },
   {
    "duration": 12,
    "start_time": "2024-01-21T17:09:15.419Z"
   },
   {
    "duration": 28,
    "start_time": "2024-01-21T17:09:15.433Z"
   },
   {
    "duration": 10,
    "start_time": "2024-01-21T17:09:15.463Z"
   },
   {
    "duration": 28,
    "start_time": "2024-01-21T17:09:15.476Z"
   },
   {
    "duration": 32,
    "start_time": "2024-01-21T17:09:15.506Z"
   },
   {
    "duration": 19,
    "start_time": "2024-01-21T17:09:15.540Z"
   },
   {
    "duration": 116,
    "start_time": "2024-01-21T17:09:15.563Z"
   },
   {
    "duration": 4204,
    "start_time": "2024-01-21T17:09:15.681Z"
   },
   {
    "duration": 4116,
    "start_time": "2024-01-21T17:09:19.887Z"
   },
   {
    "duration": 24,
    "start_time": "2024-01-21T17:09:24.005Z"
   },
   {
    "duration": 8,
    "start_time": "2024-01-21T17:09:24.031Z"
   },
   {
    "duration": 20,
    "start_time": "2024-01-21T17:09:24.040Z"
   },
   {
    "duration": 4568,
    "start_time": "2024-01-21T17:09:24.062Z"
   },
   {
    "duration": 28,
    "start_time": "2024-01-21T17:09:28.631Z"
   },
   {
    "duration": 392,
    "start_time": "2024-01-21T17:09:28.661Z"
   },
   {
    "duration": 303,
    "start_time": "2024-01-21T17:09:29.055Z"
   },
   {
    "duration": 323,
    "start_time": "2024-01-21T17:09:29.360Z"
   },
   {
    "duration": 3,
    "start_time": "2024-01-21T17:09:29.684Z"
   },
   {
    "duration": 3,
    "start_time": "2024-01-21T17:09:29.689Z"
   },
   {
    "duration": 7,
    "start_time": "2024-01-21T17:09:29.694Z"
   },
   {
    "duration": 75,
    "start_time": "2024-01-21T17:09:29.724Z"
   },
   {
    "duration": 123,
    "start_time": "2024-01-21T17:09:29.801Z"
   },
   {
    "duration": 7,
    "start_time": "2024-01-21T17:09:29.926Z"
   },
   {
    "duration": 237,
    "start_time": "2024-01-21T17:09:29.935Z"
   },
   {
    "duration": 51,
    "start_time": "2024-01-21T17:09:30.174Z"
   },
   {
    "duration": 201,
    "start_time": "2024-01-21T17:09:30.230Z"
   },
   {
    "duration": 90,
    "start_time": "2024-01-21T17:09:30.435Z"
   },
   {
    "duration": 34,
    "start_time": "2024-01-21T17:09:30.528Z"
   },
   {
    "duration": 36,
    "start_time": "2024-01-21T17:09:30.563Z"
   },
   {
    "duration": 69,
    "start_time": "2024-01-21T17:09:30.601Z"
   },
   {
    "duration": 51,
    "start_time": "2024-01-21T17:09:30.672Z"
   },
   {
    "duration": 4490,
    "start_time": "2024-01-21T17:09:30.726Z"
   },
   {
    "duration": 4409,
    "start_time": "2024-01-21T17:10:28.765Z"
   },
   {
    "duration": 76,
    "start_time": "2024-01-21T17:10:43.606Z"
   },
   {
    "duration": 1591,
    "start_time": "2024-01-21T17:11:14.173Z"
   },
   {
    "duration": 11,
    "start_time": "2024-01-21T17:17:52.400Z"
   },
   {
    "duration": 5,
    "start_time": "2024-01-21T17:18:03.502Z"
   },
   {
    "duration": 17,
    "start_time": "2024-01-21T17:18:04.465Z"
   },
   {
    "duration": 4,
    "start_time": "2024-01-21T17:18:31.500Z"
   },
   {
    "duration": 4,
    "start_time": "2024-01-21T17:18:33.947Z"
   },
   {
    "duration": 1465,
    "start_time": "2024-01-21T17:18:36.643Z"
   },
   {
    "duration": 4690,
    "start_time": "2024-01-21T17:22:44.502Z"
   },
   {
    "duration": 3631,
    "start_time": "2024-01-21T17:30:01.398Z"
   },
   {
    "duration": 2695,
    "start_time": "2024-01-21T17:30:05.031Z"
   },
   {
    "duration": 7,
    "start_time": "2024-01-21T17:30:07.728Z"
   },
   {
    "duration": 69,
    "start_time": "2024-01-21T17:30:07.737Z"
   },
   {
    "duration": 542,
    "start_time": "2024-01-21T17:30:07.808Z"
   },
   {
    "duration": 12,
    "start_time": "2024-01-21T17:30:08.352Z"
   },
   {
    "duration": 39,
    "start_time": "2024-01-21T17:30:08.365Z"
   },
   {
    "duration": 10,
    "start_time": "2024-01-21T17:30:08.406Z"
   },
   {
    "duration": 19,
    "start_time": "2024-01-21T17:30:08.417Z"
   },
   {
    "duration": 9,
    "start_time": "2024-01-21T17:30:08.438Z"
   },
   {
    "duration": 19,
    "start_time": "2024-01-21T17:30:08.449Z"
   },
   {
    "duration": 10,
    "start_time": "2024-01-21T17:30:08.470Z"
   },
   {
    "duration": 45,
    "start_time": "2024-01-21T17:30:08.482Z"
   },
   {
    "duration": 93,
    "start_time": "2024-01-21T17:30:08.530Z"
   },
   {
    "duration": 4067,
    "start_time": "2024-01-21T17:30:08.625Z"
   },
   {
    "duration": 3939,
    "start_time": "2024-01-21T17:30:12.694Z"
   },
   {
    "duration": 13,
    "start_time": "2024-01-21T17:30:16.635Z"
   },
   {
    "duration": 8,
    "start_time": "2024-01-21T17:30:16.649Z"
   },
   {
    "duration": 13,
    "start_time": "2024-01-21T17:30:16.659Z"
   },
   {
    "duration": 4640,
    "start_time": "2024-01-21T17:30:16.674Z"
   },
   {
    "duration": 31,
    "start_time": "2024-01-21T17:30:21.316Z"
   },
   {
    "duration": 335,
    "start_time": "2024-01-21T17:30:21.349Z"
   },
   {
    "duration": 287,
    "start_time": "2024-01-21T17:30:21.686Z"
   },
   {
    "duration": 316,
    "start_time": "2024-01-21T17:30:21.975Z"
   },
   {
    "duration": 4,
    "start_time": "2024-01-21T17:30:22.293Z"
   },
   {
    "duration": 11,
    "start_time": "2024-01-21T17:30:22.299Z"
   },
   {
    "duration": 8,
    "start_time": "2024-01-21T17:30:22.312Z"
   },
   {
    "duration": 73,
    "start_time": "2024-01-21T17:30:22.323Z"
   },
   {
    "duration": 1348,
    "start_time": "2024-01-21T17:30:22.397Z"
   },
   {
    "duration": 0,
    "start_time": "2024-01-21T17:30:23.747Z"
   },
   {
    "duration": 0,
    "start_time": "2024-01-21T17:30:23.748Z"
   },
   {
    "duration": 0,
    "start_time": "2024-01-21T17:30:23.749Z"
   },
   {
    "duration": 0,
    "start_time": "2024-01-21T17:30:23.750Z"
   },
   {
    "duration": 0,
    "start_time": "2024-01-21T17:30:23.751Z"
   },
   {
    "duration": 0,
    "start_time": "2024-01-21T17:30:23.752Z"
   },
   {
    "duration": 0,
    "start_time": "2024-01-21T17:30:23.753Z"
   },
   {
    "duration": 0,
    "start_time": "2024-01-21T17:30:23.755Z"
   },
   {
    "duration": 0,
    "start_time": "2024-01-21T17:30:23.755Z"
   },
   {
    "duration": 0,
    "start_time": "2024-01-21T17:30:23.757Z"
   },
   {
    "duration": 3252,
    "start_time": "2024-01-21T17:31:43.863Z"
   },
   {
    "duration": 2890,
    "start_time": "2024-01-21T17:31:47.118Z"
   },
   {
    "duration": 7,
    "start_time": "2024-01-21T17:31:50.011Z"
   },
   {
    "duration": 28,
    "start_time": "2024-01-21T17:31:50.021Z"
   },
   {
    "duration": 493,
    "start_time": "2024-01-21T17:31:50.051Z"
   },
   {
    "duration": 11,
    "start_time": "2024-01-21T17:31:50.546Z"
   },
   {
    "duration": 22,
    "start_time": "2024-01-21T17:31:50.559Z"
   },
   {
    "duration": 9,
    "start_time": "2024-01-21T17:31:50.583Z"
   },
   {
    "duration": 39,
    "start_time": "2024-01-21T17:31:50.594Z"
   },
   {
    "duration": 9,
    "start_time": "2024-01-21T17:31:50.636Z"
   },
   {
    "duration": 21,
    "start_time": "2024-01-21T17:31:50.647Z"
   },
   {
    "duration": 14,
    "start_time": "2024-01-21T17:31:50.670Z"
   },
   {
    "duration": 44,
    "start_time": "2024-01-21T17:31:50.686Z"
   },
   {
    "duration": 117,
    "start_time": "2024-01-21T17:31:50.733Z"
   },
   {
    "duration": 4248,
    "start_time": "2024-01-21T17:31:50.852Z"
   },
   {
    "duration": 3982,
    "start_time": "2024-01-21T17:31:55.102Z"
   },
   {
    "duration": 14,
    "start_time": "2024-01-21T17:31:59.086Z"
   },
   {
    "duration": 25,
    "start_time": "2024-01-21T17:31:59.101Z"
   },
   {
    "duration": 8,
    "start_time": "2024-01-21T17:31:59.127Z"
   },
   {
    "duration": 4667,
    "start_time": "2024-01-21T17:31:59.137Z"
   },
   {
    "duration": 37,
    "start_time": "2024-01-21T17:32:03.805Z"
   },
   {
    "duration": 322,
    "start_time": "2024-01-21T17:32:03.843Z"
   },
   {
    "duration": 308,
    "start_time": "2024-01-21T17:32:04.166Z"
   },
   {
    "duration": 316,
    "start_time": "2024-01-21T17:32:04.476Z"
   },
   {
    "duration": 9,
    "start_time": "2024-01-21T17:32:04.794Z"
   },
   {
    "duration": 16,
    "start_time": "2024-01-21T17:32:04.805Z"
   },
   {
    "duration": 5,
    "start_time": "2024-01-21T17:32:04.823Z"
   },
   {
    "duration": 87,
    "start_time": "2024-01-21T17:32:04.832Z"
   },
   {
    "duration": 105,
    "start_time": "2024-01-21T17:32:04.921Z"
   },
   {
    "duration": 7,
    "start_time": "2024-01-21T17:32:05.028Z"
   },
   {
    "duration": 229,
    "start_time": "2024-01-21T17:32:05.036Z"
   },
   {
    "duration": 58,
    "start_time": "2024-01-21T17:32:05.267Z"
   },
   {
    "duration": 204,
    "start_time": "2024-01-21T17:32:05.327Z"
   },
   {
    "duration": 91,
    "start_time": "2024-01-21T17:32:05.534Z"
   },
   {
    "duration": 8,
    "start_time": "2024-01-21T17:32:05.627Z"
   },
   {
    "duration": 16,
    "start_time": "2024-01-21T17:32:05.637Z"
   },
   {
    "duration": 4,
    "start_time": "2024-01-21T17:32:05.656Z"
   },
   {
    "duration": 62,
    "start_time": "2024-01-21T17:32:05.662Z"
   },
   {
    "duration": 4459,
    "start_time": "2024-01-21T17:32:05.726Z"
   },
   {
    "duration": 5,
    "start_time": "2024-01-21T17:47:25.491Z"
   },
   {
    "duration": 1181,
    "start_time": "2024-01-21T17:47:47.361Z"
   },
   {
    "duration": 3546,
    "start_time": "2024-01-21T17:48:01.104Z"
   },
   {
    "duration": 2755,
    "start_time": "2024-01-21T17:48:04.654Z"
   },
   {
    "duration": 7,
    "start_time": "2024-01-21T17:48:07.411Z"
   },
   {
    "duration": 22,
    "start_time": "2024-01-21T17:48:07.420Z"
   },
   {
    "duration": 508,
    "start_time": "2024-01-21T17:48:07.445Z"
   },
   {
    "duration": 11,
    "start_time": "2024-01-21T17:48:07.955Z"
   },
   {
    "duration": 39,
    "start_time": "2024-01-21T17:48:07.968Z"
   },
   {
    "duration": 10,
    "start_time": "2024-01-21T17:48:08.009Z"
   },
   {
    "duration": 19,
    "start_time": "2024-01-21T17:48:08.021Z"
   },
   {
    "duration": 10,
    "start_time": "2024-01-21T17:48:08.042Z"
   },
   {
    "duration": 31,
    "start_time": "2024-01-21T17:48:08.054Z"
   },
   {
    "duration": 9,
    "start_time": "2024-01-21T17:48:08.087Z"
   },
   {
    "duration": 26,
    "start_time": "2024-01-21T17:48:08.098Z"
   },
   {
    "duration": 81,
    "start_time": "2024-01-21T17:48:08.128Z"
   },
   {
    "duration": 4315,
    "start_time": "2024-01-21T17:48:08.211Z"
   },
   {
    "duration": 3937,
    "start_time": "2024-01-21T17:48:12.528Z"
   },
   {
    "duration": 14,
    "start_time": "2024-01-21T17:48:16.467Z"
   },
   {
    "duration": 6,
    "start_time": "2024-01-21T17:48:16.483Z"
   },
   {
    "duration": 6,
    "start_time": "2024-01-21T17:48:16.491Z"
   },
   {
    "duration": 4495,
    "start_time": "2024-01-21T17:48:16.498Z"
   },
   {
    "duration": 37,
    "start_time": "2024-01-21T17:48:20.995Z"
   },
   {
    "duration": 321,
    "start_time": "2024-01-21T17:48:21.033Z"
   },
   {
    "duration": 304,
    "start_time": "2024-01-21T17:48:21.355Z"
   },
   {
    "duration": 303,
    "start_time": "2024-01-21T17:48:21.661Z"
   },
   {
    "duration": 3,
    "start_time": "2024-01-21T17:48:21.966Z"
   },
   {
    "duration": 7,
    "start_time": "2024-01-21T17:48:21.970Z"
   },
   {
    "duration": 28,
    "start_time": "2024-01-21T17:48:21.978Z"
   },
   {
    "duration": 86,
    "start_time": "2024-01-21T17:48:22.008Z"
   },
   {
    "duration": 4,
    "start_time": "2024-01-21T17:48:22.096Z"
   },
   {
    "duration": 227,
    "start_time": "2024-01-21T17:48:22.101Z"
   },
   {
    "duration": 7,
    "start_time": "2024-01-21T17:48:22.331Z"
   },
   {
    "duration": 100,
    "start_time": "2024-01-21T17:48:22.424Z"
   },
   {
    "duration": 5,
    "start_time": "2024-01-21T17:48:22.526Z"
   },
   {
    "duration": 198,
    "start_time": "2024-01-21T17:48:22.533Z"
   },
   {
    "duration": 91,
    "start_time": "2024-01-21T17:48:22.734Z"
   },
   {
    "duration": 3,
    "start_time": "2024-01-21T17:48:22.827Z"
   },
   {
    "duration": 26,
    "start_time": "2024-01-21T17:48:22.832Z"
   },
   {
    "duration": 4,
    "start_time": "2024-01-21T17:48:22.860Z"
   },
   {
    "duration": 6,
    "start_time": "2024-01-21T17:48:22.867Z"
   },
   {
    "duration": 4427,
    "start_time": "2024-01-21T17:48:22.875Z"
   },
   {
    "duration": 92,
    "start_time": "2024-01-21T17:50:20.332Z"
   },
   {
    "duration": 53,
    "start_time": "2024-01-21T17:50:56.578Z"
   },
   {
    "duration": 6219,
    "start_time": "2024-01-22T07:27:04.933Z"
   },
   {
    "duration": 3185,
    "start_time": "2024-01-22T07:27:11.155Z"
   },
   {
    "duration": 1429,
    "start_time": "2024-01-22T07:27:14.342Z"
   },
   {
    "duration": 12,
    "start_time": "2024-01-22T07:27:15.773Z"
   },
   {
    "duration": 828,
    "start_time": "2024-01-22T07:27:15.788Z"
   },
   {
    "duration": 12,
    "start_time": "2024-01-22T07:27:16.617Z"
   },
   {
    "duration": 14,
    "start_time": "2024-01-22T07:27:16.631Z"
   },
   {
    "duration": 8,
    "start_time": "2024-01-22T07:27:16.647Z"
   },
   {
    "duration": 13,
    "start_time": "2024-01-22T07:27:16.657Z"
   },
   {
    "duration": 8,
    "start_time": "2024-01-22T07:27:16.673Z"
   },
   {
    "duration": 15,
    "start_time": "2024-01-22T07:27:16.718Z"
   },
   {
    "duration": 13,
    "start_time": "2024-01-22T07:27:16.734Z"
   },
   {
    "duration": 10,
    "start_time": "2024-01-22T07:27:16.749Z"
   },
   {
    "duration": 108,
    "start_time": "2024-01-22T07:27:16.761Z"
   },
   {
    "duration": 3715,
    "start_time": "2024-01-22T07:27:16.871Z"
   },
   {
    "duration": 3568,
    "start_time": "2024-01-22T07:27:20.588Z"
   },
   {
    "duration": 12,
    "start_time": "2024-01-22T07:27:24.158Z"
   },
   {
    "duration": 42,
    "start_time": "2024-01-22T07:27:24.171Z"
   },
   {
    "duration": 10,
    "start_time": "2024-01-22T07:27:24.215Z"
   },
   {
    "duration": 4142,
    "start_time": "2024-01-22T07:27:24.226Z"
   },
   {
    "duration": 30,
    "start_time": "2024-01-22T07:27:28.370Z"
   },
   {
    "duration": 355,
    "start_time": "2024-01-22T07:27:28.402Z"
   },
   {
    "duration": 266,
    "start_time": "2024-01-22T07:27:28.758Z"
   },
   {
    "duration": 284,
    "start_time": "2024-01-22T07:27:29.026Z"
   },
   {
    "duration": 6,
    "start_time": "2024-01-22T07:27:29.312Z"
   },
   {
    "duration": 25,
    "start_time": "2024-01-22T07:27:29.319Z"
   },
   {
    "duration": 25,
    "start_time": "2024-01-22T07:27:29.346Z"
   },
   {
    "duration": 77,
    "start_time": "2024-01-22T07:27:29.374Z"
   },
   {
    "duration": 3,
    "start_time": "2024-01-22T07:27:29.453Z"
   },
   {
    "duration": 260,
    "start_time": "2024-01-22T07:27:29.458Z"
   },
   {
    "duration": 102,
    "start_time": "2024-01-22T07:27:29.720Z"
   },
   {
    "duration": 302,
    "start_time": "2024-01-22T07:27:29.824Z"
   },
   {
    "duration": 93,
    "start_time": "2024-01-22T07:27:30.127Z"
   },
   {
    "duration": 44,
    "start_time": "2024-01-22T07:27:30.222Z"
   },
   {
    "duration": 67,
    "start_time": "2024-01-22T07:27:30.267Z"
   },
   {
    "duration": 35,
    "start_time": "2024-01-22T07:27:30.335Z"
   },
   {
    "duration": 45,
    "start_time": "2024-01-22T07:27:30.372Z"
   },
   {
    "duration": 133,
    "start_time": "2024-01-22T07:27:30.418Z"
   },
   {
    "duration": 15,
    "start_time": "2024-01-22T07:29:45.926Z"
   },
   {
    "duration": 4,
    "start_time": "2024-01-22T07:29:49.265Z"
   },
   {
    "duration": 3988,
    "start_time": "2024-01-22T07:29:49.780Z"
   }
  ],
  "kernelspec": {
   "display_name": "Python 3 (ipykernel)",
   "language": "python",
   "name": "python3"
  },
  "language_info": {
   "codemirror_mode": {
    "name": "ipython",
    "version": 3
   },
   "file_extension": ".py",
   "mimetype": "text/x-python",
   "name": "python",
   "nbconvert_exporter": "python",
   "pygments_lexer": "ipython3",
   "version": "3.11.5"
  },
  "toc": {
   "base_numbering": 1,
   "nav_menu": {},
   "number_sections": true,
   "sideBar": true,
   "skip_h1_title": true,
   "title_cell": "Table of Contents",
   "title_sidebar": "Contents",
   "toc_cell": false,
   "toc_position": {},
   "toc_section_display": true,
   "toc_window_display": false
  }
 },
 "nbformat": 4,
 "nbformat_minor": 2
}
