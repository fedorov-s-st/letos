{
 "cells": [
  {
   "cell_type": "markdown",
   "metadata": {
    "toc": true
   },
   "source": [
    "<h1>Содержание<span class=\"tocSkip\"></span></h1>\n",
    "<div class=\"toc\"><ul class=\"toc-item\"><li><span><a href=\"#Подготовка\" data-toc-modified-id=\"Подготовка-1\"><span class=\"toc-item-num\">1&nbsp;&nbsp;</span>Подготовка</a></span></li><li><span><a href=\"#Обучение\" data-toc-modified-id=\"Обучение-2\"><span class=\"toc-item-num\">2&nbsp;&nbsp;</span>Обучение</a></span><ul class=\"toc-item\"><li><span><a href=\"#LogisticRegression\" data-toc-modified-id=\"LogisticRegression-2.1\"><span class=\"toc-item-num\">2.1&nbsp;&nbsp;</span>LogisticRegression</a></span></li><li><span><a href=\"#DecisionTreeClassifier\" data-toc-modified-id=\"DecisionTreeClassifier-2.2\"><span class=\"toc-item-num\">2.2&nbsp;&nbsp;</span>DecisionTreeClassifier</a></span></li><li><span><a href=\"#SGDClassifier\" data-toc-modified-id=\"SGDClassifier-2.3\"><span class=\"toc-item-num\">2.3&nbsp;&nbsp;</span>SGDClassifier</a></span></li><li><span><a href=\"#CatBoostClassifier\" data-toc-modified-id=\"CatBoostClassifier-2.4\"><span class=\"toc-item-num\">2.4&nbsp;&nbsp;</span>CatBoostClassifier</a></span></li><li><span><a href=\"#RidgeClassifier\" data-toc-modified-id=\"RidgeClassifier-2.5\"><span class=\"toc-item-num\">2.5&nbsp;&nbsp;</span>RidgeClassifier</a></span></li><li><span><a href=\"#Тестововые-данные\" data-toc-modified-id=\"Тестововые-данные-2.6\"><span class=\"toc-item-num\">2.6&nbsp;&nbsp;</span>Тестововые данные</a></span></li></ul></li><li><span><a href=\"#Выводы\" data-toc-modified-id=\"Выводы-3\"><span class=\"toc-item-num\">3&nbsp;&nbsp;</span>Выводы</a></span></li><li><span><a href=\"#Чек-лист-проверки\" data-toc-modified-id=\"Чек-лист-проверки-4\"><span class=\"toc-item-num\">4&nbsp;&nbsp;</span>Чек-лист проверки</a></span></li></ul></div>"
   ]
  },
  {
   "cell_type": "markdown",
   "metadata": {},
   "source": [
    "# Проект для «Викишоп»"
   ]
  },
  {
   "cell_type": "markdown",
   "metadata": {},
   "source": [
    "Интернет-магазин «Викишоп» запускает новый сервис. Теперь пользователи могут редактировать и дополнять описания товаров, как в вики-сообществах. То есть клиенты предлагают свои правки и комментируют изменения других. Магазину нужен инструмент, который будет искать токсичные комментарии и отправлять их на модерацию. \n",
    "\n",
    "Обучите модель классифицировать комментарии на позитивные и негативные. В вашем распоряжении набор данных с разметкой о токсичности правок.\n",
    "\n",
    "Постройте модель со значением метрики качества *F1* не меньше 0.75. \n",
    "\n",
    "**Инструкция по выполнению проекта**\n",
    "\n",
    "1. Загрузите и подготовьте данные.\n",
    "2. Обучите разные модели. \n",
    "3. Сделайте выводы.\n",
    "\n",
    "Для выполнения проекта применять *BERT* необязательно, но вы можете попробовать.\n",
    "\n",
    "**Описание данных**\n",
    "\n",
    "Данные находятся в файле `toxic_comments.csv`. Столбец *text* в нём содержит текст комментария, а *toxic* — целевой признак."
   ]
  },
  {
   "cell_type": "markdown",
   "metadata": {},
   "source": [
    "## Подготовка"
   ]
  },
  {
   "cell_type": "code",
   "execution_count": 1,
   "metadata": {},
   "outputs": [
    {
     "name": "stdout",
     "output_type": "stream",
     "text": [
      "INFO: Pandarallel will run on 6 workers.\n",
      "INFO: Pandarallel will use standard multiprocessing data transfer (pipe) to transfer data between the main process and workers.\n",
      "\n",
      "WARNING: You are on Windows. If you detect any issue with pandarallel, be sure you checked out the Troubleshooting page:\n",
      "https://nalepae.github.io/pandarallel/troubleshooting/\n"
     ]
    },
    {
     "name": "stderr",
     "output_type": "stream",
     "text": [
      "[nltk_data] Downloading package punkt to\n",
      "[nltk_data]     C:\\Users\\Serg\\AppData\\Roaming\\nltk_data...\n",
      "[nltk_data]   Package punkt is already up-to-date!\n"
     ]
    }
   ],
   "source": [
    "import pandas as pd\n",
    "import requests\n",
    "\n",
    "from tqdm import tqdm\n",
    "tqdm.pandas()\n",
    "\n",
    "from pandarallel import pandarallel\n",
    "pandarallel.initialize(progress_bar=True)\n",
    "import  numpy as np\n",
    "from sklearn.model_selection import train_test_split\n",
    "from sklearn.pipeline import Pipeline\n",
    "from sklearn.compose import ColumnTransformer\n",
    "from sklearn.impute import SimpleImputer \n",
    "from sklearn.linear_model import LogisticRegression, SGDClassifier,RidgeClassifier\n",
    "from sklearn.neighbors import KNeighborsClassifier\n",
    "from sklearn.tree import DecisionTreeClassifier\n",
    "from catboost import CatBoostClassifier\n",
    "from sklearn.svm import SVC\n",
    "from sklearn.metrics import f1_score, roc_auc_score\n",
    "from sklearn.model_selection import RandomizedSearchCV\n",
    "import warnings\n",
    "import re \n",
    "from nltk import pos_tag\n",
    "import spacy\n",
    "from nltk.corpus import stopwords as nltk_stopwords\n",
    "from sklearn.feature_extraction.text import TfidfVectorizer\n",
    "from sklearn.dummy import  DummyClassifier\n",
    "import nltk\n",
    "from nltk.tokenize import word_tokenize\n",
    "nltk.download('punkt')\n",
    "from nltk.stem import WordNetLemmatizer\n",
    "\n",
    "warnings.filterwarnings('ignore')\n",
    "RANDOM_STATE = 42"
   ]
  },
  {
   "cell_type": "code",
   "execution_count": 2,
   "metadata": {
    "scrolled": true
   },
   "outputs": [],
   "source": [
    "try:\n",
    "     data = pd.read_csv('C:/Users/Serg/practicum/database/toxic_comments.csv')\n",
    "except:    \n",
    "    data = pd.read_csv('/datasets/toxic_comments.csv')"
   ]
  },
  {
   "cell_type": "code",
   "execution_count": 3,
   "metadata": {},
   "outputs": [
    {
     "data": {
      "text/html": [
       "<div>\n",
       "<style scoped>\n",
       "    .dataframe tbody tr th:only-of-type {\n",
       "        vertical-align: middle;\n",
       "    }\n",
       "\n",
       "    .dataframe tbody tr th {\n",
       "        vertical-align: top;\n",
       "    }\n",
       "\n",
       "    .dataframe thead th {\n",
       "        text-align: right;\n",
       "    }\n",
       "</style>\n",
       "<table border=\"1\" class=\"dataframe\">\n",
       "  <thead>\n",
       "    <tr style=\"text-align: right;\">\n",
       "      <th></th>\n",
       "      <th>Unnamed: 0</th>\n",
       "      <th>text</th>\n",
       "      <th>toxic</th>\n",
       "    </tr>\n",
       "  </thead>\n",
       "  <tbody>\n",
       "    <tr>\n",
       "      <th>0</th>\n",
       "      <td>0</td>\n",
       "      <td>Explanation\\nWhy the edits made under my usern...</td>\n",
       "      <td>0</td>\n",
       "    </tr>\n",
       "    <tr>\n",
       "      <th>1</th>\n",
       "      <td>1</td>\n",
       "      <td>D'aww! He matches this background colour I'm s...</td>\n",
       "      <td>0</td>\n",
       "    </tr>\n",
       "    <tr>\n",
       "      <th>2</th>\n",
       "      <td>2</td>\n",
       "      <td>Hey man, I'm really not trying to edit war. It...</td>\n",
       "      <td>0</td>\n",
       "    </tr>\n",
       "    <tr>\n",
       "      <th>3</th>\n",
       "      <td>3</td>\n",
       "      <td>\"\\nMore\\nI can't make any real suggestions on ...</td>\n",
       "      <td>0</td>\n",
       "    </tr>\n",
       "    <tr>\n",
       "      <th>4</th>\n",
       "      <td>4</td>\n",
       "      <td>You, sir, are my hero. Any chance you remember...</td>\n",
       "      <td>0</td>\n",
       "    </tr>\n",
       "  </tbody>\n",
       "</table>\n",
       "</div>"
      ],
      "text/plain": [
       "   Unnamed: 0                                               text  toxic\n",
       "0           0  Explanation\\nWhy the edits made under my usern...      0\n",
       "1           1  D'aww! He matches this background colour I'm s...      0\n",
       "2           2  Hey man, I'm really not trying to edit war. It...      0\n",
       "3           3  \"\\nMore\\nI can't make any real suggestions on ...      0\n",
       "4           4  You, sir, are my hero. Any chance you remember...      0"
      ]
     },
     "execution_count": 3,
     "metadata": {},
     "output_type": "execute_result"
    }
   ],
   "source": [
    "data.head()"
   ]
  },
  {
   "cell_type": "code",
   "execution_count": 4,
   "metadata": {},
   "outputs": [],
   "source": [
    "# удалим ненужный признак\n",
    "data = data.drop(['Unnamed: 0'],axis=1)\n"
   ]
  },
  {
   "cell_type": "code",
   "execution_count": 5,
   "metadata": {},
   "outputs": [
    {
     "name": "stdout",
     "output_type": "stream",
     "text": [
      "<class 'pandas.core.frame.DataFrame'>\n",
      "RangeIndex: 159292 entries, 0 to 159291\n",
      "Data columns (total 2 columns):\n",
      " #   Column  Non-Null Count   Dtype \n",
      "---  ------  --------------   ----- \n",
      " 0   text    159292 non-null  object\n",
      " 1   toxic   159292 non-null  int64 \n",
      "dtypes: int64(1), object(1)\n",
      "memory usage: 2.4+ MB\n"
     ]
    }
   ],
   "source": [
    "data.info()"
   ]
  },
  {
   "cell_type": "code",
   "execution_count": 6,
   "metadata": {},
   "outputs": [
    {
     "data": {
      "text/plain": [
       "text     0\n",
       "toxic    0\n",
       "dtype: int64"
      ]
     },
     "execution_count": 6,
     "metadata": {},
     "output_type": "execute_result"
    }
   ],
   "source": [
    "# поиск пропусков\n",
    "data.isna().sum()"
   ]
  },
  {
   "cell_type": "code",
   "execution_count": 7,
   "metadata": {},
   "outputs": [
    {
     "data": {
      "text/plain": [
       "0"
      ]
     },
     "execution_count": 7,
     "metadata": {},
     "output_type": "execute_result"
    }
   ],
   "source": [
    "# поиск дубликатов\n",
    "data.duplicated().sum()"
   ]
  },
  {
   "cell_type": "code",
   "execution_count": 8,
   "metadata": {},
   "outputs": [
    {
     "data": {
      "text/plain": [
       "toxic\n",
       "0    0.898388\n",
       "1    0.101612\n",
       "Name: proportion, dtype: float64"
      ]
     },
     "execution_count": 8,
     "metadata": {},
     "output_type": "execute_result"
    }
   ],
   "source": [
    "# дисбаланс классов для более быстрой работы SVC and catboost\n",
    "data.toxic.value_counts(normalize=True)"
   ]
  },
  {
   "cell_type": "code",
   "execution_count": 9,
   "metadata": {},
   "outputs": [],
   "source": [
    "#data = data.sample(10000).reset_index(drop=True)\n",
    "#data.toxic.value_counts(normalize=True)"
   ]
  },
  {
   "cell_type": "code",
   "execution_count": 10,
   "metadata": {},
   "outputs": [],
   "source": [
    "# функция очистки текста\n",
    "def clear_text(text):\n",
    "    text=text.lower()\n",
    "    ct = re.sub(r'[^a-zA-Z]', ' ', text) \n",
    "    ct=ct.split()\n",
    "    return \" \".join(ct)    \n",
    "\n",
    "\n"
   ]
  },
  {
   "cell_type": "code",
   "execution_count": 11,
   "metadata": {},
   "outputs": [],
   "source": [
    "disabled_pipes = [ \"parser\",  \"ner\"]\n",
    "nlp = spacy.load('en_core_web_sm', disable=disabled_pipes)\n",
    "def lemmatize(doc): \n",
    "    sent=[]\n",
    "    words = []\n",
    "    for token in doc:\n",
    "            words.append(token.lemma_)\n",
    "    return ' '.join(words)"
   ]
  },
  {
   "cell_type": "code",
   "execution_count": 12,
   "metadata": {},
   "outputs": [],
   "source": [
    "data['text'] = data['text'].apply(clear_text)"
   ]
  },
  {
   "cell_type": "code",
   "execution_count": 13,
   "metadata": {},
   "outputs": [],
   "source": [
    "#data = data.iloc[:1000]"
   ]
  },
  {
   "cell_type": "code",
   "execution_count": 14,
   "metadata": {},
   "outputs": [
    {
     "name": "stdout",
     "output_type": "stream",
     "text": [
      "CPU times: total: 3min 55s\n",
      "Wall time: 4min 40s\n"
     ]
    }
   ],
   "source": [
    "%%time\n",
    "data['text']  = list(nlp.pipe(data['text'], n_process=5, batch_size=1000))"
   ]
  },
  {
   "cell_type": "code",
   "execution_count": 16,
   "metadata": {
    "scrolled": true
   },
   "outputs": [
    {
     "name": "stderr",
     "output_type": "stream",
     "text": [
      "100%|███████████████████████████████████████████████████████████████████████| 159292/159292 [00:04<00:00, 35781.41it/s]"
     ]
    },
    {
     "name": "stdout",
     "output_type": "stream",
     "text": [
      "CPU times: total: 4.45 s\n",
      "Wall time: 4.46 s\n"
     ]
    },
    {
     "name": "stderr",
     "output_type": "stream",
     "text": [
      "\n"
     ]
    }
   ],
   "source": [
    "%%time\n",
    "# проводим лемматизацию\n",
    "#data['text'] = data['text'].progress_apply(lemmatizer)\n",
    "data['text'] = data['text'].progress_apply(lemmatize)"
   ]
  },
  {
   "cell_type": "code",
   "execution_count": 17,
   "metadata": {},
   "outputs": [
    {
     "data": {
      "text/html": [
       "<div>\n",
       "<style scoped>\n",
       "    .dataframe tbody tr th:only-of-type {\n",
       "        vertical-align: middle;\n",
       "    }\n",
       "\n",
       "    .dataframe tbody tr th {\n",
       "        vertical-align: top;\n",
       "    }\n",
       "\n",
       "    .dataframe thead th {\n",
       "        text-align: right;\n",
       "    }\n",
       "</style>\n",
       "<table border=\"1\" class=\"dataframe\">\n",
       "  <thead>\n",
       "    <tr style=\"text-align: right;\">\n",
       "      <th></th>\n",
       "      <th>text</th>\n",
       "      <th>toxic</th>\n",
       "    </tr>\n",
       "  </thead>\n",
       "  <tbody>\n",
       "    <tr>\n",
       "      <th>0</th>\n",
       "      <td>explanation why the edit make under my usernam...</td>\n",
       "      <td>0</td>\n",
       "    </tr>\n",
       "    <tr>\n",
       "      <th>1</th>\n",
       "      <td>d aww he match this background colour I m seem...</td>\n",
       "      <td>0</td>\n",
       "    </tr>\n",
       "    <tr>\n",
       "      <th>2</th>\n",
       "      <td>hey man I m really not try to edit war it s ju...</td>\n",
       "      <td>0</td>\n",
       "    </tr>\n",
       "    <tr>\n",
       "      <th>3</th>\n",
       "      <td>more I can t make any real suggestion on impro...</td>\n",
       "      <td>0</td>\n",
       "    </tr>\n",
       "    <tr>\n",
       "      <th>4</th>\n",
       "      <td>you sir be my hero any chance you remember wha...</td>\n",
       "      <td>0</td>\n",
       "    </tr>\n",
       "  </tbody>\n",
       "</table>\n",
       "</div>"
      ],
      "text/plain": [
       "                                                text  toxic\n",
       "0  explanation why the edit make under my usernam...      0\n",
       "1  d aww he match this background colour I m seem...      0\n",
       "2  hey man I m really not try to edit war it s ju...      0\n",
       "3  more I can t make any real suggestion on impro...      0\n",
       "4  you sir be my hero any chance you remember wha...      0"
      ]
     },
     "execution_count": 17,
     "metadata": {},
     "output_type": "execute_result"
    }
   ],
   "source": [
    "data.head()"
   ]
  },
  {
   "cell_type": "code",
   "execution_count": 18,
   "metadata": {},
   "outputs": [],
   "source": [
    "# разбиваем данные на тренировачную и тестоваю выборки\n",
    "X = data.drop(['toxic'],axis=1)\n",
    "y = data['toxic']\n",
    "X_train,X_test, y_train, y_test = train_test_split(X,y, test_size=0.1,random_state=RANDOM_STATE)\n"
   ]
  },
  {
   "cell_type": "markdown",
   "metadata": {},
   "source": [
    "Данные загружены, проведена очистка и лемматизация текста. Обнаружен дисбаланс классов.\n",
    "Данные подготовлены для обучения"
   ]
  },
  {
   "cell_type": "markdown",
   "metadata": {},
   "source": [
    "## Обучение"
   ]
  },
  {
   "cell_type": "code",
   "execution_count": 21,
   "metadata": {},
   "outputs": [],
   "source": [
    "def RSCV(estimator, parametrs):\n",
    "    return RandomizedSearchCV(\n",
    "    estimator, \n",
    "    parametrs, \n",
    "    cv=5,\n",
    "    scoring='f1',\n",
    "    error_score='raise',\n",
    "    n_jobs=-1\n",
    ")"
   ]
  },
  {
   "cell_type": "markdown",
   "metadata": {},
   "source": [
    "###  LogisticRegression"
   ]
  },
  {
   "cell_type": "code",
   "execution_count": 22,
   "metadata": {},
   "outputs": [],
   "source": [
    "\n",
    "preprocessor = ColumnTransformer(\n",
    "    [\n",
    "    ('tf-idf', TfidfVectorizer(stop_words='english'),'text')\n",
    "    ], \n",
    "    remainder='passthrough') "
   ]
  },
  {
   "cell_type": "code",
   "execution_count": 23,
   "metadata": {},
   "outputs": [],
   "source": [
    "pip_lr = Pipeline(\n",
    "\n",
    "    [('preprocessor', preprocessor), \n",
    "    ('model', LogisticRegression(class_weight='balanced', random_state=RANDOM_STATE))])\n",
    "\n",
    "param =  {'model__solver': ('liblinear', 'saga','newton-cg', 'lbfgs'),\n",
    "          'model__C': [0.1,0.5, 1,3, 6,7, 10]}"
   ]
  },
  {
   "cell_type": "code",
   "execution_count": 24,
   "metadata": {},
   "outputs": [
    {
     "name": "stdout",
     "output_type": "stream",
     "text": [
      "Метрика f1 на тренировочной выборке: 0.7641481626696267\n"
     ]
    }
   ],
   "source": [
    "random_lr = RSCV(pip_lr,param)\n",
    "random_lr.fit(X_train, y_train)\n",
    "\n",
    "model_lr = random_lr.best_estimator_\n",
    "\n",
    "print ('Метрика f1 на тренировочной выборке:', random_lr.best_score_)"
   ]
  },
  {
   "cell_type": "markdown",
   "metadata": {},
   "source": [
    "### DecisionTreeClassifier"
   ]
  },
  {
   "cell_type": "code",
   "execution_count": 25,
   "metadata": {},
   "outputs": [],
   "source": [
    "param_dtc =[{\n",
    "        #'models__max_depth': range(5,10),\n",
    "        'models__min_samples_leaf': range(5,10),\n",
    "       # 'models__max_features': range(3,10),\n",
    "        #'models__min_samples_split': range(3,7)\n",
    "}]\n",
    "pipe_dtc = Pipeline(\n",
    "    [('preprocessor', preprocessor),\n",
    "    ('models', DecisionTreeClassifier(random_state=RANDOM_STATE))])"
   ]
  },
  {
   "cell_type": "code",
   "execution_count": 26,
   "metadata": {},
   "outputs": [
    {
     "name": "stdout",
     "output_type": "stream",
     "text": [
      "Метрика f1 на тренировочной выборке: 0.7300854924017678\n"
     ]
    }
   ],
   "source": [
    "random_dtc =  RSCV(pipe_dtc,param_dtc)\n",
    "random_dtc.fit(X_train, y_train)\n",
    "\n",
    "model_dtc = random_dtc.best_estimator_\n",
    "\n",
    "print ('Метрика f1 на тренировочной выборке:', random_dtc.best_score_)"
   ]
  },
  {
   "cell_type": "markdown",
   "metadata": {},
   "source": [
    "### SGDClassifier"
   ]
  },
  {
   "cell_type": "code",
   "execution_count": 27,
   "metadata": {},
   "outputs": [],
   "source": [
    "svc = pipe_dtc = Pipeline(\n",
    "    [('preprocessor', preprocessor),\n",
    "    ('models', SGDClassifier(class_weight='balanced',random_state=RANDOM_STATE))])\n",
    "param_svc ={\n",
    "        \n",
    "        'models__loss':['hinge', 'log_loss', 'modified_huber', 'squared_hinge'],\n",
    "        'models__eta0':[0.01,0.05,1,],\n",
    "        'models__learning_rate':['constant','optimal','invscaling']\n",
    "        }"
   ]
  },
  {
   "cell_type": "code",
   "execution_count": 28,
   "metadata": {},
   "outputs": [
    {
     "name": "stdout",
     "output_type": "stream",
     "text": [
      "Метрика f1 на тренировочной выборке: 0.7546342688893455\n"
     ]
    }
   ],
   "source": [
    "random_svc =  RSCV(svc,param_svc)\n",
    "\n",
    "random_svc.fit(X_train, y_train)\n",
    "\n",
    "model_svc = random_svc.best_estimator_\n",
    "\n",
    "print ('Метрика f1 на тренировочной выборке:', random_svc.best_score_)"
   ]
  },
  {
   "cell_type": "markdown",
   "metadata": {},
   "source": [
    "### CatBoostClassifier"
   ]
  },
  {
   "cell_type": "code",
   "execution_count": 29,
   "metadata": {},
   "outputs": [],
   "source": [
    "param_cat =[{\n",
    "     #'models__max_depth': range(10,16)\n",
    "}]\n",
    "pip_cat = Pipeline(\n",
    "    [#('preprocessor', preprocessor),\n",
    "    ('models',CatBoostClassifier(text_features=['text'],\n",
    "                                 auto_class_weights='Balanced',\n",
    "                                 verbose=10,\n",
    "                                 random_state=RANDOM_STATE))])"
   ]
  },
  {
   "cell_type": "code",
   "execution_count": 30,
   "metadata": {
    "scrolled": true
   },
   "outputs": [
    {
     "name": "stdout",
     "output_type": "stream",
     "text": [
      "Learning rate set to 0.085848\n",
      "0:\tlearn: 0.6235343\ttotal: 245ms\tremaining: 4m 5s\n",
      "10:\tlearn: 0.3605215\ttotal: 1.61s\tremaining: 2m 24s\n",
      "20:\tlearn: 0.3065925\ttotal: 3.19s\tremaining: 2m 28s\n",
      "30:\tlearn: 0.2858658\ttotal: 4.77s\tremaining: 2m 29s\n",
      "40:\tlearn: 0.2764345\ttotal: 6.17s\tremaining: 2m 24s\n",
      "50:\tlearn: 0.2695587\ttotal: 7.6s\tremaining: 2m 21s\n",
      "60:\tlearn: 0.2640811\ttotal: 8.91s\tremaining: 2m 17s\n",
      "70:\tlearn: 0.2603837\ttotal: 10.2s\tremaining: 2m 13s\n",
      "80:\tlearn: 0.2575311\ttotal: 11.4s\tremaining: 2m 9s\n",
      "90:\tlearn: 0.2543325\ttotal: 12.7s\tremaining: 2m 7s\n",
      "100:\tlearn: 0.2509096\ttotal: 14.2s\tremaining: 2m 6s\n",
      "110:\tlearn: 0.2485753\ttotal: 15.9s\tremaining: 2m 7s\n",
      "120:\tlearn: 0.2458992\ttotal: 17.1s\tremaining: 2m 4s\n",
      "130:\tlearn: 0.2434828\ttotal: 18.3s\tremaining: 2m 1s\n",
      "140:\tlearn: 0.2408988\ttotal: 19.5s\tremaining: 1m 58s\n",
      "150:\tlearn: 0.2379280\ttotal: 20.8s\tremaining: 1m 56s\n",
      "160:\tlearn: 0.2351421\ttotal: 22.4s\tremaining: 1m 56s\n",
      "170:\tlearn: 0.2323549\ttotal: 23.7s\tremaining: 1m 54s\n",
      "180:\tlearn: 0.2297809\ttotal: 25s\tremaining: 1m 52s\n",
      "190:\tlearn: 0.2276574\ttotal: 26.2s\tremaining: 1m 50s\n",
      "200:\tlearn: 0.2255199\ttotal: 27.5s\tremaining: 1m 49s\n",
      "210:\tlearn: 0.2234912\ttotal: 28.8s\tremaining: 1m 47s\n",
      "220:\tlearn: 0.2216575\ttotal: 30s\tremaining: 1m 45s\n",
      "230:\tlearn: 0.2198154\ttotal: 31.3s\tremaining: 1m 44s\n",
      "240:\tlearn: 0.2179808\ttotal: 32.6s\tremaining: 1m 42s\n",
      "250:\tlearn: 0.2164074\ttotal: 33.8s\tremaining: 1m 40s\n",
      "260:\tlearn: 0.2149123\ttotal: 35s\tremaining: 1m 39s\n",
      "270:\tlearn: 0.2134268\ttotal: 36.2s\tremaining: 1m 37s\n",
      "280:\tlearn: 0.2119509\ttotal: 37.5s\tremaining: 1m 35s\n",
      "290:\tlearn: 0.2104837\ttotal: 38.7s\tremaining: 1m 34s\n",
      "300:\tlearn: 0.2092868\ttotal: 39.9s\tremaining: 1m 32s\n",
      "310:\tlearn: 0.2079238\ttotal: 41.2s\tremaining: 1m 31s\n",
      "320:\tlearn: 0.2068573\ttotal: 42.4s\tremaining: 1m 29s\n",
      "330:\tlearn: 0.2055147\ttotal: 43.9s\tremaining: 1m 28s\n",
      "340:\tlearn: 0.2043818\ttotal: 45.1s\tremaining: 1m 27s\n",
      "350:\tlearn: 0.2033311\ttotal: 46.3s\tremaining: 1m 25s\n",
      "360:\tlearn: 0.2022629\ttotal: 47.6s\tremaining: 1m 24s\n",
      "370:\tlearn: 0.2011379\ttotal: 48.8s\tremaining: 1m 22s\n",
      "380:\tlearn: 0.1999978\ttotal: 50s\tremaining: 1m 21s\n",
      "390:\tlearn: 0.1990562\ttotal: 51.2s\tremaining: 1m 19s\n",
      "400:\tlearn: 0.1980636\ttotal: 52.5s\tremaining: 1m 18s\n",
      "410:\tlearn: 0.1970821\ttotal: 53.7s\tremaining: 1m 16s\n",
      "420:\tlearn: 0.1960235\ttotal: 54.9s\tremaining: 1m 15s\n",
      "430:\tlearn: 0.1950193\ttotal: 56.1s\tremaining: 1m 14s\n",
      "440:\tlearn: 0.1940492\ttotal: 57.3s\tremaining: 1m 12s\n",
      "450:\tlearn: 0.1931146\ttotal: 58.5s\tremaining: 1m 11s\n",
      "460:\tlearn: 0.1922121\ttotal: 59.7s\tremaining: 1m 9s\n",
      "470:\tlearn: 0.1913217\ttotal: 1m\tremaining: 1m 8s\n",
      "480:\tlearn: 0.1904846\ttotal: 1m 2s\tremaining: 1m 7s\n",
      "490:\tlearn: 0.1896479\ttotal: 1m 3s\tremaining: 1m 5s\n",
      "500:\tlearn: 0.1887974\ttotal: 1m 4s\tremaining: 1m 4s\n",
      "510:\tlearn: 0.1879876\ttotal: 1m 5s\tremaining: 1m 3s\n",
      "520:\tlearn: 0.1871579\ttotal: 1m 7s\tremaining: 1m 1s\n",
      "530:\tlearn: 0.1862367\ttotal: 1m 8s\tremaining: 1m\n",
      "540:\tlearn: 0.1853924\ttotal: 1m 9s\tremaining: 59.2s\n",
      "550:\tlearn: 0.1846043\ttotal: 1m 11s\tremaining: 58.3s\n",
      "560:\tlearn: 0.1836847\ttotal: 1m 12s\tremaining: 57.1s\n",
      "570:\tlearn: 0.1829290\ttotal: 1m 14s\tremaining: 55.7s\n",
      "580:\tlearn: 0.1820921\ttotal: 1m 15s\tremaining: 54.5s\n",
      "590:\tlearn: 0.1813436\ttotal: 1m 16s\tremaining: 53.2s\n",
      "600:\tlearn: 0.1805587\ttotal: 1m 18s\tremaining: 51.8s\n",
      "610:\tlearn: 0.1798640\ttotal: 1m 19s\tremaining: 50.5s\n",
      "620:\tlearn: 0.1790984\ttotal: 1m 20s\tremaining: 49.2s\n",
      "630:\tlearn: 0.1783832\ttotal: 1m 21s\tremaining: 47.9s\n",
      "640:\tlearn: 0.1776952\ttotal: 1m 23s\tremaining: 46.6s\n",
      "650:\tlearn: 0.1769794\ttotal: 1m 24s\tremaining: 45.3s\n",
      "660:\tlearn: 0.1762328\ttotal: 1m 25s\tremaining: 44s\n",
      "670:\tlearn: 0.1754682\ttotal: 1m 27s\tremaining: 42.8s\n",
      "680:\tlearn: 0.1748102\ttotal: 1m 28s\tremaining: 41.4s\n",
      "690:\tlearn: 0.1741599\ttotal: 1m 29s\tremaining: 40.1s\n",
      "700:\tlearn: 0.1735343\ttotal: 1m 30s\tremaining: 38.8s\n",
      "710:\tlearn: 0.1729509\ttotal: 1m 32s\tremaining: 37.4s\n",
      "720:\tlearn: 0.1723272\ttotal: 1m 33s\tremaining: 36.1s\n",
      "730:\tlearn: 0.1716573\ttotal: 1m 34s\tremaining: 34.8s\n",
      "740:\tlearn: 0.1709314\ttotal: 1m 35s\tremaining: 33.5s\n",
      "750:\tlearn: 0.1702172\ttotal: 1m 37s\tremaining: 32.2s\n",
      "760:\tlearn: 0.1696055\ttotal: 1m 38s\tremaining: 30.9s\n",
      "770:\tlearn: 0.1689922\ttotal: 1m 39s\tremaining: 29.6s\n",
      "780:\tlearn: 0.1683946\ttotal: 1m 40s\tremaining: 28.3s\n",
      "790:\tlearn: 0.1680508\ttotal: 1m 42s\tremaining: 27s\n",
      "800:\tlearn: 0.1673724\ttotal: 1m 43s\tremaining: 25.7s\n",
      "810:\tlearn: 0.1669037\ttotal: 1m 44s\tremaining: 24.4s\n",
      "820:\tlearn: 0.1662286\ttotal: 1m 45s\tremaining: 23.1s\n",
      "830:\tlearn: 0.1656983\ttotal: 1m 47s\tremaining: 21.8s\n",
      "840:\tlearn: 0.1652748\ttotal: 1m 48s\tremaining: 20.5s\n",
      "850:\tlearn: 0.1648132\ttotal: 1m 49s\tremaining: 19.2s\n",
      "860:\tlearn: 0.1642863\ttotal: 1m 50s\tremaining: 17.9s\n",
      "870:\tlearn: 0.1636578\ttotal: 1m 52s\tremaining: 16.6s\n",
      "880:\tlearn: 0.1631645\ttotal: 1m 53s\tremaining: 15.3s\n",
      "890:\tlearn: 0.1626285\ttotal: 1m 54s\tremaining: 14s\n",
      "900:\tlearn: 0.1620685\ttotal: 1m 55s\tremaining: 12.7s\n",
      "910:\tlearn: 0.1615613\ttotal: 1m 56s\tremaining: 11.4s\n",
      "920:\tlearn: 0.1609931\ttotal: 1m 58s\tremaining: 10.1s\n",
      "930:\tlearn: 0.1605608\ttotal: 1m 59s\tremaining: 8.85s\n",
      "940:\tlearn: 0.1601323\ttotal: 2m\tremaining: 7.56s\n",
      "950:\tlearn: 0.1596350\ttotal: 2m 1s\tremaining: 6.28s\n",
      "960:\tlearn: 0.1590487\ttotal: 2m 3s\tremaining: 5s\n",
      "970:\tlearn: 0.1585328\ttotal: 2m 4s\tremaining: 3.71s\n",
      "980:\tlearn: 0.1580532\ttotal: 2m 5s\tremaining: 2.43s\n",
      "990:\tlearn: 0.1576095\ttotal: 2m 6s\tremaining: 1.15s\n",
      "999:\tlearn: 0.1571669\ttotal: 2m 7s\tremaining: 0us\n",
      "Метрика f1 на тренировочной выборке: 0.7315406119075515\n"
     ]
    }
   ],
   "source": [
    "random_cat =  RSCV(pip_cat,param_cat)\n",
    "random_cat.fit(X_train, y_train)\n",
    "model_cat = random_cat.best_estimator_\n",
    "\n",
    "print ('Метрика f1 на тренировочной выборке:', random_cat.best_score_)"
   ]
  },
  {
   "cell_type": "markdown",
   "metadata": {},
   "source": [
    "### RidgeClassifier"
   ]
  },
  {
   "cell_type": "code",
   "execution_count": 31,
   "metadata": {},
   "outputs": [],
   "source": [
    "param_rc =[{\n",
    "        'models__alpha': [1,10,100]\n",
    "}]\n",
    "pip_rc = Pipeline(\n",
    "    [('preprocessor', preprocessor),\n",
    "    ('models',RidgeClassifier(class_weight='balanced',\n",
    "                                 random_state=RANDOM_STATE))])"
   ]
  },
  {
   "cell_type": "code",
   "execution_count": 32,
   "metadata": {},
   "outputs": [
    {
     "name": "stdout",
     "output_type": "stream",
     "text": [
      "Метрика f1 на тренировочной выборке: 0.708176295763984\n"
     ]
    }
   ],
   "source": [
    "random_rc =  RSCV(pip_rc,param_rc)\n",
    "random_rc.fit(X_train, y_train)\n",
    "model_rc = random_rc.best_estimator_\n",
    "\n",
    "print ('Метрика f1 на тренировочной выборке:', random_rc.best_score_)"
   ]
  },
  {
   "cell_type": "markdown",
   "metadata": {},
   "source": [
    "### Тестововые данные"
   ]
  },
  {
   "cell_type": "markdown",
   "metadata": {},
   "source": [
    "Итак лучшая модель оказалась Логическая регресия f1=0.77 её и будем использовать на тестовой выборке."
   ]
  },
  {
   "cell_type": "code",
   "execution_count": 33,
   "metadata": {},
   "outputs": [
    {
     "name": "stdout",
     "output_type": "stream",
     "text": [
      "Метрика f1 на тестовой выборке: 0.7777777777777779\n"
     ]
    }
   ],
   "source": [
    "test_pred = model_lr.predict(X_test)\n",
    "print ('Метрика f1 на тестовой выборке:', f1_score(y_test,test_pred))"
   ]
  },
  {
   "cell_type": "markdown",
   "metadata": {},
   "source": [
    "Условия задачи выполняются f1 >0.75\n",
    "\n",
    "Проверим на адеватность"
   ]
  },
  {
   "cell_type": "code",
   "execution_count": 34,
   "metadata": {},
   "outputs": [
    {
     "data": {
      "text/plain": [
       "0.16825363607826724"
      ]
     },
     "execution_count": 34,
     "metadata": {},
     "output_type": "execute_result"
    }
   ],
   "source": [
    "dc =DummyClassifier(strategy='uniform')\n",
    "dc.fit(X_train, y_train)\n",
    "f1_score(y_test,dc.predict(X_test))"
   ]
  },
  {
   "cell_type": "markdown",
   "metadata": {},
   "source": [
    "Проверка пройдена"
   ]
  },
  {
   "cell_type": "markdown",
   "metadata": {},
   "source": [
    "## Выводы"
   ]
  },
  {
   "cell_type": "markdown",
   "metadata": {},
   "source": [
    "Были загружены и исследованы  данные\n",
    "- удален лишний признак.\n",
    "- Проведена очистка и лемматизация текстов.\n",
    "\n",
    "Были обучены пять моделей, метрика f1:\n",
    "- CatBoostClassifier, f1-0.73.\n",
    "- SGDClassifier, f1- 0.75.\n",
    "- DecisionTreeClassifier, f1 -0.73.\n",
    "- LogisticRegression, f1 -0.77.\n",
    "- RidgeClassifier, f1 - 0.71\n",
    "\n",
    "Определена лучшая модель - LogisticRegression\n",
    "- проверка на адекватность пройдена.\n",
    "- на тестовых данных метрика f1 = 0.77."
   ]
  }
 ],
 "metadata": {
  "ExecuteTimeLog": [
   {
    "duration": 1160,
    "start_time": "2024-03-16T05:37:19.810Z"
   },
   {
    "duration": 6,
    "start_time": "2024-03-16T05:38:26.557Z"
   },
   {
    "duration": 2468,
    "start_time": "2024-03-16T05:38:53.195Z"
   },
   {
    "duration": 15,
    "start_time": "2024-03-16T05:39:09.273Z"
   },
   {
    "duration": 31,
    "start_time": "2024-03-16T05:39:46.480Z"
   },
   {
    "duration": 26,
    "start_time": "2024-03-16T05:40:08.367Z"
   },
   {
    "duration": 238,
    "start_time": "2024-03-16T05:40:22.706Z"
   },
   {
    "duration": 206,
    "start_time": "2024-03-16T05:40:29.374Z"
   },
   {
    "duration": 7,
    "start_time": "2024-03-16T05:40:43.410Z"
   },
   {
    "duration": 7,
    "start_time": "2024-03-16T05:41:39.997Z"
   },
   {
    "duration": 17,
    "start_time": "2024-03-16T05:43:03.735Z"
   },
   {
    "duration": 10,
    "start_time": "2024-03-16T05:43:12.985Z"
   },
   {
    "duration": 210,
    "start_time": "2024-03-16T05:43:15.755Z"
   },
   {
    "duration": 6,
    "start_time": "2024-03-16T05:43:21.512Z"
   },
   {
    "duration": 30,
    "start_time": "2024-03-16T05:43:23.453Z"
   },
   {
    "duration": 248,
    "start_time": "2024-03-16T06:15:24.481Z"
   },
   {
    "duration": 8,
    "start_time": "2024-03-16T06:16:41.889Z"
   },
   {
    "duration": 3016,
    "start_time": "2024-03-16T06:17:41.492Z"
   },
   {
    "duration": 9,
    "start_time": "2024-03-16T06:17:51.178Z"
   },
   {
    "duration": 130,
    "start_time": "2024-03-16T06:18:24.633Z"
   },
   {
    "duration": 887,
    "start_time": "2024-03-16T06:18:41.689Z"
   },
   {
    "duration": 29,
    "start_time": "2024-03-16T06:24:20.560Z"
   },
   {
    "duration": 67,
    "start_time": "2024-03-16T06:27:35.362Z"
   },
   {
    "duration": 10,
    "start_time": "2024-03-16T06:28:16.430Z"
   },
   {
    "duration": 53,
    "start_time": "2024-03-16T06:29:27.050Z"
   },
   {
    "duration": 1425,
    "start_time": "2024-03-16T06:29:45.677Z"
   },
   {
    "duration": 2535,
    "start_time": "2024-03-16T06:29:47.104Z"
   },
   {
    "duration": 14,
    "start_time": "2024-03-16T06:29:49.641Z"
   },
   {
    "duration": 33,
    "start_time": "2024-03-16T06:29:49.656Z"
   },
   {
    "duration": 28,
    "start_time": "2024-03-16T06:29:49.692Z"
   },
   {
    "duration": 11,
    "start_time": "2024-03-16T06:29:49.721Z"
   },
   {
    "duration": 259,
    "start_time": "2024-03-16T06:29:49.734Z"
   },
   {
    "duration": 2311,
    "start_time": "2024-03-16T06:29:49.995Z"
   },
   {
    "duration": 1404,
    "start_time": "2024-03-16T06:30:10.071Z"
   },
   {
    "duration": 2531,
    "start_time": "2024-03-16T06:30:11.477Z"
   },
   {
    "duration": 17,
    "start_time": "2024-03-16T06:30:14.010Z"
   },
   {
    "duration": 33,
    "start_time": "2024-03-16T06:30:14.028Z"
   },
   {
    "duration": 38,
    "start_time": "2024-03-16T06:30:14.063Z"
   },
   {
    "duration": 10,
    "start_time": "2024-03-16T06:30:14.104Z"
   },
   {
    "duration": 282,
    "start_time": "2024-03-16T06:30:14.116Z"
   },
   {
    "duration": 2336,
    "start_time": "2024-03-16T06:30:14.400Z"
   },
   {
    "duration": 179,
    "start_time": "2024-03-16T06:30:16.739Z"
   },
   {
    "duration": 50,
    "start_time": "2024-03-16T06:30:47.554Z"
   },
   {
    "duration": 1419,
    "start_time": "2024-03-16T06:30:55.451Z"
   },
   {
    "duration": 2528,
    "start_time": "2024-03-16T06:30:56.872Z"
   },
   {
    "duration": 15,
    "start_time": "2024-03-16T06:30:59.401Z"
   },
   {
    "duration": 33,
    "start_time": "2024-03-16T06:30:59.418Z"
   },
   {
    "duration": 37,
    "start_time": "2024-03-16T06:30:59.453Z"
   },
   {
    "duration": 15,
    "start_time": "2024-03-16T06:30:59.491Z"
   },
   {
    "duration": 241,
    "start_time": "2024-03-16T06:30:59.508Z"
   },
   {
    "duration": 2293,
    "start_time": "2024-03-16T06:30:59.751Z"
   },
   {
    "duration": 160,
    "start_time": "2024-03-16T06:31:02.046Z"
   },
   {
    "duration": 18,
    "start_time": "2024-03-16T06:31:15.563Z"
   },
   {
    "duration": 5,
    "start_time": "2024-03-16T06:36:50.001Z"
   },
   {
    "duration": 329,
    "start_time": "2024-03-16T06:37:14.834Z"
   },
   {
    "duration": 10,
    "start_time": "2024-03-16T06:37:36.421Z"
   },
   {
    "duration": 3,
    "start_time": "2024-03-16T06:40:37.890Z"
   },
   {
    "duration": 329567,
    "start_time": "2024-03-16T06:40:38.679Z"
   },
   {
    "duration": 1398,
    "start_time": "2024-03-16T06:46:37.476Z"
   },
   {
    "duration": 2572,
    "start_time": "2024-03-16T06:46:38.876Z"
   },
   {
    "duration": 15,
    "start_time": "2024-03-16T06:46:41.450Z"
   },
   {
    "duration": 45,
    "start_time": "2024-03-16T06:46:41.467Z"
   },
   {
    "duration": 33,
    "start_time": "2024-03-16T06:46:41.514Z"
   },
   {
    "duration": 11,
    "start_time": "2024-03-16T06:46:41.548Z"
   },
   {
    "duration": 248,
    "start_time": "2024-03-16T06:46:41.560Z"
   },
   {
    "duration": 2349,
    "start_time": "2024-03-16T06:46:41.810Z"
   },
   {
    "duration": 23283,
    "start_time": "2024-03-16T06:46:44.161Z"
   },
   {
    "duration": 4,
    "start_time": "2024-03-16T06:47:21.461Z"
   },
   {
    "duration": 9,
    "start_time": "2024-03-16T06:47:55.479Z"
   },
   {
    "duration": 4,
    "start_time": "2024-03-16T06:48:28.862Z"
   },
   {
    "duration": 10,
    "start_time": "2024-03-16T06:52:21.614Z"
   },
   {
    "duration": 10,
    "start_time": "2024-03-16T06:52:56.970Z"
   },
   {
    "duration": 1833863,
    "start_time": "2024-03-16T06:53:25.545Z"
   },
   {
    "duration": 0,
    "start_time": "2024-03-16T07:23:59.414Z"
   },
   {
    "duration": 239,
    "start_time": "2024-03-16T07:25:19.864Z"
   },
   {
    "duration": 7,
    "start_time": "2024-03-16T07:25:35.788Z"
   },
   {
    "duration": 3,
    "start_time": "2024-03-16T07:26:41.443Z"
   },
   {
    "duration": 4,
    "start_time": "2024-03-16T07:26:49.360Z"
   },
   {
    "duration": 1233,
    "start_time": "2024-03-16T07:26:49.366Z"
   },
   {
    "duration": 8,
    "start_time": "2024-03-16T07:26:50.601Z"
   },
   {
    "duration": 41,
    "start_time": "2024-03-16T07:26:50.611Z"
   },
   {
    "duration": 38,
    "start_time": "2024-03-16T07:26:50.655Z"
   },
   {
    "duration": 13,
    "start_time": "2024-03-16T07:26:50.695Z"
   },
   {
    "duration": 248,
    "start_time": "2024-03-16T07:26:50.709Z"
   },
   {
    "duration": 4,
    "start_time": "2024-03-16T07:26:50.959Z"
   },
   {
    "duration": 32,
    "start_time": "2024-03-16T07:26:50.964Z"
   },
   {
    "duration": 7908,
    "start_time": "2024-03-16T07:27:08.628Z"
   },
   {
    "duration": 12,
    "start_time": "2024-03-16T07:27:36.701Z"
   },
   {
    "duration": 6,
    "start_time": "2024-03-16T07:29:44.247Z"
   },
   {
    "duration": 1345,
    "start_time": "2024-03-16T07:31:11.725Z"
   },
   {
    "duration": 2541,
    "start_time": "2024-03-16T07:31:13.071Z"
   },
   {
    "duration": 16,
    "start_time": "2024-03-16T07:31:15.614Z"
   },
   {
    "duration": 22,
    "start_time": "2024-03-16T07:31:15.631Z"
   },
   {
    "duration": 71,
    "start_time": "2024-03-16T07:31:15.655Z"
   },
   {
    "duration": 42,
    "start_time": "2024-03-16T07:31:15.727Z"
   },
   {
    "duration": 256,
    "start_time": "2024-03-16T07:31:15.771Z"
   },
   {
    "duration": 3,
    "start_time": "2024-03-16T07:31:16.028Z"
   },
   {
    "duration": 7828,
    "start_time": "2024-03-16T07:31:16.033Z"
   },
   {
    "duration": 147,
    "start_time": "2024-03-16T07:31:23.862Z"
   },
   {
    "duration": 121,
    "start_time": "2024-03-16T07:31:24.011Z"
   },
   {
    "duration": 10,
    "start_time": "2024-03-16T07:31:48.464Z"
   },
   {
    "duration": 12755,
    "start_time": "2024-03-16T07:32:02.681Z"
   },
   {
    "duration": 5,
    "start_time": "2024-03-16T07:32:28.058Z"
   },
   {
    "duration": 2,
    "start_time": "2024-03-16T07:33:53.318Z"
   },
   {
    "duration": 62,
    "start_time": "2024-03-16T07:48:05.234Z"
   },
   {
    "duration": 4,
    "start_time": "2024-03-16T07:48:07.157Z"
   },
   {
    "duration": 1422,
    "start_time": "2024-03-16T07:48:21.788Z"
   },
   {
    "duration": 2551,
    "start_time": "2024-03-16T07:48:23.212Z"
   },
   {
    "duration": 15,
    "start_time": "2024-03-16T07:48:25.765Z"
   },
   {
    "duration": 10,
    "start_time": "2024-03-16T07:48:25.782Z"
   },
   {
    "duration": 40,
    "start_time": "2024-03-16T07:48:25.794Z"
   },
   {
    "duration": 28,
    "start_time": "2024-03-16T07:48:25.836Z"
   },
   {
    "duration": 255,
    "start_time": "2024-03-16T07:48:25.866Z"
   },
   {
    "duration": 3,
    "start_time": "2024-03-16T07:48:26.123Z"
   },
   {
    "duration": 7782,
    "start_time": "2024-03-16T07:48:26.128Z"
   },
   {
    "duration": 73,
    "start_time": "2024-03-16T07:48:33.912Z"
   },
   {
    "duration": 225,
    "start_time": "2024-03-16T07:48:33.987Z"
   },
   {
    "duration": 6439,
    "start_time": "2024-03-16T07:48:34.214Z"
   },
   {
    "duration": 3,
    "start_time": "2024-03-16T07:48:40.655Z"
   },
   {
    "duration": 1275,
    "start_time": "2024-03-16T07:50:27.108Z"
   },
   {
    "duration": 1400,
    "start_time": "2024-03-16T07:51:12.375Z"
   },
   {
    "duration": 2523,
    "start_time": "2024-03-16T07:51:13.777Z"
   },
   {
    "duration": 15,
    "start_time": "2024-03-16T07:51:16.302Z"
   },
   {
    "duration": 50,
    "start_time": "2024-03-16T07:51:16.318Z"
   },
   {
    "duration": 39,
    "start_time": "2024-03-16T07:51:16.371Z"
   },
   {
    "duration": 35,
    "start_time": "2024-03-16T07:51:16.412Z"
   },
   {
    "duration": 244,
    "start_time": "2024-03-16T07:51:16.449Z"
   },
   {
    "duration": 4,
    "start_time": "2024-03-16T07:51:16.694Z"
   },
   {
    "duration": 7695,
    "start_time": "2024-03-16T07:51:16.700Z"
   },
   {
    "duration": 65,
    "start_time": "2024-03-16T07:51:24.397Z"
   },
   {
    "duration": 229,
    "start_time": "2024-03-16T07:51:24.464Z"
   },
   {
    "duration": 6474,
    "start_time": "2024-03-16T07:51:24.695Z"
   },
   {
    "duration": 6024,
    "start_time": "2024-03-16T07:51:31.171Z"
   },
   {
    "duration": 30819,
    "start_time": "2024-03-16T07:51:37.198Z"
   },
   {
    "duration": 3,
    "start_time": "2024-03-16T07:58:45.947Z"
   },
   {
    "duration": 4,
    "start_time": "2024-03-16T08:01:37.616Z"
   },
   {
    "duration": 5,
    "start_time": "2024-03-16T08:02:47.816Z"
   },
   {
    "duration": 4,
    "start_time": "2024-03-16T08:07:01.429Z"
   },
   {
    "duration": 178,
    "start_time": "2024-03-16T08:07:02.414Z"
   },
   {
    "duration": 1365,
    "start_time": "2024-03-16T08:08:08.314Z"
   },
   {
    "duration": 1386,
    "start_time": "2024-03-16T08:08:09.681Z"
   },
   {
    "duration": 15,
    "start_time": "2024-03-16T08:08:11.069Z"
   },
   {
    "duration": 10,
    "start_time": "2024-03-16T08:08:11.086Z"
   },
   {
    "duration": 38,
    "start_time": "2024-03-16T08:08:11.098Z"
   },
   {
    "duration": 27,
    "start_time": "2024-03-16T08:08:11.138Z"
   },
   {
    "duration": 254,
    "start_time": "2024-03-16T08:08:11.166Z"
   },
   {
    "duration": 3,
    "start_time": "2024-03-16T08:08:11.422Z"
   },
   {
    "duration": 7755,
    "start_time": "2024-03-16T08:08:11.427Z"
   },
   {
    "duration": 34,
    "start_time": "2024-03-16T08:08:19.183Z"
   },
   {
    "duration": 132,
    "start_time": "2024-03-16T08:08:19.218Z"
   },
   {
    "duration": 3,
    "start_time": "2024-03-16T08:08:19.352Z"
   },
   {
    "duration": 162,
    "start_time": "2024-03-16T08:08:19.356Z"
   },
   {
    "duration": 0,
    "start_time": "2024-03-16T08:08:19.519Z"
   },
   {
    "duration": 3,
    "start_time": "2024-03-16T08:09:00.279Z"
   },
   {
    "duration": 45,
    "start_time": "2024-03-16T08:09:00.867Z"
   },
   {
    "duration": 3,
    "start_time": "2024-03-16T08:11:17.632Z"
   },
   {
    "duration": 48,
    "start_time": "2024-03-16T08:11:19.329Z"
   },
   {
    "duration": 4,
    "start_time": "2024-03-16T08:13:00.663Z"
   },
   {
    "duration": 42,
    "start_time": "2024-03-16T08:13:01.164Z"
   },
   {
    "duration": 9,
    "start_time": "2024-03-16T08:13:19.566Z"
   },
   {
    "duration": 7,
    "start_time": "2024-03-16T08:13:32.772Z"
   },
   {
    "duration": 4,
    "start_time": "2024-03-16T08:15:01.994Z"
   },
   {
    "duration": 5788,
    "start_time": "2024-03-16T08:15:02.888Z"
   },
   {
    "duration": 7,
    "start_time": "2024-03-16T08:15:10.352Z"
   },
   {
    "duration": 53,
    "start_time": "2024-03-16T08:15:13.841Z"
   },
   {
    "duration": 5,
    "start_time": "2024-03-16T08:15:14.619Z"
   },
   {
    "duration": 4,
    "start_time": "2024-03-16T08:15:16.574Z"
   },
   {
    "duration": 43,
    "start_time": "2024-03-16T08:15:17.311Z"
   },
   {
    "duration": 8,
    "start_time": "2024-03-16T08:15:36.963Z"
   },
   {
    "duration": 5,
    "start_time": "2024-03-16T08:15:56.229Z"
   },
   {
    "duration": 8,
    "start_time": "2024-03-16T08:16:04.976Z"
   },
   {
    "duration": 5,
    "start_time": "2024-03-16T08:16:11.801Z"
   },
   {
    "duration": 10,
    "start_time": "2024-03-16T08:24:38.076Z"
   },
   {
    "duration": 12,
    "start_time": "2024-03-16T08:25:04.020Z"
   },
   {
    "duration": 4,
    "start_time": "2024-03-16T08:27:39.246Z"
   },
   {
    "duration": 47,
    "start_time": "2024-03-16T08:27:40.036Z"
   },
   {
    "duration": 3,
    "start_time": "2024-03-16T08:29:45.851Z"
   },
   {
    "duration": 47,
    "start_time": "2024-03-16T08:29:46.440Z"
   },
   {
    "duration": 39,
    "start_time": "2024-03-16T08:34:33.790Z"
   },
   {
    "duration": 4,
    "start_time": "2024-03-16T08:34:38.881Z"
   },
   {
    "duration": 45,
    "start_time": "2024-03-16T08:34:39.795Z"
   },
   {
    "duration": 3,
    "start_time": "2024-03-16T08:35:43.423Z"
   },
   {
    "duration": 45,
    "start_time": "2024-03-16T08:35:44.116Z"
   },
   {
    "duration": 1388,
    "start_time": "2024-03-16T08:35:52.449Z"
   },
   {
    "duration": 1024,
    "start_time": "2024-03-16T08:35:53.839Z"
   },
   {
    "duration": 22,
    "start_time": "2024-03-16T08:35:54.865Z"
   },
   {
    "duration": 10,
    "start_time": "2024-03-16T08:35:54.889Z"
   },
   {
    "duration": 34,
    "start_time": "2024-03-16T08:35:54.901Z"
   },
   {
    "duration": 47,
    "start_time": "2024-03-16T08:35:54.936Z"
   },
   {
    "duration": 254,
    "start_time": "2024-03-16T08:35:54.985Z"
   },
   {
    "duration": 3,
    "start_time": "2024-03-16T08:35:55.241Z"
   },
   {
    "duration": 7996,
    "start_time": "2024-03-16T08:35:55.246Z"
   },
   {
    "duration": 7,
    "start_time": "2024-03-16T08:36:03.244Z"
   },
   {
    "duration": 50,
    "start_time": "2024-03-16T08:36:03.252Z"
   },
   {
    "duration": 134,
    "start_time": "2024-03-16T08:36:03.304Z"
   },
   {
    "duration": 4,
    "start_time": "2024-03-16T08:36:03.439Z"
   },
   {
    "duration": 177,
    "start_time": "2024-03-16T08:36:03.445Z"
   },
   {
    "duration": 0,
    "start_time": "2024-03-16T08:36:03.624Z"
   },
   {
    "duration": 4,
    "start_time": "2024-03-16T08:39:23.555Z"
   },
   {
    "duration": 4,
    "start_time": "2024-03-16T08:40:26.835Z"
   },
   {
    "duration": 1347,
    "start_time": "2024-03-16T08:40:29.323Z"
   },
   {
    "duration": 5,
    "start_time": "2024-03-16T08:41:38.901Z"
   },
   {
    "duration": 1197,
    "start_time": "2024-03-16T08:42:37.419Z"
   },
   {
    "duration": 4,
    "start_time": "2024-03-16T08:42:39.885Z"
   },
   {
    "duration": 3,
    "start_time": "2024-03-16T08:42:43.525Z"
   },
   {
    "duration": 1376,
    "start_time": "2024-03-16T08:42:56.771Z"
   },
   {
    "duration": 2536,
    "start_time": "2024-03-16T08:42:58.149Z"
   },
   {
    "duration": 16,
    "start_time": "2024-03-16T08:43:00.686Z"
   },
   {
    "duration": 77,
    "start_time": "2024-03-16T08:43:00.703Z"
   },
   {
    "duration": 126,
    "start_time": "2024-03-16T08:43:00.783Z"
   },
   {
    "duration": 88,
    "start_time": "2024-03-16T08:43:00.911Z"
   },
   {
    "duration": 289,
    "start_time": "2024-03-16T08:43:01.000Z"
   },
   {
    "duration": 4,
    "start_time": "2024-03-16T08:43:01.290Z"
   },
   {
    "duration": 8044,
    "start_time": "2024-03-16T08:43:01.295Z"
   },
   {
    "duration": 8,
    "start_time": "2024-03-16T08:43:09.340Z"
   },
   {
    "duration": 46,
    "start_time": "2024-03-16T08:43:09.349Z"
   },
   {
    "duration": 170,
    "start_time": "2024-03-16T08:43:09.397Z"
   },
   {
    "duration": 1140,
    "start_time": "2024-03-16T08:43:09.568Z"
   },
   {
    "duration": 11,
    "start_time": "2024-03-16T08:43:10.710Z"
   },
   {
    "duration": 13,
    "start_time": "2024-03-16T08:43:10.723Z"
   },
   {
    "duration": 7,
    "start_time": "2024-03-17T17:01:23.136Z"
   },
   {
    "duration": 471,
    "start_time": "2024-03-20T12:33:23.737Z"
   },
   {
    "duration": 5317,
    "start_time": "2024-03-20T12:34:32.779Z"
   },
   {
    "duration": 7,
    "start_time": "2024-03-20T12:35:17.724Z"
   },
   {
    "duration": 890,
    "start_time": "2024-03-20T12:35:21.237Z"
   },
   {
    "duration": 14,
    "start_time": "2024-03-20T12:35:23.133Z"
   },
   {
    "duration": 10,
    "start_time": "2024-03-20T12:35:23.781Z"
   },
   {
    "duration": 30,
    "start_time": "2024-03-20T12:35:24.475Z"
   },
   {
    "duration": 24,
    "start_time": "2024-03-20T12:35:25.163Z"
   },
   {
    "duration": 229,
    "start_time": "2024-03-20T12:35:25.761Z"
   },
   {
    "duration": 8,
    "start_time": "2024-03-20T12:35:26.803Z"
   },
   {
    "duration": 2,
    "start_time": "2024-03-20T12:35:28.204Z"
   },
   {
    "duration": 3,
    "start_time": "2024-03-20T12:35:29.512Z"
   },
   {
    "duration": 902,
    "start_time": "2024-03-20T12:35:33.624Z"
   },
   {
    "duration": 689,
    "start_time": "2024-03-20T12:36:02.428Z"
   },
   {
    "duration": 4139,
    "start_time": "2024-03-20T12:36:10.334Z"
   }
  ],
  "kernelspec": {
   "display_name": "Python 3 (ipykernel)",
   "language": "python",
   "name": "python3"
  },
  "language_info": {
   "codemirror_mode": {
    "name": "ipython",
    "version": 3
   },
   "file_extension": ".py",
   "mimetype": "text/x-python",
   "name": "python",
   "nbconvert_exporter": "python",
   "pygments_lexer": "ipython3",
   "version": "3.11.5"
  },
  "toc": {
   "base_numbering": 1,
   "nav_menu": {},
   "number_sections": true,
   "sideBar": true,
   "skip_h1_title": true,
   "title_cell": "Содержание",
   "title_sidebar": "Contents",
   "toc_cell": true,
   "toc_position": {
    "height": "calc(100% - 180px)",
    "left": "10px",
    "top": "150px",
    "width": "302.391px"
   },
   "toc_section_display": true,
   "toc_window_display": false
  }
 },
 "nbformat": 4,
 "nbformat_minor": 2
}
