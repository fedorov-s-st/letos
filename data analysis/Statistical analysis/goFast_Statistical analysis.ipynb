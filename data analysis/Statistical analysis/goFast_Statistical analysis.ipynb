{
 "cells": [
  {
   "cell_type": "markdown",
   "id": "df073089",
   "metadata": {},
   "source": [
    "**Описание проекта**\n",
    "Вы аналитик популярного сервиса аренды самокатов GoFast. Вам передали данные о некоторых пользователях из нескольких городов, а также об их поездках. Проанализируйте данные и проверьте некоторые гипотезы, которые могут помочь бизнесу вырасти.\n",
    "Чтобы совершать поездки по городу, пользователи сервиса GoFast пользуются мобильным приложением.\n",
    "\n",
    "Сервисом можно пользоваться:\n",
    "\n",
    "без подписки:\n",
    "- абонентская плата отсутствует;\n",
    "- стоимость одной минуты поездки — 8 рублей;\n",
    "- стоимость старта (начала поездки) — 50 рублей;\n",
    "\n",
    "с подпиской Ultra:\n",
    "- абонентская плата — 199 рублей в месяц;\n",
    "- стоимость одной минуты поездки — 6 рублей;\n",
    "- стоимость старта — бесплатно."
   ]
  },
  {
   "cell_type": "markdown",
   "id": "c42cbe00",
   "metadata": {},
   "source": [
    "## Шаг 1. Загрузка данных"
   ]
  },
  {
   "cell_type": "code",
   "execution_count": 1,
   "id": "eff9f206",
   "metadata": {},
   "outputs": [],
   "source": [
    "import numpy as np\n",
    "import pandas as pd\n",
    "import seaborn as sns\n",
    "import matplotlib.pyplot as plt\n",
    "from scipy import stats as st\n",
    "from math import *\n",
    "from scipy.stats import binom,norm"
   ]
  },
  {
   "cell_type": "code",
   "execution_count": 2,
   "id": "4861a605",
   "metadata": {},
   "outputs": [],
   "source": [
    "# Таблица с информацией о пользователях\n",
    "data_user = pd.read_csv('/datasets/users_go.csv')\n",
    "# Таблица с информацией о поездках\n",
    "data_rider = pd.read_csv('/datasets/rides_go.csv')\n",
    "# Таблица с информацией о подписке\n",
    "data_sub = pd.read_csv('/datasets/subscriptions_go.csv')"
   ]
  },
  {
   "cell_type": "code",
   "execution_count": 3,
   "id": "aacf744d",
   "metadata": {},
   "outputs": [
    {
     "name": "stdout",
     "output_type": "stream",
     "text": [
      "<class 'pandas.core.frame.DataFrame'>\n",
      "RangeIndex: 1565 entries, 0 to 1564\n",
      "Data columns (total 5 columns):\n",
      " #   Column             Non-Null Count  Dtype \n",
      "---  ------             --------------  ----- \n",
      " 0   user_id            1565 non-null   int64 \n",
      " 1   name               1565 non-null   object\n",
      " 2   age                1565 non-null   int64 \n",
      " 3   city               1565 non-null   object\n",
      " 4   subscription_type  1565 non-null   object\n",
      "dtypes: int64(2), object(3)\n",
      "memory usage: 61.3+ KB\n",
      "None\n"
     ]
    },
    {
     "data": {
      "text/html": [
       "<div>\n",
       "<style scoped>\n",
       "    .dataframe tbody tr th:only-of-type {\n",
       "        vertical-align: middle;\n",
       "    }\n",
       "\n",
       "    .dataframe tbody tr th {\n",
       "        vertical-align: top;\n",
       "    }\n",
       "\n",
       "    .dataframe thead th {\n",
       "        text-align: right;\n",
       "    }\n",
       "</style>\n",
       "<table border=\"1\" class=\"dataframe\">\n",
       "  <thead>\n",
       "    <tr style=\"text-align: right;\">\n",
       "      <th></th>\n",
       "      <th>user_id</th>\n",
       "      <th>name</th>\n",
       "      <th>age</th>\n",
       "      <th>city</th>\n",
       "      <th>subscription_type</th>\n",
       "    </tr>\n",
       "  </thead>\n",
       "  <tbody>\n",
       "    <tr>\n",
       "      <th>0</th>\n",
       "      <td>1</td>\n",
       "      <td>Кира</td>\n",
       "      <td>22</td>\n",
       "      <td>Тюмень</td>\n",
       "      <td>ultra</td>\n",
       "    </tr>\n",
       "    <tr>\n",
       "      <th>1</th>\n",
       "      <td>2</td>\n",
       "      <td>Станислав</td>\n",
       "      <td>31</td>\n",
       "      <td>Омск</td>\n",
       "      <td>ultra</td>\n",
       "    </tr>\n",
       "    <tr>\n",
       "      <th>2</th>\n",
       "      <td>3</td>\n",
       "      <td>Алексей</td>\n",
       "      <td>20</td>\n",
       "      <td>Москва</td>\n",
       "      <td>ultra</td>\n",
       "    </tr>\n",
       "    <tr>\n",
       "      <th>3</th>\n",
       "      <td>4</td>\n",
       "      <td>Константин</td>\n",
       "      <td>26</td>\n",
       "      <td>Ростов-на-Дону</td>\n",
       "      <td>ultra</td>\n",
       "    </tr>\n",
       "    <tr>\n",
       "      <th>4</th>\n",
       "      <td>5</td>\n",
       "      <td>Адель</td>\n",
       "      <td>28</td>\n",
       "      <td>Омск</td>\n",
       "      <td>ultra</td>\n",
       "    </tr>\n",
       "  </tbody>\n",
       "</table>\n",
       "</div>"
      ],
      "text/plain": [
       "   user_id        name  age            city subscription_type\n",
       "0        1        Кира   22          Тюмень             ultra\n",
       "1        2   Станислав   31            Омск             ultra\n",
       "2        3     Алексей   20          Москва             ultra\n",
       "3        4  Константин   26  Ростов-на-Дону             ultra\n",
       "4        5       Адель   28            Омск             ultra"
      ]
     },
     "execution_count": 3,
     "metadata": {},
     "output_type": "execute_result"
    }
   ],
   "source": [
    "# изучим таблицу о пользователях\n",
    "print(data_user.info())\n",
    "data_user.head()"
   ]
  },
  {
   "cell_type": "code",
   "execution_count": 4,
   "id": "f8d5109d",
   "metadata": {},
   "outputs": [
    {
     "name": "stdout",
     "output_type": "stream",
     "text": [
      "<class 'pandas.core.frame.DataFrame'>\n",
      "RangeIndex: 18068 entries, 0 to 18067\n",
      "Data columns (total 4 columns):\n",
      " #   Column    Non-Null Count  Dtype  \n",
      "---  ------    --------------  -----  \n",
      " 0   user_id   18068 non-null  int64  \n",
      " 1   distance  18068 non-null  float64\n",
      " 2   duration  18068 non-null  float64\n",
      " 3   date      18068 non-null  object \n",
      "dtypes: float64(2), int64(1), object(1)\n",
      "memory usage: 564.8+ KB\n",
      "None\n"
     ]
    },
    {
     "data": {
      "text/html": [
       "<div>\n",
       "<style scoped>\n",
       "    .dataframe tbody tr th:only-of-type {\n",
       "        vertical-align: middle;\n",
       "    }\n",
       "\n",
       "    .dataframe tbody tr th {\n",
       "        vertical-align: top;\n",
       "    }\n",
       "\n",
       "    .dataframe thead th {\n",
       "        text-align: right;\n",
       "    }\n",
       "</style>\n",
       "<table border=\"1\" class=\"dataframe\">\n",
       "  <thead>\n",
       "    <tr style=\"text-align: right;\">\n",
       "      <th></th>\n",
       "      <th>user_id</th>\n",
       "      <th>distance</th>\n",
       "      <th>duration</th>\n",
       "      <th>date</th>\n",
       "    </tr>\n",
       "  </thead>\n",
       "  <tbody>\n",
       "    <tr>\n",
       "      <th>0</th>\n",
       "      <td>1</td>\n",
       "      <td>4409.919140</td>\n",
       "      <td>25.599769</td>\n",
       "      <td>2021-01-01</td>\n",
       "    </tr>\n",
       "    <tr>\n",
       "      <th>1</th>\n",
       "      <td>1</td>\n",
       "      <td>2617.592153</td>\n",
       "      <td>15.816871</td>\n",
       "      <td>2021-01-18</td>\n",
       "    </tr>\n",
       "    <tr>\n",
       "      <th>2</th>\n",
       "      <td>1</td>\n",
       "      <td>754.159807</td>\n",
       "      <td>6.232113</td>\n",
       "      <td>2021-04-20</td>\n",
       "    </tr>\n",
       "    <tr>\n",
       "      <th>3</th>\n",
       "      <td>1</td>\n",
       "      <td>2694.783254</td>\n",
       "      <td>18.511000</td>\n",
       "      <td>2021-08-11</td>\n",
       "    </tr>\n",
       "    <tr>\n",
       "      <th>4</th>\n",
       "      <td>1</td>\n",
       "      <td>4028.687306</td>\n",
       "      <td>26.265803</td>\n",
       "      <td>2021-08-28</td>\n",
       "    </tr>\n",
       "  </tbody>\n",
       "</table>\n",
       "</div>"
      ],
      "text/plain": [
       "   user_id     distance   duration        date\n",
       "0        1  4409.919140  25.599769  2021-01-01\n",
       "1        1  2617.592153  15.816871  2021-01-18\n",
       "2        1   754.159807   6.232113  2021-04-20\n",
       "3        1  2694.783254  18.511000  2021-08-11\n",
       "4        1  4028.687306  26.265803  2021-08-28"
      ]
     },
     "execution_count": 4,
     "metadata": {},
     "output_type": "execute_result"
    }
   ],
   "source": [
    "# изучим таблицу о поездках\n",
    "print(data_rider.info())\n",
    "data_rider.head()"
   ]
  },
  {
   "cell_type": "code",
   "execution_count": 5,
   "id": "db432ee8",
   "metadata": {},
   "outputs": [
    {
     "name": "stdout",
     "output_type": "stream",
     "text": [
      "<class 'pandas.core.frame.DataFrame'>\n",
      "RangeIndex: 2 entries, 0 to 1\n",
      "Data columns (total 4 columns):\n",
      " #   Column             Non-Null Count  Dtype \n",
      "---  ------             --------------  ----- \n",
      " 0   subscription_type  2 non-null      object\n",
      " 1   minute_price       2 non-null      int64 \n",
      " 2   start_ride_price   2 non-null      int64 \n",
      " 3   subscription_fee   2 non-null      int64 \n",
      "dtypes: int64(3), object(1)\n",
      "memory usage: 192.0+ bytes\n",
      "None\n"
     ]
    },
    {
     "data": {
      "text/html": [
       "<div>\n",
       "<style scoped>\n",
       "    .dataframe tbody tr th:only-of-type {\n",
       "        vertical-align: middle;\n",
       "    }\n",
       "\n",
       "    .dataframe tbody tr th {\n",
       "        vertical-align: top;\n",
       "    }\n",
       "\n",
       "    .dataframe thead th {\n",
       "        text-align: right;\n",
       "    }\n",
       "</style>\n",
       "<table border=\"1\" class=\"dataframe\">\n",
       "  <thead>\n",
       "    <tr style=\"text-align: right;\">\n",
       "      <th></th>\n",
       "      <th>subscription_type</th>\n",
       "      <th>minute_price</th>\n",
       "      <th>start_ride_price</th>\n",
       "      <th>subscription_fee</th>\n",
       "    </tr>\n",
       "  </thead>\n",
       "  <tbody>\n",
       "    <tr>\n",
       "      <th>0</th>\n",
       "      <td>free</td>\n",
       "      <td>8</td>\n",
       "      <td>50</td>\n",
       "      <td>0</td>\n",
       "    </tr>\n",
       "    <tr>\n",
       "      <th>1</th>\n",
       "      <td>ultra</td>\n",
       "      <td>6</td>\n",
       "      <td>0</td>\n",
       "      <td>199</td>\n",
       "    </tr>\n",
       "  </tbody>\n",
       "</table>\n",
       "</div>"
      ],
      "text/plain": [
       "  subscription_type  minute_price  start_ride_price  subscription_fee\n",
       "0              free             8                50                 0\n",
       "1             ultra             6                 0               199"
      ]
     },
     "execution_count": 5,
     "metadata": {},
     "output_type": "execute_result"
    }
   ],
   "source": [
    "# изучим таблицу о подписке\n",
    "print(data_sub.info())\n",
    "data_sub.head()"
   ]
  },
  {
   "cell_type": "markdown",
   "id": "7385568d",
   "metadata": {},
   "source": [
    "**Вывод:**\n",
    "Добавили 3 дата фрейма. В дальнейшем надо будет проверить на пропуски и дубликаты. Объеденить 3 таблицы в одну и изменить типы данных некоторых столбцов"
   ]
  },
  {
   "cell_type": "markdown",
   "id": "e95ebca7",
   "metadata": {},
   "source": [
    "## Шаг 2. Предобработка данных"
   ]
  },
  {
   "cell_type": "markdown",
   "id": "7abc3ea8",
   "metadata": {},
   "source": [
    "### Приведите столбец date к типу даты pandas"
   ]
  },
  {
   "cell_type": "code",
   "execution_count": 6,
   "id": "af6d202c",
   "metadata": {},
   "outputs": [
    {
     "data": {
      "text/plain": [
       "0   2021-01-01\n",
       "1   2021-01-18\n",
       "2   2021-04-20\n",
       "3   2021-08-11\n",
       "4   2021-08-28\n",
       "Name: date, dtype: datetime64[ns]"
      ]
     },
     "execution_count": 6,
     "metadata": {},
     "output_type": "execute_result"
    }
   ],
   "source": [
    "# изменим тип столбца с датой\n",
    "data_rider['date'] = data_rider['date'].astype(\"datetime64[ns]\")\n",
    "data_rider['date'].head()"
   ]
  },
  {
   "cell_type": "markdown",
   "id": "177a520d",
   "metadata": {},
   "source": [
    "### Создайте новый столбец с номером месяца на основе столбца date."
   ]
  },
  {
   "cell_type": "code",
   "execution_count": 7,
   "id": "fdd34f57",
   "metadata": {},
   "outputs": [
    {
     "data": {
      "text/html": [
       "<div>\n",
       "<style scoped>\n",
       "    .dataframe tbody tr th:only-of-type {\n",
       "        vertical-align: middle;\n",
       "    }\n",
       "\n",
       "    .dataframe tbody tr th {\n",
       "        vertical-align: top;\n",
       "    }\n",
       "\n",
       "    .dataframe thead th {\n",
       "        text-align: right;\n",
       "    }\n",
       "</style>\n",
       "<table border=\"1\" class=\"dataframe\">\n",
       "  <thead>\n",
       "    <tr style=\"text-align: right;\">\n",
       "      <th></th>\n",
       "      <th>user_id</th>\n",
       "      <th>distance</th>\n",
       "      <th>duration</th>\n",
       "      <th>date</th>\n",
       "      <th>month</th>\n",
       "    </tr>\n",
       "  </thead>\n",
       "  <tbody>\n",
       "    <tr>\n",
       "      <th>0</th>\n",
       "      <td>1</td>\n",
       "      <td>4409.919140</td>\n",
       "      <td>25.599769</td>\n",
       "      <td>2021-01-01</td>\n",
       "      <td>1</td>\n",
       "    </tr>\n",
       "    <tr>\n",
       "      <th>1</th>\n",
       "      <td>1</td>\n",
       "      <td>2617.592153</td>\n",
       "      <td>15.816871</td>\n",
       "      <td>2021-01-18</td>\n",
       "      <td>1</td>\n",
       "    </tr>\n",
       "    <tr>\n",
       "      <th>2</th>\n",
       "      <td>1</td>\n",
       "      <td>754.159807</td>\n",
       "      <td>6.232113</td>\n",
       "      <td>2021-04-20</td>\n",
       "      <td>4</td>\n",
       "    </tr>\n",
       "    <tr>\n",
       "      <th>3</th>\n",
       "      <td>1</td>\n",
       "      <td>2694.783254</td>\n",
       "      <td>18.511000</td>\n",
       "      <td>2021-08-11</td>\n",
       "      <td>8</td>\n",
       "    </tr>\n",
       "    <tr>\n",
       "      <th>4</th>\n",
       "      <td>1</td>\n",
       "      <td>4028.687306</td>\n",
       "      <td>26.265803</td>\n",
       "      <td>2021-08-28</td>\n",
       "      <td>8</td>\n",
       "    </tr>\n",
       "  </tbody>\n",
       "</table>\n",
       "</div>"
      ],
      "text/plain": [
       "   user_id     distance   duration       date  month\n",
       "0        1  4409.919140  25.599769 2021-01-01      1\n",
       "1        1  2617.592153  15.816871 2021-01-18      1\n",
       "2        1   754.159807   6.232113 2021-04-20      4\n",
       "3        1  2694.783254  18.511000 2021-08-11      8\n",
       "4        1  4028.687306  26.265803 2021-08-28      8"
      ]
     },
     "execution_count": 7,
     "metadata": {},
     "output_type": "execute_result"
    }
   ],
   "source": [
    "data_rider['month'] = data_rider['date'].dt.month\n",
    "data_rider.head()"
   ]
  },
  {
   "cell_type": "markdown",
   "id": "61a549b5",
   "metadata": {},
   "source": [
    "### Проверьте наличие пропущенных значений и дубликатов в датафреймах"
   ]
  },
  {
   "cell_type": "code",
   "execution_count": 8,
   "id": "439d7a1b",
   "metadata": {},
   "outputs": [
    {
     "name": "stdout",
     "output_type": "stream",
     "text": [
      "0\n",
      "31\n"
     ]
    },
    {
     "data": {
      "text/plain": [
       "0"
      ]
     },
     "execution_count": 8,
     "metadata": {},
     "output_type": "execute_result"
    }
   ],
   "source": [
    "# ищем дубликаты\n",
    "print(data_rider.duplicated().sum())\n",
    "print(data_user.duplicated().sum())\n",
    "data_sub.duplicated().sum()"
   ]
  },
  {
   "cell_type": "code",
   "execution_count": 9,
   "id": "a4a83584",
   "metadata": {},
   "outputs": [],
   "source": [
    "# удаляем найденые дубликаты\n",
    "data_user = data_user.drop_duplicates()"
   ]
  },
  {
   "cell_type": "code",
   "execution_count": 10,
   "id": "69ec521a",
   "metadata": {},
   "outputs": [
    {
     "name": "stdout",
     "output_type": "stream",
     "text": [
      "user_id     0\n",
      "distance    0\n",
      "duration    0\n",
      "date        0\n",
      "month       0\n",
      "dtype: int64\n",
      "user_id              0\n",
      "name                 0\n",
      "age                  0\n",
      "city                 0\n",
      "subscription_type    0\n",
      "dtype: int64\n"
     ]
    },
    {
     "data": {
      "text/plain": [
       "subscription_type    0\n",
       "minute_price         0\n",
       "start_ride_price     0\n",
       "subscription_fee     0\n",
       "dtype: int64"
      ]
     },
     "execution_count": 10,
     "metadata": {},
     "output_type": "execute_result"
    }
   ],
   "source": [
    "# Ищем пропуски\n",
    "print(data_rider.isna().sum())\n",
    "print(data_user.isna().sum())\n",
    "data_sub.isna().sum()"
   ]
  },
  {
   "cell_type": "markdown",
   "id": "14988106",
   "metadata": {},
   "source": [
    "**Вывод** \n",
    "Был добавлен новый столбец с номером месяца.\n",
    "Убрали дубликаты и проверили на пропуски."
   ]
  },
  {
   "cell_type": "markdown",
   "id": "212593c7",
   "metadata": {},
   "source": [
    "## Шаг 3. Исследовательский анализ данных"
   ]
  },
  {
   "cell_type": "markdown",
   "id": "7bab4f7f",
   "metadata": {},
   "source": [
    "Опишите и визуализируйте общую информацию о пользователях и поездках:\n",
    "3.1 частота встречаемости городов;\n",
    "3.2 соотношение пользователей с подпиской и без подписки;\n",
    "3.3 возраст пользователей;\n",
    "3.4 расстояние, которое пользователь преодолел за одну поездку;\n",
    "3.5 продолжительность поездок."
   ]
  },
  {
   "cell_type": "markdown",
   "id": "1ffdfb3b",
   "metadata": {},
   "source": [
    "### Частота встречаемости городов"
   ]
  },
  {
   "cell_type": "code",
   "execution_count": 11,
   "id": "48aa2d1a",
   "metadata": {},
   "outputs": [
    {
     "data": {
      "text/plain": [
       "Пятигорск         219\n",
       "Екатеринбург      204\n",
       "Ростов-на-Дону    198\n",
       "Краснодар         193\n",
       "Сочи              189\n",
       "Омск              183\n",
       "Тюмень            180\n",
       "Москва            168\n",
       "Name: city, dtype: int64"
      ]
     },
     "execution_count": 11,
     "metadata": {},
     "output_type": "execute_result"
    }
   ],
   "source": [
    "# таблицa со значениями частотности городов\n",
    "data_user['city'].value_counts()"
   ]
  },
  {
   "cell_type": "code",
   "execution_count": 12,
   "id": "e3a4274c",
   "metadata": {},
   "outputs": [
    {
     "data": {
      "image/png": "[encoded data removed]",
      "text/plain": [
       "<Figure size 576x576 with 1 Axes>"
      ]
     },
     "metadata": {},
     "output_type": "display_data"
    }
   ],
   "source": [
    "colors = sns.color_palette('pastel')\n",
    "data_user['city'].value_counts().plot(kind='pie',autopct='%1.1f%%',\n",
    "                                      figsize=(8,8),colors=colors,\n",
    "                                      title = 'Распределение пользователей по городам');\n"
   ]
  },
  {
   "cell_type": "markdown",
   "id": "026bad28",
   "metadata": {},
   "source": [
    "Процент встречаемости городов примерно одинаков. Меньше всего пользователей в Москве - 168. Лидирует Пятигорск с 219 пользователями"
   ]
  },
  {
   "cell_type": "markdown",
   "id": "61f450a1",
   "metadata": {},
   "source": [
    "### соотношение пользователей с подпиской и без подписки"
   ]
  },
  {
   "cell_type": "code",
   "execution_count": 13,
   "id": "417db4ae",
   "metadata": {},
   "outputs": [
    {
     "data": {
      "image/png": "[encoded data removed]",
      "text/plain": [
       "<Figure size 576x576 with 1 Axes>"
      ]
     },
     "metadata": {},
     "output_type": "display_data"
    }
   ],
   "source": [
    "data_user['subscription_type'].value_counts().plot(kind='pie',autopct='%1.1f%%',\n",
    "                                      figsize=(8,8),colors=colors,\n",
    "                                      title = 'Распределение пользователей по подписке');"
   ]
  },
  {
   "cell_type": "markdown",
   "id": "05e8e954",
   "metadata": {},
   "source": [
    "Как мы видим пользователей без подписки больше и составляет 54.4% против 45.6% пользователей с подпиской."
   ]
  },
  {
   "cell_type": "markdown",
   "id": "02b96b0c",
   "metadata": {},
   "source": [
    "### Возраст пользователей"
   ]
  },
  {
   "cell_type": "code",
   "execution_count": 14,
   "id": "b4dc5173",
   "metadata": {},
   "outputs": [
    {
     "data": {
      "text/plain": [
       "count    1534.000000\n",
       "mean       24.903520\n",
       "std         4.572367\n",
       "min        12.000000\n",
       "25%        22.000000\n",
       "50%        25.000000\n",
       "75%        28.000000\n",
       "max        43.000000\n",
       "Name: age, dtype: float64"
      ]
     },
     "execution_count": 14,
     "metadata": {},
     "output_type": "execute_result"
    }
   ],
   "source": [
    "data_user['age'].describe()"
   ]
  },
  {
   "cell_type": "code",
   "execution_count": 15,
   "id": "c6a4ec07",
   "metadata": {},
   "outputs": [
    {
     "data": {
      "image/png": "[encoded data removed]",
      "text/plain": [
       "<Figure size 432x288 with 1 Axes>"
      ]
     },
     "metadata": {
      "needs_background": "light"
     },
     "output_type": "display_data"
    }
   ],
   "source": [
    "age= data_user.pivot_table(index='age', values='user_id', aggfunc='count');\n",
    "age.columns=['count']\n",
    "sns.barplot(data=age, x=age.index, y='count');\n",
    "plt.xlabel('Возраст');\n",
    "plt.ylabel('Коол-во');"
   ]
  },
  {
   "cell_type": "markdown",
   "id": "adde412a",
   "metadata": {},
   "source": [
    "Как мы видим основная масса пользователей в возрасте от 20 до 30 лет.\n",
    "Средний восзраст пользователей 25 лет, минимальный 12 лет. Максимальный 43 года."
   ]
  },
  {
   "cell_type": "markdown",
   "id": "faca4657",
   "metadata": {},
   "source": [
    "### Расстояние, которое пользователь преодолел за одну поездку;"
   ]
  },
  {
   "cell_type": "code",
   "execution_count": 16,
   "id": "f20362aa",
   "metadata": {},
   "outputs": [
    {
     "data": {
      "text/plain": [
       "count    18068.000000\n",
       "mean      3070.659976\n",
       "std       1116.831209\n",
       "min          0.855683\n",
       "25%       2543.226360\n",
       "50%       3133.609994\n",
       "75%       3776.222735\n",
       "max       7211.007745\n",
       "Name: distance, dtype: float64"
      ]
     },
     "execution_count": 16,
     "metadata": {},
     "output_type": "execute_result"
    }
   ],
   "source": [
    "data_rider['distance'].describe()"
   ]
  },
  {
   "cell_type": "code",
   "execution_count": 17,
   "id": "91b3458a",
   "metadata": {},
   "outputs": [
    {
     "data": {
      "image/png": "[encoded data removed]",
      "text/plain": [
       "<Figure size 432x288 with 1 Axes>"
      ]
     },
     "metadata": {
      "needs_background": "light"
     },
     "output_type": "display_data"
    }
   ],
   "source": [
    "\n",
    "# составим график  дальности поездки\n",
    "sns.boxplot(data=data_rider, x='distance');"
   ]
  },
  {
   "cell_type": "markdown",
   "id": "41697d2e",
   "metadata": {},
   "source": [
    "В среднем пользователи за одну поездку преодолевали около 3 километров. Максимальная дистанция 7211 метров, минимальная дистанция меньше метра"
   ]
  },
  {
   "cell_type": "markdown",
   "id": "29c4d55f",
   "metadata": {},
   "source": [
    "### Продолжительность поездок."
   ]
  },
  {
   "cell_type": "code",
   "execution_count": 18,
   "id": "6c5432d2",
   "metadata": {},
   "outputs": [
    {
     "data": {
      "text/plain": [
       "count    18068.000000\n",
       "mean        17.805011\n",
       "std          6.091051\n",
       "min          0.500000\n",
       "25%         13.597563\n",
       "50%         17.678395\n",
       "75%         21.724800\n",
       "max         40.823963\n",
       "Name: duration, dtype: float64"
      ]
     },
     "execution_count": 18,
     "metadata": {},
     "output_type": "execute_result"
    }
   ],
   "source": [
    "data_rider['duration'].describe()"
   ]
  },
  {
   "cell_type": "code",
   "execution_count": 19,
   "id": "fd895289",
   "metadata": {},
   "outputs": [
    {
     "data": {
      "image/png": "[encoded data removed]",
      "text/plain": [
       "<Figure size 432x288 with 1 Axes>"
      ]
     },
     "metadata": {
      "needs_background": "light"
     },
     "output_type": "display_data"
    }
   ],
   "source": [
    "# составим график  длительности поездки\n",
    "sns.boxplot(data=data_rider, x='duration');"
   ]
  },
  {
   "cell_type": "markdown",
   "id": "d4874383",
   "metadata": {},
   "source": [
    "В среднем продолжительность поездок составляет 17 минут. Максимальная длительность - 40 минут, минимальная - 30 секунд"
   ]
  },
  {
   "cell_type": "markdown",
   "id": "e9e5d33a",
   "metadata": {},
   "source": [
    "**Вывод:**\n",
    "- Больше всего пользователей в Пятигорске, меньше всего в Москве.\n",
    "- Пользователей без подписки больше и составляет 54.4% от общего числа.\n",
    "- Средний возраст около 25 лет\n",
    "- Средняя дистанция поездки около 3 км. Максимальная же более 7 км.\n",
    "- В среднем продолжительность поездки составляет 17 минут."
   ]
  },
  {
   "cell_type": "markdown",
   "id": "4ef51331",
   "metadata": {},
   "source": [
    "## Шаг 4. Объединение данных"
   ]
  },
  {
   "cell_type": "markdown",
   "id": "5644da3a",
   "metadata": {},
   "source": [
    "### Объедините данные о пользователях, поездках и подписках в один датафрейм."
   ]
  },
  {
   "cell_type": "code",
   "execution_count": 20,
   "id": "6bf288b5",
   "metadata": {},
   "outputs": [
    {
     "data": {
      "text/html": [
       "<div>\n",
       "<style scoped>\n",
       "    .dataframe tbody tr th:only-of-type {\n",
       "        vertical-align: middle;\n",
       "    }\n",
       "\n",
       "    .dataframe tbody tr th {\n",
       "        vertical-align: top;\n",
       "    }\n",
       "\n",
       "    .dataframe thead th {\n",
       "        text-align: right;\n",
       "    }\n",
       "</style>\n",
       "<table border=\"1\" class=\"dataframe\">\n",
       "  <thead>\n",
       "    <tr style=\"text-align: right;\">\n",
       "      <th></th>\n",
       "      <th>user_id</th>\n",
       "      <th>distance</th>\n",
       "      <th>duration</th>\n",
       "      <th>date</th>\n",
       "      <th>month</th>\n",
       "      <th>name</th>\n",
       "      <th>age</th>\n",
       "      <th>city</th>\n",
       "      <th>subscription_type</th>\n",
       "      <th>minute_price</th>\n",
       "      <th>start_ride_price</th>\n",
       "      <th>subscription_fee</th>\n",
       "    </tr>\n",
       "  </thead>\n",
       "  <tbody>\n",
       "    <tr>\n",
       "      <th>0</th>\n",
       "      <td>1</td>\n",
       "      <td>4409.919140</td>\n",
       "      <td>25.599769</td>\n",
       "      <td>2021-01-01</td>\n",
       "      <td>1</td>\n",
       "      <td>Кира</td>\n",
       "      <td>22</td>\n",
       "      <td>Тюмень</td>\n",
       "      <td>ultra</td>\n",
       "      <td>6</td>\n",
       "      <td>0</td>\n",
       "      <td>199</td>\n",
       "    </tr>\n",
       "    <tr>\n",
       "      <th>1</th>\n",
       "      <td>1</td>\n",
       "      <td>2617.592153</td>\n",
       "      <td>15.816871</td>\n",
       "      <td>2021-01-18</td>\n",
       "      <td>1</td>\n",
       "      <td>Кира</td>\n",
       "      <td>22</td>\n",
       "      <td>Тюмень</td>\n",
       "      <td>ultra</td>\n",
       "      <td>6</td>\n",
       "      <td>0</td>\n",
       "      <td>199</td>\n",
       "    </tr>\n",
       "    <tr>\n",
       "      <th>2</th>\n",
       "      <td>1</td>\n",
       "      <td>754.159807</td>\n",
       "      <td>6.232113</td>\n",
       "      <td>2021-04-20</td>\n",
       "      <td>4</td>\n",
       "      <td>Кира</td>\n",
       "      <td>22</td>\n",
       "      <td>Тюмень</td>\n",
       "      <td>ultra</td>\n",
       "      <td>6</td>\n",
       "      <td>0</td>\n",
       "      <td>199</td>\n",
       "    </tr>\n",
       "    <tr>\n",
       "      <th>3</th>\n",
       "      <td>1</td>\n",
       "      <td>2694.783254</td>\n",
       "      <td>18.511000</td>\n",
       "      <td>2021-08-11</td>\n",
       "      <td>8</td>\n",
       "      <td>Кира</td>\n",
       "      <td>22</td>\n",
       "      <td>Тюмень</td>\n",
       "      <td>ultra</td>\n",
       "      <td>6</td>\n",
       "      <td>0</td>\n",
       "      <td>199</td>\n",
       "    </tr>\n",
       "    <tr>\n",
       "      <th>4</th>\n",
       "      <td>1</td>\n",
       "      <td>4028.687306</td>\n",
       "      <td>26.265803</td>\n",
       "      <td>2021-08-28</td>\n",
       "      <td>8</td>\n",
       "      <td>Кира</td>\n",
       "      <td>22</td>\n",
       "      <td>Тюмень</td>\n",
       "      <td>ultra</td>\n",
       "      <td>6</td>\n",
       "      <td>0</td>\n",
       "      <td>199</td>\n",
       "    </tr>\n",
       "    <tr>\n",
       "      <th>...</th>\n",
       "      <td>...</td>\n",
       "      <td>...</td>\n",
       "      <td>...</td>\n",
       "      <td>...</td>\n",
       "      <td>...</td>\n",
       "      <td>...</td>\n",
       "      <td>...</td>\n",
       "      <td>...</td>\n",
       "      <td>...</td>\n",
       "      <td>...</td>\n",
       "      <td>...</td>\n",
       "      <td>...</td>\n",
       "    </tr>\n",
       "    <tr>\n",
       "      <th>18063</th>\n",
       "      <td>1534</td>\n",
       "      <td>3781.098080</td>\n",
       "      <td>19.822962</td>\n",
       "      <td>2021-11-04</td>\n",
       "      <td>11</td>\n",
       "      <td>Альберт</td>\n",
       "      <td>25</td>\n",
       "      <td>Краснодар</td>\n",
       "      <td>free</td>\n",
       "      <td>8</td>\n",
       "      <td>50</td>\n",
       "      <td>0</td>\n",
       "    </tr>\n",
       "    <tr>\n",
       "      <th>18064</th>\n",
       "      <td>1534</td>\n",
       "      <td>2840.423057</td>\n",
       "      <td>21.409799</td>\n",
       "      <td>2021-11-16</td>\n",
       "      <td>11</td>\n",
       "      <td>Альберт</td>\n",
       "      <td>25</td>\n",
       "      <td>Краснодар</td>\n",
       "      <td>free</td>\n",
       "      <td>8</td>\n",
       "      <td>50</td>\n",
       "      <td>0</td>\n",
       "    </tr>\n",
       "    <tr>\n",
       "      <th>18065</th>\n",
       "      <td>1534</td>\n",
       "      <td>3826.185507</td>\n",
       "      <td>18.435051</td>\n",
       "      <td>2021-11-18</td>\n",
       "      <td>11</td>\n",
       "      <td>Альберт</td>\n",
       "      <td>25</td>\n",
       "      <td>Краснодар</td>\n",
       "      <td>free</td>\n",
       "      <td>8</td>\n",
       "      <td>50</td>\n",
       "      <td>0</td>\n",
       "    </tr>\n",
       "    <tr>\n",
       "      <th>18066</th>\n",
       "      <td>1534</td>\n",
       "      <td>2902.308661</td>\n",
       "      <td>16.674362</td>\n",
       "      <td>2021-11-27</td>\n",
       "      <td>11</td>\n",
       "      <td>Альберт</td>\n",
       "      <td>25</td>\n",
       "      <td>Краснодар</td>\n",
       "      <td>free</td>\n",
       "      <td>8</td>\n",
       "      <td>50</td>\n",
       "      <td>0</td>\n",
       "    </tr>\n",
       "    <tr>\n",
       "      <th>18067</th>\n",
       "      <td>1534</td>\n",
       "      <td>2371.711192</td>\n",
       "      <td>15.893917</td>\n",
       "      <td>2021-12-29</td>\n",
       "      <td>12</td>\n",
       "      <td>Альберт</td>\n",
       "      <td>25</td>\n",
       "      <td>Краснодар</td>\n",
       "      <td>free</td>\n",
       "      <td>8</td>\n",
       "      <td>50</td>\n",
       "      <td>0</td>\n",
       "    </tr>\n",
       "  </tbody>\n",
       "</table>\n",
       "<p>18068 rows × 12 columns</p>\n",
       "</div>"
      ],
      "text/plain": [
       "       user_id     distance   duration       date  month     name  age  \\\n",
       "0            1  4409.919140  25.599769 2021-01-01      1     Кира   22   \n",
       "1            1  2617.592153  15.816871 2021-01-18      1     Кира   22   \n",
       "2            1   754.159807   6.232113 2021-04-20      4     Кира   22   \n",
       "3            1  2694.783254  18.511000 2021-08-11      8     Кира   22   \n",
       "4            1  4028.687306  26.265803 2021-08-28      8     Кира   22   \n",
       "...        ...          ...        ...        ...    ...      ...  ...   \n",
       "18063     1534  3781.098080  19.822962 2021-11-04     11  Альберт   25   \n",
       "18064     1534  2840.423057  21.409799 2021-11-16     11  Альберт   25   \n",
       "18065     1534  3826.185507  18.435051 2021-11-18     11  Альберт   25   \n",
       "18066     1534  2902.308661  16.674362 2021-11-27     11  Альберт   25   \n",
       "18067     1534  2371.711192  15.893917 2021-12-29     12  Альберт   25   \n",
       "\n",
       "            city subscription_type  minute_price  start_ride_price  \\\n",
       "0         Тюмень             ultra             6                 0   \n",
       "1         Тюмень             ultra             6                 0   \n",
       "2         Тюмень             ultra             6                 0   \n",
       "3         Тюмень             ultra             6                 0   \n",
       "4         Тюмень             ultra             6                 0   \n",
       "...          ...               ...           ...               ...   \n",
       "18063  Краснодар              free             8                50   \n",
       "18064  Краснодар              free             8                50   \n",
       "18065  Краснодар              free             8                50   \n",
       "18066  Краснодар              free             8                50   \n",
       "18067  Краснодар              free             8                50   \n",
       "\n",
       "       subscription_fee  \n",
       "0                   199  \n",
       "1                   199  \n",
       "2                   199  \n",
       "3                   199  \n",
       "4                   199  \n",
       "...                 ...  \n",
       "18063                 0  \n",
       "18064                 0  \n",
       "18065                 0  \n",
       "18066                 0  \n",
       "18067                 0  \n",
       "\n",
       "[18068 rows x 12 columns]"
      ]
     },
     "execution_count": 20,
     "metadata": {},
     "output_type": "execute_result"
    }
   ],
   "source": [
    "data = data_user.merge(right=data_sub,on='subscription_type')\n",
    "data = data_rider.merge(right=data, on='user_id')\n",
    "data"
   ]
  },
  {
   "cell_type": "markdown",
   "id": "23ee4c11",
   "metadata": {},
   "source": [
    "### Создайте ещё два датафрейма по типу подписки"
   ]
  },
  {
   "cell_type": "code",
   "execution_count": 21,
   "id": "4b0659d4",
   "metadata": {},
   "outputs": [
    {
     "data": {
      "text/html": [
       "<div>\n",
       "<style scoped>\n",
       "    .dataframe tbody tr th:only-of-type {\n",
       "        vertical-align: middle;\n",
       "    }\n",
       "\n",
       "    .dataframe tbody tr th {\n",
       "        vertical-align: top;\n",
       "    }\n",
       "\n",
       "    .dataframe thead th {\n",
       "        text-align: right;\n",
       "    }\n",
       "</style>\n",
       "<table border=\"1\" class=\"dataframe\">\n",
       "  <thead>\n",
       "    <tr style=\"text-align: right;\">\n",
       "      <th></th>\n",
       "      <th>user_id</th>\n",
       "      <th>distance</th>\n",
       "      <th>duration</th>\n",
       "      <th>date</th>\n",
       "      <th>month</th>\n",
       "      <th>name</th>\n",
       "      <th>age</th>\n",
       "      <th>city</th>\n",
       "      <th>subscription_type</th>\n",
       "      <th>minute_price</th>\n",
       "      <th>start_ride_price</th>\n",
       "      <th>subscription_fee</th>\n",
       "    </tr>\n",
       "  </thead>\n",
       "  <tbody>\n",
       "    <tr>\n",
       "      <th>6500</th>\n",
       "      <td>700</td>\n",
       "      <td>2515.690719</td>\n",
       "      <td>14.944286</td>\n",
       "      <td>2021-01-02</td>\n",
       "      <td>1</td>\n",
       "      <td>Айдар</td>\n",
       "      <td>22</td>\n",
       "      <td>Омск</td>\n",
       "      <td>free</td>\n",
       "      <td>8</td>\n",
       "      <td>50</td>\n",
       "      <td>0</td>\n",
       "    </tr>\n",
       "    <tr>\n",
       "      <th>6501</th>\n",
       "      <td>700</td>\n",
       "      <td>846.932642</td>\n",
       "      <td>16.234663</td>\n",
       "      <td>2021-02-01</td>\n",
       "      <td>2</td>\n",
       "      <td>Айдар</td>\n",
       "      <td>22</td>\n",
       "      <td>Омск</td>\n",
       "      <td>free</td>\n",
       "      <td>8</td>\n",
       "      <td>50</td>\n",
       "      <td>0</td>\n",
       "    </tr>\n",
       "    <tr>\n",
       "      <th>6502</th>\n",
       "      <td>700</td>\n",
       "      <td>4004.434142</td>\n",
       "      <td>20.016628</td>\n",
       "      <td>2021-02-04</td>\n",
       "      <td>2</td>\n",
       "      <td>Айдар</td>\n",
       "      <td>22</td>\n",
       "      <td>Омск</td>\n",
       "      <td>free</td>\n",
       "      <td>8</td>\n",
       "      <td>50</td>\n",
       "      <td>0</td>\n",
       "    </tr>\n",
       "    <tr>\n",
       "      <th>6503</th>\n",
       "      <td>700</td>\n",
       "      <td>1205.911290</td>\n",
       "      <td>9.782872</td>\n",
       "      <td>2021-02-10</td>\n",
       "      <td>2</td>\n",
       "      <td>Айдар</td>\n",
       "      <td>22</td>\n",
       "      <td>Омск</td>\n",
       "      <td>free</td>\n",
       "      <td>8</td>\n",
       "      <td>50</td>\n",
       "      <td>0</td>\n",
       "    </tr>\n",
       "    <tr>\n",
       "      <th>6504</th>\n",
       "      <td>700</td>\n",
       "      <td>3047.379435</td>\n",
       "      <td>17.427673</td>\n",
       "      <td>2021-02-14</td>\n",
       "      <td>2</td>\n",
       "      <td>Айдар</td>\n",
       "      <td>22</td>\n",
       "      <td>Омск</td>\n",
       "      <td>free</td>\n",
       "      <td>8</td>\n",
       "      <td>50</td>\n",
       "      <td>0</td>\n",
       "    </tr>\n",
       "    <tr>\n",
       "      <th>...</th>\n",
       "      <td>...</td>\n",
       "      <td>...</td>\n",
       "      <td>...</td>\n",
       "      <td>...</td>\n",
       "      <td>...</td>\n",
       "      <td>...</td>\n",
       "      <td>...</td>\n",
       "      <td>...</td>\n",
       "      <td>...</td>\n",
       "      <td>...</td>\n",
       "      <td>...</td>\n",
       "      <td>...</td>\n",
       "    </tr>\n",
       "    <tr>\n",
       "      <th>18063</th>\n",
       "      <td>1534</td>\n",
       "      <td>3781.098080</td>\n",
       "      <td>19.822962</td>\n",
       "      <td>2021-11-04</td>\n",
       "      <td>11</td>\n",
       "      <td>Альберт</td>\n",
       "      <td>25</td>\n",
       "      <td>Краснодар</td>\n",
       "      <td>free</td>\n",
       "      <td>8</td>\n",
       "      <td>50</td>\n",
       "      <td>0</td>\n",
       "    </tr>\n",
       "    <tr>\n",
       "      <th>18064</th>\n",
       "      <td>1534</td>\n",
       "      <td>2840.423057</td>\n",
       "      <td>21.409799</td>\n",
       "      <td>2021-11-16</td>\n",
       "      <td>11</td>\n",
       "      <td>Альберт</td>\n",
       "      <td>25</td>\n",
       "      <td>Краснодар</td>\n",
       "      <td>free</td>\n",
       "      <td>8</td>\n",
       "      <td>50</td>\n",
       "      <td>0</td>\n",
       "    </tr>\n",
       "    <tr>\n",
       "      <th>18065</th>\n",
       "      <td>1534</td>\n",
       "      <td>3826.185507</td>\n",
       "      <td>18.435051</td>\n",
       "      <td>2021-11-18</td>\n",
       "      <td>11</td>\n",
       "      <td>Альберт</td>\n",
       "      <td>25</td>\n",
       "      <td>Краснодар</td>\n",
       "      <td>free</td>\n",
       "      <td>8</td>\n",
       "      <td>50</td>\n",
       "      <td>0</td>\n",
       "    </tr>\n",
       "    <tr>\n",
       "      <th>18066</th>\n",
       "      <td>1534</td>\n",
       "      <td>2902.308661</td>\n",
       "      <td>16.674362</td>\n",
       "      <td>2021-11-27</td>\n",
       "      <td>11</td>\n",
       "      <td>Альберт</td>\n",
       "      <td>25</td>\n",
       "      <td>Краснодар</td>\n",
       "      <td>free</td>\n",
       "      <td>8</td>\n",
       "      <td>50</td>\n",
       "      <td>0</td>\n",
       "    </tr>\n",
       "    <tr>\n",
       "      <th>18067</th>\n",
       "      <td>1534</td>\n",
       "      <td>2371.711192</td>\n",
       "      <td>15.893917</td>\n",
       "      <td>2021-12-29</td>\n",
       "      <td>12</td>\n",
       "      <td>Альберт</td>\n",
       "      <td>25</td>\n",
       "      <td>Краснодар</td>\n",
       "      <td>free</td>\n",
       "      <td>8</td>\n",
       "      <td>50</td>\n",
       "      <td>0</td>\n",
       "    </tr>\n",
       "  </tbody>\n",
       "</table>\n",
       "<p>11568 rows × 12 columns</p>\n",
       "</div>"
      ],
      "text/plain": [
       "       user_id     distance   duration       date  month     name  age  \\\n",
       "6500       700  2515.690719  14.944286 2021-01-02      1    Айдар   22   \n",
       "6501       700   846.932642  16.234663 2021-02-01      2    Айдар   22   \n",
       "6502       700  4004.434142  20.016628 2021-02-04      2    Айдар   22   \n",
       "6503       700  1205.911290   9.782872 2021-02-10      2    Айдар   22   \n",
       "6504       700  3047.379435  17.427673 2021-02-14      2    Айдар   22   \n",
       "...        ...          ...        ...        ...    ...      ...  ...   \n",
       "18063     1534  3781.098080  19.822962 2021-11-04     11  Альберт   25   \n",
       "18064     1534  2840.423057  21.409799 2021-11-16     11  Альберт   25   \n",
       "18065     1534  3826.185507  18.435051 2021-11-18     11  Альберт   25   \n",
       "18066     1534  2902.308661  16.674362 2021-11-27     11  Альберт   25   \n",
       "18067     1534  2371.711192  15.893917 2021-12-29     12  Альберт   25   \n",
       "\n",
       "            city subscription_type  minute_price  start_ride_price  \\\n",
       "6500        Омск              free             8                50   \n",
       "6501        Омск              free             8                50   \n",
       "6502        Омск              free             8                50   \n",
       "6503        Омск              free             8                50   \n",
       "6504        Омск              free             8                50   \n",
       "...          ...               ...           ...               ...   \n",
       "18063  Краснодар              free             8                50   \n",
       "18064  Краснодар              free             8                50   \n",
       "18065  Краснодар              free             8                50   \n",
       "18066  Краснодар              free             8                50   \n",
       "18067  Краснодар              free             8                50   \n",
       "\n",
       "       subscription_fee  \n",
       "6500                  0  \n",
       "6501                  0  \n",
       "6502                  0  \n",
       "6503                  0  \n",
       "6504                  0  \n",
       "...                 ...  \n",
       "18063                 0  \n",
       "18064                 0  \n",
       "18065                 0  \n",
       "18066                 0  \n",
       "18067                 0  \n",
       "\n",
       "[11568 rows x 12 columns]"
      ]
     },
     "execution_count": 21,
     "metadata": {},
     "output_type": "execute_result"
    }
   ],
   "source": [
    "# датафрейм с пользователями без подписки\n",
    "free_data = data.loc[data['subscription_type']== 'free']\n",
    "free_data"
   ]
  },
  {
   "cell_type": "code",
   "execution_count": 22,
   "id": "371465c2",
   "metadata": {},
   "outputs": [
    {
     "data": {
      "text/html": [
       "<div>\n",
       "<style scoped>\n",
       "    .dataframe tbody tr th:only-of-type {\n",
       "        vertical-align: middle;\n",
       "    }\n",
       "\n",
       "    .dataframe tbody tr th {\n",
       "        vertical-align: top;\n",
       "    }\n",
       "\n",
       "    .dataframe thead th {\n",
       "        text-align: right;\n",
       "    }\n",
       "</style>\n",
       "<table border=\"1\" class=\"dataframe\">\n",
       "  <thead>\n",
       "    <tr style=\"text-align: right;\">\n",
       "      <th></th>\n",
       "      <th>user_id</th>\n",
       "      <th>distance</th>\n",
       "      <th>duration</th>\n",
       "      <th>date</th>\n",
       "      <th>month</th>\n",
       "      <th>name</th>\n",
       "      <th>age</th>\n",
       "      <th>city</th>\n",
       "      <th>subscription_type</th>\n",
       "      <th>minute_price</th>\n",
       "      <th>start_ride_price</th>\n",
       "      <th>subscription_fee</th>\n",
       "    </tr>\n",
       "  </thead>\n",
       "  <tbody>\n",
       "    <tr>\n",
       "      <th>0</th>\n",
       "      <td>1</td>\n",
       "      <td>4409.919140</td>\n",
       "      <td>25.599769</td>\n",
       "      <td>2021-01-01</td>\n",
       "      <td>1</td>\n",
       "      <td>Кира</td>\n",
       "      <td>22</td>\n",
       "      <td>Тюмень</td>\n",
       "      <td>ultra</td>\n",
       "      <td>6</td>\n",
       "      <td>0</td>\n",
       "      <td>199</td>\n",
       "    </tr>\n",
       "    <tr>\n",
       "      <th>1</th>\n",
       "      <td>1</td>\n",
       "      <td>2617.592153</td>\n",
       "      <td>15.816871</td>\n",
       "      <td>2021-01-18</td>\n",
       "      <td>1</td>\n",
       "      <td>Кира</td>\n",
       "      <td>22</td>\n",
       "      <td>Тюмень</td>\n",
       "      <td>ultra</td>\n",
       "      <td>6</td>\n",
       "      <td>0</td>\n",
       "      <td>199</td>\n",
       "    </tr>\n",
       "    <tr>\n",
       "      <th>2</th>\n",
       "      <td>1</td>\n",
       "      <td>754.159807</td>\n",
       "      <td>6.232113</td>\n",
       "      <td>2021-04-20</td>\n",
       "      <td>4</td>\n",
       "      <td>Кира</td>\n",
       "      <td>22</td>\n",
       "      <td>Тюмень</td>\n",
       "      <td>ultra</td>\n",
       "      <td>6</td>\n",
       "      <td>0</td>\n",
       "      <td>199</td>\n",
       "    </tr>\n",
       "    <tr>\n",
       "      <th>3</th>\n",
       "      <td>1</td>\n",
       "      <td>2694.783254</td>\n",
       "      <td>18.511000</td>\n",
       "      <td>2021-08-11</td>\n",
       "      <td>8</td>\n",
       "      <td>Кира</td>\n",
       "      <td>22</td>\n",
       "      <td>Тюмень</td>\n",
       "      <td>ultra</td>\n",
       "      <td>6</td>\n",
       "      <td>0</td>\n",
       "      <td>199</td>\n",
       "    </tr>\n",
       "    <tr>\n",
       "      <th>4</th>\n",
       "      <td>1</td>\n",
       "      <td>4028.687306</td>\n",
       "      <td>26.265803</td>\n",
       "      <td>2021-08-28</td>\n",
       "      <td>8</td>\n",
       "      <td>Кира</td>\n",
       "      <td>22</td>\n",
       "      <td>Тюмень</td>\n",
       "      <td>ultra</td>\n",
       "      <td>6</td>\n",
       "      <td>0</td>\n",
       "      <td>199</td>\n",
       "    </tr>\n",
       "    <tr>\n",
       "      <th>...</th>\n",
       "      <td>...</td>\n",
       "      <td>...</td>\n",
       "      <td>...</td>\n",
       "      <td>...</td>\n",
       "      <td>...</td>\n",
       "      <td>...</td>\n",
       "      <td>...</td>\n",
       "      <td>...</td>\n",
       "      <td>...</td>\n",
       "      <td>...</td>\n",
       "      <td>...</td>\n",
       "      <td>...</td>\n",
       "    </tr>\n",
       "    <tr>\n",
       "      <th>6495</th>\n",
       "      <td>699</td>\n",
       "      <td>3973.046497</td>\n",
       "      <td>24.671163</td>\n",
       "      <td>2021-08-29</td>\n",
       "      <td>8</td>\n",
       "      <td>Оксана</td>\n",
       "      <td>22</td>\n",
       "      <td>Москва</td>\n",
       "      <td>ultra</td>\n",
       "      <td>6</td>\n",
       "      <td>0</td>\n",
       "      <td>199</td>\n",
       "    </tr>\n",
       "    <tr>\n",
       "      <th>6496</th>\n",
       "      <td>699</td>\n",
       "      <td>3288.702563</td>\n",
       "      <td>15.892886</td>\n",
       "      <td>2021-09-12</td>\n",
       "      <td>9</td>\n",
       "      <td>Оксана</td>\n",
       "      <td>22</td>\n",
       "      <td>Москва</td>\n",
       "      <td>ultra</td>\n",
       "      <td>6</td>\n",
       "      <td>0</td>\n",
       "      <td>199</td>\n",
       "    </tr>\n",
       "    <tr>\n",
       "      <th>6497</th>\n",
       "      <td>699</td>\n",
       "      <td>3076.159348</td>\n",
       "      <td>14.389525</td>\n",
       "      <td>2021-09-26</td>\n",
       "      <td>9</td>\n",
       "      <td>Оксана</td>\n",
       "      <td>22</td>\n",
       "      <td>Москва</td>\n",
       "      <td>ultra</td>\n",
       "      <td>6</td>\n",
       "      <td>0</td>\n",
       "      <td>199</td>\n",
       "    </tr>\n",
       "    <tr>\n",
       "      <th>6498</th>\n",
       "      <td>699</td>\n",
       "      <td>4707.845501</td>\n",
       "      <td>15.839579</td>\n",
       "      <td>2021-10-17</td>\n",
       "      <td>10</td>\n",
       "      <td>Оксана</td>\n",
       "      <td>22</td>\n",
       "      <td>Москва</td>\n",
       "      <td>ultra</td>\n",
       "      <td>6</td>\n",
       "      <td>0</td>\n",
       "      <td>199</td>\n",
       "    </tr>\n",
       "    <tr>\n",
       "      <th>6499</th>\n",
       "      <td>699</td>\n",
       "      <td>3202.890770</td>\n",
       "      <td>25.217345</td>\n",
       "      <td>2021-12-03</td>\n",
       "      <td>12</td>\n",
       "      <td>Оксана</td>\n",
       "      <td>22</td>\n",
       "      <td>Москва</td>\n",
       "      <td>ultra</td>\n",
       "      <td>6</td>\n",
       "      <td>0</td>\n",
       "      <td>199</td>\n",
       "    </tr>\n",
       "  </tbody>\n",
       "</table>\n",
       "<p>6500 rows × 12 columns</p>\n",
       "</div>"
      ],
      "text/plain": [
       "      user_id     distance   duration       date  month    name  age    city  \\\n",
       "0           1  4409.919140  25.599769 2021-01-01      1    Кира   22  Тюмень   \n",
       "1           1  2617.592153  15.816871 2021-01-18      1    Кира   22  Тюмень   \n",
       "2           1   754.159807   6.232113 2021-04-20      4    Кира   22  Тюмень   \n",
       "3           1  2694.783254  18.511000 2021-08-11      8    Кира   22  Тюмень   \n",
       "4           1  4028.687306  26.265803 2021-08-28      8    Кира   22  Тюмень   \n",
       "...       ...          ...        ...        ...    ...     ...  ...     ...   \n",
       "6495      699  3973.046497  24.671163 2021-08-29      8  Оксана   22  Москва   \n",
       "6496      699  3288.702563  15.892886 2021-09-12      9  Оксана   22  Москва   \n",
       "6497      699  3076.159348  14.389525 2021-09-26      9  Оксана   22  Москва   \n",
       "6498      699  4707.845501  15.839579 2021-10-17     10  Оксана   22  Москва   \n",
       "6499      699  3202.890770  25.217345 2021-12-03     12  Оксана   22  Москва   \n",
       "\n",
       "     subscription_type  minute_price  start_ride_price  subscription_fee  \n",
       "0                ultra             6                 0               199  \n",
       "1                ultra             6                 0               199  \n",
       "2                ultra             6                 0               199  \n",
       "3                ultra             6                 0               199  \n",
       "4                ultra             6                 0               199  \n",
       "...                ...           ...               ...               ...  \n",
       "6495             ultra             6                 0               199  \n",
       "6496             ultra             6                 0               199  \n",
       "6497             ultra             6                 0               199  \n",
       "6498             ultra             6                 0               199  \n",
       "6499             ultra             6                 0               199  \n",
       "\n",
       "[6500 rows x 12 columns]"
      ]
     },
     "execution_count": 22,
     "metadata": {},
     "output_type": "execute_result"
    }
   ],
   "source": [
    "# датафрейм с пользователями с подпиской\n",
    "ultra_data = data.loc[data['subscription_type']== 'ultra']\n",
    "ultra_data"
   ]
  },
  {
   "cell_type": "markdown",
   "id": "c49559ab",
   "metadata": {},
   "source": [
    "### Визуализируйте информацию о расстоянии и времени поездок для пользователей обеих категорий."
   ]
  },
  {
   "cell_type": "code",
   "execution_count": 23,
   "id": "2e16d234",
   "metadata": {},
   "outputs": [
    {
     "data": {
      "text/plain": [
       "count    11568.000000\n",
       "mean      3045.495282\n",
       "std       1246.173806\n",
       "min          0.855683\n",
       "25%       2366.562689\n",
       "50%       3114.648465\n",
       "75%       3905.697894\n",
       "max       7211.007745\n",
       "Name: distance, dtype: float64"
      ]
     },
     "execution_count": 23,
     "metadata": {},
     "output_type": "execute_result"
    }
   ],
   "source": [
    "free_data['distance'].describe()"
   ]
  },
  {
   "cell_type": "code",
   "execution_count": 24,
   "id": "26e07ec1",
   "metadata": {},
   "outputs": [
    {
     "data": {
      "text/plain": [
       "count    11568.000000\n",
       "mean        17.390909\n",
       "std          6.326803\n",
       "min          0.500000\n",
       "25%         12.958437\n",
       "50%         17.326890\n",
       "75%         21.594071\n",
       "max         34.948498\n",
       "Name: duration, dtype: float64"
      ]
     },
     "execution_count": 24,
     "metadata": {},
     "output_type": "execute_result"
    }
   ],
   "source": [
    "free_data['duration'].describe()"
   ]
  },
  {
   "cell_type": "code",
   "execution_count": 25,
   "id": "66ab09fa",
   "metadata": {},
   "outputs": [
    {
     "data": {
      "image/png": "[encoded data removed]",
      "text/plain": [
       "<Figure size 432x288 with 1 Axes>"
      ]
     },
     "metadata": {
      "needs_background": "light"
     },
     "output_type": "display_data"
    }
   ],
   "source": [
    "# Визуализация данных по дистанции поездок пользователей без подписки\n",
    "sns.boxplot(data=free_data, x='distance');"
   ]
  },
  {
   "cell_type": "markdown",
   "id": "9b942490",
   "metadata": {},
   "source": [
    "Минимальная дистанция- 0,85 метра, максимальная -7211 метров, средняя дистанция 3045 метров. Выбросы есть с правой и левой сторон."
   ]
  },
  {
   "cell_type": "code",
   "execution_count": 26,
   "id": "3228700f",
   "metadata": {},
   "outputs": [
    {
     "data": {
      "image/png": "[encoded data removed]",
      "text/plain": [
       "<Figure size 432x288 with 1 Axes>"
      ]
     },
     "metadata": {
      "needs_background": "light"
     },
     "output_type": "display_data"
    }
   ],
   "source": [
    "# Визуализация данных по продолжительности поездок пользователей без подписки\n",
    "sns.boxplot(data=free_data, x='duration');"
   ]
  },
  {
   "cell_type": "markdown",
   "id": "aeb2fd49",
   "metadata": {},
   "source": [
    "Минимальная длительность пол минуты, максимальная - 34. Средняя -17 минут"
   ]
  },
  {
   "cell_type": "code",
   "execution_count": 27,
   "id": "62b1ee7d",
   "metadata": {},
   "outputs": [
    {
     "data": {
      "text/plain": [
       "count    6500.000000\n",
       "mean     3115.445388\n",
       "std       836.895330\n",
       "min       244.210438\n",
       "25%      2785.444017\n",
       "50%      3148.637229\n",
       "75%      3560.574425\n",
       "max      5699.769662\n",
       "Name: distance, dtype: float64"
      ]
     },
     "execution_count": 27,
     "metadata": {},
     "output_type": "execute_result"
    }
   ],
   "source": [
    "ultra_data['distance'].describe()"
   ]
  },
  {
   "cell_type": "code",
   "execution_count": 28,
   "id": "6e594f37",
   "metadata": {},
   "outputs": [
    {
     "data": {
      "text/plain": [
       "count    6500.000000\n",
       "mean       18.541985\n",
       "std         5.572048\n",
       "min         3.760353\n",
       "25%        14.524654\n",
       "50%        18.178153\n",
       "75%        21.884129\n",
       "max        40.823963\n",
       "Name: duration, dtype: float64"
      ]
     },
     "execution_count": 28,
     "metadata": {},
     "output_type": "execute_result"
    }
   ],
   "source": [
    "ultra_data['duration'].describe()"
   ]
  },
  {
   "cell_type": "code",
   "execution_count": 29,
   "id": "aabaef56",
   "metadata": {},
   "outputs": [
    {
     "data": {
      "image/png": "[encoded data removed]",
      "text/plain": [
       "<Figure size 432x288 with 1 Axes>"
      ]
     },
     "metadata": {
      "needs_background": "light"
     },
     "output_type": "display_data"
    }
   ],
   "source": [
    "# Визуализация данных по дальности поездок пользователей с подпиской\n",
    "sns.boxplot(data=ultra_data, x='distance');"
   ]
  },
  {
   "cell_type": "markdown",
   "id": "4da58c7f",
   "metadata": {},
   "source": [
    "Минимальная дистанция- 244 метра, максимальная -5699 метров, средняя дистанция 3115 метров. Выбросы есть с правой и левой сторон."
   ]
  },
  {
   "cell_type": "code",
   "execution_count": 30,
   "id": "751ab42f",
   "metadata": {},
   "outputs": [
    {
     "data": {
      "image/png": "[encoded data removed]",
      "text/plain": [
       "<Figure size 432x288 with 1 Axes>"
      ]
     },
     "metadata": {
      "needs_background": "light"
     },
     "output_type": "display_data"
    }
   ],
   "source": [
    "# Визуализация данных по продолжительности поездок пользователей с подпиской\n",
    "sns.boxplot(data=ultra_data, x='duration');"
   ]
  },
  {
   "cell_type": "markdown",
   "id": "c89de29d",
   "metadata": {},
   "source": [
    "Минимальная длительность 3 минуты, максимальная - 40. Средняя -18 минут"
   ]
  },
  {
   "cell_type": "markdown",
   "id": "7b25adda",
   "metadata": {},
   "source": [
    "**Вывод:**\n",
    "Пользователи с подпиской и без пользуются самокатами одинаково: \n",
    "- медиана дистанции у пользователей с подпиской -3148 \n",
    "- медиана пользователей без подписки -3114.\n",
    "\n",
    "Длительность поездок в среднем больше у пользователей с подпиской 18 минут, против 17 минут у пользователей без подписки.\n"
   ]
  },
  {
   "cell_type": "markdown",
   "id": "402d620f",
   "metadata": {},
   "source": [
    "## Шаг 5. Подсчёт выручки"
   ]
  },
  {
   "cell_type": "markdown",
   "id": "9a5fc5d2",
   "metadata": {},
   "source": [
    "###  Создайте датафрейм с агрегированными данными о поездках"
   ]
  },
  {
   "cell_type": "code",
   "execution_count": 31,
   "id": "1f29c35b",
   "metadata": {},
   "outputs": [],
   "source": [
    "# Округлим значения столбца с длительностью до верхнего числа. И здесь же изменим тип данных\n",
    "data['duration'] = np.ceil(data['duration']).astype(int)"
   ]
  },
  {
   "cell_type": "code",
   "execution_count": 32,
   "id": "53049e0a",
   "metadata": {
    "scrolled": true
   },
   "outputs": [
    {
     "data": {
      "text/html": [
       "<div>\n",
       "<style scoped>\n",
       "    .dataframe tbody tr th:only-of-type {\n",
       "        vertical-align: middle;\n",
       "    }\n",
       "\n",
       "    .dataframe tbody tr th {\n",
       "        vertical-align: top;\n",
       "    }\n",
       "\n",
       "    .dataframe thead th {\n",
       "        text-align: right;\n",
       "    }\n",
       "</style>\n",
       "<table border=\"1\" class=\"dataframe\">\n",
       "  <thead>\n",
       "    <tr style=\"text-align: right;\">\n",
       "      <th></th>\n",
       "      <th></th>\n",
       "      <th>distance</th>\n",
       "      <th>num_trips</th>\n",
       "      <th>duration</th>\n",
       "      <th>subscription_type</th>\n",
       "    </tr>\n",
       "    <tr>\n",
       "      <th>user_id</th>\n",
       "      <th>month</th>\n",
       "      <th></th>\n",
       "      <th></th>\n",
       "      <th></th>\n",
       "      <th></th>\n",
       "    </tr>\n",
       "  </thead>\n",
       "  <tbody>\n",
       "    <tr>\n",
       "      <th rowspan=\"5\" valign=\"top\">1</th>\n",
       "      <th>1</th>\n",
       "      <td>7027.511294</td>\n",
       "      <td>2</td>\n",
       "      <td>42</td>\n",
       "      <td>ultra</td>\n",
       "    </tr>\n",
       "    <tr>\n",
       "      <th>4</th>\n",
       "      <td>754.159807</td>\n",
       "      <td>1</td>\n",
       "      <td>7</td>\n",
       "      <td>ultra</td>\n",
       "    </tr>\n",
       "    <tr>\n",
       "      <th>8</th>\n",
       "      <td>6723.470560</td>\n",
       "      <td>2</td>\n",
       "      <td>46</td>\n",
       "      <td>ultra</td>\n",
       "    </tr>\n",
       "    <tr>\n",
       "      <th>10</th>\n",
       "      <td>5809.911100</td>\n",
       "      <td>2</td>\n",
       "      <td>32</td>\n",
       "      <td>ultra</td>\n",
       "    </tr>\n",
       "    <tr>\n",
       "      <th>11</th>\n",
       "      <td>7003.499363</td>\n",
       "      <td>3</td>\n",
       "      <td>56</td>\n",
       "      <td>ultra</td>\n",
       "    </tr>\n",
       "    <tr>\n",
       "      <th>...</th>\n",
       "      <th>...</th>\n",
       "      <td>...</td>\n",
       "      <td>...</td>\n",
       "      <td>...</td>\n",
       "      <td>...</td>\n",
       "    </tr>\n",
       "    <tr>\n",
       "      <th rowspan=\"5\" valign=\"top\">1534</th>\n",
       "      <th>6</th>\n",
       "      <td>3409.468534</td>\n",
       "      <td>2</td>\n",
       "      <td>26</td>\n",
       "      <td>free</td>\n",
       "    </tr>\n",
       "    <tr>\n",
       "      <th>8</th>\n",
       "      <td>7622.453034</td>\n",
       "      <td>2</td>\n",
       "      <td>48</td>\n",
       "      <td>free</td>\n",
       "    </tr>\n",
       "    <tr>\n",
       "      <th>9</th>\n",
       "      <td>4928.173852</td>\n",
       "      <td>1</td>\n",
       "      <td>23</td>\n",
       "      <td>free</td>\n",
       "    </tr>\n",
       "    <tr>\n",
       "      <th>11</th>\n",
       "      <td>13350.015305</td>\n",
       "      <td>4</td>\n",
       "      <td>78</td>\n",
       "      <td>free</td>\n",
       "    </tr>\n",
       "    <tr>\n",
       "      <th>12</th>\n",
       "      <td>2371.711192</td>\n",
       "      <td>1</td>\n",
       "      <td>16</td>\n",
       "      <td>free</td>\n",
       "    </tr>\n",
       "  </tbody>\n",
       "</table>\n",
       "<p>11331 rows × 4 columns</p>\n",
       "</div>"
      ],
      "text/plain": [
       "                   distance  num_trips  duration subscription_type\n",
       "user_id month                                                     \n",
       "1       1       7027.511294          2        42             ultra\n",
       "        4        754.159807          1         7             ultra\n",
       "        8       6723.470560          2        46             ultra\n",
       "        10      5809.911100          2        32             ultra\n",
       "        11      7003.499363          3        56             ultra\n",
       "...                     ...        ...       ...               ...\n",
       "1534    6       3409.468534          2        26              free\n",
       "        8       7622.453034          2        48              free\n",
       "        9       4928.173852          1        23              free\n",
       "        11     13350.015305          4        78              free\n",
       "        12      2371.711192          1        16              free\n",
       "\n",
       "[11331 rows x 4 columns]"
      ]
     },
     "execution_count": 32,
     "metadata": {},
     "output_type": "execute_result"
    }
   ],
   "source": [
    "data_revenue=data.pivot_table(index=['user_id', 'month'],\n",
    "                              values=['distance','duration','subscription_type'],\n",
    "                              aggfunc={'distance':sum,'duration':[len,np.sum],'subscription_type':max})\n",
    "\n",
    "data_revenue.columns=['distance','num_trips','duration','subscription_type']\n",
    "data_revenue"
   ]
  },
  {
   "cell_type": "code",
   "execution_count": 33,
   "id": "d9a9589a",
   "metadata": {
    "scrolled": true
   },
   "outputs": [
    {
     "data": {
      "text/html": [
       "<div>\n",
       "<style scoped>\n",
       "    .dataframe tbody tr th:only-of-type {\n",
       "        vertical-align: middle;\n",
       "    }\n",
       "\n",
       "    .dataframe tbody tr th {\n",
       "        vertical-align: top;\n",
       "    }\n",
       "\n",
       "    .dataframe thead th {\n",
       "        text-align: right;\n",
       "    }\n",
       "</style>\n",
       "<table border=\"1\" class=\"dataframe\">\n",
       "  <thead>\n",
       "    <tr style=\"text-align: right;\">\n",
       "      <th></th>\n",
       "      <th></th>\n",
       "      <th>distance</th>\n",
       "      <th>num_trips</th>\n",
       "      <th>duration</th>\n",
       "      <th>subscription_type</th>\n",
       "    </tr>\n",
       "    <tr>\n",
       "      <th>user_id</th>\n",
       "      <th>month</th>\n",
       "      <th></th>\n",
       "      <th></th>\n",
       "      <th></th>\n",
       "      <th></th>\n",
       "    </tr>\n",
       "  </thead>\n",
       "  <tbody>\n",
       "    <tr>\n",
       "      <th rowspan=\"5\" valign=\"top\">1</th>\n",
       "      <th>1</th>\n",
       "      <td>7027.511294</td>\n",
       "      <td>2</td>\n",
       "      <td>42</td>\n",
       "      <td>ultra</td>\n",
       "    </tr>\n",
       "    <tr>\n",
       "      <th>4</th>\n",
       "      <td>754.159807</td>\n",
       "      <td>1</td>\n",
       "      <td>7</td>\n",
       "      <td>ultra</td>\n",
       "    </tr>\n",
       "    <tr>\n",
       "      <th>8</th>\n",
       "      <td>6723.470560</td>\n",
       "      <td>2</td>\n",
       "      <td>46</td>\n",
       "      <td>ultra</td>\n",
       "    </tr>\n",
       "    <tr>\n",
       "      <th>10</th>\n",
       "      <td>5809.911100</td>\n",
       "      <td>2</td>\n",
       "      <td>32</td>\n",
       "      <td>ultra</td>\n",
       "    </tr>\n",
       "    <tr>\n",
       "      <th>11</th>\n",
       "      <td>7003.499363</td>\n",
       "      <td>3</td>\n",
       "      <td>56</td>\n",
       "      <td>ultra</td>\n",
       "    </tr>\n",
       "  </tbody>\n",
       "</table>\n",
       "</div>"
      ],
      "text/plain": [
       "                  distance  num_trips  duration subscription_type\n",
       "user_id month                                                    \n",
       "1       1      7027.511294          2        42             ultra\n",
       "        4       754.159807          1         7             ultra\n",
       "        8      6723.470560          2        46             ultra\n",
       "        10     5809.911100          2        32             ultra\n",
       "        11     7003.499363          3        56             ultra"
      ]
     },
     "execution_count": 33,
     "metadata": {},
     "output_type": "execute_result"
    }
   ],
   "source": [
    "#Изменим тип данных столбца с числом поездок\n",
    "data_revenue['num_trips'] = data_revenue['num_trips'].astype(int)\n",
    "data_revenue.head()"
   ]
  },
  {
   "cell_type": "markdown",
   "id": "019398f1",
   "metadata": {},
   "source": [
    "### Добавление столбца с помесячной выручкой, которую принёс каждый пользователь."
   ]
  },
  {
   "cell_type": "code",
   "execution_count": 34,
   "id": "2dc3366a",
   "metadata": {},
   "outputs": [],
   "source": [
    "def revenue(row):\n",
    "    if row['subscription_type'] == 'free':\n",
    "        start = 50\n",
    "        minut = 8\n",
    "        sub = 0\n",
    "    else :\n",
    "        start = 0\n",
    "        minut = 6\n",
    "        sub = 199\n",
    "    count =row['num_trips']\n",
    "    dur = row['duration']\n",
    "    result = count * start + minut *dur +sub\n",
    "    return result"
   ]
  },
  {
   "cell_type": "code",
   "execution_count": 35,
   "id": "037cbbcb",
   "metadata": {},
   "outputs": [
    {
     "data": {
      "text/html": [
       "<div>\n",
       "<style scoped>\n",
       "    .dataframe tbody tr th:only-of-type {\n",
       "        vertical-align: middle;\n",
       "    }\n",
       "\n",
       "    .dataframe tbody tr th {\n",
       "        vertical-align: top;\n",
       "    }\n",
       "\n",
       "    .dataframe thead th {\n",
       "        text-align: right;\n",
       "    }\n",
       "</style>\n",
       "<table border=\"1\" class=\"dataframe\">\n",
       "  <thead>\n",
       "    <tr style=\"text-align: right;\">\n",
       "      <th></th>\n",
       "      <th></th>\n",
       "      <th>distance</th>\n",
       "      <th>num_trips</th>\n",
       "      <th>duration</th>\n",
       "      <th>subscription_type</th>\n",
       "      <th>revenue</th>\n",
       "    </tr>\n",
       "    <tr>\n",
       "      <th>user_id</th>\n",
       "      <th>month</th>\n",
       "      <th></th>\n",
       "      <th></th>\n",
       "      <th></th>\n",
       "      <th></th>\n",
       "      <th></th>\n",
       "    </tr>\n",
       "  </thead>\n",
       "  <tbody>\n",
       "    <tr>\n",
       "      <th rowspan=\"5\" valign=\"top\">1</th>\n",
       "      <th>1</th>\n",
       "      <td>7027.511294</td>\n",
       "      <td>2</td>\n",
       "      <td>42</td>\n",
       "      <td>ultra</td>\n",
       "      <td>451</td>\n",
       "    </tr>\n",
       "    <tr>\n",
       "      <th>4</th>\n",
       "      <td>754.159807</td>\n",
       "      <td>1</td>\n",
       "      <td>7</td>\n",
       "      <td>ultra</td>\n",
       "      <td>241</td>\n",
       "    </tr>\n",
       "    <tr>\n",
       "      <th>8</th>\n",
       "      <td>6723.470560</td>\n",
       "      <td>2</td>\n",
       "      <td>46</td>\n",
       "      <td>ultra</td>\n",
       "      <td>475</td>\n",
       "    </tr>\n",
       "    <tr>\n",
       "      <th>10</th>\n",
       "      <td>5809.911100</td>\n",
       "      <td>2</td>\n",
       "      <td>32</td>\n",
       "      <td>ultra</td>\n",
       "      <td>391</td>\n",
       "    </tr>\n",
       "    <tr>\n",
       "      <th>11</th>\n",
       "      <td>7003.499363</td>\n",
       "      <td>3</td>\n",
       "      <td>56</td>\n",
       "      <td>ultra</td>\n",
       "      <td>535</td>\n",
       "    </tr>\n",
       "    <tr>\n",
       "      <th>...</th>\n",
       "      <th>...</th>\n",
       "      <td>...</td>\n",
       "      <td>...</td>\n",
       "      <td>...</td>\n",
       "      <td>...</td>\n",
       "      <td>...</td>\n",
       "    </tr>\n",
       "    <tr>\n",
       "      <th rowspan=\"5\" valign=\"top\">1534</th>\n",
       "      <th>6</th>\n",
       "      <td>3409.468534</td>\n",
       "      <td>2</td>\n",
       "      <td>26</td>\n",
       "      <td>free</td>\n",
       "      <td>308</td>\n",
       "    </tr>\n",
       "    <tr>\n",
       "      <th>8</th>\n",
       "      <td>7622.453034</td>\n",
       "      <td>2</td>\n",
       "      <td>48</td>\n",
       "      <td>free</td>\n",
       "      <td>484</td>\n",
       "    </tr>\n",
       "    <tr>\n",
       "      <th>9</th>\n",
       "      <td>4928.173852</td>\n",
       "      <td>1</td>\n",
       "      <td>23</td>\n",
       "      <td>free</td>\n",
       "      <td>234</td>\n",
       "    </tr>\n",
       "    <tr>\n",
       "      <th>11</th>\n",
       "      <td>13350.015305</td>\n",
       "      <td>4</td>\n",
       "      <td>78</td>\n",
       "      <td>free</td>\n",
       "      <td>824</td>\n",
       "    </tr>\n",
       "    <tr>\n",
       "      <th>12</th>\n",
       "      <td>2371.711192</td>\n",
       "      <td>1</td>\n",
       "      <td>16</td>\n",
       "      <td>free</td>\n",
       "      <td>178</td>\n",
       "    </tr>\n",
       "  </tbody>\n",
       "</table>\n",
       "<p>11331 rows × 5 columns</p>\n",
       "</div>"
      ],
      "text/plain": [
       "                   distance  num_trips  duration subscription_type  revenue\n",
       "user_id month                                                              \n",
       "1       1       7027.511294          2        42             ultra      451\n",
       "        4        754.159807          1         7             ultra      241\n",
       "        8       6723.470560          2        46             ultra      475\n",
       "        10      5809.911100          2        32             ultra      391\n",
       "        11      7003.499363          3        56             ultra      535\n",
       "...                     ...        ...       ...               ...      ...\n",
       "1534    6       3409.468534          2        26              free      308\n",
       "        8       7622.453034          2        48              free      484\n",
       "        9       4928.173852          1        23              free      234\n",
       "        11     13350.015305          4        78              free      824\n",
       "        12      2371.711192          1        16              free      178\n",
       "\n",
       "[11331 rows x 5 columns]"
      ]
     },
     "execution_count": 35,
     "metadata": {},
     "output_type": "execute_result"
    }
   ],
   "source": [
    "data_revenue['revenue'] = data_revenue.apply(revenue, axis=1)\n",
    "data_revenue"
   ]
  },
  {
   "cell_type": "code",
   "execution_count": 36,
   "id": "8e4314ee",
   "metadata": {},
   "outputs": [
    {
     "data": {
      "text/html": [
       "<div>\n",
       "<style scoped>\n",
       "    .dataframe tbody tr th:only-of-type {\n",
       "        vertical-align: middle;\n",
       "    }\n",
       "\n",
       "    .dataframe tbody tr th {\n",
       "        vertical-align: top;\n",
       "    }\n",
       "\n",
       "    .dataframe thead th {\n",
       "        text-align: right;\n",
       "    }\n",
       "</style>\n",
       "<table border=\"1\" class=\"dataframe\">\n",
       "  <thead>\n",
       "    <tr style=\"text-align: right;\">\n",
       "      <th></th>\n",
       "      <th></th>\n",
       "      <th>distance</th>\n",
       "      <th>num_trips</th>\n",
       "      <th>duration</th>\n",
       "      <th>subscription_type</th>\n",
       "      <th>revenue</th>\n",
       "    </tr>\n",
       "    <tr>\n",
       "      <th>user_id</th>\n",
       "      <th>month</th>\n",
       "      <th></th>\n",
       "      <th></th>\n",
       "      <th></th>\n",
       "      <th></th>\n",
       "      <th></th>\n",
       "    </tr>\n",
       "  </thead>\n",
       "  <tbody>\n",
       "    <tr>\n",
       "      <th>1</th>\n",
       "      <th>1</th>\n",
       "      <td>7027.511294</td>\n",
       "      <td>2</td>\n",
       "      <td>42</td>\n",
       "      <td>ultra</td>\n",
       "      <td>451</td>\n",
       "    </tr>\n",
       "    <tr>\n",
       "      <th>3</th>\n",
       "      <th>1</th>\n",
       "      <td>3061.777147</td>\n",
       "      <td>1</td>\n",
       "      <td>13</td>\n",
       "      <td>ultra</td>\n",
       "      <td>277</td>\n",
       "    </tr>\n",
       "    <tr>\n",
       "      <th>5</th>\n",
       "      <th>1</th>\n",
       "      <td>3914.646990</td>\n",
       "      <td>1</td>\n",
       "      <td>13</td>\n",
       "      <td>ultra</td>\n",
       "      <td>277</td>\n",
       "    </tr>\n",
       "    <tr>\n",
       "      <th>7</th>\n",
       "      <th>1</th>\n",
       "      <td>6478.080979</td>\n",
       "      <td>2</td>\n",
       "      <td>28</td>\n",
       "      <td>ultra</td>\n",
       "      <td>367</td>\n",
       "    </tr>\n",
       "    <tr>\n",
       "      <th>12</th>\n",
       "      <th>1</th>\n",
       "      <td>3577.151148</td>\n",
       "      <td>1</td>\n",
       "      <td>33</td>\n",
       "      <td>ultra</td>\n",
       "      <td>397</td>\n",
       "    </tr>\n",
       "    <tr>\n",
       "      <th>...</th>\n",
       "      <th>...</th>\n",
       "      <td>...</td>\n",
       "      <td>...</td>\n",
       "      <td>...</td>\n",
       "      <td>...</td>\n",
       "      <td>...</td>\n",
       "    </tr>\n",
       "    <tr>\n",
       "      <th>1525</th>\n",
       "      <th>12</th>\n",
       "      <td>4597.854350</td>\n",
       "      <td>1</td>\n",
       "      <td>34</td>\n",
       "      <td>free</td>\n",
       "      <td>322</td>\n",
       "    </tr>\n",
       "    <tr>\n",
       "      <th>1526</th>\n",
       "      <th>12</th>\n",
       "      <td>3644.121544</td>\n",
       "      <td>1</td>\n",
       "      <td>23</td>\n",
       "      <td>free</td>\n",
       "      <td>234</td>\n",
       "    </tr>\n",
       "    <tr>\n",
       "      <th>1528</th>\n",
       "      <th>12</th>\n",
       "      <td>3998.569324</td>\n",
       "      <td>1</td>\n",
       "      <td>11</td>\n",
       "      <td>free</td>\n",
       "      <td>138</td>\n",
       "    </tr>\n",
       "    <tr>\n",
       "      <th>1532</th>\n",
       "      <th>12</th>\n",
       "      <td>6111.889853</td>\n",
       "      <td>2</td>\n",
       "      <td>42</td>\n",
       "      <td>free</td>\n",
       "      <td>436</td>\n",
       "    </tr>\n",
       "    <tr>\n",
       "      <th>1534</th>\n",
       "      <th>12</th>\n",
       "      <td>2371.711192</td>\n",
       "      <td>1</td>\n",
       "      <td>16</td>\n",
       "      <td>free</td>\n",
       "      <td>178</td>\n",
       "    </tr>\n",
       "  </tbody>\n",
       "</table>\n",
       "<p>11331 rows × 5 columns</p>\n",
       "</div>"
      ],
      "text/plain": [
       "                  distance  num_trips  duration subscription_type  revenue\n",
       "user_id month                                                             \n",
       "1       1      7027.511294          2        42             ultra      451\n",
       "3       1      3061.777147          1        13             ultra      277\n",
       "5       1      3914.646990          1        13             ultra      277\n",
       "7       1      6478.080979          2        28             ultra      367\n",
       "12      1      3577.151148          1        33             ultra      397\n",
       "...                    ...        ...       ...               ...      ...\n",
       "1525    12     4597.854350          1        34              free      322\n",
       "1526    12     3644.121544          1        23              free      234\n",
       "1528    12     3998.569324          1        11              free      138\n",
       "1532    12     6111.889853          2        42              free      436\n",
       "1534    12     2371.711192          1        16              free      178\n",
       "\n",
       "[11331 rows x 5 columns]"
      ]
     },
     "execution_count": 36,
     "metadata": {},
     "output_type": "execute_result"
    }
   ],
   "source": [
    "data_revenue=data_revenue.sort_index(level='month')\n",
    "data_revenue"
   ]
  },
  {
   "cell_type": "markdown",
   "id": "63e425d6",
   "metadata": {},
   "source": [
    "Создали новый дата фрейм и добавили столбец с помесячной выручкой каждого пользователя."
   ]
  },
  {
   "cell_type": "markdown",
   "id": "a0d46a98",
   "metadata": {},
   "source": [
    "**Вывод:**\n",
    "Был создан новый датафрейм с  агрегированными данными о поездках. Перед этим округлили столбец со временем поездки до большего числа.\n",
    "Был добавлен новый столбец с помесячной выручкой от каждого пользователя."
   ]
  },
  {
   "cell_type": "markdown",
   "id": "41545ac0",
   "metadata": {},
   "source": [
    "## Шаг 6. Проверка гипотез"
   ]
  },
  {
   "cell_type": "markdown",
   "id": "3e54940a",
   "metadata": {},
   "source": [
    "Продакт-менеджеры сервиса хотят увеличить количество пользователей с подпиской. Для этого они будут проводить различные акции, но сначала нужно выяснить несколько важных моментов."
   ]
  },
  {
   "cell_type": "markdown",
   "id": "8bfead2d",
   "metadata": {},
   "source": [
    "### Гипотеза о том, что тратят ли пользователи с подпиской больше времени на поездки."
   ]
  },
  {
   "cell_type": "markdown",
   "id": "71b69b7f",
   "metadata": {},
   "source": [
    "H0: Длительность поездки с подпиской = длительности поездки без подписки.\n",
    "\n",
    "H1: Длительность поездки с подпиской > длительности поездки без подписки.\n",
    "\n",
    "Уровень статистической значимости: 0.05"
   ]
  },
  {
   "cell_type": "code",
   "execution_count": 46,
   "id": "56fbfd56",
   "metadata": {},
   "outputs": [
    {
     "data": {
      "text/plain": [
       "6500     14.944286\n",
       "6501     16.234663\n",
       "6502     20.016628\n",
       "6503      9.782872\n",
       "6504     17.427673\n",
       "           ...    \n",
       "18063    19.822962\n",
       "18064    21.409799\n",
       "18065    18.435051\n",
       "18066    16.674362\n",
       "18067    15.893917\n",
       "Name: duration, Length: 11568, dtype: float64"
      ]
     },
     "execution_count": 46,
     "metadata": {},
     "output_type": "execute_result"
    }
   ],
   "source": []
  },
  {
   "cell_type": "code",
   "execution_count": 37,
   "id": "b0ea707f",
   "metadata": {},
   "outputs": [
    {
     "name": "stdout",
     "output_type": "stream",
     "text": [
      "p-значение: 1.2804098316645618e-34\n",
      "Отвергаем нулевую гипотезу\n"
     ]
    }
   ],
   "source": [
    "alpha = 0.05\n",
    "results = st.ttest_ind(\n",
    "    ultra_data['duration'],\n",
    "    free_data['duration'], \n",
    "    alternative='greater')\n",
    "\n",
    "print('p-значение:', results.pvalue)\n",
    "\n",
    "if results.pvalue < alpha:\n",
    "    print('Отвергаем нулевую гипотезу')\n",
    "else:\n",
    "    print('Не отвергаем нулевую гипотезу') "
   ]
  },
  {
   "cell_type": "markdown",
   "id": "3acf9d6a",
   "metadata": {},
   "source": [
    "Гипотеза повредилась. Пользователи с подпиской действительно тратят больше времени на поездки."
   ]
  },
  {
   "cell_type": "markdown",
   "id": "d3453442",
   "metadata": {},
   "source": [
    "### Гипотеза : Что среднее расстояние, которое проезжают пользователи с подпиской за одну поездку, не превышает 3130."
   ]
  },
  {
   "cell_type": "markdown",
   "id": "a5578d47",
   "metadata": {},
   "source": [
    "H0: Среднее растояние которое проезжают пользователи с подпиской за одну поездку = 3130\n",
    "\n",
    "Н1: Среднее растояние которое проезжают пользователи с подпиской за одну поездку > 3130\n",
    "\n",
    "Уровень статистической значимости: 0.05"
   ]
  },
  {
   "cell_type": "code",
   "execution_count": 38,
   "id": "f1687726",
   "metadata": {},
   "outputs": [
    {
     "name": "stdout",
     "output_type": "stream",
     "text": [
      "p-значение: 0.9195368847849785\n",
      "Не отвергаем нулевую гипотезу\n"
     ]
    }
   ],
   "source": [
    "alpha =0.05\n",
    "group = ultra_data['distance']\n",
    "dist = 3130\n",
    "\n",
    "results = st.ttest_1samp(\n",
    "    group, \n",
    "    dist,\n",
    "    alternative='greater')\n",
    "\n",
    "print('p-значение:', results.pvalue)\n",
    "\n",
    "if (results.pvalue < alpha):\n",
    "    print('Отвергаем нулевую гипотезу')\n",
    "else:\n",
    "    print('Не отвергаем нулевую гипотезу') "
   ]
  },
  {
   "cell_type": "markdown",
   "id": "bcb0733f",
   "metadata": {},
   "source": [
    "Гипотеза  подтвердилась. Среднее расстояние которое проезжают пользователи с подпиской за одну поездку ,меньше или равно 3130 метрам."
   ]
  },
  {
   "cell_type": "markdown",
   "id": "4411cf5a",
   "metadata": {},
   "source": [
    "### Гипотеза: Будет ли помесячная выручка от пользователей с подпиской по месяцам выше, чем выручка от пользователей без подписки."
   ]
  },
  {
   "cell_type": "markdown",
   "id": "c79a53d4",
   "metadata": {},
   "source": [
    "Н0: помесячная выручка от пользователей с подпиской = помесячной выручке от пользователей без подпиской.\n",
    "\n",
    "Н1: помесячная выручка от пользователей с подпиской > помесячной выручке от пользователей без подпиской.\n",
    "\n",
    "Уровень статистической значимости: 0.05"
   ]
  },
  {
   "cell_type": "code",
   "execution_count": 39,
   "id": "449dbfe8",
   "metadata": {},
   "outputs": [
    {
     "name": "stdout",
     "output_type": "stream",
     "text": [
      "p-значение: 1.8850394384715216e-31\n",
      "Отвергаем нулевую гипотезу\n"
     ]
    }
   ],
   "source": [
    "alpha = 0.05\n",
    "fr = data_revenue.loc[data_revenue.subscription_type=='free','revenue']\n",
    "ul = data_revenue.loc[data_revenue.subscription_type=='ultra','revenue']\n",
    "\n",
    "results = st.ttest_ind(\n",
    "    ul,\n",
    "    fr, \n",
    "    alternative='greater')\n",
    "\n",
    "print('p-значение:', results.pvalue)\n",
    "\n",
    "if results.pvalue < alpha:\n",
    "    print('Отвергаем нулевую гипотезу')\n",
    "else:\n",
    "    print('Не отвергаем нулевую гипотезу') "
   ]
  },
  {
   "cell_type": "markdown",
   "id": "8681ae93",
   "metadata": {},
   "source": [
    "Можно сделать вывод, что гипотеза подтвердилась. Помесячная выручка от пользователей с подпиской больше."
   ]
  },
  {
   "cell_type": "markdown",
   "id": "865c335c",
   "metadata": {},
   "source": [
    "### Теоритическая задача"
   ]
  },
  {
   "cell_type": "markdown",
   "id": "e3e0313b",
   "metadata": {},
   "source": [
    " Представьте такую ситуацию: техническая команда сервиса обновила сервера, с которыми взаимодействует мобильное приложение. Она надеется, что из-за этого количество обращений в техподдержку значимо снизилось. Некоторый файл содержит для каждого пользователя данные о количестве обращений до обновления и после него. Какой тест вам понадобился бы для проверки этой гипотезы?"
   ]
  },
  {
   "cell_type": "markdown",
   "id": "dd6b6b3c",
   "metadata": {},
   "source": [
    "**Ответ**\n",
    "\n",
    "Мы бы использовали гипотезу о равенстве средних для зависимых (парных) выборок.\n",
    "\n",
    "В этом случае нам бы понадобился тест - scipy.stats.ttest_rel().Ему надо передать два параметра: наборы данных до и после изменения."
   ]
  },
  {
   "cell_type": "markdown",
   "id": "ff08a5fd",
   "metadata": {},
   "source": [
    "**Вывод:**\n",
    "Провери 3 гипотезы. Все три потвердились. Решена задача."
   ]
  },
  {
   "cell_type": "markdown",
   "id": "61213c5e",
   "metadata": {},
   "source": [
    "## Шаг 7. (необязательное задание). Распределения"
   ]
  },
  {
   "cell_type": "markdown",
   "id": "24af68da",
   "metadata": {},
   "source": [
    "### Задача 1"
   ]
  },
  {
   "cell_type": "markdown",
   "id": "40527b9e",
   "metadata": {},
   "source": [
    "Отделу маркетинга GoFast поставили задачу: нужно провести акцию с раздачей промокодов на один бесплатный месяц подписки, в рамках которой как минимум 100 существующих клиентов должны продлить эту подписку. То есть по завершении периода действия подписки пользователь может либо отказаться от неё, либо продлить, совершив соответствующий платёж. \n",
    "Эта акция уже проводилась ранее и по итогу выяснилось, что после бесплатного пробного периода подписку продлевают 10 % пользователей. Выясните, какое минимальное количество промокодов нужно разослать, чтобы вероятность не выполнить план была примерно 5 %. Подберите параметры распределения, описывающего эту ситуацию, постройте график распределения и сформулируйте ответ на вопрос о количестве промокодов."
   ]
  },
  {
   "cell_type": "code",
   "execution_count": 40,
   "id": "bcf4d5c8",
   "metadata": {},
   "outputs": [
    {
     "name": "stderr",
     "output_type": "stream",
     "text": [
      "/opt/conda/lib/python3.9/site-packages/scipy/stats/_discrete_distns.py:78: RuntimeWarning: divide by zero encountered in _binom_pdf\n",
      "  return _boost._binom_pdf(x, n, p)\n"
     ]
    },
    {
     "data": {
      "image/png": "[encoded data removed]",
      "text/plain": [
       "<Figure size 432x288 with 1 Axes>"
      ]
     },
     "metadata": {
      "needs_background": "light"
     },
     "output_type": "display_data"
    }
   ],
   "source": [
    "\n",
    "p = 0.1\n",
    "n = 1165\n",
    "distr = []\n",
    "\n",
    "for k in range(0, n + 1):\n",
    "    current_value = binom.pmf(k, n, p)\n",
    "    distr.append(current_value)\n",
    "    \n",
    "plt.bar(range(0, n + 1), distr);"
   ]
  },
  {
   "cell_type": "markdown",
   "id": "a660d9eb",
   "metadata": {},
   "source": [
    "Вероятность выполнить план состовляет 95%"
   ]
  },
  {
   "cell_type": "code",
   "execution_count": 41,
   "id": "1cc28dee",
   "metadata": {},
   "outputs": [
    {
     "name": "stdout",
     "output_type": "stream",
     "text": [
      "Математическое ожидание 116.5\n",
      "Стандартное отклонение 10.239628899525608\n"
     ]
    }
   ],
   "source": [
    "# Математическое ожидание\n",
    "u= n*p \n",
    "print('Математическое ожидание',u)\n",
    "# Стандартное отклонение\n",
    "s= sqrt(n * p *(1-p))\n",
    "print('Стандартное отклонение', s)"
   ]
  },
  {
   "cell_type": "code",
   "execution_count": 42,
   "id": "e761e553",
   "metadata": {},
   "outputs": [
    {
     "name": "stdout",
     "output_type": "stream",
     "text": [
      "0.0535477514999997\n"
     ]
    }
   ],
   "source": [
    "\n",
    "# задаём нормальное распределение\n",
    "distr = st.norm(u, s ) \n",
    "\n",
    "result =distr.cdf(100)\n",
    "\n",
    "print(result)"
   ]
  },
  {
   "cell_type": "markdown",
   "id": "485d4fea",
   "metadata": {},
   "source": [
    "При вероятности не выполнить плана около 5%, нужно разослать не меньше 1160 промокодов"
   ]
  },
  {
   "cell_type": "markdown",
   "id": "c38715ee",
   "metadata": {},
   "source": [
    "### Задача 2"
   ]
  },
  {
   "cell_type": "markdown",
   "id": "a8fe2864",
   "metadata": {},
   "source": [
    "7.2\n",
    " Отдел маркетинга рассылает клиентам push-уведомления в мобильном приложении. Клиенты могут открыть его или не открывать. Известно, что уведомления открывают около 40 % получивших клиентов. Отдел планирует разослать 1 млн уведомлений. С помощью аппроксимации постройте примерный график распределения и оцените вероятность того, что уведомление откроют не более \n",
    "399,5 тыс. пользователей."
   ]
  },
  {
   "cell_type": "code",
   "execution_count": 43,
   "id": "217f4920",
   "metadata": {},
   "outputs": [
    {
     "data": {
      "text/plain": [
       "0.15371708296369768"
      ]
     },
     "execution_count": 43,
     "metadata": {},
     "output_type": "execute_result"
    }
   ],
   "source": [
    "# задаём параметры биномиального распределения\n",
    "n = 1000000\n",
    "p = 0.4\n",
    "\n",
    "# задаём параметры нормального распределения равными\n",
    "# мат.ожиданию и дисперсии биномиального распределения\n",
    "mu = n * p\n",
    "sigma = sqrt(n * p * (1 - p))\n",
    "# задаём нормальное распределение\n",
    "distr = st.norm(mu, sigma) \n",
    "\n",
    "\n",
    "# считаем вероятность 399.5 тысяч\n",
    "result =distr.cdf(399500)\n",
    "result"
   ]
  },
  {
   "cell_type": "code",
   "execution_count": 44,
   "id": "697de0d5",
   "metadata": {},
   "outputs": [
    {
     "data": {
      "image/png": "[encoded data removed]",
      "text/plain": [
       "<Figure size 432x288 with 1 Axes>"
      ]
     },
     "metadata": {
      "needs_background": "light"
     },
     "output_type": "display_data"
    }
   ],
   "source": [
    "\n",
    "def linspace(start, stop, num):\n",
    "    step = (stop - start) / (num - 1)\n",
    "    result = []\n",
    "    for i in range(num):\n",
    "        result.append(start + step * i)\n",
    "    return result\n",
    " \n",
    "\n",
    "left = int(n * p - 4 * sqrt(n * p * (1 - p)))\n",
    "right = int(n * p + 4 * sqrt(n * p * (1 - p)))\n",
    " \n",
    "\n",
    "x = list(range(max(0, left), right))\n",
    "# рисуем график биномиального распределения\n",
    "ax = plt.subplot();\n",
    "# используем синие о-образные маркеры и размер маркера 5\n",
    "ax.plot(x, binom.pmf(x, n, p), 'bo', ms=0.5,label='вероятности биномиального распределения')\n",
    "\n",
    "# зададим параметры нормального распределения равными\n",
    "# мат.ожиданию и дисперсии биномиального распределения\n",
    "mu = n * p\n",
    "sigma = sqrt(n * p * (1 - p))\n",
    " \n",
    "\n",
    "x = linspace(left, right, 100)\n",
    "# используем красную линию ширины 3 и прозрачности 0.3\n",
    "ax.plot(x, norm.pdf(x, mu, sigma), 'r-', lw=5, alpha=0.5, label='плотность вероятности нормального распределения')\n",
    "ax.legend(loc='best') \n",
    "plt.show()"
   ]
  },
  {
   "cell_type": "markdown",
   "id": "900c66e9",
   "metadata": {},
   "source": [
    "Вероятность получить неболее 399,5 тысячи открытий состовляет 15%"
   ]
  },
  {
   "cell_type": "markdown",
   "id": "c58ac35e",
   "metadata": {},
   "source": [
    "##  Общий вывод"
   ]
  },
  {
   "cell_type": "markdown",
   "id": "b169f701",
   "metadata": {},
   "source": [
    "Было проведено исследование сервиса аренды самокатов GoFast.\n",
    "Проведен анализ данных:\n",
    "- Узнали, что все города в дата фрейме встречаются +- одинаковой частотой.Меньше всего пользователей в Москве - 168. Лидирует Пятигорск с 219 пользователями\n",
    "- Выяснили, что пользователей с подпиской на 8,8% меньше чем пользователей без подписки.\n",
    "- Средний возраст пользователей 25 лет.\n",
    "- Средняя дистанция одной поездки 3 км.\n",
    "- Средняя длительность поездки 17 минут.\n",
    "\n",
    "Были проверены три гипотезы:\n",
    "1. Гипотеза о том, что тратят ли пользователи с подпиской больше времени на поездки\n",
    "- Гипотеза подтвердилась. Пользователи с подпиской действительно тратят больше времени на поездки.\n",
    "2. Гипотеза: Что среднее расстояние, которое проезжают пользователи с подпиской за одну поездку, не превышает 3130.\n",
    "- Гипотеза  подтвердилась. Среднее расстояние которое проезжают пользователи с подпиской за одну поездку ,меньше или равно 3130 метрам.\n",
    "3. Гипотеза: Будет ли помесячная выручка от пользователей с подпиской по месяцам выше, чем выручка от пользователей без подписки.\n",
    "- Гипотеза подтвердилась. Помесячная выручка от пользователей с подпиской больше.\n"
   ]
  }
 ],
 "metadata": {
  "ExecuteTimeLog": [
   {
    "duration": 381,
    "start_time": "2023-10-21T07:31:11.994Z"
   },
   {
    "duration": 190,
    "start_time": "2023-10-21T07:32:50.682Z"
   },
   {
    "duration": 15,
    "start_time": "2023-10-21T07:33:10.525Z"
   },
   {
    "duration": 9,
    "start_time": "2023-10-21T07:33:26.591Z"
   },
   {
    "duration": 7,
    "start_time": "2023-10-21T07:33:41.204Z"
   },
   {
    "duration": 66,
    "start_time": "2023-10-21T07:35:04.578Z"
   },
   {
    "duration": 16,
    "start_time": "2023-10-21T07:35:11.567Z"
   },
   {
    "duration": 16,
    "start_time": "2023-10-21T07:35:55.866Z"
   },
   {
    "duration": 16,
    "start_time": "2023-10-21T07:35:57.691Z"
   },
   {
    "duration": 75,
    "start_time": "2023-10-22T14:53:36.300Z"
   },
   {
    "duration": 409,
    "start_time": "2023-10-22T14:53:41.932Z"
   },
   {
    "duration": 214,
    "start_time": "2023-10-22T14:53:42.344Z"
   },
   {
    "duration": 38,
    "start_time": "2023-10-22T14:53:42.560Z"
   },
   {
    "duration": 23,
    "start_time": "2023-10-22T14:53:42.600Z"
   },
   {
    "duration": 40,
    "start_time": "2023-10-22T14:53:42.625Z"
   },
   {
    "duration": 16,
    "start_time": "2023-10-22T14:53:45.600Z"
   },
   {
    "duration": 7,
    "start_time": "2023-10-22T14:54:03.899Z"
   },
   {
    "duration": 42,
    "start_time": "2023-10-22T14:55:33.304Z"
   },
   {
    "duration": 6,
    "start_time": "2023-10-22T14:56:07.487Z"
   },
   {
    "duration": 15,
    "start_time": "2023-10-22T14:56:20.345Z"
   },
   {
    "duration": 19,
    "start_time": "2023-10-22T15:00:06.761Z"
   },
   {
    "duration": 18,
    "start_time": "2023-10-22T15:00:27.790Z"
   },
   {
    "duration": 11,
    "start_time": "2023-10-22T15:01:04.415Z"
   },
   {
    "duration": 25,
    "start_time": "2023-10-22T15:01:15.567Z"
   },
   {
    "duration": 13,
    "start_time": "2023-10-22T15:01:19.189Z"
   },
   {
    "duration": 7,
    "start_time": "2023-10-22T15:01:37.794Z"
   },
   {
    "duration": 16,
    "start_time": "2023-10-22T15:01:39.289Z"
   },
   {
    "duration": 395,
    "start_time": "2023-10-23T04:01:02.360Z"
   },
   {
    "duration": 310,
    "start_time": "2023-10-23T04:01:02.757Z"
   },
   {
    "duration": 22,
    "start_time": "2023-10-23T04:01:03.068Z"
   },
   {
    "duration": 34,
    "start_time": "2023-10-23T04:01:03.092Z"
   },
   {
    "duration": 17,
    "start_time": "2023-10-23T04:01:03.128Z"
   },
   {
    "duration": 27,
    "start_time": "2023-10-23T04:01:03.147Z"
   },
   {
    "duration": 74,
    "start_time": "2023-10-23T04:01:03.176Z"
   },
   {
    "duration": 45,
    "start_time": "2023-10-23T04:01:03.251Z"
   },
   {
    "duration": 8,
    "start_time": "2023-10-23T04:01:03.298Z"
   },
   {
    "duration": 520,
    "start_time": "2023-10-23T04:01:06.639Z"
   },
   {
    "duration": 227,
    "start_time": "2023-10-23T04:01:32.987Z"
   },
   {
    "duration": 166,
    "start_time": "2023-10-23T04:01:42.227Z"
   },
   {
    "duration": 186,
    "start_time": "2023-10-23T04:01:46.616Z"
   },
   {
    "duration": 121,
    "start_time": "2023-10-23T04:01:57.595Z"
   },
   {
    "duration": 484,
    "start_time": "2023-10-23T04:03:39.302Z"
   },
   {
    "duration": 90,
    "start_time": "2023-10-23T04:05:16.166Z"
   },
   {
    "duration": 15,
    "start_time": "2023-10-23T04:05:23.040Z"
   },
   {
    "duration": 310,
    "start_time": "2023-10-23T04:08:43.806Z"
   },
   {
    "duration": 10,
    "start_time": "2023-10-23T09:27:20.709Z"
   },
   {
    "duration": 11,
    "start_time": "2023-10-23T09:28:45.172Z"
   },
   {
    "duration": 12,
    "start_time": "2023-10-23T09:29:01.696Z"
   },
   {
    "duration": 4,
    "start_time": "2023-10-23T09:29:11.101Z"
   },
   {
    "duration": 6,
    "start_time": "2023-10-23T09:29:17.536Z"
   },
   {
    "duration": 5,
    "start_time": "2023-10-23T09:30:08.878Z"
   },
   {
    "duration": 5,
    "start_time": "2023-10-23T09:30:16.480Z"
   },
   {
    "duration": 6,
    "start_time": "2023-10-23T09:30:20.163Z"
   },
   {
    "duration": 317,
    "start_time": "2023-10-23T09:31:00.976Z"
   },
   {
    "duration": 2,
    "start_time": "2023-10-23T09:31:06.198Z"
   },
   {
    "duration": 92,
    "start_time": "2023-10-23T09:31:06.202Z"
   },
   {
    "duration": 17,
    "start_time": "2023-10-23T09:31:06.296Z"
   },
   {
    "duration": 84,
    "start_time": "2023-10-23T09:31:06.315Z"
   },
   {
    "duration": 125,
    "start_time": "2023-10-23T09:31:06.402Z"
   },
   {
    "duration": 29,
    "start_time": "2023-10-23T09:31:06.528Z"
   },
   {
    "duration": 79,
    "start_time": "2023-10-23T09:31:06.559Z"
   },
   {
    "duration": 17,
    "start_time": "2023-10-23T09:31:06.640Z"
   },
   {
    "duration": 5,
    "start_time": "2023-10-23T09:31:06.659Z"
   },
   {
    "duration": 23,
    "start_time": "2023-10-23T09:31:06.666Z"
   },
   {
    "duration": 3,
    "start_time": "2023-10-23T09:31:28.997Z"
   },
   {
    "duration": 274,
    "start_time": "2023-10-23T09:31:34.396Z"
   },
   {
    "duration": 12,
    "start_time": "2023-10-23T09:32:29.422Z"
   },
   {
    "duration": 102,
    "start_time": "2023-10-23T09:32:38.183Z"
   },
   {
    "duration": 9,
    "start_time": "2023-10-23T09:39:23.877Z"
   },
   {
    "duration": 107,
    "start_time": "2023-10-23T09:39:29.363Z"
   },
   {
    "duration": 1919,
    "start_time": "2023-10-23T09:41:21.299Z"
   },
   {
    "duration": 7,
    "start_time": "2023-10-23T09:41:32.965Z"
   },
   {
    "duration": 5,
    "start_time": "2023-10-23T09:41:48.631Z"
   },
   {
    "duration": 5,
    "start_time": "2023-10-23T09:41:52.390Z"
   },
   {
    "duration": 4,
    "start_time": "2023-10-23T09:42:48.561Z"
   },
   {
    "duration": 4,
    "start_time": "2023-10-23T09:42:56.547Z"
   },
   {
    "duration": 5,
    "start_time": "2023-10-23T09:43:11.803Z"
   },
   {
    "duration": 13,
    "start_time": "2023-10-23T09:44:26.915Z"
   },
   {
    "duration": 37,
    "start_time": "2023-10-23T09:44:48.520Z"
   },
   {
    "duration": 304,
    "start_time": "2023-10-23T09:44:53.390Z"
   },
   {
    "duration": 263,
    "start_time": "2023-10-23T09:45:55.450Z"
   },
   {
    "duration": 106,
    "start_time": "2023-10-23T09:45:58.078Z"
   },
   {
    "duration": 279,
    "start_time": "2023-10-23T09:46:00.935Z"
   },
   {
    "duration": 12,
    "start_time": "2023-10-23T09:49:54.277Z"
   },
   {
    "duration": 19,
    "start_time": "2023-10-23T09:50:20.698Z"
   },
   {
    "duration": 29,
    "start_time": "2023-10-23T09:50:27.234Z"
   },
   {
    "duration": 14,
    "start_time": "2023-10-23T09:51:39.422Z"
   },
   {
    "duration": 15,
    "start_time": "2023-10-23T09:51:59.539Z"
   },
   {
    "duration": 188,
    "start_time": "2023-10-23T09:52:22.775Z"
   },
   {
    "duration": 20040,
    "start_time": "2023-10-23T09:52:39.637Z"
   },
   {
    "duration": 496,
    "start_time": "2023-10-23T09:53:11.672Z"
   },
   {
    "duration": 1169,
    "start_time": "2023-10-23T09:55:10.505Z"
   },
   {
    "duration": 135,
    "start_time": "2023-10-23T09:56:50.356Z"
   },
   {
    "duration": 120,
    "start_time": "2023-10-23T09:57:21.628Z"
   },
   {
    "duration": 155,
    "start_time": "2023-10-23T09:57:31.339Z"
   },
   {
    "duration": 5,
    "start_time": "2023-10-23T10:00:00.467Z"
   },
   {
    "duration": 5,
    "start_time": "2023-10-23T10:00:08.069Z"
   },
   {
    "duration": 5,
    "start_time": "2023-10-23T10:00:28.770Z"
   },
   {
    "duration": 156,
    "start_time": "2023-10-23T10:00:49.816Z"
   },
   {
    "duration": 152,
    "start_time": "2023-10-23T10:01:22.551Z"
   },
   {
    "duration": 171,
    "start_time": "2023-10-23T10:07:18.042Z"
   },
   {
    "duration": 5,
    "start_time": "2023-10-23T10:09:51.812Z"
   },
   {
    "duration": 5,
    "start_time": "2023-10-23T10:10:09.217Z"
   },
   {
    "duration": 44,
    "start_time": "2023-10-24T03:55:40.000Z"
   },
   {
    "duration": 1213,
    "start_time": "2023-10-24T03:55:43.776Z"
   },
   {
    "duration": 200,
    "start_time": "2023-10-24T03:55:45.776Z"
   },
   {
    "duration": 13,
    "start_time": "2023-10-24T03:59:03.120Z"
   },
   {
    "duration": 10,
    "start_time": "2023-10-24T03:59:07.057Z"
   },
   {
    "duration": 10,
    "start_time": "2023-10-24T03:59:09.681Z"
   },
   {
    "duration": 5,
    "start_time": "2023-10-24T03:59:12.746Z"
   },
   {
    "duration": 11,
    "start_time": "2023-10-24T03:59:15.447Z"
   },
   {
    "duration": 4,
    "start_time": "2023-10-24T03:59:50.740Z"
   },
   {
    "duration": 4,
    "start_time": "2023-10-24T04:00:02.184Z"
   },
   {
    "duration": 3,
    "start_time": "2023-10-24T04:00:28.814Z"
   },
   {
    "duration": 64,
    "start_time": "2023-10-24T04:08:26.270Z"
   },
   {
    "duration": 6,
    "start_time": "2023-10-24T04:08:37.466Z"
   },
   {
    "duration": 18,
    "start_time": "2023-10-24T04:08:44.381Z"
   },
   {
    "duration": 12,
    "start_time": "2023-10-24T04:09:54.944Z"
   },
   {
    "duration": 12,
    "start_time": "2023-10-24T04:10:05.516Z"
   },
   {
    "duration": 24,
    "start_time": "2023-10-24T04:10:12.347Z"
   },
   {
    "duration": 9,
    "start_time": "2023-10-24T04:47:46.723Z"
   },
   {
    "duration": 18,
    "start_time": "2023-10-24T04:47:56.911Z"
   },
   {
    "duration": 17,
    "start_time": "2023-10-24T04:48:53.114Z"
   },
   {
    "duration": 24,
    "start_time": "2023-10-24T04:51:13.184Z"
   },
   {
    "duration": 146,
    "start_time": "2023-10-24T05:38:20.084Z"
   },
   {
    "duration": 127,
    "start_time": "2023-10-24T12:32:56.320Z"
   },
   {
    "duration": 88,
    "start_time": "2023-10-24T12:33:18.209Z"
   },
   {
    "duration": 1095,
    "start_time": "2023-10-24T12:33:29.354Z"
   },
   {
    "duration": 553,
    "start_time": "2023-10-24T12:33:39.895Z"
   },
   {
    "duration": 130,
    "start_time": "2023-10-24T12:33:45.972Z"
   },
   {
    "duration": 128,
    "start_time": "2023-10-24T12:35:55.934Z"
   },
   {
    "duration": 141,
    "start_time": "2023-10-24T12:36:23.107Z"
   },
   {
    "duration": 32,
    "start_time": "2023-10-24T12:36:50.046Z"
   },
   {
    "duration": 22,
    "start_time": "2023-10-24T12:36:59.688Z"
   },
   {
    "duration": 29,
    "start_time": "2023-10-24T12:37:04.734Z"
   },
   {
    "duration": 27,
    "start_time": "2023-10-24T12:37:28.857Z"
   },
   {
    "duration": 153,
    "start_time": "2023-10-24T12:38:12.580Z"
   },
   {
    "duration": 12162,
    "start_time": "2023-10-24T12:38:27.606Z"
   },
   {
    "duration": 8,
    "start_time": "2023-10-24T12:39:24.906Z"
   },
   {
    "duration": 13,
    "start_time": "2023-10-24T12:39:32.300Z"
   },
   {
    "duration": 8842,
    "start_time": "2023-10-24T12:41:30.890Z"
   },
   {
    "duration": 12,
    "start_time": "2023-10-24T12:46:44.396Z"
   },
   {
    "duration": 103,
    "start_time": "2023-10-24T12:48:34.891Z"
   },
   {
    "duration": 7,
    "start_time": "2023-10-24T12:49:51.891Z"
   },
   {
    "duration": 83,
    "start_time": "2023-10-24T12:51:01.822Z"
   },
   {
    "duration": 26,
    "start_time": "2023-10-24T12:53:57.049Z"
   },
   {
    "duration": 8,
    "start_time": "2023-10-24T12:54:16.282Z"
   },
   {
    "duration": 93,
    "start_time": "2023-10-24T12:54:40.668Z"
   },
   {
    "duration": 94,
    "start_time": "2023-10-24T12:54:58.980Z"
   },
   {
    "duration": 83,
    "start_time": "2023-10-24T12:55:14.435Z"
   },
   {
    "duration": 84,
    "start_time": "2023-10-24T12:55:18.809Z"
   },
   {
    "duration": 7,
    "start_time": "2023-10-24T12:59:39.820Z"
   },
   {
    "duration": 6,
    "start_time": "2023-10-24T12:59:42.166Z"
   },
   {
    "duration": 82,
    "start_time": "2023-10-24T12:59:43.974Z"
   },
   {
    "duration": 100,
    "start_time": "2023-10-24T12:59:46.241Z"
   },
   {
    "duration": 27,
    "start_time": "2023-10-24T13:13:16.328Z"
   },
   {
    "duration": 18,
    "start_time": "2023-10-24T13:13:16.357Z"
   },
   {
    "duration": 5,
    "start_time": "2023-10-24T13:13:16.377Z"
   },
   {
    "duration": 6,
    "start_time": "2023-10-24T13:13:16.384Z"
   },
   {
    "duration": 109,
    "start_time": "2023-10-24T13:13:16.391Z"
   },
   {
    "duration": 84,
    "start_time": "2023-10-24T13:13:16.502Z"
   },
   {
    "duration": 15,
    "start_time": "2023-10-24T13:13:16.588Z"
   },
   {
    "duration": 6,
    "start_time": "2023-10-24T13:13:16.604Z"
   },
   {
    "duration": 7,
    "start_time": "2023-10-24T13:13:16.611Z"
   },
   {
    "duration": 89,
    "start_time": "2023-10-24T13:13:16.620Z"
   },
   {
    "duration": 93,
    "start_time": "2023-10-24T13:13:16.711Z"
   },
   {
    "duration": 9,
    "start_time": "2023-10-24T13:14:07.141Z"
   },
   {
    "duration": 2,
    "start_time": "2023-10-24T13:14:50.184Z"
   },
   {
    "duration": 64,
    "start_time": "2023-10-24T13:14:50.188Z"
   },
   {
    "duration": 15,
    "start_time": "2023-10-24T13:14:50.253Z"
   },
   {
    "duration": 21,
    "start_time": "2023-10-24T13:14:50.270Z"
   },
   {
    "duration": 16,
    "start_time": "2023-10-24T13:14:50.293Z"
   },
   {
    "duration": 9,
    "start_time": "2023-10-24T13:14:56.392Z"
   },
   {
    "duration": 10,
    "start_time": "2023-10-24T13:15:00.066Z"
   },
   {
    "duration": 12,
    "start_time": "2023-10-24T13:15:03.211Z"
   },
   {
    "duration": 10,
    "start_time": "2023-10-24T13:15:05.491Z"
   },
   {
    "duration": 241,
    "start_time": "2023-10-24T13:15:08.649Z"
   },
   {
    "duration": 23,
    "start_time": "2023-10-24T13:15:13.653Z"
   },
   {
    "duration": 3,
    "start_time": "2023-10-24T13:15:25.167Z"
   },
   {
    "duration": 90,
    "start_time": "2023-10-24T13:15:25.172Z"
   },
   {
    "duration": 13,
    "start_time": "2023-10-24T13:15:25.264Z"
   },
   {
    "duration": 15,
    "start_time": "2023-10-24T13:15:25.278Z"
   },
   {
    "duration": 11,
    "start_time": "2023-10-24T13:15:25.295Z"
   },
   {
    "duration": 12,
    "start_time": "2023-10-24T13:15:25.308Z"
   },
   {
    "duration": 17,
    "start_time": "2023-10-24T13:15:25.322Z"
   },
   {
    "duration": 9,
    "start_time": "2023-10-24T13:15:25.341Z"
   },
   {
    "duration": 12,
    "start_time": "2023-10-24T13:15:25.352Z"
   },
   {
    "duration": 10,
    "start_time": "2023-10-24T13:15:25.365Z"
   },
   {
    "duration": 255,
    "start_time": "2023-10-24T13:15:25.376Z"
   },
   {
    "duration": 94,
    "start_time": "2023-10-24T13:15:25.632Z"
   },
   {
    "duration": 12,
    "start_time": "2023-10-24T13:15:25.728Z"
   },
   {
    "duration": 7,
    "start_time": "2023-10-24T13:15:25.741Z"
   },
   {
    "duration": 399,
    "start_time": "2023-10-24T13:15:25.750Z"
   },
   {
    "duration": 17,
    "start_time": "2023-10-24T13:15:26.151Z"
   },
   {
    "duration": 156,
    "start_time": "2023-10-24T13:15:26.169Z"
   },
   {
    "duration": 4,
    "start_time": "2023-10-24T13:15:26.327Z"
   },
   {
    "duration": 11,
    "start_time": "2023-10-24T13:15:26.333Z"
   },
   {
    "duration": 156,
    "start_time": "2023-10-24T13:15:26.346Z"
   },
   {
    "duration": 4,
    "start_time": "2023-10-24T13:15:26.503Z"
   },
   {
    "duration": 4,
    "start_time": "2023-10-24T13:15:26.508Z"
   },
   {
    "duration": 43,
    "start_time": "2023-10-24T13:15:26.513Z"
   },
   {
    "duration": 17,
    "start_time": "2023-10-24T13:15:26.557Z"
   },
   {
    "duration": 6,
    "start_time": "2023-10-24T13:15:26.576Z"
   },
   {
    "duration": 7,
    "start_time": "2023-10-24T13:15:26.583Z"
   },
   {
    "duration": 107,
    "start_time": "2023-10-24T13:15:26.591Z"
   },
   {
    "duration": 92,
    "start_time": "2023-10-24T13:15:26.699Z"
   },
   {
    "duration": 17,
    "start_time": "2023-10-24T13:15:26.792Z"
   },
   {
    "duration": 6,
    "start_time": "2023-10-24T13:15:26.811Z"
   },
   {
    "duration": 22,
    "start_time": "2023-10-24T13:15:26.818Z"
   },
   {
    "duration": 71,
    "start_time": "2023-10-24T13:15:26.841Z"
   },
   {
    "duration": 93,
    "start_time": "2023-10-24T13:15:26.914Z"
   },
   {
    "duration": 23,
    "start_time": "2023-10-24T14:12:14.983Z"
   },
   {
    "duration": 9,
    "start_time": "2023-10-24T14:23:16.683Z"
   },
   {
    "duration": 23,
    "start_time": "2023-10-24T14:23:31.337Z"
   },
   {
    "duration": 15,
    "start_time": "2023-10-24T14:24:35.435Z"
   },
   {
    "duration": 28,
    "start_time": "2023-10-24T14:25:22.386Z"
   },
   {
    "duration": 88,
    "start_time": "2023-10-24T14:25:41.037Z"
   },
   {
    "duration": 12,
    "start_time": "2023-10-24T14:26:47.519Z"
   },
   {
    "duration": 12,
    "start_time": "2023-10-24T14:27:01.196Z"
   },
   {
    "duration": 89,
    "start_time": "2023-10-24T14:28:16.096Z"
   },
   {
    "duration": 104,
    "start_time": "2023-10-24T14:31:45.330Z"
   },
   {
    "duration": 90,
    "start_time": "2023-10-24T14:32:20.342Z"
   },
   {
    "duration": 98,
    "start_time": "2023-10-24T14:32:31.766Z"
   },
   {
    "duration": 364,
    "start_time": "2023-10-24T14:36:25.062Z"
   },
   {
    "duration": 8,
    "start_time": "2023-10-24T14:43:45.051Z"
   },
   {
    "duration": 100,
    "start_time": "2023-10-24T14:44:00.679Z"
   },
   {
    "duration": 387,
    "start_time": "2023-10-24T14:47:22.907Z"
   },
   {
    "duration": 613,
    "start_time": "2023-10-24T14:47:40.359Z"
   },
   {
    "duration": 488,
    "start_time": "2023-10-24T14:48:30.912Z"
   },
   {
    "duration": 570,
    "start_time": "2023-10-24T14:50:52.417Z"
   },
   {
    "duration": 405,
    "start_time": "2023-10-24T14:51:23.858Z"
   },
   {
    "duration": 446,
    "start_time": "2023-10-24T14:51:54.088Z"
   },
   {
    "duration": 106,
    "start_time": "2023-10-24T14:52:04.823Z"
   },
   {
    "duration": 101,
    "start_time": "2023-10-24T14:52:55.934Z"
   },
   {
    "duration": 88,
    "start_time": "2023-10-24T14:53:07.099Z"
   },
   {
    "duration": 90,
    "start_time": "2023-10-24T14:53:37.025Z"
   },
   {
    "duration": 163,
    "start_time": "2023-10-24T14:54:26.586Z"
   },
   {
    "duration": 8,
    "start_time": "2023-10-24T14:54:37.707Z"
   },
   {
    "duration": 897,
    "start_time": "2023-10-24T14:54:49.368Z"
   },
   {
    "duration": 8,
    "start_time": "2023-10-24T14:55:12.631Z"
   },
   {
    "duration": 9,
    "start_time": "2023-10-24T14:58:14.585Z"
   },
   {
    "duration": 99,
    "start_time": "2023-10-24T14:58:20.584Z"
   },
   {
    "duration": 92,
    "start_time": "2023-10-24T15:03:29.669Z"
   },
   {
    "duration": 90,
    "start_time": "2023-10-24T15:03:44.636Z"
   },
   {
    "duration": 97,
    "start_time": "2023-10-24T15:04:10.643Z"
   },
   {
    "duration": 91,
    "start_time": "2023-10-24T15:04:15.503Z"
   },
   {
    "duration": 1197,
    "start_time": "2023-10-24T15:05:57.712Z"
   },
   {
    "duration": 930,
    "start_time": "2023-10-24T15:06:09.726Z"
   },
   {
    "duration": 165,
    "start_time": "2023-10-24T15:06:32.966Z"
   },
   {
    "duration": 8,
    "start_time": "2023-10-24T15:06:47.462Z"
   },
   {
    "duration": 894,
    "start_time": "2023-10-24T15:07:06.090Z"
   },
   {
    "duration": 8,
    "start_time": "2023-10-24T15:13:15.353Z"
   },
   {
    "duration": 2,
    "start_time": "2023-10-24T15:13:33.441Z"
   },
   {
    "duration": 1034,
    "start_time": "2023-10-24T15:13:38.230Z"
   },
   {
    "duration": 929,
    "start_time": "2023-10-24T15:14:08.998Z"
   },
   {
    "duration": 5,
    "start_time": "2023-10-24T15:15:21.765Z"
   },
   {
    "duration": 3,
    "start_time": "2023-10-24T15:16:28.826Z"
   },
   {
    "duration": 6,
    "start_time": "2023-10-24T15:16:45.318Z"
   },
   {
    "duration": 6,
    "start_time": "2023-10-24T15:18:10.986Z"
   },
   {
    "duration": 8,
    "start_time": "2023-10-24T15:20:54.349Z"
   },
   {
    "duration": 5,
    "start_time": "2023-10-24T15:20:56.981Z"
   },
   {
    "duration": 18,
    "start_time": "2023-10-24T15:21:06.236Z"
   },
   {
    "duration": 17,
    "start_time": "2023-10-24T15:24:10.799Z"
   },
   {
    "duration": 9,
    "start_time": "2023-10-24T15:24:24.414Z"
   },
   {
    "duration": 7,
    "start_time": "2023-10-24T15:25:42.830Z"
   },
   {
    "duration": 999,
    "start_time": "2023-10-24T15:25:51.484Z"
   },
   {
    "duration": 919,
    "start_time": "2023-10-24T15:28:26.757Z"
   },
   {
    "duration": 955,
    "start_time": "2023-10-24T15:28:35.555Z"
   },
   {
    "duration": 976,
    "start_time": "2023-10-24T15:29:04.382Z"
   },
   {
    "duration": 1006,
    "start_time": "2023-10-24T15:29:15.880Z"
   },
   {
    "duration": 21,
    "start_time": "2023-10-24T15:29:25.188Z"
   },
   {
    "duration": 8,
    "start_time": "2023-10-24T15:29:52.068Z"
   },
   {
    "duration": 6,
    "start_time": "2023-10-24T15:33:38.669Z"
   },
   {
    "duration": 17,
    "start_time": "2023-10-24T15:33:50.558Z"
   },
   {
    "duration": 27,
    "start_time": "2023-10-24T15:35:32.552Z"
   },
   {
    "duration": 1028,
    "start_time": "2023-10-24T15:35:41.836Z"
   },
   {
    "duration": 15,
    "start_time": "2023-10-24T15:35:47.801Z"
   },
   {
    "duration": 7,
    "start_time": "2023-10-24T15:35:53.606Z"
   },
   {
    "duration": 33,
    "start_time": "2023-10-24T15:35:56.139Z"
   },
   {
    "duration": 980,
    "start_time": "2023-10-24T15:36:03.001Z"
   },
   {
    "duration": 15,
    "start_time": "2023-10-24T15:36:08.266Z"
   },
   {
    "duration": 8,
    "start_time": "2023-10-24T15:36:12.943Z"
   },
   {
    "duration": 10,
    "start_time": "2023-10-24T15:36:22.773Z"
   },
   {
    "duration": 11,
    "start_time": "2023-10-24T15:39:54.961Z"
   },
   {
    "duration": 10,
    "start_time": "2023-10-24T15:39:59.042Z"
   },
   {
    "duration": 226,
    "start_time": "2023-10-24T15:40:00.829Z"
   },
   {
    "duration": 1510,
    "start_time": "2023-10-25T05:40:28.160Z"
   },
   {
    "duration": 4,
    "start_time": "2023-10-25T05:40:36.485Z"
   },
   {
    "duration": 216,
    "start_time": "2023-10-25T05:40:36.491Z"
   },
   {
    "duration": 23,
    "start_time": "2023-10-25T05:40:36.710Z"
   },
   {
    "duration": 23,
    "start_time": "2023-10-25T05:40:36.735Z"
   },
   {
    "duration": 19,
    "start_time": "2023-10-25T05:40:36.761Z"
   },
   {
    "duration": 20,
    "start_time": "2023-10-25T05:40:36.782Z"
   },
   {
    "duration": 33,
    "start_time": "2023-10-25T05:40:36.804Z"
   },
   {
    "duration": 24,
    "start_time": "2023-10-25T05:40:36.838Z"
   },
   {
    "duration": 6,
    "start_time": "2023-10-25T05:40:36.863Z"
   },
   {
    "duration": 24,
    "start_time": "2023-10-25T05:40:36.870Z"
   },
   {
    "duration": 353,
    "start_time": "2023-10-25T05:40:36.896Z"
   },
   {
    "duration": 128,
    "start_time": "2023-10-25T05:40:37.253Z"
   },
   {
    "duration": 4,
    "start_time": "2023-10-25T05:40:37.383Z"
   },
   {
    "duration": 10,
    "start_time": "2023-10-25T05:40:37.390Z"
   },
   {
    "duration": 362,
    "start_time": "2023-10-25T05:40:37.402Z"
   },
   {
    "duration": 26,
    "start_time": "2023-10-25T05:40:37.767Z"
   },
   {
    "duration": 191,
    "start_time": "2023-10-25T05:40:37.794Z"
   },
   {
    "duration": 6,
    "start_time": "2023-10-25T05:40:37.987Z"
   },
   {
    "duration": 8,
    "start_time": "2023-10-25T05:40:37.995Z"
   },
   {
    "duration": 222,
    "start_time": "2023-10-25T05:40:38.005Z"
   },
   {
    "duration": 5,
    "start_time": "2023-10-25T05:40:38.229Z"
   },
   {
    "duration": 13,
    "start_time": "2023-10-25T05:40:38.235Z"
   },
   {
    "duration": 36,
    "start_time": "2023-10-25T05:40:38.249Z"
   },
   {
    "duration": 24,
    "start_time": "2023-10-25T05:40:38.286Z"
   },
   {
    "duration": 39,
    "start_time": "2023-10-25T05:40:38.312Z"
   },
   {
    "duration": 11,
    "start_time": "2023-10-25T05:40:38.354Z"
   },
   {
    "duration": 126,
    "start_time": "2023-10-25T05:40:38.367Z"
   },
   {
    "duration": 115,
    "start_time": "2023-10-25T05:40:38.495Z"
   },
   {
    "duration": 22,
    "start_time": "2023-10-25T05:40:38.611Z"
   },
   {
    "duration": 30,
    "start_time": "2023-10-25T05:40:38.635Z"
   },
   {
    "duration": 25,
    "start_time": "2023-10-25T05:40:38.667Z"
   },
   {
    "duration": 107,
    "start_time": "2023-10-25T05:40:38.693Z"
   },
   {
    "duration": 196,
    "start_time": "2023-10-25T05:40:38.802Z"
   },
   {
    "duration": 1054,
    "start_time": "2023-10-25T05:40:39.000Z"
   },
   {
    "duration": 19,
    "start_time": "2023-10-25T05:40:40.056Z"
   },
   {
    "duration": 11,
    "start_time": "2023-10-25T05:40:40.077Z"
   },
   {
    "duration": 12,
    "start_time": "2023-10-25T05:40:40.090Z"
   },
   {
    "duration": 272,
    "start_time": "2023-10-25T05:40:40.103Z"
   },
   {
    "duration": 119,
    "start_time": "2023-10-25T05:44:37.887Z"
   },
   {
    "duration": 24,
    "start_time": "2023-10-25T05:46:09.354Z"
   },
   {
    "duration": 18,
    "start_time": "2023-10-25T05:46:29.344Z"
   },
   {
    "duration": 7,
    "start_time": "2023-10-25T05:49:16.274Z"
   },
   {
    "duration": 7,
    "start_time": "2023-10-25T05:49:44.967Z"
   },
   {
    "duration": 82,
    "start_time": "2023-10-25T05:50:49.230Z"
   },
   {
    "duration": 6,
    "start_time": "2023-10-25T05:50:57.916Z"
   },
   {
    "duration": 14,
    "start_time": "2023-10-25T05:54:21.008Z"
   },
   {
    "duration": 3,
    "start_time": "2023-10-25T05:56:20.618Z"
   },
   {
    "duration": 89,
    "start_time": "2023-10-25T05:56:20.623Z"
   },
   {
    "duration": 18,
    "start_time": "2023-10-25T05:56:20.714Z"
   },
   {
    "duration": 23,
    "start_time": "2023-10-25T05:56:20.734Z"
   },
   {
    "duration": 19,
    "start_time": "2023-10-25T05:56:20.760Z"
   },
   {
    "duration": 38,
    "start_time": "2023-10-25T05:56:20.780Z"
   },
   {
    "duration": 21,
    "start_time": "2023-10-25T05:56:20.820Z"
   },
   {
    "duration": 23,
    "start_time": "2023-10-25T05:56:20.843Z"
   },
   {
    "duration": 13,
    "start_time": "2023-10-25T05:56:20.867Z"
   },
   {
    "duration": 26,
    "start_time": "2023-10-25T05:56:20.882Z"
   },
   {
    "duration": 332,
    "start_time": "2023-10-25T05:56:20.910Z"
   },
   {
    "duration": 128,
    "start_time": "2023-10-25T05:56:21.247Z"
   },
   {
    "duration": 4,
    "start_time": "2023-10-25T05:56:21.377Z"
   },
   {
    "duration": 24,
    "start_time": "2023-10-25T05:56:21.384Z"
   },
   {
    "duration": 308,
    "start_time": "2023-10-25T05:56:21.410Z"
   },
   {
    "duration": 27,
    "start_time": "2023-10-25T05:56:21.720Z"
   },
   {
    "duration": 167,
    "start_time": "2023-10-25T05:56:21.748Z"
   },
   {
    "duration": 4,
    "start_time": "2023-10-25T05:56:21.917Z"
   },
   {
    "duration": 14,
    "start_time": "2023-10-25T05:56:21.923Z"
   },
   {
    "duration": 203,
    "start_time": "2023-10-25T05:56:21.947Z"
   },
   {
    "duration": 8,
    "start_time": "2023-10-25T05:56:22.152Z"
   },
   {
    "duration": 14,
    "start_time": "2023-10-25T05:56:22.163Z"
   },
   {
    "duration": 50,
    "start_time": "2023-10-25T05:56:22.179Z"
   },
   {
    "duration": 35,
    "start_time": "2023-10-25T05:56:22.231Z"
   },
   {
    "duration": 9,
    "start_time": "2023-10-25T05:56:22.268Z"
   },
   {
    "duration": 17,
    "start_time": "2023-10-25T05:56:22.279Z"
   },
   {
    "duration": 122,
    "start_time": "2023-10-25T05:56:22.298Z"
   },
   {
    "duration": 124,
    "start_time": "2023-10-25T05:56:22.422Z"
   },
   {
    "duration": 25,
    "start_time": "2023-10-25T05:56:22.548Z"
   },
   {
    "duration": 10,
    "start_time": "2023-10-25T05:56:22.575Z"
   },
   {
    "duration": 22,
    "start_time": "2023-10-25T05:56:22.587Z"
   },
   {
    "duration": 130,
    "start_time": "2023-10-25T05:56:22.611Z"
   },
   {
    "duration": 113,
    "start_time": "2023-10-25T05:56:22.743Z"
   },
   {
    "duration": 944,
    "start_time": "2023-10-25T05:56:36.519Z"
   },
   {
    "duration": 17,
    "start_time": "2023-10-25T05:56:41.696Z"
   },
   {
    "duration": 23,
    "start_time": "2023-10-25T05:57:46.501Z"
   },
   {
    "duration": 1216,
    "start_time": "2023-10-25T05:57:49.926Z"
   },
   {
    "duration": 27,
    "start_time": "2023-10-25T05:57:54.471Z"
   },
   {
    "duration": 28,
    "start_time": "2023-10-25T05:58:43.817Z"
   },
   {
    "duration": 942,
    "start_time": "2023-10-25T05:58:47.761Z"
   },
   {
    "duration": 18,
    "start_time": "2023-10-25T05:58:51.276Z"
   },
   {
    "duration": 970,
    "start_time": "2023-10-25T05:59:21.511Z"
   },
   {
    "duration": 3,
    "start_time": "2023-10-25T05:59:28.064Z"
   },
   {
    "duration": 1346,
    "start_time": "2023-10-25T05:59:30.656Z"
   },
   {
    "duration": 5,
    "start_time": "2023-10-25T06:02:08.381Z"
   },
   {
    "duration": 158,
    "start_time": "2023-10-25T06:02:11.530Z"
   },
   {
    "duration": 13,
    "start_time": "2023-10-25T06:02:19.471Z"
   },
   {
    "duration": 14,
    "start_time": "2023-10-25T06:02:40.480Z"
   },
   {
    "duration": 11,
    "start_time": "2023-10-25T06:03:14.317Z"
   },
   {
    "duration": 15,
    "start_time": "2023-10-25T06:03:34.474Z"
   },
   {
    "duration": 1195,
    "start_time": "2023-10-25T06:07:53.318Z"
   },
   {
    "duration": 1350,
    "start_time": "2023-10-25T06:08:30.858Z"
   },
   {
    "duration": 1568,
    "start_time": "2023-10-25T06:08:59.213Z"
   },
   {
    "duration": 11,
    "start_time": "2023-10-25T06:09:10.603Z"
   },
   {
    "duration": 1735,
    "start_time": "2023-10-25T06:09:18.454Z"
   },
   {
    "duration": 707,
    "start_time": "2023-10-25T06:10:37.186Z"
   },
   {
    "duration": 1406,
    "start_time": "2023-10-25T06:11:17.603Z"
   },
   {
    "duration": 1260,
    "start_time": "2023-10-25T06:11:27.141Z"
   },
   {
    "duration": 5,
    "start_time": "2023-10-25T06:22:19.270Z"
   },
   {
    "duration": 20,
    "start_time": "2023-10-25T06:26:09.752Z"
   },
   {
    "duration": 1007,
    "start_time": "2023-10-25T06:42:34.700Z"
   },
   {
    "duration": 997,
    "start_time": "2023-10-25T06:42:41.301Z"
   },
   {
    "duration": 935,
    "start_time": "2023-10-25T06:44:02.617Z"
   },
   {
    "duration": 12,
    "start_time": "2023-10-25T06:54:05.489Z"
   },
   {
    "duration": 10,
    "start_time": "2023-10-25T06:54:13.383Z"
   },
   {
    "duration": 8,
    "start_time": "2023-10-25T06:55:30.047Z"
   },
   {
    "duration": 13,
    "start_time": "2023-10-25T07:02:16.956Z"
   },
   {
    "duration": 172,
    "start_time": "2023-10-25T07:02:26.185Z"
   },
   {
    "duration": 4629,
    "start_time": "2023-10-25T07:03:50.268Z"
   },
   {
    "duration": 4,
    "start_time": "2023-10-25T07:04:12.549Z"
   },
   {
    "duration": 98,
    "start_time": "2023-10-25T07:04:12.556Z"
   },
   {
    "duration": 18,
    "start_time": "2023-10-25T07:04:12.656Z"
   },
   {
    "duration": 40,
    "start_time": "2023-10-25T07:04:12.676Z"
   },
   {
    "duration": 14,
    "start_time": "2023-10-25T07:04:12.718Z"
   },
   {
    "duration": 28,
    "start_time": "2023-10-25T07:04:12.733Z"
   },
   {
    "duration": 15,
    "start_time": "2023-10-25T07:04:12.763Z"
   },
   {
    "duration": 17,
    "start_time": "2023-10-25T07:04:12.781Z"
   },
   {
    "duration": 18,
    "start_time": "2023-10-25T07:04:12.800Z"
   },
   {
    "duration": 18,
    "start_time": "2023-10-25T07:04:12.820Z"
   },
   {
    "duration": 328,
    "start_time": "2023-10-25T07:04:12.841Z"
   },
   {
    "duration": 130,
    "start_time": "2023-10-25T07:04:13.171Z"
   },
   {
    "duration": 5,
    "start_time": "2023-10-25T07:04:13.303Z"
   },
   {
    "duration": 18,
    "start_time": "2023-10-25T07:04:13.311Z"
   },
   {
    "duration": 396,
    "start_time": "2023-10-25T07:04:13.330Z"
   },
   {
    "duration": 29,
    "start_time": "2023-10-25T07:04:13.727Z"
   },
   {
    "duration": 283,
    "start_time": "2023-10-25T07:04:13.758Z"
   },
   {
    "duration": 6,
    "start_time": "2023-10-25T07:04:14.046Z"
   },
   {
    "duration": 22,
    "start_time": "2023-10-25T07:04:14.054Z"
   },
   {
    "duration": 238,
    "start_time": "2023-10-25T07:04:14.078Z"
   },
   {
    "duration": 6,
    "start_time": "2023-10-25T07:04:14.318Z"
   },
   {
    "duration": 6,
    "start_time": "2023-10-25T07:04:14.326Z"
   },
   {
    "duration": 41,
    "start_time": "2023-10-25T07:04:14.347Z"
   },
   {
    "duration": 23,
    "start_time": "2023-10-25T07:04:14.390Z"
   },
   {
    "duration": 34,
    "start_time": "2023-10-25T07:04:14.414Z"
   },
   {
    "duration": 11,
    "start_time": "2023-10-25T07:04:14.450Z"
   },
   {
    "duration": 129,
    "start_time": "2023-10-25T07:04:14.463Z"
   },
   {
    "duration": 127,
    "start_time": "2023-10-25T07:04:14.593Z"
   },
   {
    "duration": 36,
    "start_time": "2023-10-25T07:04:14.722Z"
   },
   {
    "duration": 12,
    "start_time": "2023-10-25T07:04:14.760Z"
   },
   {
    "duration": 32,
    "start_time": "2023-10-25T07:04:14.774Z"
   },
   {
    "duration": 106,
    "start_time": "2023-10-25T07:04:14.808Z"
   },
   {
    "duration": 153,
    "start_time": "2023-10-25T07:04:14.916Z"
   },
   {
    "duration": 1129,
    "start_time": "2023-10-25T07:04:15.071Z"
   },
   {
    "duration": 11,
    "start_time": "2023-10-25T07:04:16.202Z"
   },
   {
    "duration": 29,
    "start_time": "2023-10-25T07:04:16.215Z"
   },
   {
    "duration": 198,
    "start_time": "2023-10-25T07:04:16.246Z"
   },
   {
    "duration": 2326,
    "start_time": "2023-10-25T07:04:40.256Z"
   },
   {
    "duration": 1989,
    "start_time": "2023-10-25T07:05:22.238Z"
   },
   {
    "duration": 2387,
    "start_time": "2023-10-25T07:06:11.768Z"
   },
   {
    "duration": 2644,
    "start_time": "2023-10-25T07:06:20.267Z"
   },
   {
    "duration": 5,
    "start_time": "2023-10-25T07:07:57.014Z"
   },
   {
    "duration": 45,
    "start_time": "2023-10-25T07:10:52.757Z"
   },
   {
    "duration": 184,
    "start_time": "2023-10-25T07:12:15.295Z"
   },
   {
    "duration": 14,
    "start_time": "2023-10-25T07:12:34.231Z"
   },
   {
    "duration": 18,
    "start_time": "2023-10-25T07:13:04.928Z"
   },
   {
    "duration": 5,
    "start_time": "2023-10-25T07:14:10.856Z"
   },
   {
    "duration": 13,
    "start_time": "2023-10-25T07:14:36.026Z"
   },
   {
    "duration": 7,
    "start_time": "2023-10-25T07:17:22.666Z"
   },
   {
    "duration": 2069,
    "start_time": "2023-10-25T07:17:48.508Z"
   },
   {
    "duration": 16,
    "start_time": "2023-10-25T07:20:20.155Z"
   },
   {
    "duration": 1298,
    "start_time": "2023-10-25T07:22:18.897Z"
   },
   {
    "duration": 1209,
    "start_time": "2023-10-25T07:22:31.250Z"
   },
   {
    "duration": 1258,
    "start_time": "2023-10-25T07:22:57.180Z"
   },
   {
    "duration": 5,
    "start_time": "2023-10-25T07:25:28.415Z"
   },
   {
    "duration": 196,
    "start_time": "2023-10-25T07:25:31.129Z"
   },
   {
    "duration": 1702,
    "start_time": "2023-10-25T07:26:06.912Z"
   },
   {
    "duration": 22,
    "start_time": "2023-10-25T07:27:56.725Z"
   },
   {
    "duration": 1424,
    "start_time": "2023-10-25T07:28:50.996Z"
   },
   {
    "duration": 885,
    "start_time": "2023-10-25T07:29:22.814Z"
   },
   {
    "duration": 1110,
    "start_time": "2023-10-25T07:29:49.114Z"
   },
   {
    "duration": 25,
    "start_time": "2023-10-25T07:31:55.603Z"
   },
   {
    "duration": 13,
    "start_time": "2023-10-25T07:32:12.532Z"
   },
   {
    "duration": 10,
    "start_time": "2023-10-25T07:32:30.220Z"
   },
   {
    "duration": 15,
    "start_time": "2023-10-25T07:35:12.399Z"
   },
   {
    "duration": 13,
    "start_time": "2023-10-25T07:36:13.545Z"
   },
   {
    "duration": 13,
    "start_time": "2023-10-25T07:36:33.463Z"
   },
   {
    "duration": 11,
    "start_time": "2023-10-25T07:36:39.934Z"
   },
   {
    "duration": 12,
    "start_time": "2023-10-25T07:36:42.928Z"
   },
   {
    "duration": 11,
    "start_time": "2023-10-25T07:36:47.886Z"
   },
   {
    "duration": 22,
    "start_time": "2023-10-25T07:36:54.142Z"
   },
   {
    "duration": 10,
    "start_time": "2023-10-25T07:37:13.435Z"
   },
   {
    "duration": 15,
    "start_time": "2023-10-25T07:38:45.931Z"
   },
   {
    "duration": 15,
    "start_time": "2023-10-25T07:43:42.113Z"
   },
   {
    "duration": 10,
    "start_time": "2023-10-25T07:43:53.562Z"
   },
   {
    "duration": 9,
    "start_time": "2023-10-25T08:19:27.948Z"
   },
   {
    "duration": 1704,
    "start_time": "2023-10-25T08:19:48.489Z"
   },
   {
    "duration": 1716,
    "start_time": "2023-10-25T08:20:21.766Z"
   },
   {
    "duration": 16837,
    "start_time": "2023-10-25T08:20:39.659Z"
   },
   {
    "duration": 2670,
    "start_time": "2023-10-25T08:27:27.199Z"
   },
   {
    "duration": 17180,
    "start_time": "2023-10-25T08:27:50.306Z"
   },
   {
    "duration": 8645,
    "start_time": "2023-10-25T08:29:11.518Z"
   },
   {
    "duration": 6946,
    "start_time": "2023-10-25T08:34:38.220Z"
   },
   {
    "duration": 2140,
    "start_time": "2023-10-25T08:34:54.430Z"
   },
   {
    "duration": 2628,
    "start_time": "2023-10-25T08:35:08.776Z"
   },
   {
    "duration": 3400,
    "start_time": "2023-10-25T08:35:21.012Z"
   },
   {
    "duration": 3660,
    "start_time": "2023-10-25T08:35:36.917Z"
   },
   {
    "duration": 5,
    "start_time": "2023-10-25T08:41:39.361Z"
   },
   {
    "duration": 2183,
    "start_time": "2023-10-25T08:42:13.653Z"
   },
   {
    "duration": 10,
    "start_time": "2023-10-25T08:42:15.839Z"
   },
   {
    "duration": 5,
    "start_time": "2023-10-25T08:43:55.090Z"
   },
   {
    "duration": 6,
    "start_time": "2023-10-25T08:45:34.790Z"
   },
   {
    "duration": 7,
    "start_time": "2023-10-25T08:46:04.659Z"
   },
   {
    "duration": 3472,
    "start_time": "2023-10-25T08:46:21.106Z"
   },
   {
    "duration": 5,
    "start_time": "2023-10-25T08:46:30.467Z"
   },
   {
    "duration": 5,
    "start_time": "2023-10-25T08:46:46.636Z"
   },
   {
    "duration": 6,
    "start_time": "2023-10-25T08:47:05.231Z"
   },
   {
    "duration": 5,
    "start_time": "2023-10-25T08:55:28.512Z"
   },
   {
    "duration": 19,
    "start_time": "2023-10-25T09:02:34.945Z"
   },
   {
    "duration": 3762,
    "start_time": "2023-10-25T09:03:12.560Z"
   },
   {
    "duration": 5,
    "start_time": "2023-10-25T09:03:33.532Z"
   },
   {
    "duration": 5,
    "start_time": "2023-10-25T09:03:35.590Z"
   },
   {
    "duration": 11,
    "start_time": "2023-10-25T09:03:37.645Z"
   },
   {
    "duration": 12,
    "start_time": "2023-10-25T09:05:22.988Z"
   },
   {
    "duration": 66786,
    "start_time": "2023-10-25T09:06:03.428Z"
   },
   {
    "duration": 6,
    "start_time": "2023-10-25T09:07:28.062Z"
   },
   {
    "duration": 6,
    "start_time": "2023-10-25T09:12:08.929Z"
   },
   {
    "duration": 9,
    "start_time": "2023-10-25T09:12:54.381Z"
   },
   {
    "duration": 199,
    "start_time": "2023-10-25T09:15:26.294Z"
   },
   {
    "duration": 4,
    "start_time": "2023-10-25T09:16:43.222Z"
   },
   {
    "duration": 22701,
    "start_time": "2023-10-25T09:16:49.130Z"
   },
   {
    "duration": 34721,
    "start_time": "2023-10-25T09:17:23.947Z"
   },
   {
    "duration": 7,
    "start_time": "2023-10-25T09:18:43.297Z"
   },
   {
    "duration": 40432,
    "start_time": "2023-10-25T09:19:11.660Z"
   },
   {
    "duration": 40536,
    "start_time": "2023-10-25T09:20:24.560Z"
   },
   {
    "duration": 41019,
    "start_time": "2023-10-25T09:26:35.862Z"
   },
   {
    "duration": 57,
    "start_time": "2023-10-25T09:28:32.775Z"
   },
   {
    "duration": 1317,
    "start_time": "2023-10-25T09:28:41.101Z"
   },
   {
    "duration": 220,
    "start_time": "2023-10-25T09:28:42.420Z"
   },
   {
    "duration": 37,
    "start_time": "2023-10-25T09:28:42.642Z"
   },
   {
    "duration": 18,
    "start_time": "2023-10-25T09:28:42.681Z"
   },
   {
    "duration": 15,
    "start_time": "2023-10-25T09:28:42.701Z"
   },
   {
    "duration": 38,
    "start_time": "2023-10-25T09:28:42.718Z"
   },
   {
    "duration": 17,
    "start_time": "2023-10-25T09:28:42.764Z"
   },
   {
    "duration": 17,
    "start_time": "2023-10-25T09:28:42.783Z"
   },
   {
    "duration": 7,
    "start_time": "2023-10-25T09:28:42.802Z"
   },
   {
    "duration": 11,
    "start_time": "2023-10-25T09:28:42.810Z"
   },
   {
    "duration": 351,
    "start_time": "2023-10-25T09:28:42.849Z"
   },
   {
    "duration": 135,
    "start_time": "2023-10-25T09:28:43.202Z"
   },
   {
    "duration": 17,
    "start_time": "2023-10-25T09:28:43.339Z"
   },
   {
    "duration": 5,
    "start_time": "2023-10-25T09:28:43.364Z"
   },
   {
    "duration": 360,
    "start_time": "2023-10-25T09:28:43.371Z"
   },
   {
    "duration": 33,
    "start_time": "2023-10-25T09:28:43.733Z"
   },
   {
    "duration": 200,
    "start_time": "2023-10-25T09:28:43.768Z"
   },
   {
    "duration": 6,
    "start_time": "2023-10-25T09:28:43.971Z"
   },
   {
    "duration": 23,
    "start_time": "2023-10-25T09:28:43.979Z"
   },
   {
    "duration": 211,
    "start_time": "2023-10-25T09:28:44.004Z"
   },
   {
    "duration": 5,
    "start_time": "2023-10-25T09:28:44.217Z"
   },
   {
    "duration": 6,
    "start_time": "2023-10-25T09:28:44.223Z"
   },
   {
    "duration": 51,
    "start_time": "2023-10-25T09:28:44.247Z"
   },
   {
    "duration": 23,
    "start_time": "2023-10-25T09:28:44.300Z"
   },
   {
    "duration": 35,
    "start_time": "2023-10-25T09:28:44.325Z"
   },
   {
    "duration": 23,
    "start_time": "2023-10-25T09:28:44.363Z"
   },
   {
    "duration": 121,
    "start_time": "2023-10-25T09:28:44.388Z"
   },
   {
    "duration": 119,
    "start_time": "2023-10-25T09:28:44.511Z"
   },
   {
    "duration": 38,
    "start_time": "2023-10-25T09:28:44.632Z"
   },
   {
    "duration": 8,
    "start_time": "2023-10-25T09:28:44.672Z"
   },
   {
    "duration": 11,
    "start_time": "2023-10-25T09:28:44.682Z"
   },
   {
    "duration": 146,
    "start_time": "2023-10-25T09:28:44.695Z"
   },
   {
    "duration": 210,
    "start_time": "2023-10-25T09:28:44.843Z"
   },
   {
    "duration": 1161,
    "start_time": "2023-10-25T09:28:45.055Z"
   },
   {
    "duration": 12,
    "start_time": "2023-10-25T09:28:46.218Z"
   },
   {
    "duration": 17,
    "start_time": "2023-10-25T09:28:46.231Z"
   },
   {
    "duration": 192,
    "start_time": "2023-10-25T09:28:46.251Z"
   },
   {
    "duration": 28,
    "start_time": "2023-10-25T09:28:46.445Z"
   },
   {
    "duration": 7,
    "start_time": "2023-10-25T09:28:46.475Z"
   },
   {
    "duration": 31,
    "start_time": "2023-10-25T09:28:46.483Z"
   },
   {
    "duration": 48,
    "start_time": "2023-10-25T09:28:46.520Z"
   },
   {
    "duration": 3437,
    "start_time": "2023-10-25T09:28:46.572Z"
   },
   {
    "duration": 5,
    "start_time": "2023-10-25T09:28:50.011Z"
   },
   {
    "duration": 14,
    "start_time": "2023-10-25T09:28:50.018Z"
   },
   {
    "duration": 5,
    "start_time": "2023-10-25T09:29:13.475Z"
   },
   {
    "duration": 7,
    "start_time": "2023-10-25T09:29:21.001Z"
   },
   {
    "duration": 7,
    "start_time": "2023-10-25T09:29:26.261Z"
   },
   {
    "duration": 8,
    "start_time": "2023-10-25T09:29:32.084Z"
   },
   {
    "duration": 11,
    "start_time": "2023-10-25T09:29:37.353Z"
   },
   {
    "duration": 63,
    "start_time": "2023-10-25T09:30:16.410Z"
   },
   {
    "duration": 1276,
    "start_time": "2023-10-25T09:30:21.977Z"
   },
   {
    "duration": 215,
    "start_time": "2023-10-25T09:30:23.259Z"
   },
   {
    "duration": 21,
    "start_time": "2023-10-25T09:30:23.476Z"
   },
   {
    "duration": 32,
    "start_time": "2023-10-25T09:30:23.499Z"
   },
   {
    "duration": 27,
    "start_time": "2023-10-25T09:30:23.533Z"
   },
   {
    "duration": 19,
    "start_time": "2023-10-25T09:30:23.566Z"
   },
   {
    "duration": 18,
    "start_time": "2023-10-25T09:30:23.586Z"
   },
   {
    "duration": 31,
    "start_time": "2023-10-25T09:30:23.606Z"
   },
   {
    "duration": 8,
    "start_time": "2023-10-25T09:30:23.639Z"
   },
   {
    "duration": 25,
    "start_time": "2023-10-25T09:30:23.648Z"
   },
   {
    "duration": 354,
    "start_time": "2023-10-25T09:30:23.674Z"
   },
   {
    "duration": 150,
    "start_time": "2023-10-25T09:30:24.030Z"
   },
   {
    "duration": 5,
    "start_time": "2023-10-25T09:30:24.182Z"
   },
   {
    "duration": 13,
    "start_time": "2023-10-25T09:30:24.192Z"
   },
   {
    "duration": 360,
    "start_time": "2023-10-25T09:30:24.207Z"
   },
   {
    "duration": 24,
    "start_time": "2023-10-25T09:30:24.570Z"
   },
   {
    "duration": 198,
    "start_time": "2023-10-25T09:30:24.596Z"
   },
   {
    "duration": 5,
    "start_time": "2023-10-25T09:30:24.796Z"
   },
   {
    "duration": 8,
    "start_time": "2023-10-25T09:30:24.803Z"
   },
   {
    "duration": 221,
    "start_time": "2023-10-25T09:30:24.812Z"
   },
   {
    "duration": 21,
    "start_time": "2023-10-25T09:30:25.035Z"
   },
   {
    "duration": 23,
    "start_time": "2023-10-25T09:30:25.058Z"
   },
   {
    "duration": 41,
    "start_time": "2023-10-25T09:30:25.083Z"
   },
   {
    "duration": 50,
    "start_time": "2023-10-25T09:30:25.126Z"
   },
   {
    "duration": 12,
    "start_time": "2023-10-25T09:30:25.179Z"
   },
   {
    "duration": 14,
    "start_time": "2023-10-25T09:30:25.193Z"
   },
   {
    "duration": 186,
    "start_time": "2023-10-25T09:30:25.209Z"
   },
   {
    "duration": 141,
    "start_time": "2023-10-25T09:30:25.397Z"
   },
   {
    "duration": 30,
    "start_time": "2023-10-25T09:30:25.540Z"
   },
   {
    "duration": 10,
    "start_time": "2023-10-25T09:30:25.572Z"
   },
   {
    "duration": 39,
    "start_time": "2023-10-25T09:30:25.584Z"
   },
   {
    "duration": 132,
    "start_time": "2023-10-25T09:30:25.626Z"
   },
   {
    "duration": 202,
    "start_time": "2023-10-25T09:30:25.760Z"
   },
   {
    "duration": 1125,
    "start_time": "2023-10-25T09:30:25.964Z"
   },
   {
    "duration": 12,
    "start_time": "2023-10-25T09:30:27.091Z"
   },
   {
    "duration": 8,
    "start_time": "2023-10-25T09:30:27.105Z"
   },
   {
    "duration": 195,
    "start_time": "2023-10-25T09:30:27.114Z"
   },
   {
    "duration": 23,
    "start_time": "2023-10-25T09:30:27.311Z"
   },
   {
    "duration": 32,
    "start_time": "2023-10-25T09:30:27.336Z"
   },
   {
    "duration": 22,
    "start_time": "2023-10-25T09:30:27.370Z"
   },
   {
    "duration": 17,
    "start_time": "2023-10-25T09:30:27.396Z"
   },
   {
    "duration": 3666,
    "start_time": "2023-10-25T09:30:27.415Z"
   },
   {
    "duration": 4,
    "start_time": "2023-10-25T09:30:31.083Z"
   },
   {
    "duration": 52,
    "start_time": "2023-10-25T09:30:31.089Z"
   },
   {
    "duration": 144,
    "start_time": "2023-10-25T09:30:31.144Z"
   },
   {
    "duration": 239,
    "start_time": "2023-10-25T09:30:31.290Z"
   },
   {
    "duration": 210,
    "start_time": "2023-10-25T09:31:41.681Z"
   },
   {
    "duration": 213,
    "start_time": "2023-10-25T09:31:52.817Z"
   },
   {
    "duration": 227,
    "start_time": "2023-10-25T09:32:10.892Z"
   },
   {
    "duration": 220,
    "start_time": "2023-10-25T09:32:22.588Z"
   },
   {
    "duration": 238,
    "start_time": "2023-10-25T09:32:31.671Z"
   },
   {
    "duration": 210,
    "start_time": "2023-10-25T09:32:43.182Z"
   },
   {
    "duration": 213,
    "start_time": "2023-10-25T09:32:55.753Z"
   },
   {
    "duration": 498,
    "start_time": "2023-10-25T09:33:10.128Z"
   },
   {
    "duration": 6,
    "start_time": "2023-10-25T09:40:45.837Z"
   },
   {
    "duration": 7,
    "start_time": "2023-10-25T09:41:28.696Z"
   },
   {
    "duration": 6,
    "start_time": "2023-10-25T14:16:51.581Z"
   },
   {
    "duration": 2883,
    "start_time": "2023-10-25T14:18:45.840Z"
   },
   {
    "duration": 96,
    "start_time": "2023-10-25T14:21:28.405Z"
   },
   {
    "duration": 3,
    "start_time": "2023-10-25T14:21:50.309Z"
   },
   {
    "duration": 75,
    "start_time": "2023-10-25T14:21:59.655Z"
   },
   {
    "duration": 86,
    "start_time": "2023-10-25T14:24:37.327Z"
   },
   {
    "duration": 2176,
    "start_time": "2023-10-25T14:25:04.015Z"
   },
   {
    "duration": 5,
    "start_time": "2023-10-25T14:27:17.740Z"
   },
   {
    "duration": 18,
    "start_time": "2023-10-25T14:27:20.158Z"
   },
   {
    "duration": 2985,
    "start_time": "2023-10-25T14:27:29.603Z"
   },
   {
    "duration": 4,
    "start_time": "2023-10-25T14:27:32.590Z"
   },
   {
    "duration": 5,
    "start_time": "2023-10-25T14:27:35.990Z"
   },
   {
    "duration": 2742,
    "start_time": "2023-10-25T14:28:04.353Z"
   },
   {
    "duration": 6,
    "start_time": "2023-10-25T14:28:07.098Z"
   },
   {
    "duration": 7,
    "start_time": "2023-10-25T14:28:08.934Z"
   },
   {
    "duration": 2684,
    "start_time": "2023-10-25T14:28:28.183Z"
   },
   {
    "duration": 4,
    "start_time": "2023-10-25T14:28:30.870Z"
   },
   {
    "duration": 6,
    "start_time": "2023-10-25T14:28:33.913Z"
   },
   {
    "duration": 19887,
    "start_time": "2023-10-25T14:28:49.474Z"
   },
   {
    "duration": 5,
    "start_time": "2023-10-25T14:29:09.363Z"
   },
   {
    "duration": 31,
    "start_time": "2023-10-25T14:29:09.370Z"
   },
   {
    "duration": 7000,
    "start_time": "2023-10-25T14:29:15.062Z"
   },
   {
    "duration": 2089,
    "start_time": "2023-10-25T14:29:25.748Z"
   },
   {
    "duration": 6,
    "start_time": "2023-10-25T14:29:31.411Z"
   },
   {
    "duration": 6,
    "start_time": "2023-10-25T14:29:34.602Z"
   },
   {
    "duration": 4077,
    "start_time": "2023-10-25T14:29:45.411Z"
   },
   {
    "duration": 4,
    "start_time": "2023-10-25T14:29:49.490Z"
   },
   {
    "duration": 15,
    "start_time": "2023-10-25T14:29:50.855Z"
   },
   {
    "duration": 2336,
    "start_time": "2023-10-25T14:30:03.994Z"
   },
   {
    "duration": 5,
    "start_time": "2023-10-25T14:30:06.332Z"
   },
   {
    "duration": 5,
    "start_time": "2023-10-25T14:30:08.876Z"
   },
   {
    "duration": 2642,
    "start_time": "2023-10-25T14:30:21.374Z"
   },
   {
    "duration": 11,
    "start_time": "2023-10-25T14:30:24.057Z"
   },
   {
    "duration": 5,
    "start_time": "2023-10-25T14:30:26.622Z"
   },
   {
    "duration": 2453,
    "start_time": "2023-10-25T14:30:36.545Z"
   },
   {
    "duration": 5,
    "start_time": "2023-10-25T14:30:39.001Z"
   },
   {
    "duration": 7,
    "start_time": "2023-10-25T14:30:41.418Z"
   },
   {
    "duration": 658,
    "start_time": "2023-10-25T14:33:23.957Z"
   },
   {
    "duration": 241,
    "start_time": "2023-10-25T14:33:33.043Z"
   },
   {
    "duration": 215,
    "start_time": "2023-10-25T14:33:44.099Z"
   },
   {
    "duration": 228,
    "start_time": "2023-10-25T14:33:49.975Z"
   },
   {
    "duration": 215,
    "start_time": "2023-10-25T14:33:54.578Z"
   },
   {
    "duration": 8,
    "start_time": "2023-10-25T14:34:06.731Z"
   },
   {
    "duration": 232,
    "start_time": "2023-10-25T14:34:09.473Z"
   },
   {
    "duration": 241,
    "start_time": "2023-10-25T14:34:22.780Z"
   },
   {
    "duration": 320,
    "start_time": "2023-10-25T14:34:34.596Z"
   },
   {
    "duration": 2650,
    "start_time": "2023-10-25T14:35:05.340Z"
   },
   {
    "duration": 5,
    "start_time": "2023-10-25T14:35:11.301Z"
   },
   {
    "duration": 7,
    "start_time": "2023-10-25T14:35:29.098Z"
   },
   {
    "duration": 6,
    "start_time": "2023-10-25T14:35:33.074Z"
   },
   {
    "duration": 2617,
    "start_time": "2023-10-25T14:35:35.913Z"
   },
   {
    "duration": 10,
    "start_time": "2023-10-25T14:35:39.046Z"
   },
   {
    "duration": 5,
    "start_time": "2023-10-25T14:35:43.784Z"
   },
   {
    "duration": 2662,
    "start_time": "2023-10-25T14:35:54.771Z"
   },
   {
    "duration": 5,
    "start_time": "2023-10-25T14:35:57.632Z"
   },
   {
    "duration": 6,
    "start_time": "2023-10-25T14:36:05.919Z"
   },
   {
    "duration": 5,
    "start_time": "2023-10-25T14:36:31.920Z"
   },
   {
    "duration": 2897,
    "start_time": "2023-10-25T14:36:57.833Z"
   },
   {
    "duration": 5,
    "start_time": "2023-10-25T14:37:03.292Z"
   },
   {
    "duration": 5,
    "start_time": "2023-10-25T14:37:05.920Z"
   },
   {
    "duration": 2608,
    "start_time": "2023-10-25T14:37:18.305Z"
   },
   {
    "duration": 3,
    "start_time": "2023-10-25T14:37:20.915Z"
   },
   {
    "duration": 12,
    "start_time": "2023-10-25T14:37:23.666Z"
   },
   {
    "duration": 10,
    "start_time": "2023-10-25T14:39:33.022Z"
   },
   {
    "duration": 9,
    "start_time": "2023-10-25T14:39:37.779Z"
   },
   {
    "duration": 9,
    "start_time": "2023-10-25T14:43:13.392Z"
   },
   {
    "duration": 12,
    "start_time": "2023-10-25T14:43:29.203Z"
   },
   {
    "duration": 14,
    "start_time": "2023-10-25T14:44:49.174Z"
   },
   {
    "duration": 348,
    "start_time": "2023-10-25T14:47:36.151Z"
   },
   {
    "duration": 83,
    "start_time": "2023-10-25T14:48:49.505Z"
   },
   {
    "duration": 371,
    "start_time": "2023-10-25T14:49:03.151Z"
   },
   {
    "duration": 388,
    "start_time": "2023-10-25T14:49:58.426Z"
   },
   {
    "duration": 155,
    "start_time": "2023-10-25T14:51:11.968Z"
   },
   {
    "duration": 76,
    "start_time": "2023-10-25T14:51:50.256Z"
   },
   {
    "duration": 103,
    "start_time": "2023-10-25T14:52:00.774Z"
   },
   {
    "duration": 179,
    "start_time": "2023-10-25T14:52:07.629Z"
   },
   {
    "duration": 176,
    "start_time": "2023-10-25T14:53:17.001Z"
   },
   {
    "duration": 197,
    "start_time": "2023-10-25T14:54:20.194Z"
   },
   {
    "duration": 200,
    "start_time": "2023-10-25T14:55:44.280Z"
   },
   {
    "duration": 193,
    "start_time": "2023-10-25T14:56:03.308Z"
   },
   {
    "duration": 222,
    "start_time": "2023-10-25T14:56:54.520Z"
   },
   {
    "duration": 186,
    "start_time": "2023-10-25T14:57:12.809Z"
   },
   {
    "duration": 200,
    "start_time": "2023-10-25T14:57:37.007Z"
   },
   {
    "duration": 208,
    "start_time": "2023-10-25T14:57:43.816Z"
   },
   {
    "duration": 187,
    "start_time": "2023-10-25T14:57:49.943Z"
   },
   {
    "duration": 185,
    "start_time": "2023-10-25T14:57:57.158Z"
   },
   {
    "duration": 195,
    "start_time": "2023-10-25T14:58:06.990Z"
   },
   {
    "duration": 118,
    "start_time": "2023-10-25T14:59:30.519Z"
   },
   {
    "duration": 141,
    "start_time": "2023-10-25T14:59:45.580Z"
   },
   {
    "duration": 165,
    "start_time": "2023-10-25T15:01:49.796Z"
   },
   {
    "duration": 358,
    "start_time": "2023-10-25T15:03:10.543Z"
   },
   {
    "duration": 347,
    "start_time": "2023-10-25T15:03:23.381Z"
   },
   {
    "duration": 352,
    "start_time": "2023-10-25T15:03:33.885Z"
   },
   {
    "duration": 15399,
    "start_time": "2023-10-25T15:10:36.679Z"
   },
   {
    "duration": 142,
    "start_time": "2023-10-25T15:11:28.738Z"
   },
   {
    "duration": 135,
    "start_time": "2023-10-25T15:12:10.688Z"
   },
   {
    "duration": 13,
    "start_time": "2023-10-25T15:13:16.821Z"
   },
   {
    "duration": 136,
    "start_time": "2023-10-25T15:13:20.492Z"
   },
   {
    "duration": 135,
    "start_time": "2023-10-25T15:14:55.944Z"
   },
   {
    "duration": 11,
    "start_time": "2023-10-25T15:16:30.641Z"
   },
   {
    "duration": 117,
    "start_time": "2023-10-25T15:16:33.027Z"
   },
   {
    "duration": 22,
    "start_time": "2023-10-25T15:23:18.875Z"
   },
   {
    "duration": 2097,
    "start_time": "2023-10-25T15:28:56.397Z"
   },
   {
    "duration": 5,
    "start_time": "2023-10-25T15:29:01.030Z"
   },
   {
    "duration": 7,
    "start_time": "2023-10-25T15:29:03.368Z"
   },
   {
    "duration": 10,
    "start_time": "2023-10-25T15:38:13.193Z"
   },
   {
    "duration": 1364,
    "start_time": "2023-10-25T16:30:20.175Z"
   },
   {
    "duration": 88,
    "start_time": "2023-10-25T16:30:21.541Z"
   },
   {
    "duration": 36,
    "start_time": "2023-10-25T16:30:21.631Z"
   },
   {
    "duration": 25,
    "start_time": "2023-10-25T16:30:21.671Z"
   },
   {
    "duration": 18,
    "start_time": "2023-10-25T16:30:21.698Z"
   },
   {
    "duration": 28,
    "start_time": "2023-10-25T16:30:21.718Z"
   },
   {
    "duration": 32,
    "start_time": "2023-10-25T16:30:21.753Z"
   },
   {
    "duration": 14,
    "start_time": "2023-10-25T16:30:21.787Z"
   },
   {
    "duration": 19,
    "start_time": "2023-10-25T16:30:21.803Z"
   },
   {
    "duration": 45,
    "start_time": "2023-10-25T16:30:21.825Z"
   },
   {
    "duration": 218,
    "start_time": "2023-10-25T16:30:21.876Z"
   },
   {
    "duration": 144,
    "start_time": "2023-10-25T16:30:22.097Z"
   },
   {
    "duration": 350,
    "start_time": "2023-10-25T16:30:22.243Z"
   },
   {
    "duration": 131,
    "start_time": "2023-10-25T16:30:22.597Z"
   },
   {
    "duration": 26,
    "start_time": "2023-10-25T16:30:22.730Z"
   },
   {
    "duration": 17,
    "start_time": "2023-10-25T16:30:22.759Z"
   },
   {
    "duration": 134,
    "start_time": "2023-10-25T16:30:22.778Z"
   },
   {
    "duration": 49,
    "start_time": "2023-10-25T16:30:22.914Z"
   },
   {
    "duration": 40,
    "start_time": "2023-10-25T16:30:22.970Z"
   },
   {
    "duration": 22,
    "start_time": "2023-10-25T16:30:23.012Z"
   },
   {
    "duration": 32,
    "start_time": "2023-10-25T16:30:23.036Z"
   },
   {
    "duration": 10,
    "start_time": "2023-10-25T16:30:23.077Z"
   },
   {
    "duration": 137,
    "start_time": "2023-10-25T16:30:23.088Z"
   },
   {
    "duration": 137,
    "start_time": "2023-10-25T16:30:23.227Z"
   },
   {
    "duration": 12,
    "start_time": "2023-10-25T16:30:23.365Z"
   },
   {
    "duration": 13,
    "start_time": "2023-10-25T16:30:23.378Z"
   },
   {
    "duration": 116,
    "start_time": "2023-10-25T16:30:23.393Z"
   },
   {
    "duration": 221,
    "start_time": "2023-10-25T16:30:23.511Z"
   },
   {
    "duration": 1117,
    "start_time": "2023-10-25T16:30:23.733Z"
   },
   {
    "duration": 24,
    "start_time": "2023-10-25T16:30:24.851Z"
   },
   {
    "duration": 17,
    "start_time": "2023-10-25T16:30:24.876Z"
   },
   {
    "duration": 201,
    "start_time": "2023-10-25T16:30:24.895Z"
   },
   {
    "duration": 17,
    "start_time": "2023-10-25T16:30:25.098Z"
   },
   {
    "duration": 28,
    "start_time": "2023-10-25T16:30:25.117Z"
   },
   {
    "duration": 32,
    "start_time": "2023-10-25T16:30:25.156Z"
   },
   {
    "duration": 28,
    "start_time": "2023-10-25T16:30:25.191Z"
   },
   {
    "duration": 2272,
    "start_time": "2023-10-25T16:30:25.221Z"
   },
   {
    "duration": 5,
    "start_time": "2023-10-25T16:30:27.494Z"
   },
   {
    "duration": 22,
    "start_time": "2023-10-25T16:30:27.500Z"
   },
   {
    "duration": 45,
    "start_time": "2023-10-25T16:30:27.524Z"
   },
   {
    "duration": 232,
    "start_time": "2023-10-25T16:30:27.576Z"
   },
   {
    "duration": 11,
    "start_time": "2023-10-25T16:33:51.616Z"
   },
   {
    "duration": 9,
    "start_time": "2023-10-25T16:34:36.269Z"
   },
   {
    "duration": 7,
    "start_time": "2023-10-25T16:34:43.132Z"
   },
   {
    "duration": 6,
    "start_time": "2023-10-25T16:34:51.212Z"
   },
   {
    "duration": 6,
    "start_time": "2023-10-25T17:07:47.930Z"
   },
   {
    "duration": 6,
    "start_time": "2023-10-25T17:08:52.105Z"
   },
   {
    "duration": 6,
    "start_time": "2023-10-25T17:09:31.181Z"
   },
   {
    "duration": 6,
    "start_time": "2023-10-25T17:13:08.018Z"
   },
   {
    "duration": 56,
    "start_time": "2023-10-26T11:53:49.227Z"
   },
   {
    "duration": 1778,
    "start_time": "2023-10-26T11:53:55.392Z"
   },
   {
    "duration": 318,
    "start_time": "2023-10-26T11:53:57.172Z"
   },
   {
    "duration": 23,
    "start_time": "2023-10-26T11:53:57.491Z"
   },
   {
    "duration": 26,
    "start_time": "2023-10-26T11:53:57.516Z"
   },
   {
    "duration": 29,
    "start_time": "2023-10-26T11:53:57.546Z"
   },
   {
    "duration": 30,
    "start_time": "2023-10-26T11:53:57.577Z"
   },
   {
    "duration": 21,
    "start_time": "2023-10-26T11:53:57.609Z"
   },
   {
    "duration": 19,
    "start_time": "2023-10-26T11:53:57.632Z"
   },
   {
    "duration": 9,
    "start_time": "2023-10-26T11:53:57.652Z"
   },
   {
    "duration": 28,
    "start_time": "2023-10-26T11:53:57.664Z"
   },
   {
    "duration": 15,
    "start_time": "2023-10-26T11:53:57.693Z"
   },
   {
    "duration": 196,
    "start_time": "2023-10-26T11:53:57.709Z"
   },
   {
    "duration": 120,
    "start_time": "2023-10-26T11:53:57.907Z"
   },
   {
    "duration": 356,
    "start_time": "2023-10-26T11:53:58.029Z"
   },
   {
    "duration": 9,
    "start_time": "2023-10-26T11:53:58.387Z"
   },
   {
    "duration": 182,
    "start_time": "2023-10-26T11:53:58.398Z"
   },
   {
    "duration": 10,
    "start_time": "2023-10-26T11:53:58.581Z"
   },
   {
    "duration": 17,
    "start_time": "2023-10-26T11:53:58.593Z"
   },
   {
    "duration": 125,
    "start_time": "2023-10-26T11:53:58.611Z"
   },
   {
    "duration": 42,
    "start_time": "2023-10-26T11:53:58.744Z"
   },
   {
    "duration": 31,
    "start_time": "2023-10-26T11:53:58.788Z"
   },
   {
    "duration": 56,
    "start_time": "2023-10-26T11:53:58.821Z"
   },
   {
    "duration": 21,
    "start_time": "2023-10-26T11:53:58.879Z"
   },
   {
    "duration": 14,
    "start_time": "2023-10-26T11:53:58.902Z"
   },
   {
    "duration": 162,
    "start_time": "2023-10-26T11:53:58.918Z"
   },
   {
    "duration": 128,
    "start_time": "2023-10-26T11:53:59.081Z"
   },
   {
    "duration": 9,
    "start_time": "2023-10-26T11:53:59.211Z"
   },
   {
    "duration": 27,
    "start_time": "2023-10-26T11:53:59.224Z"
   },
   {
    "duration": 109,
    "start_time": "2023-10-26T11:53:59.252Z"
   },
   {
    "duration": 177,
    "start_time": "2023-10-26T11:53:59.363Z"
   },
   {
    "duration": 1053,
    "start_time": "2023-10-26T11:53:59.541Z"
   },
   {
    "duration": 15,
    "start_time": "2023-10-26T11:54:00.596Z"
   },
   {
    "duration": 47,
    "start_time": "2023-10-26T11:54:00.613Z"
   },
   {
    "duration": 219,
    "start_time": "2023-10-26T11:54:00.663Z"
   },
   {
    "duration": 19,
    "start_time": "2023-10-26T11:54:00.884Z"
   },
   {
    "duration": 17,
    "start_time": "2023-10-26T11:54:00.905Z"
   },
   {
    "duration": 44,
    "start_time": "2023-10-26T11:54:00.923Z"
   },
   {
    "duration": 130,
    "start_time": "2023-10-26T11:54:00.969Z"
   },
   {
    "duration": 2032,
    "start_time": "2023-10-26T11:54:01.101Z"
   },
   {
    "duration": 17,
    "start_time": "2023-10-26T11:54:03.134Z"
   },
   {
    "duration": 38,
    "start_time": "2023-10-26T11:54:03.157Z"
   },
   {
    "duration": 27,
    "start_time": "2023-10-26T11:54:03.197Z"
   },
   {
    "duration": 274,
    "start_time": "2023-10-26T11:54:03.227Z"
   },
   {
    "duration": 331,
    "start_time": "2023-10-26T11:54:42.466Z"
   },
   {
    "duration": 9,
    "start_time": "2023-10-26T11:54:45.184Z"
   },
   {
    "duration": 5,
    "start_time": "2023-10-26T11:55:05.014Z"
   },
   {
    "duration": 7,
    "start_time": "2023-10-26T11:55:25.579Z"
   },
   {
    "duration": 13,
    "start_time": "2023-10-26T11:55:32.888Z"
   },
   {
    "duration": 8,
    "start_time": "2023-10-26T11:56:37.801Z"
   },
   {
    "duration": 8,
    "start_time": "2023-10-26T11:56:47.619Z"
   },
   {
    "duration": 1926,
    "start_time": "2023-10-26T12:08:09.983Z"
   },
   {
    "duration": 7,
    "start_time": "2023-10-26T12:08:29.931Z"
   },
   {
    "duration": 4,
    "start_time": "2023-10-26T12:09:31.751Z"
   },
   {
    "duration": 953,
    "start_time": "2023-10-26T12:09:34.684Z"
   },
   {
    "duration": 11,
    "start_time": "2023-10-26T12:10:11.584Z"
   },
   {
    "duration": 4,
    "start_time": "2023-10-26T12:12:28.131Z"
   },
   {
    "duration": 914,
    "start_time": "2023-10-26T12:12:50.868Z"
   },
   {
    "duration": 4,
    "start_time": "2023-10-26T12:13:01.104Z"
   },
   {
    "duration": 211,
    "start_time": "2023-10-26T12:13:19.045Z"
   },
   {
    "duration": 360,
    "start_time": "2023-10-26T12:14:37.057Z"
   },
   {
    "duration": 6,
    "start_time": "2023-10-26T12:17:29.078Z"
   },
   {
    "duration": 1021,
    "start_time": "2023-10-26T12:17:32.304Z"
   },
   {
    "duration": 15,
    "start_time": "2023-10-26T12:17:37.405Z"
   },
   {
    "duration": 2302,
    "start_time": "2023-10-26T12:27:06.092Z"
   },
   {
    "duration": 5,
    "start_time": "2023-10-26T12:30:42.879Z"
   },
   {
    "duration": 131,
    "start_time": "2023-10-26T12:30:42.886Z"
   },
   {
    "duration": 23,
    "start_time": "2023-10-26T12:30:43.019Z"
   },
   {
    "duration": 23,
    "start_time": "2023-10-26T12:30:43.045Z"
   },
   {
    "duration": 21,
    "start_time": "2023-10-26T12:30:43.070Z"
   },
   {
    "duration": 33,
    "start_time": "2023-10-26T12:30:43.093Z"
   },
   {
    "duration": 46,
    "start_time": "2023-10-26T12:30:43.128Z"
   },
   {
    "duration": 14,
    "start_time": "2023-10-26T12:30:43.176Z"
   },
   {
    "duration": 7,
    "start_time": "2023-10-26T12:30:43.192Z"
   },
   {
    "duration": 34,
    "start_time": "2023-10-26T12:30:43.203Z"
   },
   {
    "duration": 16,
    "start_time": "2023-10-26T12:30:43.239Z"
   },
   {
    "duration": 243,
    "start_time": "2023-10-26T12:30:43.257Z"
   },
   {
    "duration": 129,
    "start_time": "2023-10-26T12:30:43.502Z"
   },
   {
    "duration": 21,
    "start_time": "2023-10-26T12:30:43.633Z"
   },
   {
    "duration": 384,
    "start_time": "2023-10-26T12:30:43.656Z"
   },
   {
    "duration": 14,
    "start_time": "2023-10-26T12:30:44.042Z"
   },
   {
    "duration": 150,
    "start_time": "2023-10-26T12:30:44.058Z"
   },
   {
    "duration": 12,
    "start_time": "2023-10-26T12:30:44.210Z"
   },
   {
    "duration": 140,
    "start_time": "2023-10-26T12:30:44.223Z"
   },
   {
    "duration": 48,
    "start_time": "2023-10-26T12:30:44.365Z"
   },
   {
    "duration": 50,
    "start_time": "2023-10-26T12:30:44.416Z"
   },
   {
    "duration": 35,
    "start_time": "2023-10-26T12:30:44.468Z"
   },
   {
    "duration": 22,
    "start_time": "2023-10-26T12:30:44.505Z"
   },
   {
    "duration": 23,
    "start_time": "2023-10-26T12:30:44.529Z"
   },
   {
    "duration": 165,
    "start_time": "2023-10-26T12:30:44.554Z"
   },
   {
    "duration": 126,
    "start_time": "2023-10-26T12:30:44.721Z"
   },
   {
    "duration": 9,
    "start_time": "2023-10-26T12:30:44.850Z"
   },
   {
    "duration": 14,
    "start_time": "2023-10-26T12:30:44.863Z"
   },
   {
    "duration": 133,
    "start_time": "2023-10-26T12:30:44.879Z"
   },
   {
    "duration": 309,
    "start_time": "2023-10-26T12:30:45.014Z"
   },
   {
    "duration": 5,
    "start_time": "2023-10-26T12:30:45.325Z"
   },
   {
    "duration": 1050,
    "start_time": "2023-10-26T12:30:45.332Z"
   },
   {
    "duration": 12,
    "start_time": "2023-10-26T12:30:46.383Z"
   },
   {
    "duration": 9,
    "start_time": "2023-10-26T12:30:46.397Z"
   },
   {
    "duration": 177,
    "start_time": "2023-10-26T12:30:46.408Z"
   },
   {
    "duration": 18,
    "start_time": "2023-10-26T12:30:46.587Z"
   },
   {
    "duration": 6,
    "start_time": "2023-10-26T12:30:46.608Z"
   },
   {
    "duration": 33,
    "start_time": "2023-10-26T12:30:46.616Z"
   },
   {
    "duration": 10,
    "start_time": "2023-10-26T12:30:46.651Z"
   },
   {
    "duration": 2038,
    "start_time": "2023-10-26T12:30:46.663Z"
   },
   {
    "duration": 5,
    "start_time": "2023-10-26T12:30:48.704Z"
   },
   {
    "duration": 31,
    "start_time": "2023-10-26T12:30:48.711Z"
   },
   {
    "duration": 17,
    "start_time": "2023-10-26T12:30:48.745Z"
   },
   {
    "duration": 294,
    "start_time": "2023-10-26T12:30:48.763Z"
   },
   {
    "duration": 1403,
    "start_time": "2023-10-26T12:32:26.867Z"
   },
   {
    "duration": 74,
    "start_time": "2023-10-26T12:32:28.272Z"
   },
   {
    "duration": 24,
    "start_time": "2023-10-26T12:32:28.348Z"
   },
   {
    "duration": 23,
    "start_time": "2023-10-26T12:32:28.374Z"
   },
   {
    "duration": 16,
    "start_time": "2023-10-26T12:32:28.399Z"
   },
   {
    "duration": 14,
    "start_time": "2023-10-26T12:32:28.445Z"
   },
   {
    "duration": 20,
    "start_time": "2023-10-26T12:32:28.461Z"
   },
   {
    "duration": 22,
    "start_time": "2023-10-26T12:32:28.482Z"
   },
   {
    "duration": 8,
    "start_time": "2023-10-26T12:32:28.506Z"
   },
   {
    "duration": 30,
    "start_time": "2023-10-26T12:32:28.516Z"
   },
   {
    "duration": 14,
    "start_time": "2023-10-26T12:32:28.548Z"
   },
   {
    "duration": 202,
    "start_time": "2023-10-26T12:32:28.564Z"
   },
   {
    "duration": 159,
    "start_time": "2023-10-26T12:32:28.769Z"
   },
   {
    "duration": 15,
    "start_time": "2023-10-26T12:32:28.932Z"
   },
   {
    "duration": 366,
    "start_time": "2023-10-26T12:32:28.950Z"
   },
   {
    "duration": 9,
    "start_time": "2023-10-26T12:32:29.318Z"
   },
   {
    "duration": 169,
    "start_time": "2023-10-26T12:32:29.329Z"
   },
   {
    "duration": 9,
    "start_time": "2023-10-26T12:32:29.500Z"
   },
   {
    "duration": 120,
    "start_time": "2023-10-26T12:32:29.511Z"
   },
   {
    "duration": 39,
    "start_time": "2023-10-26T12:32:29.633Z"
   },
   {
    "duration": 24,
    "start_time": "2023-10-26T12:32:29.674Z"
   },
   {
    "duration": 53,
    "start_time": "2023-10-26T12:32:29.700Z"
   },
   {
    "duration": 10,
    "start_time": "2023-10-26T12:32:29.755Z"
   },
   {
    "duration": 37,
    "start_time": "2023-10-26T12:32:29.767Z"
   },
   {
    "duration": 115,
    "start_time": "2023-10-26T12:32:29.806Z"
   },
   {
    "duration": 122,
    "start_time": "2023-10-26T12:32:29.923Z"
   },
   {
    "duration": 10,
    "start_time": "2023-10-26T12:32:30.046Z"
   },
   {
    "duration": 77,
    "start_time": "2023-10-26T12:32:30.057Z"
   },
   {
    "duration": 168,
    "start_time": "2023-10-26T12:32:30.137Z"
   },
   {
    "duration": 199,
    "start_time": "2023-10-26T12:32:30.308Z"
   },
   {
    "duration": 5,
    "start_time": "2023-10-26T12:32:30.509Z"
   },
   {
    "duration": 1054,
    "start_time": "2023-10-26T12:32:30.516Z"
   },
   {
    "duration": 11,
    "start_time": "2023-10-26T12:32:31.572Z"
   },
   {
    "duration": 61,
    "start_time": "2023-10-26T12:32:31.585Z"
   },
   {
    "duration": 231,
    "start_time": "2023-10-26T12:32:31.648Z"
   },
   {
    "duration": 22,
    "start_time": "2023-10-26T12:32:31.880Z"
   },
   {
    "duration": 94,
    "start_time": "2023-10-26T12:32:31.904Z"
   },
   {
    "duration": 101,
    "start_time": "2023-10-26T12:32:31.999Z"
   },
   {
    "duration": 42,
    "start_time": "2023-10-26T12:32:32.102Z"
   },
   {
    "duration": 2168,
    "start_time": "2023-10-26T12:32:32.146Z"
   },
   {
    "duration": 7,
    "start_time": "2023-10-26T12:32:34.318Z"
   },
   {
    "duration": 44,
    "start_time": "2023-10-26T12:32:34.329Z"
   },
   {
    "duration": 46,
    "start_time": "2023-10-26T12:32:34.375Z"
   },
   {
    "duration": 260,
    "start_time": "2023-10-26T12:32:34.423Z"
   },
   {
    "duration": 6,
    "start_time": "2023-10-26T12:38:40.453Z"
   },
   {
    "duration": 4,
    "start_time": "2023-10-26T12:39:06.238Z"
   },
   {
    "duration": 87,
    "start_time": "2023-10-26T12:39:06.244Z"
   },
   {
    "duration": 25,
    "start_time": "2023-10-26T12:39:06.333Z"
   },
   {
    "duration": 21,
    "start_time": "2023-10-26T12:39:06.360Z"
   },
   {
    "duration": 17,
    "start_time": "2023-10-26T12:39:06.383Z"
   },
   {
    "duration": 44,
    "start_time": "2023-10-26T12:39:06.402Z"
   },
   {
    "duration": 15,
    "start_time": "2023-10-26T12:39:06.448Z"
   },
   {
    "duration": 16,
    "start_time": "2023-10-26T12:39:06.464Z"
   },
   {
    "duration": 5,
    "start_time": "2023-10-26T12:39:06.482Z"
   },
   {
    "duration": 10,
    "start_time": "2023-10-26T12:39:06.489Z"
   },
   {
    "duration": 5,
    "start_time": "2023-10-26T12:39:06.501Z"
   },
   {
    "duration": 207,
    "start_time": "2023-10-26T12:39:06.508Z"
   },
   {
    "duration": 111,
    "start_time": "2023-10-26T12:39:06.718Z"
   },
   {
    "duration": 17,
    "start_time": "2023-10-26T12:39:06.830Z"
   },
   {
    "duration": 304,
    "start_time": "2023-10-26T12:39:06.849Z"
   },
   {
    "duration": 9,
    "start_time": "2023-10-26T12:39:07.154Z"
   },
   {
    "duration": 116,
    "start_time": "2023-10-26T12:39:07.165Z"
   },
   {
    "duration": 9,
    "start_time": "2023-10-26T12:39:07.282Z"
   },
   {
    "duration": 280,
    "start_time": "2023-10-26T12:39:07.292Z"
   },
   {
    "duration": 30,
    "start_time": "2023-10-26T12:39:07.574Z"
   },
   {
    "duration": 55,
    "start_time": "2023-10-26T12:39:07.605Z"
   },
   {
    "duration": 28,
    "start_time": "2023-10-26T12:39:07.662Z"
   },
   {
    "duration": 28,
    "start_time": "2023-10-26T12:39:07.692Z"
   },
   {
    "duration": 10,
    "start_time": "2023-10-26T12:39:07.721Z"
   },
   {
    "duration": 123,
    "start_time": "2023-10-26T12:39:07.732Z"
   },
   {
    "duration": 115,
    "start_time": "2023-10-26T12:39:07.857Z"
   },
   {
    "duration": 9,
    "start_time": "2023-10-26T12:39:07.973Z"
   },
   {
    "duration": 309,
    "start_time": "2023-10-26T12:39:07.983Z"
   },
   {
    "duration": 118,
    "start_time": "2023-10-26T12:39:08.294Z"
   },
   {
    "duration": 112,
    "start_time": "2023-10-26T12:39:08.413Z"
   },
   {
    "duration": 5,
    "start_time": "2023-10-26T12:39:08.527Z"
   },
   {
    "duration": 1102,
    "start_time": "2023-10-26T12:39:08.544Z"
   },
   {
    "duration": 13,
    "start_time": "2023-10-26T12:39:09.648Z"
   },
   {
    "duration": 30,
    "start_time": "2023-10-26T12:39:09.663Z"
   },
   {
    "duration": 183,
    "start_time": "2023-10-26T12:39:09.695Z"
   },
   {
    "duration": 25,
    "start_time": "2023-10-26T12:39:09.881Z"
   },
   {
    "duration": 7,
    "start_time": "2023-10-26T12:39:09.910Z"
   },
   {
    "duration": 46,
    "start_time": "2023-10-26T12:39:09.919Z"
   },
   {
    "duration": 31,
    "start_time": "2023-10-26T12:39:09.967Z"
   },
   {
    "duration": 1913,
    "start_time": "2023-10-26T12:39:10.000Z"
   },
   {
    "duration": 4,
    "start_time": "2023-10-26T12:39:11.916Z"
   },
   {
    "duration": 46,
    "start_time": "2023-10-26T12:39:11.923Z"
   },
   {
    "duration": 29,
    "start_time": "2023-10-26T12:39:11.971Z"
   },
   {
    "duration": 227,
    "start_time": "2023-10-26T12:39:12.001Z"
   },
   {
    "duration": 1404,
    "start_time": "2023-10-26T13:18:19.681Z"
   },
   {
    "duration": 208,
    "start_time": "2023-10-26T13:18:21.087Z"
   },
   {
    "duration": 22,
    "start_time": "2023-10-26T13:18:21.297Z"
   },
   {
    "duration": 258,
    "start_time": "2023-10-26T13:18:21.321Z"
   },
   {
    "duration": 77,
    "start_time": "2023-10-26T13:18:21.583Z"
   },
   {
    "duration": 117,
    "start_time": "2023-10-26T13:18:21.663Z"
   },
   {
    "duration": 86,
    "start_time": "2023-10-26T13:18:21.782Z"
   },
   {
    "duration": 93,
    "start_time": "2023-10-26T13:18:21.870Z"
   },
   {
    "duration": 22,
    "start_time": "2023-10-26T13:18:21.965Z"
   },
   {
    "duration": 53,
    "start_time": "2023-10-26T13:18:21.989Z"
   },
   {
    "duration": 37,
    "start_time": "2023-10-26T13:18:22.044Z"
   },
   {
    "duration": 226,
    "start_time": "2023-10-26T13:18:22.083Z"
   },
   {
    "duration": 107,
    "start_time": "2023-10-26T13:18:22.311Z"
   },
   {
    "duration": 15,
    "start_time": "2023-10-26T13:18:22.425Z"
   },
   {
    "duration": 571,
    "start_time": "2023-10-26T13:18:22.443Z"
   },
   {
    "duration": 24,
    "start_time": "2023-10-26T13:18:23.017Z"
   },
   {
    "duration": 388,
    "start_time": "2023-10-26T13:18:23.042Z"
   },
   {
    "duration": 171,
    "start_time": "2023-10-26T13:18:23.432Z"
   },
   {
    "duration": 194,
    "start_time": "2023-10-26T13:18:23.605Z"
   },
   {
    "duration": 58,
    "start_time": "2023-10-26T13:18:23.801Z"
   },
   {
    "duration": 147,
    "start_time": "2023-10-26T13:18:23.860Z"
   },
   {
    "duration": 30,
    "start_time": "2023-10-26T13:18:24.009Z"
   },
   {
    "duration": 37,
    "start_time": "2023-10-26T13:18:24.041Z"
   },
   {
    "duration": 42,
    "start_time": "2023-10-26T13:18:24.080Z"
   },
   {
    "duration": 144,
    "start_time": "2023-10-26T13:18:24.124Z"
   },
   {
    "duration": 107,
    "start_time": "2023-10-26T13:18:24.270Z"
   },
   {
    "duration": 9,
    "start_time": "2023-10-26T13:18:24.379Z"
   },
   {
    "duration": 14,
    "start_time": "2023-10-26T13:18:24.390Z"
   },
   {
    "duration": 136,
    "start_time": "2023-10-26T13:18:24.406Z"
   },
   {
    "duration": 203,
    "start_time": "2023-10-26T13:18:24.544Z"
   },
   {
    "duration": 4,
    "start_time": "2023-10-26T13:18:24.749Z"
   },
   {
    "duration": 1009,
    "start_time": "2023-10-26T13:18:24.755Z"
   },
   {
    "duration": 11,
    "start_time": "2023-10-26T13:18:25.766Z"
   },
   {
    "duration": 22,
    "start_time": "2023-10-26T13:18:25.780Z"
   },
   {
    "duration": 215,
    "start_time": "2023-10-26T13:18:25.808Z"
   },
   {
    "duration": 27,
    "start_time": "2023-10-26T13:18:26.025Z"
   },
   {
    "duration": 8,
    "start_time": "2023-10-26T13:18:26.054Z"
   },
   {
    "duration": 30,
    "start_time": "2023-10-26T13:18:26.064Z"
   },
   {
    "duration": 20,
    "start_time": "2023-10-26T13:18:26.096Z"
   },
   {
    "duration": 2044,
    "start_time": "2023-10-26T13:18:26.118Z"
   },
   {
    "duration": 4,
    "start_time": "2023-10-26T13:18:28.166Z"
   },
   {
    "duration": 81,
    "start_time": "2023-10-26T13:18:28.172Z"
   },
   {
    "duration": 33,
    "start_time": "2023-10-26T13:18:28.255Z"
   },
   {
    "duration": 379,
    "start_time": "2023-10-26T13:18:28.290Z"
   },
   {
    "duration": 1285,
    "start_time": "2023-11-02T12:04:52.024Z"
   },
   {
    "duration": 313,
    "start_time": "2023-11-02T12:04:53.310Z"
   },
   {
    "duration": 19,
    "start_time": "2023-11-02T12:04:53.625Z"
   },
   {
    "duration": 23,
    "start_time": "2023-11-02T12:04:53.647Z"
   },
   {
    "duration": 13,
    "start_time": "2023-11-02T12:04:53.672Z"
   },
   {
    "duration": 28,
    "start_time": "2023-11-02T12:04:53.686Z"
   },
   {
    "duration": 16,
    "start_time": "2023-11-02T12:04:53.715Z"
   },
   {
    "duration": 28,
    "start_time": "2023-11-02T12:04:53.733Z"
   },
   {
    "duration": 5,
    "start_time": "2023-11-02T12:04:53.763Z"
   },
   {
    "duration": 38,
    "start_time": "2023-11-02T12:04:53.771Z"
   },
   {
    "duration": 7,
    "start_time": "2023-11-02T12:04:53.811Z"
   },
   {
    "duration": 187,
    "start_time": "2023-11-02T12:04:53.819Z"
   },
   {
    "duration": 130,
    "start_time": "2023-11-02T12:04:54.007Z"
   },
   {
    "duration": 22,
    "start_time": "2023-11-02T12:04:54.139Z"
   },
   {
    "duration": 341,
    "start_time": "2023-11-02T12:04:54.163Z"
   },
   {
    "duration": 10,
    "start_time": "2023-11-02T12:04:54.506Z"
   },
   {
    "duration": 151,
    "start_time": "2023-11-02T12:04:54.518Z"
   },
   {
    "duration": 9,
    "start_time": "2023-11-02T12:04:54.671Z"
   },
   {
    "duration": 132,
    "start_time": "2023-11-02T12:04:54.682Z"
   },
   {
    "duration": 36,
    "start_time": "2023-11-02T12:04:54.816Z"
   },
   {
    "duration": 27,
    "start_time": "2023-11-02T12:04:54.854Z"
   },
   {
    "duration": 17,
    "start_time": "2023-11-02T12:04:54.882Z"
   },
   {
    "duration": 28,
    "start_time": "2023-11-02T12:04:54.901Z"
   },
   {
    "duration": 18,
    "start_time": "2023-11-02T12:04:54.931Z"
   },
   {
    "duration": 117,
    "start_time": "2023-11-02T12:04:54.952Z"
   },
   {
    "duration": 109,
    "start_time": "2023-11-02T12:04:55.071Z"
   },
   {
    "duration": 7,
    "start_time": "2023-11-02T12:04:55.183Z"
   },
   {
    "duration": 14,
    "start_time": "2023-11-02T12:04:55.193Z"
   },
   {
    "duration": 105,
    "start_time": "2023-11-02T12:04:55.209Z"
   },
   {
    "duration": 192,
    "start_time": "2023-11-02T12:04:55.316Z"
   },
   {
    "duration": 5,
    "start_time": "2023-11-02T12:04:55.509Z"
   },
   {
    "duration": 982,
    "start_time": "2023-11-02T12:04:55.516Z"
   },
   {
    "duration": 11,
    "start_time": "2023-11-02T12:04:56.499Z"
   },
   {
    "duration": 23,
    "start_time": "2023-11-02T12:04:56.513Z"
   },
   {
    "duration": 167,
    "start_time": "2023-11-02T12:04:56.545Z"
   },
   {
    "duration": 16,
    "start_time": "2023-11-02T12:04:56.714Z"
   },
   {
    "duration": 17,
    "start_time": "2023-11-02T12:04:56.731Z"
   },
   {
    "duration": 11,
    "start_time": "2023-11-02T12:04:56.749Z"
   },
   {
    "duration": 21,
    "start_time": "2023-11-02T12:04:56.762Z"
   },
   {
    "duration": 1850,
    "start_time": "2023-11-02T12:04:56.785Z"
   },
   {
    "duration": 11,
    "start_time": "2023-11-02T12:04:58.644Z"
   },
   {
    "duration": 6,
    "start_time": "2023-11-02T12:04:58.657Z"
   },
   {
    "duration": 7,
    "start_time": "2023-11-02T12:04:58.664Z"
   },
   {
    "duration": 214,
    "start_time": "2023-11-02T12:04:58.673Z"
   },
   {
    "duration": 6,
    "start_time": "2023-11-02T12:05:18.961Z"
   },
   {
    "duration": 16,
    "start_time": "2023-11-02T12:05:28.740Z"
   }
  ],
  "kernelspec": {
   "display_name": "Python 3 (ipykernel)",
   "language": "python",
   "name": "python3"
  },
  "language_info": {
   "codemirror_mode": {
    "name": "ipython",
    "version": 3
   },
   "file_extension": ".py",
   "mimetype": "text/x-python",
   "name": "python",
   "nbconvert_exporter": "python",
   "pygments_lexer": "ipython3",
   "version": "3.11.5"
  },
  "toc": {
   "base_numbering": 1,
   "nav_menu": {},
   "number_sections": true,
   "sideBar": true,
   "skip_h1_title": true,
   "title_cell": "Table of Contents",
   "title_sidebar": "Contents",
   "toc_cell": false,
   "toc_position": {},
   "toc_section_display": true,
   "toc_window_display": false
  }
 },
 "nbformat": 4,
 "nbformat_minor": 5
}
