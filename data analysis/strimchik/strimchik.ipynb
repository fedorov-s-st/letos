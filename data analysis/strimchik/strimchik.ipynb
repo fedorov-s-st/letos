{
 "cells": [
  {
   "cell_type": "markdown",
   "metadata": {},
   "source": [
    "<div style=\"border:solid green 2px; padding: 20px\">\n",
    "\n",
    "<b>Привет, Сергей!</b>\n",
    "\n",
    "Меня зовут Алина Соловьева и я буду проверять твою работу. Попробую помочь сделать тебе её еще лучше! В Практикуме принято общение на ты, но если это дискомфортно, то сообщи об этом)\n",
    "\n",
    "Ниже ты найдешь мои комментарии - пожалуйста, не перемещай, не изменяй и не удаляй их. Я буду использовать цветовую разметку:\n",
    "\n",
    "<div class=\"alert alert-danger\">\n",
    "<b>Комментарий ревьюера:</b>☁️Так выделены самые важные замечания. Без их отработки проект не будет принят. </div>\n",
    "\n",
    "<div class=\"alert alert-warning\">\n",
    "<b>Комментарий ревьюера:</b>⛅️ Так выделены небольшие замечания.Такие замечания в проекте допустимы, это пространство для улучшений в будущем.\n",
    "</div>\n",
    "\n",
    "<div class=\"alert alert-success\">\n",
    "<b>Комментарий ревьюера:</b>☀️Так я выделяю успешные идеи.</div>\n",
    "\n",
    "Давай работать над проектом в диалоге: если ты что-то меняешь в проекте или отвечаешь на мои комментарии — пиши об этом. Мне будет легче отследить изменения, если ты выделишь свои комментарии:\n",
    "\n",
    "<div class=\"alert alert-info\"> <b>Комментарий студента:</b> Например, вот так.</div>    \n",
    "\n",
    "Всё это поможет выполнить повторную проверку твоего проекта оперативнее."
   ]
  },
  {
   "cell_type": "markdown",
   "metadata": {},
   "source": [
    "<div class=\"alert alert-info\"> <b>Комментарий студента:</b> Привет, Алина.</div> "
   ]
  },
  {
   "cell_type": "markdown",
   "metadata": {},
   "source": [
    "# Описание проекта"
   ]
  },
  {
   "cell_type": "markdown",
   "metadata": {},
   "source": [
    "\n",
    "Вы работаете в интернет-магазине «Стримчик», который продаёт по всему миру компьютерные игры. Из открытых источников доступны исторические данные о продажах игр, оценки пользователей и экспертов, жанры и платформы (например, Xbox или PlayStation). Вам нужно выявить определяющие успешность игры закономерности. Это позволит сделать ставку на потенциально популярный продукт и спланировать рекламные кампании.\n",
    "Перед вами данные до 2016 года. Представим, что сейчас декабрь 2016 г., и вы планируете кампанию на 2017-й. Нужно отработать принцип работы с данными. Неважно, прогнозируете ли вы продажи на 2017 год по данным 2016-го или же 2027-й — по данным 2026 года.\n",
    "В наборе данных попадается аббревиатура ESRB (Entertainment Software Rating Board) — это ассоциация, определяющая возрастной рейтинг компьютерных игр. ESRB оценивает игровой контент и присваивает ему подходящую возрастную категорию, например, «Для взрослых», «Для детей младшего возраста» или «Для подростков»."
   ]
  },
  {
   "cell_type": "markdown",
   "metadata": {},
   "source": [
    "\n",
    "<div class=\"alert alert-success\">\n",
    "<b>Комментарий ревьюера:</b>☀️Хорошо, что есть введение - это важная часть проекта.</div>"
   ]
  },
  {
   "cell_type": "markdown",
   "metadata": {},
   "source": [
    "##  Просмотр данных"
   ]
  },
  {
   "cell_type": "code",
   "execution_count": 1,
   "metadata": {},
   "outputs": [],
   "source": [
    "import pandas as pd\n",
    "import numpy as np\n",
    "import seaborn as sns\n",
    "import matplotlib.pyplot as plt\n",
    "from scipy import stats as st"
   ]
  },
  {
   "cell_type": "code",
   "execution_count": 2,
   "metadata": {},
   "outputs": [],
   "source": [
    "data = pd.read_csv('/datasets/games.csv')"
   ]
  },
  {
   "cell_type": "markdown",
   "metadata": {},
   "source": [
    "\n",
    "<div class=\"alert alert-warning\">\n",
    "<b>Комментарий ревьюера:</b>☀️В будущем для подгрузки данных рекомендую использовать конструкцию try-except или os.path, так удобнее работать с файлом локально.</div>"
   ]
  },
  {
   "cell_type": "code",
   "execution_count": 3,
   "metadata": {},
   "outputs": [
    {
     "data": {
      "text/html": [
       "<div>\n",
       "<style scoped>\n",
       "    .dataframe tbody tr th:only-of-type {\n",
       "        vertical-align: middle;\n",
       "    }\n",
       "\n",
       "    .dataframe tbody tr th {\n",
       "        vertical-align: top;\n",
       "    }\n",
       "\n",
       "    .dataframe thead th {\n",
       "        text-align: right;\n",
       "    }\n",
       "</style>\n",
       "<table border=\"1\" class=\"dataframe\">\n",
       "  <thead>\n",
       "    <tr style=\"text-align: right;\">\n",
       "      <th></th>\n",
       "      <th>Name</th>\n",
       "      <th>Platform</th>\n",
       "      <th>Year_of_Release</th>\n",
       "      <th>Genre</th>\n",
       "      <th>NA_sales</th>\n",
       "      <th>EU_sales</th>\n",
       "      <th>JP_sales</th>\n",
       "      <th>Other_sales</th>\n",
       "      <th>Critic_Score</th>\n",
       "      <th>User_Score</th>\n",
       "      <th>Rating</th>\n",
       "    </tr>\n",
       "  </thead>\n",
       "  <tbody>\n",
       "    <tr>\n",
       "      <th>0</th>\n",
       "      <td>Wii Sports</td>\n",
       "      <td>Wii</td>\n",
       "      <td>2006.0</td>\n",
       "      <td>Sports</td>\n",
       "      <td>41.36</td>\n",
       "      <td>28.96</td>\n",
       "      <td>3.77</td>\n",
       "      <td>8.45</td>\n",
       "      <td>76.0</td>\n",
       "      <td>8</td>\n",
       "      <td>E</td>\n",
       "    </tr>\n",
       "    <tr>\n",
       "      <th>1</th>\n",
       "      <td>Super Mario Bros.</td>\n",
       "      <td>NES</td>\n",
       "      <td>1985.0</td>\n",
       "      <td>Platform</td>\n",
       "      <td>29.08</td>\n",
       "      <td>3.58</td>\n",
       "      <td>6.81</td>\n",
       "      <td>0.77</td>\n",
       "      <td>NaN</td>\n",
       "      <td>NaN</td>\n",
       "      <td>NaN</td>\n",
       "    </tr>\n",
       "    <tr>\n",
       "      <th>2</th>\n",
       "      <td>Mario Kart Wii</td>\n",
       "      <td>Wii</td>\n",
       "      <td>2008.0</td>\n",
       "      <td>Racing</td>\n",
       "      <td>15.68</td>\n",
       "      <td>12.76</td>\n",
       "      <td>3.79</td>\n",
       "      <td>3.29</td>\n",
       "      <td>82.0</td>\n",
       "      <td>8.3</td>\n",
       "      <td>E</td>\n",
       "    </tr>\n",
       "    <tr>\n",
       "      <th>3</th>\n",
       "      <td>Wii Sports Resort</td>\n",
       "      <td>Wii</td>\n",
       "      <td>2009.0</td>\n",
       "      <td>Sports</td>\n",
       "      <td>15.61</td>\n",
       "      <td>10.93</td>\n",
       "      <td>3.28</td>\n",
       "      <td>2.95</td>\n",
       "      <td>80.0</td>\n",
       "      <td>8</td>\n",
       "      <td>E</td>\n",
       "    </tr>\n",
       "    <tr>\n",
       "      <th>4</th>\n",
       "      <td>Pokemon Red/Pokemon Blue</td>\n",
       "      <td>GB</td>\n",
       "      <td>1996.0</td>\n",
       "      <td>Role-Playing</td>\n",
       "      <td>11.27</td>\n",
       "      <td>8.89</td>\n",
       "      <td>10.22</td>\n",
       "      <td>1.00</td>\n",
       "      <td>NaN</td>\n",
       "      <td>NaN</td>\n",
       "      <td>NaN</td>\n",
       "    </tr>\n",
       "  </tbody>\n",
       "</table>\n",
       "</div>"
      ],
      "text/plain": [
       "                       Name Platform  Year_of_Release         Genre  NA_sales  \\\n",
       "0                Wii Sports      Wii           2006.0        Sports     41.36   \n",
       "1         Super Mario Bros.      NES           1985.0      Platform     29.08   \n",
       "2            Mario Kart Wii      Wii           2008.0        Racing     15.68   \n",
       "3         Wii Sports Resort      Wii           2009.0        Sports     15.61   \n",
       "4  Pokemon Red/Pokemon Blue       GB           1996.0  Role-Playing     11.27   \n",
       "\n",
       "   EU_sales  JP_sales  Other_sales  Critic_Score User_Score Rating  \n",
       "0     28.96      3.77         8.45          76.0          8      E  \n",
       "1      3.58      6.81         0.77           NaN        NaN    NaN  \n",
       "2     12.76      3.79         3.29          82.0        8.3      E  \n",
       "3     10.93      3.28         2.95          80.0          8      E  \n",
       "4      8.89     10.22         1.00           NaN        NaN    NaN  "
      ]
     },
     "execution_count": 3,
     "metadata": {},
     "output_type": "execute_result"
    }
   ],
   "source": [
    "data.head()"
   ]
  },
  {
   "cell_type": "markdown",
   "metadata": {},
   "source": [
    "\n",
    "<div class=\"alert alert-warning\">\n",
    "<b>Комментарий ревьюера:</b>☀️Не забывай использовать df.head() для просмотра датасета.</div>"
   ]
  },
  {
   "cell_type": "code",
   "execution_count": 4,
   "metadata": {},
   "outputs": [
    {
     "name": "stdout",
     "output_type": "stream",
     "text": [
      "<class 'pandas.core.frame.DataFrame'>\n",
      "RangeIndex: 16715 entries, 0 to 16714\n",
      "Data columns (total 11 columns):\n",
      " #   Column           Non-Null Count  Dtype  \n",
      "---  ------           --------------  -----  \n",
      " 0   Name             16713 non-null  object \n",
      " 1   Platform         16715 non-null  object \n",
      " 2   Year_of_Release  16446 non-null  float64\n",
      " 3   Genre            16713 non-null  object \n",
      " 4   NA_sales         16715 non-null  float64\n",
      " 5   EU_sales         16715 non-null  float64\n",
      " 6   JP_sales         16715 non-null  float64\n",
      " 7   Other_sales      16715 non-null  float64\n",
      " 8   Critic_Score     8137 non-null   float64\n",
      " 9   User_Score       10014 non-null  object \n",
      " 10  Rating           9949 non-null   object \n",
      "dtypes: float64(6), object(5)\n",
      "memory usage: 1.4+ MB\n"
     ]
    }
   ],
   "source": [
    "data.info()"
   ]
  },
  {
   "cell_type": "markdown",
   "metadata": {},
   "source": [
    "**Вывод**\n",
    "Прочитали файл.  Видим, что надо привезти названия столбцов к стандарту. Так же видно, что присутствуют много пропусков. Нужно изменить тип данных некоторых столбцов.\n"
   ]
  },
  {
   "cell_type": "markdown",
   "metadata": {},
   "source": [
    "\n",
    "<div class=\"alert alert-success\">\n",
    "<b>Комментарий ревьюера:</b>☀️Отличный первичный взгляд на данные.</div>"
   ]
  },
  {
   "cell_type": "markdown",
   "metadata": {},
   "source": [
    "## Подготовка данных"
   ]
  },
  {
   "cell_type": "markdown",
   "metadata": {},
   "source": [
    "### Изменение названия колонок"
   ]
  },
  {
   "cell_type": "code",
   "execution_count": 5,
   "metadata": {},
   "outputs": [],
   "source": [
    "# Изменение названия столбцов\n",
    "data = data.rename(columns={'Name': 'name', 'Platform':'platform', 'Year_of_Release':'year_of_release','Genre':'genre',\n",
    "                            'NA_sales':'na_sales', 'EU_sales':'eu_sales', 'JP_sales':'jp_sales','Other_sales':'other_sales',\n",
    "                            'Critic_Score':'critic_score','User_Score':'user_score','Rating':'rating'})"
   ]
  },
  {
   "cell_type": "markdown",
   "metadata": {},
   "source": [
    "\n",
    "<div class=\"alert alert-warning\">\n",
    "<b>Комментарий ревьюера:</b>☀️Чтобы вручную не прописывать названия столбцов, можно использовать \n",
    "\n",
    "    df.columns.str.lower() \n",
    "</div>"
   ]
  },
  {
   "cell_type": "code",
   "execution_count": 6,
   "metadata": {},
   "outputs": [
    {
     "data": {
      "text/html": [
       "<div>\n",
       "<style scoped>\n",
       "    .dataframe tbody tr th:only-of-type {\n",
       "        vertical-align: middle;\n",
       "    }\n",
       "\n",
       "    .dataframe tbody tr th {\n",
       "        vertical-align: top;\n",
       "    }\n",
       "\n",
       "    .dataframe thead th {\n",
       "        text-align: right;\n",
       "    }\n",
       "</style>\n",
       "<table border=\"1\" class=\"dataframe\">\n",
       "  <thead>\n",
       "    <tr style=\"text-align: right;\">\n",
       "      <th></th>\n",
       "      <th>name</th>\n",
       "      <th>platform</th>\n",
       "      <th>year_of_release</th>\n",
       "      <th>genre</th>\n",
       "      <th>na_sales</th>\n",
       "      <th>eu_sales</th>\n",
       "      <th>jp_sales</th>\n",
       "      <th>other_sales</th>\n",
       "      <th>critic_score</th>\n",
       "      <th>user_score</th>\n",
       "      <th>rating</th>\n",
       "    </tr>\n",
       "  </thead>\n",
       "  <tbody>\n",
       "    <tr>\n",
       "      <th>16710</th>\n",
       "      <td>Samurai Warriors: Sanada Maru</td>\n",
       "      <td>PS3</td>\n",
       "      <td>2016.0</td>\n",
       "      <td>Action</td>\n",
       "      <td>0.00</td>\n",
       "      <td>0.00</td>\n",
       "      <td>0.01</td>\n",
       "      <td>0.0</td>\n",
       "      <td>NaN</td>\n",
       "      <td>NaN</td>\n",
       "      <td>NaN</td>\n",
       "    </tr>\n",
       "    <tr>\n",
       "      <th>16711</th>\n",
       "      <td>LMA Manager 2007</td>\n",
       "      <td>X360</td>\n",
       "      <td>2006.0</td>\n",
       "      <td>Sports</td>\n",
       "      <td>0.00</td>\n",
       "      <td>0.01</td>\n",
       "      <td>0.00</td>\n",
       "      <td>0.0</td>\n",
       "      <td>NaN</td>\n",
       "      <td>NaN</td>\n",
       "      <td>NaN</td>\n",
       "    </tr>\n",
       "    <tr>\n",
       "      <th>16712</th>\n",
       "      <td>Haitaka no Psychedelica</td>\n",
       "      <td>PSV</td>\n",
       "      <td>2016.0</td>\n",
       "      <td>Adventure</td>\n",
       "      <td>0.00</td>\n",
       "      <td>0.00</td>\n",
       "      <td>0.01</td>\n",
       "      <td>0.0</td>\n",
       "      <td>NaN</td>\n",
       "      <td>NaN</td>\n",
       "      <td>NaN</td>\n",
       "    </tr>\n",
       "    <tr>\n",
       "      <th>16713</th>\n",
       "      <td>Spirits &amp; Spells</td>\n",
       "      <td>GBA</td>\n",
       "      <td>2003.0</td>\n",
       "      <td>Platform</td>\n",
       "      <td>0.01</td>\n",
       "      <td>0.00</td>\n",
       "      <td>0.00</td>\n",
       "      <td>0.0</td>\n",
       "      <td>NaN</td>\n",
       "      <td>NaN</td>\n",
       "      <td>NaN</td>\n",
       "    </tr>\n",
       "    <tr>\n",
       "      <th>16714</th>\n",
       "      <td>Winning Post 8 2016</td>\n",
       "      <td>PSV</td>\n",
       "      <td>2016.0</td>\n",
       "      <td>Simulation</td>\n",
       "      <td>0.00</td>\n",
       "      <td>0.00</td>\n",
       "      <td>0.01</td>\n",
       "      <td>0.0</td>\n",
       "      <td>NaN</td>\n",
       "      <td>NaN</td>\n",
       "      <td>NaN</td>\n",
       "    </tr>\n",
       "  </tbody>\n",
       "</table>\n",
       "</div>"
      ],
      "text/plain": [
       "                                name platform  year_of_release       genre  \\\n",
       "16710  Samurai Warriors: Sanada Maru      PS3           2016.0      Action   \n",
       "16711               LMA Manager 2007     X360           2006.0      Sports   \n",
       "16712        Haitaka no Psychedelica      PSV           2016.0   Adventure   \n",
       "16713               Spirits & Spells      GBA           2003.0    Platform   \n",
       "16714            Winning Post 8 2016      PSV           2016.0  Simulation   \n",
       "\n",
       "       na_sales  eu_sales  jp_sales  other_sales  critic_score user_score  \\\n",
       "16710      0.00      0.00      0.01          0.0           NaN        NaN   \n",
       "16711      0.00      0.01      0.00          0.0           NaN        NaN   \n",
       "16712      0.00      0.00      0.01          0.0           NaN        NaN   \n",
       "16713      0.01      0.00      0.00          0.0           NaN        NaN   \n",
       "16714      0.00      0.00      0.01          0.0           NaN        NaN   \n",
       "\n",
       "      rating  \n",
       "16710    NaN  \n",
       "16711    NaN  \n",
       "16712    NaN  \n",
       "16713    NaN  \n",
       "16714    NaN  "
      ]
     },
     "execution_count": 6,
     "metadata": {},
     "output_type": "execute_result"
    }
   ],
   "source": [
    "data.tail()"
   ]
  },
  {
   "cell_type": "markdown",
   "metadata": {},
   "source": [
    "### Работа над пропусками и дубликатами"
   ]
  },
  {
   "cell_type": "code",
   "execution_count": 7,
   "metadata": {},
   "outputs": [
    {
     "data": {
      "text/plain": [
       "name                  2\n",
       "platform              0\n",
       "year_of_release     269\n",
       "genre                 2\n",
       "na_sales              0\n",
       "eu_sales              0\n",
       "jp_sales              0\n",
       "other_sales           0\n",
       "critic_score       8578\n",
       "user_score         6701\n",
       "rating             6766\n",
       "dtype: int64"
      ]
     },
     "execution_count": 7,
     "metadata": {},
     "output_type": "execute_result"
    }
   ],
   "source": [
    "# поиск пропусков\n",
    "data.isna().sum()"
   ]
  },
  {
   "cell_type": "markdown",
   "metadata": {},
   "source": [
    "Пропуски возможно появились из -за технических ошибок или человеческого фактора."
   ]
  },
  {
   "cell_type": "code",
   "execution_count": 8,
   "metadata": {},
   "outputs": [
    {
     "data": {
      "text/html": [
       "<div>\n",
       "<style scoped>\n",
       "    .dataframe tbody tr th:only-of-type {\n",
       "        vertical-align: middle;\n",
       "    }\n",
       "\n",
       "    .dataframe tbody tr th {\n",
       "        vertical-align: top;\n",
       "    }\n",
       "\n",
       "    .dataframe thead th {\n",
       "        text-align: right;\n",
       "    }\n",
       "</style>\n",
       "<table border=\"1\" class=\"dataframe\">\n",
       "  <thead>\n",
       "    <tr style=\"text-align: right;\">\n",
       "      <th></th>\n",
       "      <th>name</th>\n",
       "      <th>platform</th>\n",
       "      <th>year_of_release</th>\n",
       "      <th>genre</th>\n",
       "      <th>na_sales</th>\n",
       "      <th>eu_sales</th>\n",
       "      <th>jp_sales</th>\n",
       "      <th>other_sales</th>\n",
       "      <th>critic_score</th>\n",
       "      <th>user_score</th>\n",
       "      <th>rating</th>\n",
       "    </tr>\n",
       "  </thead>\n",
       "  <tbody>\n",
       "    <tr>\n",
       "      <th>659</th>\n",
       "      <td>NaN</td>\n",
       "      <td>GEN</td>\n",
       "      <td>1993.0</td>\n",
       "      <td>NaN</td>\n",
       "      <td>1.78</td>\n",
       "      <td>0.53</td>\n",
       "      <td>0.00</td>\n",
       "      <td>0.08</td>\n",
       "      <td>NaN</td>\n",
       "      <td>NaN</td>\n",
       "      <td>NaN</td>\n",
       "    </tr>\n",
       "    <tr>\n",
       "      <th>14244</th>\n",
       "      <td>NaN</td>\n",
       "      <td>GEN</td>\n",
       "      <td>1993.0</td>\n",
       "      <td>NaN</td>\n",
       "      <td>0.00</td>\n",
       "      <td>0.00</td>\n",
       "      <td>0.03</td>\n",
       "      <td>0.00</td>\n",
       "      <td>NaN</td>\n",
       "      <td>NaN</td>\n",
       "      <td>NaN</td>\n",
       "    </tr>\n",
       "  </tbody>\n",
       "</table>\n",
       "</div>"
      ],
      "text/plain": [
       "      name platform  year_of_release genre  na_sales  eu_sales  jp_sales  \\\n",
       "659    NaN      GEN           1993.0   NaN      1.78      0.53      0.00   \n",
       "14244  NaN      GEN           1993.0   NaN      0.00      0.00      0.03   \n",
       "\n",
       "       other_sales  critic_score user_score rating  \n",
       "659           0.08           NaN        NaN    NaN  \n",
       "14244         0.00           NaN        NaN    NaN  "
      ]
     },
     "execution_count": 8,
     "metadata": {},
     "output_type": "execute_result"
    }
   ],
   "source": [
    "# Посмотрим пропуски в стобце \n",
    "data.loc[data['genre'].isna()]"
   ]
  },
  {
   "cell_type": "markdown",
   "metadata": {},
   "source": [
    "Пропуски в стобцах с именем и жанром находятся на одних строчках, Удалим их."
   ]
  },
  {
   "cell_type": "code",
   "execution_count": 9,
   "metadata": {},
   "outputs": [
    {
     "name": "stdout",
     "output_type": "stream",
     "text": [
      "0\n"
     ]
    },
    {
     "data": {
      "text/plain": [
       "0"
      ]
     },
     "execution_count": 9,
     "metadata": {},
     "output_type": "execute_result"
    }
   ],
   "source": [
    "data = data.dropna(subset=['genre'])\n",
    "print(data['name'].isna().sum())\n",
    "data['genre'].isna().sum()"
   ]
  },
  {
   "cell_type": "markdown",
   "metadata": {},
   "source": [
    "\n",
    "<div class=\"alert alert-success\">\n",
    "<b>Комментарий ревьюера:</b>☀️Да, эти пропуски можно удалить.</div>"
   ]
  },
  {
   "cell_type": "code",
   "execution_count": 10,
   "metadata": {},
   "outputs": [
    {
     "data": {
      "text/plain": [
       "array(['8', nan, '8.3', '8.5', '6.6', '8.4', '8.6', '7.7', '6.3', '7.4',\n",
       "       '8.2', '9', '7.9', '8.1', '8.7', '7.1', '3.4', '5.3', '4.8', '3.2',\n",
       "       '8.9', '6.4', '7.8', '7.5', '2.6', '7.2', '9.2', '7', '7.3', '4.3',\n",
       "       '7.6', '5.7', '5', '9.1', '6.5', 'tbd', '8.8', '6.9', '9.4', '6.8',\n",
       "       '6.1', '6.7', '5.4', '4', '4.9', '4.5', '9.3', '6.2', '4.2', '6',\n",
       "       '3.7', '4.1', '5.8', '5.6', '5.5', '4.4', '4.6', '5.9', '3.9',\n",
       "       '3.1', '2.9', '5.2', '3.3', '4.7', '5.1', '3.5', '2.5', '1.9', '3',\n",
       "       '2.7', '2.2', '2', '9.5', '2.1', '3.6', '2.8', '1.8', '3.8', '0',\n",
       "       '1.6', '9.6', '2.4', '1.7', '1.1', '0.3', '1.5', '0.7', '1.2',\n",
       "       '2.3', '0.5', '1.3', '0.2', '0.6', '1.4', '0.9', '1', '9.7'],\n",
       "      dtype=object)"
      ]
     },
     "execution_count": 10,
     "metadata": {},
     "output_type": "execute_result"
    }
   ],
   "source": [
    "# уникальные значения пользовательских оценок\n",
    "data['user_score'].unique()"
   ]
  },
  {
   "cell_type": "markdown",
   "metadata": {},
   "source": [
    "В столбце `user_score` присутствует значение `tbd`. TBD - аббревиатура от английского To Be Determined (будет определено) или To Be Decided (будет решено). Используется, если какая-то информация еще не определена или решение по вопросу не принято\n",
    "\n",
    "Это значит, что пользовательские оценки не успели обработать и(или) добавить в таблицу. Заменим их на NaN."
   ]
  },
  {
   "cell_type": "code",
   "execution_count": 11,
   "metadata": {},
   "outputs": [],
   "source": [
    "data.loc[data['user_score']=='tbd','user_score'] = np.NaN"
   ]
  },
  {
   "cell_type": "markdown",
   "metadata": {},
   "source": [
    "\n",
    "<div class=\"alert alert-success\">\n",
    "<b>Комментарий ревьюера:</b>☀️Верное решение :)</div>"
   ]
  },
  {
   "cell_type": "code",
   "execution_count": 12,
   "metadata": {},
   "outputs": [
    {
     "data": {
      "text/plain": [
       "array(['8', nan, '8.3', '8.5', '6.6', '8.4', '8.6', '7.7', '6.3', '7.4',\n",
       "       '8.2', '9', '7.9', '8.1', '8.7', '7.1', '3.4', '5.3', '4.8', '3.2',\n",
       "       '8.9', '6.4', '7.8', '7.5', '2.6', '7.2', '9.2', '7', '7.3', '4.3',\n",
       "       '7.6', '5.7', '5', '9.1', '6.5', '8.8', '6.9', '9.4', '6.8', '6.1',\n",
       "       '6.7', '5.4', '4', '4.9', '4.5', '9.3', '6.2', '4.2', '6', '3.7',\n",
       "       '4.1', '5.8', '5.6', '5.5', '4.4', '4.6', '5.9', '3.9', '3.1',\n",
       "       '2.9', '5.2', '3.3', '4.7', '5.1', '3.5', '2.5', '1.9', '3', '2.7',\n",
       "       '2.2', '2', '9.5', '2.1', '3.6', '2.8', '1.8', '3.8', '0', '1.6',\n",
       "       '9.6', '2.4', '1.7', '1.1', '0.3', '1.5', '0.7', '1.2', '2.3',\n",
       "       '0.5', '1.3', '0.2', '0.6', '1.4', '0.9', '1', '9.7'], dtype=object)"
      ]
     },
     "execution_count": 12,
     "metadata": {},
     "output_type": "execute_result"
    }
   ],
   "source": [
    "data['user_score'].unique()"
   ]
  },
  {
   "cell_type": "markdown",
   "metadata": {},
   "source": [
    "Пропуски в столбцах  `critic_score, user_score,`  невозможно чем либо заменить. Т.к.  оценки являются индивидуальными для каждой игры.\n",
    "\n",
    "Теперь рассмотрим пропуски в столбце с годом релиза и возрастным рейтингом. Т.к. у нас в таблице приставлено несколько игровых платформ, возможно на другой платформе будет присутствовать год выпуска и рейтинг.\n"
   ]
  },
  {
   "cell_type": "code",
   "execution_count": 13,
   "metadata": {},
   "outputs": [
    {
     "data": {
      "text/html": [
       "<div>\n",
       "<style scoped>\n",
       "    .dataframe tbody tr th:only-of-type {\n",
       "        vertical-align: middle;\n",
       "    }\n",
       "\n",
       "    .dataframe tbody tr th {\n",
       "        vertical-align: top;\n",
       "    }\n",
       "\n",
       "    .dataframe thead th {\n",
       "        text-align: right;\n",
       "    }\n",
       "</style>\n",
       "<table border=\"1\" class=\"dataframe\">\n",
       "  <thead>\n",
       "    <tr style=\"text-align: right;\">\n",
       "      <th></th>\n",
       "      <th>name</th>\n",
       "      <th>platform</th>\n",
       "      <th>year_of_release</th>\n",
       "      <th>genre</th>\n",
       "      <th>na_sales</th>\n",
       "      <th>eu_sales</th>\n",
       "      <th>jp_sales</th>\n",
       "      <th>other_sales</th>\n",
       "      <th>critic_score</th>\n",
       "      <th>user_score</th>\n",
       "      <th>rating</th>\n",
       "    </tr>\n",
       "  </thead>\n",
       "  <tbody>\n",
       "    <tr>\n",
       "      <th>183</th>\n",
       "      <td>Madden NFL 2004</td>\n",
       "      <td>PS2</td>\n",
       "      <td>NaN</td>\n",
       "      <td>Sports</td>\n",
       "      <td>4.26</td>\n",
       "      <td>0.26</td>\n",
       "      <td>0.01</td>\n",
       "      <td>0.71</td>\n",
       "      <td>94.0</td>\n",
       "      <td>8.5</td>\n",
       "      <td>E</td>\n",
       "    </tr>\n",
       "    <tr>\n",
       "      <th>377</th>\n",
       "      <td>FIFA Soccer 2004</td>\n",
       "      <td>PS2</td>\n",
       "      <td>NaN</td>\n",
       "      <td>Sports</td>\n",
       "      <td>0.59</td>\n",
       "      <td>2.36</td>\n",
       "      <td>0.04</td>\n",
       "      <td>0.51</td>\n",
       "      <td>84.0</td>\n",
       "      <td>6.4</td>\n",
       "      <td>E</td>\n",
       "    </tr>\n",
       "    <tr>\n",
       "      <th>456</th>\n",
       "      <td>LEGO Batman: The Videogame</td>\n",
       "      <td>Wii</td>\n",
       "      <td>NaN</td>\n",
       "      <td>Action</td>\n",
       "      <td>1.80</td>\n",
       "      <td>0.97</td>\n",
       "      <td>0.00</td>\n",
       "      <td>0.29</td>\n",
       "      <td>74.0</td>\n",
       "      <td>7.9</td>\n",
       "      <td>E10+</td>\n",
       "    </tr>\n",
       "    <tr>\n",
       "      <th>475</th>\n",
       "      <td>wwe Smackdown vs. Raw 2006</td>\n",
       "      <td>PS2</td>\n",
       "      <td>NaN</td>\n",
       "      <td>Fighting</td>\n",
       "      <td>1.57</td>\n",
       "      <td>1.02</td>\n",
       "      <td>0.00</td>\n",
       "      <td>0.41</td>\n",
       "      <td>NaN</td>\n",
       "      <td>NaN</td>\n",
       "      <td>NaN</td>\n",
       "    </tr>\n",
       "    <tr>\n",
       "      <th>609</th>\n",
       "      <td>Space Invaders</td>\n",
       "      <td>2600</td>\n",
       "      <td>NaN</td>\n",
       "      <td>Shooter</td>\n",
       "      <td>2.36</td>\n",
       "      <td>0.14</td>\n",
       "      <td>0.00</td>\n",
       "      <td>0.03</td>\n",
       "      <td>NaN</td>\n",
       "      <td>NaN</td>\n",
       "      <td>NaN</td>\n",
       "    </tr>\n",
       "    <tr>\n",
       "      <th>...</th>\n",
       "      <td>...</td>\n",
       "      <td>...</td>\n",
       "      <td>...</td>\n",
       "      <td>...</td>\n",
       "      <td>...</td>\n",
       "      <td>...</td>\n",
       "      <td>...</td>\n",
       "      <td>...</td>\n",
       "      <td>...</td>\n",
       "      <td>...</td>\n",
       "      <td>...</td>\n",
       "    </tr>\n",
       "    <tr>\n",
       "      <th>16373</th>\n",
       "      <td>PDC World Championship Darts 2008</td>\n",
       "      <td>PSP</td>\n",
       "      <td>NaN</td>\n",
       "      <td>Sports</td>\n",
       "      <td>0.01</td>\n",
       "      <td>0.00</td>\n",
       "      <td>0.00</td>\n",
       "      <td>0.00</td>\n",
       "      <td>43.0</td>\n",
       "      <td>NaN</td>\n",
       "      <td>E10+</td>\n",
       "    </tr>\n",
       "    <tr>\n",
       "      <th>16405</th>\n",
       "      <td>Freaky Flyers</td>\n",
       "      <td>GC</td>\n",
       "      <td>NaN</td>\n",
       "      <td>Racing</td>\n",
       "      <td>0.01</td>\n",
       "      <td>0.00</td>\n",
       "      <td>0.00</td>\n",
       "      <td>0.00</td>\n",
       "      <td>69.0</td>\n",
       "      <td>6.5</td>\n",
       "      <td>T</td>\n",
       "    </tr>\n",
       "    <tr>\n",
       "      <th>16448</th>\n",
       "      <td>Inversion</td>\n",
       "      <td>PC</td>\n",
       "      <td>NaN</td>\n",
       "      <td>Shooter</td>\n",
       "      <td>0.01</td>\n",
       "      <td>0.00</td>\n",
       "      <td>0.00</td>\n",
       "      <td>0.00</td>\n",
       "      <td>59.0</td>\n",
       "      <td>6.7</td>\n",
       "      <td>M</td>\n",
       "    </tr>\n",
       "    <tr>\n",
       "      <th>16458</th>\n",
       "      <td>Hakuouki: Shinsengumi Kitan</td>\n",
       "      <td>PS3</td>\n",
       "      <td>NaN</td>\n",
       "      <td>Adventure</td>\n",
       "      <td>0.01</td>\n",
       "      <td>0.00</td>\n",
       "      <td>0.00</td>\n",
       "      <td>0.00</td>\n",
       "      <td>NaN</td>\n",
       "      <td>NaN</td>\n",
       "      <td>NaN</td>\n",
       "    </tr>\n",
       "    <tr>\n",
       "      <th>16522</th>\n",
       "      <td>Virtua Quest</td>\n",
       "      <td>GC</td>\n",
       "      <td>NaN</td>\n",
       "      <td>Role-Playing</td>\n",
       "      <td>0.01</td>\n",
       "      <td>0.00</td>\n",
       "      <td>0.00</td>\n",
       "      <td>0.00</td>\n",
       "      <td>55.0</td>\n",
       "      <td>5.5</td>\n",
       "      <td>T</td>\n",
       "    </tr>\n",
       "  </tbody>\n",
       "</table>\n",
       "<p>269 rows × 11 columns</p>\n",
       "</div>"
      ],
      "text/plain": [
       "                                    name platform  year_of_release  \\\n",
       "183                      Madden NFL 2004      PS2              NaN   \n",
       "377                     FIFA Soccer 2004      PS2              NaN   \n",
       "456           LEGO Batman: The Videogame      Wii              NaN   \n",
       "475           wwe Smackdown vs. Raw 2006      PS2              NaN   \n",
       "609                       Space Invaders     2600              NaN   \n",
       "...                                  ...      ...              ...   \n",
       "16373  PDC World Championship Darts 2008      PSP              NaN   \n",
       "16405                      Freaky Flyers       GC              NaN   \n",
       "16448                          Inversion       PC              NaN   \n",
       "16458        Hakuouki: Shinsengumi Kitan      PS3              NaN   \n",
       "16522                       Virtua Quest       GC              NaN   \n",
       "\n",
       "              genre  na_sales  eu_sales  jp_sales  other_sales  critic_score  \\\n",
       "183          Sports      4.26      0.26      0.01         0.71          94.0   \n",
       "377          Sports      0.59      2.36      0.04         0.51          84.0   \n",
       "456          Action      1.80      0.97      0.00         0.29          74.0   \n",
       "475        Fighting      1.57      1.02      0.00         0.41           NaN   \n",
       "609         Shooter      2.36      0.14      0.00         0.03           NaN   \n",
       "...             ...       ...       ...       ...          ...           ...   \n",
       "16373        Sports      0.01      0.00      0.00         0.00          43.0   \n",
       "16405        Racing      0.01      0.00      0.00         0.00          69.0   \n",
       "16448       Shooter      0.01      0.00      0.00         0.00          59.0   \n",
       "16458     Adventure      0.01      0.00      0.00         0.00           NaN   \n",
       "16522  Role-Playing      0.01      0.00      0.00         0.00          55.0   \n",
       "\n",
       "      user_score rating  \n",
       "183          8.5      E  \n",
       "377          6.4      E  \n",
       "456          7.9   E10+  \n",
       "475          NaN    NaN  \n",
       "609          NaN    NaN  \n",
       "...          ...    ...  \n",
       "16373        NaN   E10+  \n",
       "16405        6.5      T  \n",
       "16448        6.7      M  \n",
       "16458        NaN    NaN  \n",
       "16522        5.5      T  \n",
       "\n",
       "[269 rows x 11 columns]"
      ]
     },
     "execution_count": 13,
     "metadata": {},
     "output_type": "execute_result"
    }
   ],
   "source": [
    "# посмотрим на талбцу с пропусками \n",
    "data.loc[data['year_of_release'].isna()]"
   ]
  },
  {
   "cell_type": "markdown",
   "metadata": {},
   "source": [
    "Возьмем одну из этих игр для проверки нашей теории."
   ]
  },
  {
   "cell_type": "code",
   "execution_count": 14,
   "metadata": {},
   "outputs": [
    {
     "data": {
      "text/html": [
       "<div>\n",
       "<style scoped>\n",
       "    .dataframe tbody tr th:only-of-type {\n",
       "        vertical-align: middle;\n",
       "    }\n",
       "\n",
       "    .dataframe tbody tr th {\n",
       "        vertical-align: top;\n",
       "    }\n",
       "\n",
       "    .dataframe thead th {\n",
       "        text-align: right;\n",
       "    }\n",
       "</style>\n",
       "<table border=\"1\" class=\"dataframe\">\n",
       "  <thead>\n",
       "    <tr style=\"text-align: right;\">\n",
       "      <th></th>\n",
       "      <th>name</th>\n",
       "      <th>platform</th>\n",
       "      <th>year_of_release</th>\n",
       "      <th>genre</th>\n",
       "      <th>na_sales</th>\n",
       "      <th>eu_sales</th>\n",
       "      <th>jp_sales</th>\n",
       "      <th>other_sales</th>\n",
       "      <th>critic_score</th>\n",
       "      <th>user_score</th>\n",
       "      <th>rating</th>\n",
       "    </tr>\n",
       "  </thead>\n",
       "  <tbody>\n",
       "    <tr>\n",
       "      <th>6917</th>\n",
       "      <td>PDC World Championship Darts 2008</td>\n",
       "      <td>Wii</td>\n",
       "      <td>2008.0</td>\n",
       "      <td>Sports</td>\n",
       "      <td>0.02</td>\n",
       "      <td>0.21</td>\n",
       "      <td>0.0</td>\n",
       "      <td>0.01</td>\n",
       "      <td>51.0</td>\n",
       "      <td>5.4</td>\n",
       "      <td>E10+</td>\n",
       "    </tr>\n",
       "    <tr>\n",
       "      <th>15953</th>\n",
       "      <td>PDC World Championship Darts 2008</td>\n",
       "      <td>DS</td>\n",
       "      <td>NaN</td>\n",
       "      <td>Sports</td>\n",
       "      <td>0.01</td>\n",
       "      <td>0.00</td>\n",
       "      <td>0.0</td>\n",
       "      <td>0.00</td>\n",
       "      <td>NaN</td>\n",
       "      <td>NaN</td>\n",
       "      <td>NaN</td>\n",
       "    </tr>\n",
       "    <tr>\n",
       "      <th>16373</th>\n",
       "      <td>PDC World Championship Darts 2008</td>\n",
       "      <td>PSP</td>\n",
       "      <td>NaN</td>\n",
       "      <td>Sports</td>\n",
       "      <td>0.01</td>\n",
       "      <td>0.00</td>\n",
       "      <td>0.0</td>\n",
       "      <td>0.00</td>\n",
       "      <td>43.0</td>\n",
       "      <td>NaN</td>\n",
       "      <td>E10+</td>\n",
       "    </tr>\n",
       "  </tbody>\n",
       "</table>\n",
       "</div>"
      ],
      "text/plain": [
       "                                    name platform  year_of_release   genre  \\\n",
       "6917   PDC World Championship Darts 2008      Wii           2008.0  Sports   \n",
       "15953  PDC World Championship Darts 2008       DS              NaN  Sports   \n",
       "16373  PDC World Championship Darts 2008      PSP              NaN  Sports   \n",
       "\n",
       "       na_sales  eu_sales  jp_sales  other_sales  critic_score user_score  \\\n",
       "6917       0.02      0.21       0.0         0.01          51.0        5.4   \n",
       "15953      0.01      0.00       0.0         0.00           NaN        NaN   \n",
       "16373      0.01      0.00       0.0         0.00          43.0        NaN   \n",
       "\n",
       "      rating  \n",
       "6917    E10+  \n",
       "15953    NaN  \n",
       "16373   E10+  "
      ]
     },
     "execution_count": 14,
     "metadata": {},
     "output_type": "execute_result"
    }
   ],
   "source": [
    "#  проверим наличие нужных данных в других строках\n",
    "data.loc[data['name']=='PDC World Championship Darts 2008']"
   ]
  },
  {
   "cell_type": "markdown",
   "metadata": {},
   "source": [
    "Действительно если у игры пропуск в дате релиза на одной платформе, то на какой либо другой год релиза может присутствовать.\n",
    "Тоже касается и рейтинга.\n",
    "Попробуем заменить так пропуски в этом столбце взяв максимальный год релиза игры.\n"
   ]
  },
  {
   "cell_type": "code",
   "execution_count": 15,
   "metadata": {},
   "outputs": [],
   "source": [
    "for i in data[data['year_of_release'].isna()==True].index:\n",
    "    data.loc[i,'year_of_release'] = data.loc[data['name'] == data['name'][i], 'year_of_release'].max()\n",
    "    "
   ]
  },
  {
   "cell_type": "code",
   "execution_count": 16,
   "metadata": {},
   "outputs": [],
   "source": [
    "for i in data[data['rating'].isna()==True].index:\n",
    "    try:\n",
    "        c=data.loc[data['name'] == data['name'][i], 'rating']\n",
    "        c=c.dropna().reset_index(drop=True)\n",
    "        data.loc[i,'rating'] =c[0] \n",
    "    except:\n",
    "        continue"
   ]
  },
  {
   "cell_type": "code",
   "execution_count": 17,
   "metadata": {},
   "outputs": [
    {
     "data": {
      "text/html": [
       "<div>\n",
       "<style scoped>\n",
       "    .dataframe tbody tr th:only-of-type {\n",
       "        vertical-align: middle;\n",
       "    }\n",
       "\n",
       "    .dataframe tbody tr th {\n",
       "        vertical-align: top;\n",
       "    }\n",
       "\n",
       "    .dataframe thead th {\n",
       "        text-align: right;\n",
       "    }\n",
       "</style>\n",
       "<table border=\"1\" class=\"dataframe\">\n",
       "  <thead>\n",
       "    <tr style=\"text-align: right;\">\n",
       "      <th></th>\n",
       "      <th>name</th>\n",
       "      <th>platform</th>\n",
       "      <th>year_of_release</th>\n",
       "      <th>genre</th>\n",
       "      <th>na_sales</th>\n",
       "      <th>eu_sales</th>\n",
       "      <th>jp_sales</th>\n",
       "      <th>other_sales</th>\n",
       "      <th>critic_score</th>\n",
       "      <th>user_score</th>\n",
       "      <th>rating</th>\n",
       "    </tr>\n",
       "  </thead>\n",
       "  <tbody>\n",
       "    <tr>\n",
       "      <th>6917</th>\n",
       "      <td>PDC World Championship Darts 2008</td>\n",
       "      <td>Wii</td>\n",
       "      <td>2008.0</td>\n",
       "      <td>Sports</td>\n",
       "      <td>0.02</td>\n",
       "      <td>0.21</td>\n",
       "      <td>0.0</td>\n",
       "      <td>0.01</td>\n",
       "      <td>51.0</td>\n",
       "      <td>5.4</td>\n",
       "      <td>E10+</td>\n",
       "    </tr>\n",
       "    <tr>\n",
       "      <th>15953</th>\n",
       "      <td>PDC World Championship Darts 2008</td>\n",
       "      <td>DS</td>\n",
       "      <td>2008.0</td>\n",
       "      <td>Sports</td>\n",
       "      <td>0.01</td>\n",
       "      <td>0.00</td>\n",
       "      <td>0.0</td>\n",
       "      <td>0.00</td>\n",
       "      <td>NaN</td>\n",
       "      <td>NaN</td>\n",
       "      <td>E10+</td>\n",
       "    </tr>\n",
       "    <tr>\n",
       "      <th>16373</th>\n",
       "      <td>PDC World Championship Darts 2008</td>\n",
       "      <td>PSP</td>\n",
       "      <td>2008.0</td>\n",
       "      <td>Sports</td>\n",
       "      <td>0.01</td>\n",
       "      <td>0.00</td>\n",
       "      <td>0.0</td>\n",
       "      <td>0.00</td>\n",
       "      <td>43.0</td>\n",
       "      <td>NaN</td>\n",
       "      <td>E10+</td>\n",
       "    </tr>\n",
       "  </tbody>\n",
       "</table>\n",
       "</div>"
      ],
      "text/plain": [
       "                                    name platform  year_of_release   genre  \\\n",
       "6917   PDC World Championship Darts 2008      Wii           2008.0  Sports   \n",
       "15953  PDC World Championship Darts 2008       DS           2008.0  Sports   \n",
       "16373  PDC World Championship Darts 2008      PSP           2008.0  Sports   \n",
       "\n",
       "       na_sales  eu_sales  jp_sales  other_sales  critic_score user_score  \\\n",
       "6917       0.02      0.21       0.0         0.01          51.0        5.4   \n",
       "15953      0.01      0.00       0.0         0.00           NaN        NaN   \n",
       "16373      0.01      0.00       0.0         0.00          43.0        NaN   \n",
       "\n",
       "      rating  \n",
       "6917    E10+  \n",
       "15953   E10+  \n",
       "16373   E10+  "
      ]
     },
     "execution_count": 17,
     "metadata": {},
     "output_type": "execute_result"
    }
   ],
   "source": [
    "# проверим\n",
    "data.loc[data['name']=='PDC World Championship Darts 2008']"
   ]
  },
  {
   "cell_type": "code",
   "execution_count": 18,
   "metadata": {},
   "outputs": [
    {
     "data": {
      "text/plain": [
       "123"
      ]
     },
     "execution_count": 18,
     "metadata": {},
     "output_type": "execute_result"
    }
   ],
   "source": [
    "# Узнаем от скольких пропусков мы избавились 269- столько пропусков было в столбце в начале работы\n",
    "269 - data['year_of_release'].isna().sum()"
   ]
  },
  {
   "cell_type": "code",
   "execution_count": 19,
   "metadata": {},
   "outputs": [
    {
     "data": {
      "text/plain": [
       "439"
      ]
     },
     "execution_count": 19,
     "metadata": {},
     "output_type": "execute_result"
    }
   ],
   "source": [
    "# Узнаем от скольких пропусков мы избавились 6766- столько пропусков было в столбце в начале работы\n",
    "6766 - data['rating'].isna().sum()"
   ]
  },
  {
   "cell_type": "markdown",
   "metadata": {},
   "source": [
    "Своими действиями мы сократили количество пропусков в столбце  `\"rating\"` с 6766 до 6327. \n",
    "В столбце  `\"year_of_release\"` с 269 до 146\n",
    "\n",
    "Оставшиеся пропуски оставим без изменений.\n"
   ]
  },
  {
   "cell_type": "markdown",
   "metadata": {},
   "source": [
    "\n",
    "<div class=\"alert alert-warning\">\n",
    "<b>Комментарий ревьюера:</b>☀️Ты придумал хороший способ избавиться от пропусков, но во-первых, в случае с годом релиза их можно удалить (они занимают небольшой объем данных), во-вторых, восстанавливать данные искусственным путем не совсем корректно в данном случае, это может повлиять на результаты исследования.</div>"
   ]
  },
  {
   "cell_type": "code",
   "execution_count": 20,
   "metadata": {},
   "outputs": [
    {
     "data": {
      "text/plain": [
       "2"
      ]
     },
     "execution_count": 20,
     "metadata": {},
     "output_type": "execute_result"
    }
   ],
   "source": [
    "# Поиск дубликатов\n",
    "data.duplicated(['name', 'platform', 'year_of_release']).sum()"
   ]
  },
  {
   "cell_type": "code",
   "execution_count": 21,
   "metadata": {},
   "outputs": [],
   "source": [
    "# удалим дубликаты\n",
    "data = data.drop_duplicates(['name', 'platform', 'year_of_release']).reset_index(drop=True)"
   ]
  },
  {
   "cell_type": "code",
   "execution_count": 22,
   "metadata": {},
   "outputs": [
    {
     "data": {
      "text/plain": [
       "0"
      ]
     },
     "execution_count": 22,
     "metadata": {},
     "output_type": "execute_result"
    }
   ],
   "source": [
    "# Проверяем\n",
    "data.duplicated(['name', 'platform', 'year_of_release']).sum()"
   ]
  },
  {
   "cell_type": "markdown",
   "metadata": {},
   "source": [
    "\n",
    "<div class=\"alert alert-danger\">\n",
    "<b>Комментарий ревьюера:</b>Важно посмотреть еще и неполные дубликаты. Возможно, задублировались строки по названию игры, платформе и году релиза.</div>"
   ]
  },
  {
   "cell_type": "markdown",
   "metadata": {},
   "source": [
    "<div class=\"alert alert-info\"> <b>Комментарий студента:</b> Действительно. Нашел и удалил. Вывод изменил.</div> "
   ]
  },
  {
   "cell_type": "markdown",
   "metadata": {},
   "source": [
    "\n",
    "<div class=\"alert alert-success\">\n",
    "<b>Комментарий ревьюера v2.0:</b>☀️Отлично!</div>"
   ]
  },
  {
   "cell_type": "markdown",
   "metadata": {},
   "source": [
    "### Изменение типа данных"
   ]
  },
  {
   "cell_type": "code",
   "execution_count": 23,
   "metadata": {},
   "outputs": [],
   "source": [
    "# изменим тип данных в столбцах годом релиза, оценками критиков и пользователей\n",
    "data['year_of_release'] = data['year_of_release'].astype('Int64')\n",
    "data['user_score'] = data['user_score'].astype('float64')"
   ]
  },
  {
   "cell_type": "markdown",
   "metadata": {},
   "source": [
    "### Создание столбца c общими продажами"
   ]
  },
  {
   "cell_type": "code",
   "execution_count": 24,
   "metadata": {},
   "outputs": [],
   "source": [
    "data['total_sales'] = data['na_sales'] + data['eu_sales'] + data['other_sales'] + data['jp_sales']"
   ]
  },
  {
   "cell_type": "code",
   "execution_count": 25,
   "metadata": {},
   "outputs": [
    {
     "data": {
      "text/html": [
       "<div>\n",
       "<style scoped>\n",
       "    .dataframe tbody tr th:only-of-type {\n",
       "        vertical-align: middle;\n",
       "    }\n",
       "\n",
       "    .dataframe tbody tr th {\n",
       "        vertical-align: top;\n",
       "    }\n",
       "\n",
       "    .dataframe thead th {\n",
       "        text-align: right;\n",
       "    }\n",
       "</style>\n",
       "<table border=\"1\" class=\"dataframe\">\n",
       "  <thead>\n",
       "    <tr style=\"text-align: right;\">\n",
       "      <th></th>\n",
       "      <th>name</th>\n",
       "      <th>platform</th>\n",
       "      <th>year_of_release</th>\n",
       "      <th>genre</th>\n",
       "      <th>na_sales</th>\n",
       "      <th>eu_sales</th>\n",
       "      <th>jp_sales</th>\n",
       "      <th>other_sales</th>\n",
       "      <th>critic_score</th>\n",
       "      <th>user_score</th>\n",
       "      <th>rating</th>\n",
       "      <th>total_sales</th>\n",
       "    </tr>\n",
       "  </thead>\n",
       "  <tbody>\n",
       "    <tr>\n",
       "      <th>0</th>\n",
       "      <td>Wii Sports</td>\n",
       "      <td>Wii</td>\n",
       "      <td>2006</td>\n",
       "      <td>Sports</td>\n",
       "      <td>41.36</td>\n",
       "      <td>28.96</td>\n",
       "      <td>3.77</td>\n",
       "      <td>8.45</td>\n",
       "      <td>76.0</td>\n",
       "      <td>8.0</td>\n",
       "      <td>E</td>\n",
       "      <td>82.54</td>\n",
       "    </tr>\n",
       "    <tr>\n",
       "      <th>1</th>\n",
       "      <td>Super Mario Bros.</td>\n",
       "      <td>NES</td>\n",
       "      <td>1985</td>\n",
       "      <td>Platform</td>\n",
       "      <td>29.08</td>\n",
       "      <td>3.58</td>\n",
       "      <td>6.81</td>\n",
       "      <td>0.77</td>\n",
       "      <td>NaN</td>\n",
       "      <td>NaN</td>\n",
       "      <td>NaN</td>\n",
       "      <td>40.24</td>\n",
       "    </tr>\n",
       "    <tr>\n",
       "      <th>2</th>\n",
       "      <td>Mario Kart Wii</td>\n",
       "      <td>Wii</td>\n",
       "      <td>2008</td>\n",
       "      <td>Racing</td>\n",
       "      <td>15.68</td>\n",
       "      <td>12.76</td>\n",
       "      <td>3.79</td>\n",
       "      <td>3.29</td>\n",
       "      <td>82.0</td>\n",
       "      <td>8.3</td>\n",
       "      <td>E</td>\n",
       "      <td>35.52</td>\n",
       "    </tr>\n",
       "    <tr>\n",
       "      <th>3</th>\n",
       "      <td>Wii Sports Resort</td>\n",
       "      <td>Wii</td>\n",
       "      <td>2009</td>\n",
       "      <td>Sports</td>\n",
       "      <td>15.61</td>\n",
       "      <td>10.93</td>\n",
       "      <td>3.28</td>\n",
       "      <td>2.95</td>\n",
       "      <td>80.0</td>\n",
       "      <td>8.0</td>\n",
       "      <td>E</td>\n",
       "      <td>32.77</td>\n",
       "    </tr>\n",
       "    <tr>\n",
       "      <th>4</th>\n",
       "      <td>Pokemon Red/Pokemon Blue</td>\n",
       "      <td>GB</td>\n",
       "      <td>1996</td>\n",
       "      <td>Role-Playing</td>\n",
       "      <td>11.27</td>\n",
       "      <td>8.89</td>\n",
       "      <td>10.22</td>\n",
       "      <td>1.00</td>\n",
       "      <td>NaN</td>\n",
       "      <td>NaN</td>\n",
       "      <td>NaN</td>\n",
       "      <td>31.38</td>\n",
       "    </tr>\n",
       "  </tbody>\n",
       "</table>\n",
       "</div>"
      ],
      "text/plain": [
       "                       name platform  year_of_release         genre  na_sales  \\\n",
       "0                Wii Sports      Wii             2006        Sports     41.36   \n",
       "1         Super Mario Bros.      NES             1985      Platform     29.08   \n",
       "2            Mario Kart Wii      Wii             2008        Racing     15.68   \n",
       "3         Wii Sports Resort      Wii             2009        Sports     15.61   \n",
       "4  Pokemon Red/Pokemon Blue       GB             1996  Role-Playing     11.27   \n",
       "\n",
       "   eu_sales  jp_sales  other_sales  critic_score  user_score rating  \\\n",
       "0     28.96      3.77         8.45          76.0         8.0      E   \n",
       "1      3.58      6.81         0.77           NaN         NaN    NaN   \n",
       "2     12.76      3.79         3.29          82.0         8.3      E   \n",
       "3     10.93      3.28         2.95          80.0         8.0      E   \n",
       "4      8.89     10.22         1.00           NaN         NaN    NaN   \n",
       "\n",
       "   total_sales  \n",
       "0        82.54  \n",
       "1        40.24  \n",
       "2        35.52  \n",
       "3        32.77  \n",
       "4        31.38  "
      ]
     },
     "execution_count": 25,
     "metadata": {},
     "output_type": "execute_result"
    }
   ],
   "source": [
    "data.head()"
   ]
  },
  {
   "cell_type": "markdown",
   "metadata": {},
   "source": [
    "**Вывод:**\n",
    "В этом разделе мы привели название столбцов к стандарту.\n",
    "Провели работу над пропусками. Там, где это было возможно провели замену пропусков на подходящее значение. Пропуски в колонке с именами были удалены.\n",
    "Дубликаты удалены.\n",
    "Был создан столбец с общим количеством продаж игр.\n"
   ]
  },
  {
   "cell_type": "markdown",
   "metadata": {},
   "source": [
    "\n",
    "<div class=\"alert alert-success\">\n",
    "<b>Комментарий ревьюера:</b>☀️Новый столбец добавлен корректно.</div>"
   ]
  },
  {
   "cell_type": "markdown",
   "metadata": {},
   "source": [
    "##  Исследовательский анализ данных"
   ]
  },
  {
   "cell_type": "code",
   "execution_count": 26,
   "metadata": {},
   "outputs": [],
   "source": [
    "# функция для графика\n",
    "def barplot(data, x, y, xlabel, ylabel, rotation, title):\n",
    "    plt.figure(figsize=(15,3))\n",
    "    sns.barplot(palette=sns.color_palette(\"crest\"),data=data, x=x, y=y);\n",
    "    plt.xlabel(xlabel)\n",
    "    plt.ylabel(ylabel)\n",
    "    plt.xticks(rotation = rotation)\n",
    "    plt.title(title)\n",
    "    plt.show()"
   ]
  },
  {
   "cell_type": "code",
   "execution_count": 27,
   "metadata": {},
   "outputs": [
    {
     "data": {
      "image/png": "[encoded data removed]",
      "text/plain": [
       "<Figure size 1080x216 with 1 Axes>"
      ]
     },
     "metadata": {
      "needs_background": "light"
     },
     "output_type": "display_data"
    }
   ],
   "source": [
    "#  график по количеству выпущенных за все  время игр\n",
    "year = data.pivot_table(index='year_of_release', values='name', aggfunc='count')\n",
    "barplot(year, x=year.index, y='name',xlabel='Год выпуска',ylabel ='Количество игр', rotation=90, title='кол-во выпущенных в каждом году игр')"
   ]
  },
  {
   "cell_type": "markdown",
   "metadata": {},
   "source": [
    "Как мы видим основной рост выпуска игр начался с 1994.\n",
    "Больше всего игр было выпущено с 2006 по 2011. С 2012 года производства игр резко снизилось."
   ]
  },
  {
   "cell_type": "markdown",
   "metadata": {},
   "source": [
    "\n",
    "<div class=\"alert alert-success\">\n",
    "<b>Комментарий ревьюера:</b>☀️Да, похоже на то.</div>"
   ]
  },
  {
   "cell_type": "code",
   "execution_count": 28,
   "metadata": {},
   "outputs": [
    {
     "data": {
      "image/png": "[encoded data removed]",
      "text/plain": [
       "<Figure size 1080x216 with 1 Axes>"
      ]
     },
     "metadata": {
      "needs_background": "light"
     },
     "output_type": "display_data"
    }
   ],
   "source": [
    "# график популярных платформ\n",
    "platform =  data.pivot_table(index='platform', values='total_sales', aggfunc='sum').sort_values(by='total_sales', \n",
    "                                                                                                ascending=False)\n",
    "barplot(platform, x=platform.index, y='total_sales',xlabel='Платформа',ylabel ='количество продаж', rotation=90,title='кол-во продаж игр на платформы')"
   ]
  },
  {
   "cell_type": "markdown",
   "metadata": {},
   "source": [
    "\n",
    "<div class=\"alert alert-danger\">\n",
    "<b>Комментарий ревьюера:</b>Не забывай подписывать заголовок графика. Это касается всего проекта.</div>"
   ]
  },
  {
   "cell_type": "markdown",
   "metadata": {},
   "source": [
    "<div class=\"alert alert-info\"> <b>Комментарий студента:</b> Добавил  ко всем графикам.</div> "
   ]
  },
  {
   "cell_type": "markdown",
   "metadata": {},
   "source": [
    "\n",
    "<div class=\"alert alert-success\">\n",
    "<b>Комментарий ревьюера v2.0:</b>☀️Супер!</div>"
   ]
  },
  {
   "cell_type": "markdown",
   "metadata": {},
   "source": [
    "Больше всего продаж было на платформах ps2 и x360. Выберем 15 платформ с самыми большими продажами и сделаем распределение по годам для того что бы выяснить жизненный цикл платформ."
   ]
  },
  {
   "cell_type": "code",
   "execution_count": 29,
   "metadata": {},
   "outputs": [
    {
     "data": {
      "text/plain": [
       "Index(['PS2', 'X360', 'PS3', 'Wii', 'DS', 'PS', 'GBA', 'PS4', 'PSP', 'PC',\n",
       "       '3DS', 'XB', 'GB', 'NES', 'N64'],\n",
       "      dtype='object', name='platform')"
      ]
     },
     "execution_count": 29,
     "metadata": {},
     "output_type": "execute_result"
    }
   ],
   "source": [
    "# определим 15 самых популярных платформ\n",
    "list_plat = platform.head(15).index.unique()\n",
    "list_plat"
   ]
  },
  {
   "cell_type": "code",
   "execution_count": 30,
   "metadata": {},
   "outputs": [
    {
     "data": {
      "image/png": "[encoded data removed]",
      "text/plain": [
       "<Figure size 1080x216 with 1 Axes>"
      ]
     },
     "metadata": {
      "needs_background": "light"
     },
     "output_type": "display_data"
    },
    {
     "data": {
      "image/png": "[encoded data removed]",
      "text/plain": [
       "<Figure size 1080x216 with 1 Axes>"
      ]
     },
     "metadata": {
      "needs_background": "light"
     },
     "output_type": "display_data"
    },
    {
     "data": {
      "image/png": "[encoded data removed]",
      "text/plain": [
       "<Figure size 1080x216 with 1 Axes>"
      ]
     },
     "metadata": {
      "needs_background": "light"
     },
     "output_type": "display_data"
    },
    {
     "data": {
      "image/png": "[encoded data removed]",
      "text/plain": [
       "<Figure size 1080x216 with 1 Axes>"
      ]
     },
     "metadata": {
      "needs_background": "light"
     },
     "output_type": "display_data"
    },
    {
     "data": {
      "image/png": "[encoded data removed]",
      "text/plain": [
       "<Figure size 1080x216 with 1 Axes>"
      ]
     },
     "metadata": {
      "needs_background": "light"
     },
     "output_type": "display_data"
    },
    {
     "data": {
      "image/png": "[encoded data removed]",
      "text/plain": [
       "<Figure size 1080x216 with 1 Axes>"
      ]
     },
     "metadata": {
      "needs_background": "light"
     },
     "output_type": "display_data"
    },
    {
     "data": {
      "image/png": "[encoded data removed]",
      "text/plain": [
       "<Figure size 1080x216 with 1 Axes>"
      ]
     },
     "metadata": {
      "needs_background": "light"
     },
     "output_type": "display_data"
    },
    {
     "data": {
      "image/png": "[encoded data removed]",
      "text/plain": [
       "<Figure size 1080x216 with 1 Axes>"
      ]
     },
     "metadata": {
      "needs_background": "light"
     },
     "output_type": "display_data"
    },
    {
     "data": {
      "image/png": "[encoded data removed]",
      "text/plain": [
       "<Figure size 1080x216 with 1 Axes>"
      ]
     },
     "metadata": {
      "needs_background": "light"
     },
     "output_type": "display_data"
    },
    {
     "data": {
      "image/png": "[encoded data removed]",
      "text/plain": [
       "<Figure size 1080x216 with 1 Axes>"
      ]
     },
     "metadata": {
      "needs_background": "light"
     },
     "output_type": "display_data"
    },
    {
     "data": {
      "image/png": "[encoded data removed]",
      "text/plain": [
       "<Figure size 1080x216 with 1 Axes>"
      ]
     },
     "metadata": {
      "needs_background": "light"
     },
     "output_type": "display_data"
    },
    {
     "data": {
      "image/png": "[encoded data removed]",
      "text/plain": [
       "<Figure size 1080x216 with 1 Axes>"
      ]
     },
     "metadata": {
      "needs_background": "light"
     },
     "output_type": "display_data"
    },
    {
     "data": {
      "image/png": "[encoded data removed]",
      "text/plain": [
       "<Figure size 1080x216 with 1 Axes>"
      ]
     },
     "metadata": {
      "needs_background": "light"
     },
     "output_type": "display_data"
    },
    {
     "data": {
      "image/png": "[encoded data removed]",
      "text/plain": [
       "<Figure size 1080x216 with 1 Axes>"
      ]
     },
     "metadata": {
      "needs_background": "light"
     },
     "output_type": "display_data"
    },
    {
     "data": {
      "image/png": "[encoded data removed]",
      "text/plain": [
       "<Figure size 1080x216 with 1 Axes>"
      ]
     },
     "metadata": {
      "needs_background": "light"
     },
     "output_type": "display_data"
    }
   ],
   "source": [
    "#  цикл для показа количества выпущенных игр на платформе.\n",
    "for i in list_plat:\n",
    "    df=data[data['platform']==i].pivot_table(index='year_of_release', values='total_sales', aggfunc='sum')\n",
    "    barplot(df,x=df.index, y='total_sales',xlabel='Год',ylabel ='количество продаж', rotation=90,\n",
    "            title=f'платформа: {i}')"
   ]
  },
  {
   "cell_type": "markdown",
   "metadata": {},
   "source": [
    "По этим графикам можно сделать вывод, что жизненный цикл игровых платформ 8- 10 лет( исключение составляет РС)."
   ]
  },
  {
   "cell_type": "markdown",
   "metadata": {},
   "source": [
    "Из всех выше перечисленных данных следует что для прогноза на 2017 надо взять данные начиная с 2012 года."
   ]
  },
  {
   "cell_type": "markdown",
   "metadata": {},
   "source": [
    "\n",
    "<div class=\"alert alert-success\">\n",
    "<b>Комментарий ревьюера:</b>☀️Хорошее решение! В целях прогнозирования редко берут большой промежуток времени, обычно это 2-3 года. Если учесть тот факт, что данные за 2016 год у нас неполные, формировать актуальный период с 2012 года включительно - более, чем оптимально.</div>"
   ]
  },
  {
   "cell_type": "code",
   "execution_count": 31,
   "metadata": {
    "scrolled": true
   },
   "outputs": [
    {
     "name": "stdout",
     "output_type": "stream",
     "text": [
      "<class 'pandas.core.frame.DataFrame'>\n",
      "Int64Index: 2898 entries, 16 to 16710\n",
      "Data columns (total 12 columns):\n",
      " #   Column           Non-Null Count  Dtype  \n",
      "---  ------           --------------  -----  \n",
      " 0   name             2898 non-null   object \n",
      " 1   platform         2898 non-null   object \n",
      " 2   year_of_release  2898 non-null   Int64  \n",
      " 3   genre            2898 non-null   object \n",
      " 4   na_sales         2898 non-null   float64\n",
      " 5   eu_sales         2898 non-null   float64\n",
      " 6   jp_sales         2898 non-null   float64\n",
      " 7   other_sales      2898 non-null   float64\n",
      " 8   critic_score     1321 non-null   float64\n",
      " 9   user_score       1539 non-null   float64\n",
      " 10  rating           1774 non-null   object \n",
      " 11  total_sales      2898 non-null   float64\n",
      "dtypes: Int64(1), float64(7), object(4)\n",
      "memory usage: 297.2+ KB\n"
     ]
    }
   ],
   "source": [
    "# Создание актуального датафрейма\n",
    "topical_data = data[data['year_of_release']>=2012]\n",
    "topical_data.info()"
   ]
  },
  {
   "cell_type": "code",
   "execution_count": 32,
   "metadata": {},
   "outputs": [
    {
     "data": {
      "text/html": [
       "<div>\n",
       "<style scoped>\n",
       "    .dataframe tbody tr th:only-of-type {\n",
       "        vertical-align: middle;\n",
       "    }\n",
       "\n",
       "    .dataframe tbody tr th {\n",
       "        vertical-align: top;\n",
       "    }\n",
       "\n",
       "    .dataframe thead th {\n",
       "        text-align: right;\n",
       "    }\n",
       "</style>\n",
       "<table border=\"1\" class=\"dataframe\">\n",
       "  <thead>\n",
       "    <tr style=\"text-align: right;\">\n",
       "      <th></th>\n",
       "      <th>name</th>\n",
       "      <th>platform</th>\n",
       "      <th>year_of_release</th>\n",
       "      <th>genre</th>\n",
       "      <th>na_sales</th>\n",
       "      <th>eu_sales</th>\n",
       "      <th>jp_sales</th>\n",
       "      <th>other_sales</th>\n",
       "      <th>critic_score</th>\n",
       "      <th>user_score</th>\n",
       "      <th>rating</th>\n",
       "      <th>total_sales</th>\n",
       "    </tr>\n",
       "  </thead>\n",
       "  <tbody>\n",
       "    <tr>\n",
       "      <th>16</th>\n",
       "      <td>Grand Theft Auto V</td>\n",
       "      <td>PS3</td>\n",
       "      <td>2013</td>\n",
       "      <td>Action</td>\n",
       "      <td>7.02</td>\n",
       "      <td>9.09</td>\n",
       "      <td>0.98</td>\n",
       "      <td>3.96</td>\n",
       "      <td>97.0</td>\n",
       "      <td>8.2</td>\n",
       "      <td>M</td>\n",
       "      <td>21.05</td>\n",
       "    </tr>\n",
       "    <tr>\n",
       "      <th>23</th>\n",
       "      <td>Grand Theft Auto V</td>\n",
       "      <td>X360</td>\n",
       "      <td>2013</td>\n",
       "      <td>Action</td>\n",
       "      <td>9.66</td>\n",
       "      <td>5.14</td>\n",
       "      <td>0.06</td>\n",
       "      <td>1.41</td>\n",
       "      <td>97.0</td>\n",
       "      <td>8.1</td>\n",
       "      <td>M</td>\n",
       "      <td>16.27</td>\n",
       "    </tr>\n",
       "    <tr>\n",
       "      <th>31</th>\n",
       "      <td>Call of Duty: Black Ops 3</td>\n",
       "      <td>PS4</td>\n",
       "      <td>2015</td>\n",
       "      <td>Shooter</td>\n",
       "      <td>6.03</td>\n",
       "      <td>5.86</td>\n",
       "      <td>0.36</td>\n",
       "      <td>2.38</td>\n",
       "      <td>NaN</td>\n",
       "      <td>NaN</td>\n",
       "      <td>NaN</td>\n",
       "      <td>14.63</td>\n",
       "    </tr>\n",
       "    <tr>\n",
       "      <th>33</th>\n",
       "      <td>Pokemon X/Pokemon Y</td>\n",
       "      <td>3DS</td>\n",
       "      <td>2013</td>\n",
       "      <td>Role-Playing</td>\n",
       "      <td>5.28</td>\n",
       "      <td>4.19</td>\n",
       "      <td>4.35</td>\n",
       "      <td>0.78</td>\n",
       "      <td>NaN</td>\n",
       "      <td>NaN</td>\n",
       "      <td>NaN</td>\n",
       "      <td>14.60</td>\n",
       "    </tr>\n",
       "    <tr>\n",
       "      <th>34</th>\n",
       "      <td>Call of Duty: Black Ops II</td>\n",
       "      <td>PS3</td>\n",
       "      <td>2012</td>\n",
       "      <td>Shooter</td>\n",
       "      <td>4.99</td>\n",
       "      <td>5.73</td>\n",
       "      <td>0.65</td>\n",
       "      <td>2.42</td>\n",
       "      <td>83.0</td>\n",
       "      <td>5.3</td>\n",
       "      <td>M</td>\n",
       "      <td>13.79</td>\n",
       "    </tr>\n",
       "  </tbody>\n",
       "</table>\n",
       "</div>"
      ],
      "text/plain": [
       "                          name platform  year_of_release         genre  \\\n",
       "16          Grand Theft Auto V      PS3             2013        Action   \n",
       "23          Grand Theft Auto V     X360             2013        Action   \n",
       "31   Call of Duty: Black Ops 3      PS4             2015       Shooter   \n",
       "33         Pokemon X/Pokemon Y      3DS             2013  Role-Playing   \n",
       "34  Call of Duty: Black Ops II      PS3             2012       Shooter   \n",
       "\n",
       "    na_sales  eu_sales  jp_sales  other_sales  critic_score  user_score  \\\n",
       "16      7.02      9.09      0.98         3.96          97.0         8.2   \n",
       "23      9.66      5.14      0.06         1.41          97.0         8.1   \n",
       "31      6.03      5.86      0.36         2.38           NaN         NaN   \n",
       "33      5.28      4.19      4.35         0.78           NaN         NaN   \n",
       "34      4.99      5.73      0.65         2.42          83.0         5.3   \n",
       "\n",
       "   rating  total_sales  \n",
       "16      M        21.05  \n",
       "23      M        16.27  \n",
       "31    NaN        14.63  \n",
       "33    NaN        14.60  \n",
       "34      M        13.79  "
      ]
     },
     "execution_count": 32,
     "metadata": {},
     "output_type": "execute_result"
    }
   ],
   "source": [
    "topical_data.head()"
   ]
  },
  {
   "cell_type": "markdown",
   "metadata": {},
   "source": [
    "Какие платформы лидируют по продажам, растут или падают? Выберим несколько потенциально прибыльных платформ."
   ]
  },
  {
   "cell_type": "code",
   "execution_count": 33,
   "metadata": {},
   "outputs": [],
   "source": [
    "top_platf = topical_data.pivot_table(index=['platform','year_of_release'], values='total_sales', aggfunc='sum')"
   ]
  },
  {
   "cell_type": "code",
   "execution_count": 34,
   "metadata": {},
   "outputs": [
    {
     "data": {
      "text/html": [
       "<div>\n",
       "<style scoped>\n",
       "    .dataframe tbody tr th:only-of-type {\n",
       "        vertical-align: middle;\n",
       "    }\n",
       "\n",
       "    .dataframe tbody tr th {\n",
       "        vertical-align: top;\n",
       "    }\n",
       "\n",
       "    .dataframe thead th {\n",
       "        text-align: right;\n",
       "    }\n",
       "</style>\n",
       "<table border=\"1\" class=\"dataframe\">\n",
       "  <thead>\n",
       "    <tr style=\"text-align: right;\">\n",
       "      <th></th>\n",
       "      <th></th>\n",
       "      <th>total_sales</th>\n",
       "    </tr>\n",
       "    <tr>\n",
       "      <th>platform</th>\n",
       "      <th>year_of_release</th>\n",
       "      <th></th>\n",
       "    </tr>\n",
       "  </thead>\n",
       "  <tbody>\n",
       "    <tr>\n",
       "      <th rowspan=\"5\" valign=\"top\">3DS</th>\n",
       "      <th>2012</th>\n",
       "      <td>51.76</td>\n",
       "    </tr>\n",
       "    <tr>\n",
       "      <th>2013</th>\n",
       "      <td>56.57</td>\n",
       "    </tr>\n",
       "    <tr>\n",
       "      <th>2014</th>\n",
       "      <td>43.76</td>\n",
       "    </tr>\n",
       "    <tr>\n",
       "      <th>2015</th>\n",
       "      <td>27.78</td>\n",
       "    </tr>\n",
       "    <tr>\n",
       "      <th>2016</th>\n",
       "      <td>15.14</td>\n",
       "    </tr>\n",
       "    <tr>\n",
       "      <th rowspan=\"2\" valign=\"top\">DS</th>\n",
       "      <th>2012</th>\n",
       "      <td>11.67</td>\n",
       "    </tr>\n",
       "    <tr>\n",
       "      <th>2013</th>\n",
       "      <td>1.54</td>\n",
       "    </tr>\n",
       "    <tr>\n",
       "      <th rowspan=\"5\" valign=\"top\">PC</th>\n",
       "      <th>2012</th>\n",
       "      <td>23.45</td>\n",
       "    </tr>\n",
       "    <tr>\n",
       "      <th>2013</th>\n",
       "      <td>12.66</td>\n",
       "    </tr>\n",
       "    <tr>\n",
       "      <th>2014</th>\n",
       "      <td>13.63</td>\n",
       "    </tr>\n",
       "    <tr>\n",
       "      <th>2015</th>\n",
       "      <td>8.52</td>\n",
       "    </tr>\n",
       "    <tr>\n",
       "      <th>2016</th>\n",
       "      <td>5.25</td>\n",
       "    </tr>\n",
       "    <tr>\n",
       "      <th rowspan=\"5\" valign=\"top\">PS3</th>\n",
       "      <th>2012</th>\n",
       "      <td>108.27</td>\n",
       "    </tr>\n",
       "    <tr>\n",
       "      <th>2013</th>\n",
       "      <td>113.25</td>\n",
       "    </tr>\n",
       "    <tr>\n",
       "      <th>2014</th>\n",
       "      <td>47.76</td>\n",
       "    </tr>\n",
       "    <tr>\n",
       "      <th>2015</th>\n",
       "      <td>16.82</td>\n",
       "    </tr>\n",
       "    <tr>\n",
       "      <th>2016</th>\n",
       "      <td>3.60</td>\n",
       "    </tr>\n",
       "    <tr>\n",
       "      <th rowspan=\"4\" valign=\"top\">PS4</th>\n",
       "      <th>2013</th>\n",
       "      <td>25.99</td>\n",
       "    </tr>\n",
       "    <tr>\n",
       "      <th>2014</th>\n",
       "      <td>100.00</td>\n",
       "    </tr>\n",
       "    <tr>\n",
       "      <th>2015</th>\n",
       "      <td>118.90</td>\n",
       "    </tr>\n",
       "    <tr>\n",
       "      <th>2016</th>\n",
       "      <td>69.25</td>\n",
       "    </tr>\n",
       "    <tr>\n",
       "      <th rowspan=\"4\" valign=\"top\">PSP</th>\n",
       "      <th>2012</th>\n",
       "      <td>7.95</td>\n",
       "    </tr>\n",
       "    <tr>\n",
       "      <th>2013</th>\n",
       "      <td>3.38</td>\n",
       "    </tr>\n",
       "    <tr>\n",
       "      <th>2014</th>\n",
       "      <td>0.24</td>\n",
       "    </tr>\n",
       "    <tr>\n",
       "      <th>2015</th>\n",
       "      <td>0.12</td>\n",
       "    </tr>\n",
       "    <tr>\n",
       "      <th rowspan=\"5\" valign=\"top\">PSV</th>\n",
       "      <th>2012</th>\n",
       "      <td>16.19</td>\n",
       "    </tr>\n",
       "    <tr>\n",
       "      <th>2013</th>\n",
       "      <td>10.59</td>\n",
       "    </tr>\n",
       "    <tr>\n",
       "      <th>2014</th>\n",
       "      <td>11.90</td>\n",
       "    </tr>\n",
       "    <tr>\n",
       "      <th>2015</th>\n",
       "      <td>6.25</td>\n",
       "    </tr>\n",
       "    <tr>\n",
       "      <th>2016</th>\n",
       "      <td>4.25</td>\n",
       "    </tr>\n",
       "    <tr>\n",
       "      <th rowspan=\"5\" valign=\"top\">Wii</th>\n",
       "      <th>2012</th>\n",
       "      <td>22.94</td>\n",
       "    </tr>\n",
       "    <tr>\n",
       "      <th>2013</th>\n",
       "      <td>8.59</td>\n",
       "    </tr>\n",
       "    <tr>\n",
       "      <th>2014</th>\n",
       "      <td>3.75</td>\n",
       "    </tr>\n",
       "    <tr>\n",
       "      <th>2015</th>\n",
       "      <td>1.14</td>\n",
       "    </tr>\n",
       "    <tr>\n",
       "      <th>2016</th>\n",
       "      <td>0.18</td>\n",
       "    </tr>\n",
       "    <tr>\n",
       "      <th rowspan=\"5\" valign=\"top\">WiiU</th>\n",
       "      <th>2012</th>\n",
       "      <td>17.56</td>\n",
       "    </tr>\n",
       "    <tr>\n",
       "      <th>2013</th>\n",
       "      <td>21.65</td>\n",
       "    </tr>\n",
       "    <tr>\n",
       "      <th>2014</th>\n",
       "      <td>22.03</td>\n",
       "    </tr>\n",
       "    <tr>\n",
       "      <th>2015</th>\n",
       "      <td>16.35</td>\n",
       "    </tr>\n",
       "    <tr>\n",
       "      <th>2016</th>\n",
       "      <td>4.60</td>\n",
       "    </tr>\n",
       "    <tr>\n",
       "      <th rowspan=\"5\" valign=\"top\">X360</th>\n",
       "      <th>2012</th>\n",
       "      <td>100.72</td>\n",
       "    </tr>\n",
       "    <tr>\n",
       "      <th>2013</th>\n",
       "      <td>88.58</td>\n",
       "    </tr>\n",
       "    <tr>\n",
       "      <th>2014</th>\n",
       "      <td>34.74</td>\n",
       "    </tr>\n",
       "    <tr>\n",
       "      <th>2015</th>\n",
       "      <td>11.96</td>\n",
       "    </tr>\n",
       "    <tr>\n",
       "      <th>2016</th>\n",
       "      <td>1.52</td>\n",
       "    </tr>\n",
       "    <tr>\n",
       "      <th rowspan=\"4\" valign=\"top\">XOne</th>\n",
       "      <th>2013</th>\n",
       "      <td>18.96</td>\n",
       "    </tr>\n",
       "    <tr>\n",
       "      <th>2014</th>\n",
       "      <td>54.07</td>\n",
       "    </tr>\n",
       "    <tr>\n",
       "      <th>2015</th>\n",
       "      <td>60.14</td>\n",
       "    </tr>\n",
       "    <tr>\n",
       "      <th>2016</th>\n",
       "      <td>26.15</td>\n",
       "    </tr>\n",
       "  </tbody>\n",
       "</table>\n",
       "</div>"
      ],
      "text/plain": [
       "                          total_sales\n",
       "platform year_of_release             \n",
       "3DS      2012                   51.76\n",
       "         2013                   56.57\n",
       "         2014                   43.76\n",
       "         2015                   27.78\n",
       "         2016                   15.14\n",
       "DS       2012                   11.67\n",
       "         2013                    1.54\n",
       "PC       2012                   23.45\n",
       "         2013                   12.66\n",
       "         2014                   13.63\n",
       "         2015                    8.52\n",
       "         2016                    5.25\n",
       "PS3      2012                  108.27\n",
       "         2013                  113.25\n",
       "         2014                   47.76\n",
       "         2015                   16.82\n",
       "         2016                    3.60\n",
       "PS4      2013                   25.99\n",
       "         2014                  100.00\n",
       "         2015                  118.90\n",
       "         2016                   69.25\n",
       "PSP      2012                    7.95\n",
       "         2013                    3.38\n",
       "         2014                    0.24\n",
       "         2015                    0.12\n",
       "PSV      2012                   16.19\n",
       "         2013                   10.59\n",
       "         2014                   11.90\n",
       "         2015                    6.25\n",
       "         2016                    4.25\n",
       "Wii      2012                   22.94\n",
       "         2013                    8.59\n",
       "         2014                    3.75\n",
       "         2015                    1.14\n",
       "         2016                    0.18\n",
       "WiiU     2012                   17.56\n",
       "         2013                   21.65\n",
       "         2014                   22.03\n",
       "         2015                   16.35\n",
       "         2016                    4.60\n",
       "X360     2012                  100.72\n",
       "         2013                   88.58\n",
       "         2014                   34.74\n",
       "         2015                   11.96\n",
       "         2016                    1.52\n",
       "XOne     2013                   18.96\n",
       "         2014                   54.07\n",
       "         2015                   60.14\n",
       "         2016                   26.15"
      ]
     },
     "execution_count": 34,
     "metadata": {},
     "output_type": "execute_result"
    }
   ],
   "source": [
    "top_platf"
   ]
  },
  {
   "cell_type": "markdown",
   "metadata": {},
   "source": [
    "Как мы можем видеть все на всех платформах кроме PS4 и XOne продажи игр резко падают после 2014 года.\n",
    "Из этого списка мы можем определить потенциально выгодные платформы: PS4, XOne, PC,3DS,PSV,WiiU."
   ]
  },
  {
   "cell_type": "code",
   "execution_count": 35,
   "metadata": {},
   "outputs": [
    {
     "data": {
      "text/html": [
       "<div>\n",
       "<style scoped>\n",
       "    .dataframe tbody tr th:only-of-type {\n",
       "        vertical-align: middle;\n",
       "    }\n",
       "\n",
       "    .dataframe tbody tr th {\n",
       "        vertical-align: top;\n",
       "    }\n",
       "\n",
       "    .dataframe thead th {\n",
       "        text-align: right;\n",
       "    }\n",
       "</style>\n",
       "<table border=\"1\" class=\"dataframe\">\n",
       "  <thead>\n",
       "    <tr style=\"text-align: right;\">\n",
       "      <th></th>\n",
       "      <th>name</th>\n",
       "      <th>platform</th>\n",
       "      <th>year_of_release</th>\n",
       "      <th>genre</th>\n",
       "      <th>na_sales</th>\n",
       "      <th>eu_sales</th>\n",
       "      <th>jp_sales</th>\n",
       "      <th>other_sales</th>\n",
       "      <th>critic_score</th>\n",
       "      <th>user_score</th>\n",
       "      <th>rating</th>\n",
       "      <th>total_sales</th>\n",
       "    </tr>\n",
       "  </thead>\n",
       "  <tbody>\n",
       "    <tr>\n",
       "      <th>0</th>\n",
       "      <td>Call of Duty: Black Ops 3</td>\n",
       "      <td>PS4</td>\n",
       "      <td>2015</td>\n",
       "      <td>Shooter</td>\n",
       "      <td>6.03</td>\n",
       "      <td>5.86</td>\n",
       "      <td>0.36</td>\n",
       "      <td>2.38</td>\n",
       "      <td>NaN</td>\n",
       "      <td>NaN</td>\n",
       "      <td>NaN</td>\n",
       "      <td>14.63</td>\n",
       "    </tr>\n",
       "    <tr>\n",
       "      <th>1</th>\n",
       "      <td>Pokemon X/Pokemon Y</td>\n",
       "      <td>3DS</td>\n",
       "      <td>2013</td>\n",
       "      <td>Role-Playing</td>\n",
       "      <td>5.28</td>\n",
       "      <td>4.19</td>\n",
       "      <td>4.35</td>\n",
       "      <td>0.78</td>\n",
       "      <td>NaN</td>\n",
       "      <td>NaN</td>\n",
       "      <td>NaN</td>\n",
       "      <td>14.60</td>\n",
       "    </tr>\n",
       "    <tr>\n",
       "      <th>2</th>\n",
       "      <td>Mario Kart 7</td>\n",
       "      <td>3DS</td>\n",
       "      <td>2011</td>\n",
       "      <td>Racing</td>\n",
       "      <td>5.03</td>\n",
       "      <td>4.02</td>\n",
       "      <td>2.69</td>\n",
       "      <td>0.91</td>\n",
       "      <td>85.0</td>\n",
       "      <td>8.2</td>\n",
       "      <td>E</td>\n",
       "      <td>12.65</td>\n",
       "    </tr>\n",
       "    <tr>\n",
       "      <th>3</th>\n",
       "      <td>Grand Theft Auto V</td>\n",
       "      <td>PS4</td>\n",
       "      <td>2014</td>\n",
       "      <td>Action</td>\n",
       "      <td>3.96</td>\n",
       "      <td>6.31</td>\n",
       "      <td>0.38</td>\n",
       "      <td>1.97</td>\n",
       "      <td>97.0</td>\n",
       "      <td>8.3</td>\n",
       "      <td>M</td>\n",
       "      <td>12.62</td>\n",
       "    </tr>\n",
       "    <tr>\n",
       "      <th>4</th>\n",
       "      <td>Pokemon Omega Ruby/Pokemon Alpha Sapphire</td>\n",
       "      <td>3DS</td>\n",
       "      <td>2014</td>\n",
       "      <td>Role-Playing</td>\n",
       "      <td>4.35</td>\n",
       "      <td>3.49</td>\n",
       "      <td>3.10</td>\n",
       "      <td>0.74</td>\n",
       "      <td>NaN</td>\n",
       "      <td>NaN</td>\n",
       "      <td>NaN</td>\n",
       "      <td>11.68</td>\n",
       "    </tr>\n",
       "    <tr>\n",
       "      <th>...</th>\n",
       "      <td>...</td>\n",
       "      <td>...</td>\n",
       "      <td>...</td>\n",
       "      <td>...</td>\n",
       "      <td>...</td>\n",
       "      <td>...</td>\n",
       "      <td>...</td>\n",
       "      <td>...</td>\n",
       "      <td>...</td>\n",
       "      <td>...</td>\n",
       "      <td>...</td>\n",
       "      <td>...</td>\n",
       "    </tr>\n",
       "    <tr>\n",
       "      <th>2705</th>\n",
       "      <td>Strawberry Nauts</td>\n",
       "      <td>PSV</td>\n",
       "      <td>2016</td>\n",
       "      <td>Adventure</td>\n",
       "      <td>0.00</td>\n",
       "      <td>0.00</td>\n",
       "      <td>0.01</td>\n",
       "      <td>0.00</td>\n",
       "      <td>NaN</td>\n",
       "      <td>NaN</td>\n",
       "      <td>NaN</td>\n",
       "      <td>0.01</td>\n",
       "    </tr>\n",
       "    <tr>\n",
       "      <th>2706</th>\n",
       "      <td>15 Days</td>\n",
       "      <td>PC</td>\n",
       "      <td>2009</td>\n",
       "      <td>Adventure</td>\n",
       "      <td>0.00</td>\n",
       "      <td>0.01</td>\n",
       "      <td>0.00</td>\n",
       "      <td>0.00</td>\n",
       "      <td>63.0</td>\n",
       "      <td>5.8</td>\n",
       "      <td>NaN</td>\n",
       "      <td>0.01</td>\n",
       "    </tr>\n",
       "    <tr>\n",
       "      <th>2707</th>\n",
       "      <td>Aiyoku no Eustia</td>\n",
       "      <td>PSV</td>\n",
       "      <td>2014</td>\n",
       "      <td>Misc</td>\n",
       "      <td>0.00</td>\n",
       "      <td>0.00</td>\n",
       "      <td>0.01</td>\n",
       "      <td>0.00</td>\n",
       "      <td>NaN</td>\n",
       "      <td>NaN</td>\n",
       "      <td>NaN</td>\n",
       "      <td>0.01</td>\n",
       "    </tr>\n",
       "    <tr>\n",
       "      <th>2708</th>\n",
       "      <td>Haitaka no Psychedelica</td>\n",
       "      <td>PSV</td>\n",
       "      <td>2016</td>\n",
       "      <td>Adventure</td>\n",
       "      <td>0.00</td>\n",
       "      <td>0.00</td>\n",
       "      <td>0.01</td>\n",
       "      <td>0.00</td>\n",
       "      <td>NaN</td>\n",
       "      <td>NaN</td>\n",
       "      <td>NaN</td>\n",
       "      <td>0.01</td>\n",
       "    </tr>\n",
       "    <tr>\n",
       "      <th>2709</th>\n",
       "      <td>Winning Post 8 2016</td>\n",
       "      <td>PSV</td>\n",
       "      <td>2016</td>\n",
       "      <td>Simulation</td>\n",
       "      <td>0.00</td>\n",
       "      <td>0.00</td>\n",
       "      <td>0.01</td>\n",
       "      <td>0.00</td>\n",
       "      <td>NaN</td>\n",
       "      <td>NaN</td>\n",
       "      <td>NaN</td>\n",
       "      <td>0.01</td>\n",
       "    </tr>\n",
       "  </tbody>\n",
       "</table>\n",
       "<p>2710 rows × 12 columns</p>\n",
       "</div>"
      ],
      "text/plain": [
       "                                           name platform  year_of_release  \\\n",
       "0                     Call of Duty: Black Ops 3      PS4             2015   \n",
       "1                           Pokemon X/Pokemon Y      3DS             2013   \n",
       "2                                  Mario Kart 7      3DS             2011   \n",
       "3                            Grand Theft Auto V      PS4             2014   \n",
       "4     Pokemon Omega Ruby/Pokemon Alpha Sapphire      3DS             2014   \n",
       "...                                         ...      ...              ...   \n",
       "2705                           Strawberry Nauts      PSV             2016   \n",
       "2706                                    15 Days       PC             2009   \n",
       "2707                           Aiyoku no Eustia      PSV             2014   \n",
       "2708                    Haitaka no Psychedelica      PSV             2016   \n",
       "2709                        Winning Post 8 2016      PSV             2016   \n",
       "\n",
       "             genre  na_sales  eu_sales  jp_sales  other_sales  critic_score  \\\n",
       "0          Shooter      6.03      5.86      0.36         2.38           NaN   \n",
       "1     Role-Playing      5.28      4.19      4.35         0.78           NaN   \n",
       "2           Racing      5.03      4.02      2.69         0.91          85.0   \n",
       "3           Action      3.96      6.31      0.38         1.97          97.0   \n",
       "4     Role-Playing      4.35      3.49      3.10         0.74           NaN   \n",
       "...            ...       ...       ...       ...          ...           ...   \n",
       "2705     Adventure      0.00      0.00      0.01         0.00           NaN   \n",
       "2706     Adventure      0.00      0.01      0.00         0.00          63.0   \n",
       "2707          Misc      0.00      0.00      0.01         0.00           NaN   \n",
       "2708     Adventure      0.00      0.00      0.01         0.00           NaN   \n",
       "2709    Simulation      0.00      0.00      0.01         0.00           NaN   \n",
       "\n",
       "      user_score rating  total_sales  \n",
       "0            NaN    NaN        14.63  \n",
       "1            NaN    NaN        14.60  \n",
       "2            8.2      E        12.65  \n",
       "3            8.3      M        12.62  \n",
       "4            NaN    NaN        11.68  \n",
       "...          ...    ...          ...  \n",
       "2705         NaN    NaN         0.01  \n",
       "2706         5.8    NaN         0.01  \n",
       "2707         NaN    NaN         0.01  \n",
       "2708         NaN    NaN         0.01  \n",
       "2709         NaN    NaN         0.01  \n",
       "\n",
       "[2710 rows x 12 columns]"
      ]
     },
     "execution_count": 35,
     "metadata": {},
     "output_type": "execute_result"
    }
   ],
   "source": [
    "# актуальный датафрейм с потенциально выгодными платформами\n",
    "final_data = data.loc[data['platform'].isin(['PS4', 'XOne', 'PC','3DS','PSV','WiiU'])].reset_index(drop=True)\n",
    "final_data"
   ]
  },
  {
   "cell_type": "markdown",
   "metadata": {},
   "source": [
    "Постройте график «ящик с усами» по глобальным продажам игр в разбивке по платформам. Опишите результат."
   ]
  },
  {
   "cell_type": "code",
   "execution_count": 36,
   "metadata": {},
   "outputs": [
    {
     "data": {
      "image/png": "[encoded data removed]",
      "text/plain": [
       "<Figure size 720x504 with 1 Axes>"
      ]
     },
     "metadata": {
      "needs_background": "light"
     },
     "output_type": "display_data"
    }
   ],
   "source": [
    "# построим \"ящик с усами\" по продажам на популярных платформах\n",
    "plt.figure(figsize=(10,7))\n",
    "sns.boxplot(data=final_data, x='total_sales', y='platform');\n",
    "plt.xlabel(\"количество продаж\")\n",
    "plt.ylabel(\"Платформы\")\n",
    "plt.xlim(0,2)\n",
    "plt.title('\"ящик с усами\" по количеству продаж у популярных платформ')\n",
    "plt.show()"
   ]
  },
  {
   "cell_type": "markdown",
   "metadata": {},
   "source": [
    "\n",
    "<div class=\"alert alert-danger\">\n",
    "<b>Комментарий ревьюера:</b>Этот боксплот не совсем читабельный :( Не видна медиана и квантили. Попробуй ограничить боксплот по оси с помощью параметра xlim.</div>"
   ]
  },
  {
   "cell_type": "markdown",
   "metadata": {},
   "source": [
    "<div class=\"alert alert-info\"> <b>Комментарий студента:</b> Сделал</div>    "
   ]
  },
  {
   "cell_type": "markdown",
   "metadata": {},
   "source": [
    "\n",
    "<div class=\"alert alert-success\">\n",
    "<b>Комментарий ревьюера v2.0:</b>☀️Да, так гораздо лучше.</div>"
   ]
  },
  {
   "cell_type": "markdown",
   "metadata": {},
   "source": [
    "По количеству продаж лидируют PS4, Xone, WiiU. Меньше всего продаж у PSV и РС."
   ]
  },
  {
   "cell_type": "markdown",
   "metadata": {},
   "source": [
    "Узнаем как влияют на продажи игр платформы PS4 Оценки критиков и пользователей."
   ]
  },
  {
   "cell_type": "code",
   "execution_count": 37,
   "metadata": {},
   "outputs": [],
   "source": [
    "# функция графика\n",
    "def scatter(data,x,y, xlabel, ylabel, title):\n",
    "    #plt.figure(figsize=(7,7))\n",
    "    sns.scatterplot(palette=sns.color_palette(\"crest\"),data=data, x=x,y=y)\n",
    "    plt.xlabel(xlabel)\n",
    "    plt.ylabel(ylabel)\n",
    "    plt.title(title)\n",
    "    plt.show()"
   ]
  },
  {
   "cell_type": "code",
   "execution_count": 38,
   "metadata": {},
   "outputs": [
    {
     "name": "stdout",
     "output_type": "stream",
     "text": [
      "Корреляция между оценкой критиков и продажами: 0.40656790206178095\n",
      "Корреляция между оценкой пользователей и продажами: -0.031957110204556376\n"
     ]
    }
   ],
   "source": [
    "# Возьмем самую популярную платформу\n",
    "ps4 = final_data.loc[final_data['platform']=='PS4']\n",
    "print('Корреляция между оценкой критиков и продажами:', ps4['critic_score'].corr(ps4['total_sales']))\n",
    "print('Корреляция между оценкой пользователей и продажами:', ps4['user_score'].corr(ps4['total_sales']))"
   ]
  },
  {
   "cell_type": "code",
   "execution_count": 39,
   "metadata": {},
   "outputs": [
    {
     "data": {
      "image/png": "[encoded data removed]",
      "text/plain": [
       "<Figure size 432x288 with 1 Axes>"
      ]
     },
     "metadata": {
      "needs_background": "light"
     },
     "output_type": "display_data"
    },
    {
     "data": {
      "image/png": "[encoded data removed]",
      "text/plain": [
       "<Figure size 432x288 with 1 Axes>"
      ]
     },
     "metadata": {
      "needs_background": "light"
     },
     "output_type": "display_data"
    }
   ],
   "source": [
    "# Рапределение продаж от оценок\n",
    "\n",
    "scatter(ps4, x='critic_score',y='total_sales',xlabel='Оценка критиков', ylabel='Кол-во продаж',\n",
    "        title='Диаграмма рассеивания по Оценке критиков')\n",
    "scatter(ps4, x='user_score',y='total_sales',xlabel='Оценка Пользователей', ylabel='Кол-во продаж',\n",
    "        title='Диаграмма рассеивания по Оценке пользователей')"
   ]
  },
  {
   "cell_type": "markdown",
   "metadata": {},
   "source": [
    "По графикам и значениям корреляции можно сделать вывод, что покупатели выбирают игры больше на основе оценок критиков.\n",
    "Пользовательские оценки на продажи не плияют и корреляция с значением -0.031 это потверждает."
   ]
  },
  {
   "cell_type": "markdown",
   "metadata": {},
   "source": [
    "Соотнесем эти выводы с другими платформами."
   ]
  },
  {
   "cell_type": "code",
   "execution_count": 40,
   "metadata": {},
   "outputs": [
    {
     "name": "stdout",
     "output_type": "stream",
     "text": [
      "Название платформы: XOne\n"
     ]
    },
    {
     "data": {
      "image/png": "[encoded data removed]",
      "text/plain": [
       "<Figure size 432x288 with 1 Axes>"
      ]
     },
     "metadata": {
      "needs_background": "light"
     },
     "output_type": "display_data"
    },
    {
     "data": {
      "image/png": "[encoded data removed]",
      "text/plain": [
       "<Figure size 432x288 with 1 Axes>"
      ]
     },
     "metadata": {
      "needs_background": "light"
     },
     "output_type": "display_data"
    },
    {
     "name": "stdout",
     "output_type": "stream",
     "text": [
      "Корреляция между оценкой критиков и продажами: 0.4169983280084017\n",
      "Корреляция между оценкой пользователей и продажами: -0.0689250532827941\n",
      "-------------------------------------------------------------\n",
      "Название платформы: PC\n"
     ]
    },
    {
     "data": {
      "image/png": "[encoded data removed]",
      "text/plain": [
       "<Figure size 432x288 with 1 Axes>"
      ]
     },
     "metadata": {
      "needs_background": "light"
     },
     "output_type": "display_data"
    },
    {
     "data": {
      "image/png": "[encoded data removed]",
      "text/plain": [
       "<Figure size 432x288 with 1 Axes>"
      ]
     },
     "metadata": {
      "needs_background": "light"
     },
     "output_type": "display_data"
    },
    {
     "name": "stdout",
     "output_type": "stream",
     "text": [
      "Корреляция между оценкой критиков и продажами: 0.25688673789482114\n",
      "Корреляция между оценкой пользователей и продажами: 0.01047568462148642\n",
      "-------------------------------------------------------------\n",
      "Название платформы: 3DS\n"
     ]
    },
    {
     "data": {
      "image/png": "[encoded data removed]",
      "text/plain": [
       "<Figure size 432x288 with 1 Axes>"
      ]
     },
     "metadata": {
      "needs_background": "light"
     },
     "output_type": "display_data"
    },
    {
     "data": {
      "image/png": "[encoded data removed]",
      "text/plain": [
       "<Figure size 432x288 with 1 Axes>"
      ]
     },
     "metadata": {
      "needs_background": "light"
     },
     "output_type": "display_data"
    },
    {
     "name": "stdout",
     "output_type": "stream",
     "text": [
      "Корреляция между оценкой критиков и продажами: 0.3494009303924131\n",
      "Корреляция между оценкой пользователей и продажами: 0.22480798039571073\n",
      "-------------------------------------------------------------\n",
      "Название платформы: PSV\n"
     ]
    },
    {
     "data": {
      "image/png": "[encoded data removed]",
      "text/plain": [
       "<Figure size 432x288 with 1 Axes>"
      ]
     },
     "metadata": {
      "needs_background": "light"
     },
     "output_type": "display_data"
    },
    {
     "data": {
      "image/png": "[encoded data removed]",
      "text/plain": [
       "<Figure size 432x288 with 1 Axes>"
      ]
     },
     "metadata": {
      "needs_background": "light"
     },
     "output_type": "display_data"
    },
    {
     "name": "stdout",
     "output_type": "stream",
     "text": [
      "Корреляция между оценкой критиков и продажами: 0.13151672154292637\n",
      "Корреляция между оценкой пользователей и продажами: 0.013579522883028902\n",
      "-------------------------------------------------------------\n",
      "Название платформы: WiiU\n"
     ]
    },
    {
     "data": {
      "image/png": "[encoded data removed]",
      "text/plain": [
       "<Figure size 432x288 with 1 Axes>"
      ]
     },
     "metadata": {
      "needs_background": "light"
     },
     "output_type": "display_data"
    },
    {
     "data": {
      "image/png": "[encoded data removed]",
      "text/plain": [
       "<Figure size 432x288 with 1 Axes>"
      ]
     },
     "metadata": {
      "needs_background": "light"
     },
     "output_type": "display_data"
    },
    {
     "name": "stdout",
     "output_type": "stream",
     "text": [
      "Корреляция между оценкой критиков и продажами: 0.34837976012017485\n",
      "Корреляция между оценкой пользователей и продажами: 0.4002190202148617\n",
      "-------------------------------------------------------------\n"
     ]
    }
   ],
   "source": [
    "# Цикл для построения рапределений продаж от оценок, и показ корреляции.\n",
    "list_plat =['XOne', 'PC','3DS','PSV','WiiU']\n",
    "for i in list_plat:\n",
    "    df=final_data.loc[final_data['platform']==i]\n",
    "    print('Название платформы:',i)\n",
    "    scatter(ps4, x='critic_score',y='total_sales',xlabel='Оценка критиков', ylabel='Кол-во продаж',\n",
    "            title='Диаграмма рассеивания по Оценке критиков')\n",
    "    scatter(df, x='user_score',y='total_sales',xlabel='Оценка Пользователей', ylabel='Кол-во продаж', \n",
    "            title='Диаграмма рассеивания по Оценке пользователей')\n",
    "    print('Корреляция между оценкой критиков и продажами:', df['critic_score'].corr(df['total_sales']))\n",
    "    print('Корреляция между оценкой пользователей и продажами:', df['user_score'].corr(df['total_sales']))\n",
    "    print(\"-------------------------------------------------------------\")"
   ]
  },
  {
   "cell_type": "markdown",
   "metadata": {},
   "source": [
    "Вывод: Все платформы имеют высокую связь между оценкой критиков и количеством продаж. Оценки пользователей либо не имеют влияния на продажи, либо их влияние невелико. Исключение платформа WiiU  где оценки пользователей влияют на продажи сильнее, чем оценки критиков."
   ]
  },
  {
   "cell_type": "markdown",
   "metadata": {},
   "source": [
    "\n",
    "<div class=\"alert alert-success\">\n",
    "<b>Комментарий ревьюера:</b>☀️С этим трудно поспорить. Молодец, что рассмотрел несколько платформ - по одной сложно делать однозначные выводы.</div>"
   ]
  },
  {
   "cell_type": "markdown",
   "metadata": {},
   "source": [
    "Посмотрим на общее распределение по жанрам."
   ]
  },
  {
   "cell_type": "code",
   "execution_count": 41,
   "metadata": {},
   "outputs": [
    {
     "data": {
      "image/png": "[encoded data removed]",
      "text/plain": [
       "<Figure size 1080x216 with 1 Axes>"
      ]
     },
     "metadata": {
      "needs_background": "light"
     },
     "output_type": "display_data"
    }
   ],
   "source": [
    "genre = topical_data.pivot_table(index='genre', values='total_sales', aggfunc='mean').sort_values(by='total_sales', \n",
    "                                                                                                ascending=False)\n",
    "barplot(genre, x=genre.index, y='total_sales',xlabel='Жанр',ylabel ='количество продаж', rotation=90, title='Средние продажи по жанре')"
   ]
  },
  {
   "cell_type": "code",
   "execution_count": 42,
   "metadata": {},
   "outputs": [
    {
     "data": {
      "image/png": "[encoded data removed]",
      "text/plain": [
       "<Figure size 1080x216 with 1 Axes>"
      ]
     },
     "metadata": {
      "needs_background": "light"
     },
     "output_type": "display_data"
    }
   ],
   "source": [
    "genre_med = topical_data.pivot_table(index='genre', values='total_sales', aggfunc='median').sort_values(by='total_sales', \n",
    "                                                                                                ascending=False)\n",
    "barplot(genre_med, x=genre_med.index, y='total_sales',xlabel='Жанр',ylabel ='количество продаж', rotation=90, title='Медианные продажи по жанре')"
   ]
  },
  {
   "cell_type": "markdown",
   "metadata": {},
   "source": [
    "Самые популярные жанры Shooter, Sports и platform. Самые не популярные жанры это Puzzle и Adventure.\n"
   ]
  },
  {
   "cell_type": "markdown",
   "metadata": {},
   "source": [
    "\n",
    "<div class=\"alert alert-danger\">\n",
    "<b>Комментарий ревьюера:</b>Общие продажи - не лучшая метрика для поиска наиболее прибыльного жанра. Высокие показатели могут быть обусловлены одной \"стрельнувшей\" игрой, но это не дает возможности судить о целом жанре. Здесь лучше рассмотреть медианные/средние продажи, и заодно понаблюдать, как поменяются результаты ;)</div>"
   ]
  },
  {
   "cell_type": "markdown",
   "metadata": {},
   "source": [
    "<div class=\"alert alert-info\"> <b>Комментарий студента:</b> Действительно, лидеры жанра изменились. Вывод изменен   </div> "
   ]
  },
  {
   "cell_type": "markdown",
   "metadata": {},
   "source": [
    "\n",
    "<div class=\"alert alert-success\">\n",
    "<b>Комментарий ревьюера v2.0:</b>☀️Ожидаемо на самом деле ;) Спасибо за корректировку.</div>"
   ]
  },
  {
   "cell_type": "markdown",
   "metadata": {},
   "source": [
    "**Вывод:**\n",
    "Был проведен исследовательский анализ данных, и мы выяснили:\n",
    "- Больше всего игр было выпущено с 2006 по 2011. С 2012 года производства игр резко снизилось.\n",
    "- За все время самые популярные платформы это ps2 и x360.\n",
    "- Жизненный цикл игровых платформ 8- 10 лет (исключение составляет РС)\n",
    "- Определили потенциально выгодные платформы для 2017года: PS4, XOne, PC,3DS, PSV,WiiU.\n",
    "- Что платформы имеют высокую связь между оценкой критиков и количеством продаж. Пользовательские оценки слабо влияют на продажи.\n",
    "- Самые популярные жанры Shooter,Sports и platform. . Самые не популярные жанры это Puzzle и Adventure.\n"
   ]
  },
  {
   "cell_type": "markdown",
   "metadata": {},
   "source": [
    "## Портрет пользователя каждого региона"
   ]
  },
  {
   "cell_type": "code",
   "execution_count": 43,
   "metadata": {},
   "outputs": [],
   "source": [
    "# Создадим функццию для создания портрета пользователя каждого региона.\n",
    "def region(data, column):\n",
    "    name_column =['platform','genre','rating' ]\n",
    "    dist = {'platform':'Платформа','genre':'Жанр','rating':'Рейтинг' }\n",
    "    try:\n",
    "        for i in name_column:\n",
    "            df = data.pivot_table(index=i, values=column, aggfunc='sum').sort_values(by=column, ascending=False)\n",
    "            df['percent'] = df[column] / df[column].sum() * 100\n",
    "        \n",
    "            print(f'Популяр. {dist[i]} \\n', df.head())\n",
    "            barplot(df,x=df.index, y=column,xlabel=dist[i],ylabel ='количество продаж', rotation=0, title=f'Популяр. {dist[i]} ')\n",
    "            \n",
    "            \n",
    "    except:\n",
    "        pass"
   ]
  },
  {
   "cell_type": "markdown",
   "metadata": {},
   "source": [
    "### Регион Северной америки"
   ]
  },
  {
   "cell_type": "code",
   "execution_count": 44,
   "metadata": {},
   "outputs": [
    {
     "name": "stdout",
     "output_type": "stream",
     "text": [
      "Популяр. Платформа \n",
      "           na_sales    percent\n",
      "platform                     \n",
      "PS4         108.74  25.255481\n",
      "PC           94.53  21.955128\n",
      "XOne         93.12  21.627648\n",
      "3DS          83.49  19.391026\n",
      "WiiU         38.10   8.848941\n"
     ]
    },
    {
     "data": {
      "image/png": "[encoded data removed]",
      "text/plain": [
       "<Figure size 1080x216 with 1 Axes>"
      ]
     },
     "metadata": {
      "needs_background": "light"
     },
     "output_type": "display_data"
    },
    {
     "name": "stdout",
     "output_type": "stream",
     "text": [
      "Популяр. Жанр \n",
      "               na_sales    percent\n",
      "genre                            \n",
      "Action           97.57  22.661185\n",
      "Shooter          92.81  21.555648\n",
      "Role-Playing     59.90  13.912114\n",
      "Sports           40.06   9.304162\n",
      "Simulation       28.34   6.582126\n"
     ]
    },
    {
     "data": {
      "image/png": "[encoded data removed]",
      "text/plain": [
       "<Figure size 1080x216 with 1 Axes>"
      ]
     },
     "metadata": {
      "needs_background": "light"
     },
     "output_type": "display_data"
    },
    {
     "name": "stdout",
     "output_type": "stream",
     "text": [
      "Популяр. Рейтинг \n",
      "         na_sales    percent\n",
      "rating                     \n",
      "M         132.11  37.464198\n",
      "E          93.31  26.461163\n",
      "T          77.09  21.861441\n",
      "E10+       47.73  13.535434\n",
      "K-A         2.30   0.652242\n"
     ]
    },
    {
     "data": {
      "image/png": "[encoded data removed]",
      "text/plain": [
       "<Figure size 1080x216 with 1 Axes>"
      ]
     },
     "metadata": {
      "needs_background": "light"
     },
     "output_type": "display_data"
    }
   ],
   "source": [
    "region(final_data, 'na_sales')"
   ]
  },
  {
   "cell_type": "markdown",
   "metadata": {},
   "source": [
    "\n",
    "<div class=\"alert alert-danger\">\n",
    "<b>Комментарий ревьюера:</b>На графике по жанрам по оси абсцисс смешиваются подписи.</div>"
   ]
  },
  {
   "cell_type": "markdown",
   "metadata": {},
   "source": [
    "<div class=\"alert alert-info\"> <b>Комментарий студента:</b> Увеличил размер графиков.  </div> "
   ]
  },
  {
   "cell_type": "markdown",
   "metadata": {},
   "source": [
    "Можно сделать вывод что в северной Америке самая популярная платформа PS4 - доля продаж 25%. Второе место по полярности делят PC и XOne с 21%.\n",
    "Самые популярные жанры это Action - 22% и Shooter 21%.\n",
    "Самые большие доли продаж игр приходятся на рейтинг «M» («Mature») — «Для взрослых , «E» («Everyone») — «Для всех» и «T» («Teen») — «Подросткам"
   ]
  },
  {
   "cell_type": "markdown",
   "metadata": {},
   "source": [
    "### Регион Европы"
   ]
  },
  {
   "cell_type": "code",
   "execution_count": 45,
   "metadata": {},
   "outputs": [
    {
     "name": "stdout",
     "output_type": "stream",
     "text": [
      "Популяр. Платформа \n",
      "           eu_sales    percent\n",
      "platform                     \n",
      "PC          142.44  32.756123\n",
      "PS4         141.09  32.445671\n",
      "3DS          61.48  14.138209\n",
      "XOne         51.59  11.863861\n",
      "WiiU         25.13   5.779004\n"
     ]
    },
    {
     "data": {
      "image/png": "[encoded data removed]",
      "text/plain": [
       "<Figure size 1080x216 with 1 Axes>"
      ]
     },
     "metadata": {
      "needs_background": "light"
     },
     "output_type": "display_data"
    },
    {
     "name": "stdout",
     "output_type": "stream",
     "text": [
      "Популяр. Жанр \n",
      "               eu_sales    percent\n",
      "genre                            \n",
      "Action           97.55  22.433023\n",
      "Shooter          83.39  19.176728\n",
      "Role-Playing     58.04  13.347131\n",
      "Sports           49.39  11.357940\n",
      "Simulation       37.56   8.637461\n"
     ]
    },
    {
     "data": {
      "image/png": "[encoded data removed]",
      "text/plain": [
       "<Figure size 1080x216 with 1 Axes>"
      ]
     },
     "metadata": {
      "needs_background": "light"
     },
     "output_type": "display_data"
    },
    {
     "name": "stdout",
     "output_type": "stream",
     "text": [
      "Популяр. Рейтинг \n",
      "         eu_sales    percent\n",
      "rating                     \n",
      "M         141.46  39.310824\n",
      "E          95.23  26.463804\n",
      "T          83.93  23.323607\n",
      "E10+       39.04  10.848965\n",
      "K-A         0.11   0.030568\n"
     ]
    },
    {
     "data": {
      "image/png": "[encoded data removed]",
      "text/plain": [
       "<Figure size 1080x216 with 1 Axes>"
      ]
     },
     "metadata": {
      "needs_background": "light"
     },
     "output_type": "display_data"
    }
   ],
   "source": [
    "region(final_data, 'eu_sales')"
   ]
  },
  {
   "cell_type": "markdown",
   "metadata": {},
   "source": [
    "Для Европы самые популярные платформы это PC и PS4 доля продаж по 32% у каждой. Второе место по популярности 3DS -14%.\n",
    "Самые популярные жанры это Action - 22% и Shooter 19%.\n",
    "Самые большие доли продаж игр приходятся на рейтиг «M» («Mature») — «Для взрослых, «E» («Everyone») — «Для всех» и «T» («Teen») — «Подросткам"
   ]
  },
  {
   "cell_type": "markdown",
   "metadata": {},
   "source": [
    "### Японский регион"
   ]
  },
  {
   "cell_type": "code",
   "execution_count": 46,
   "metadata": {},
   "outputs": [
    {
     "name": "stdout",
     "output_type": "stream",
     "text": [
      "Популяр. Платформа \n",
      "           jp_sales    percent\n",
      "platform                     \n",
      "3DS         100.67  66.204130\n",
      "PSV          21.91  14.408786\n",
      "PS4          15.96  10.495857\n",
      "WiiU         13.01   8.555833\n",
      "XOne          0.34   0.223596\n"
     ]
    },
    {
     "data": {
      "image/png": "[encoded data removed]",
      "text/plain": [
       "<Figure size 1080x216 with 1 Axes>"
      ]
     },
     "metadata": {
      "needs_background": "light"
     },
     "output_type": "display_data"
    },
    {
     "name": "stdout",
     "output_type": "stream",
     "text": [
      "Популяр. Жанр \n",
      "               jp_sales    percent\n",
      "genre                            \n",
      "Role-Playing     54.29  35.703012\n",
      "Action           36.54  24.029988\n",
      "Platform         10.71   7.043272\n",
      "Misc             10.70   7.036696\n",
      "Simulation       10.64   6.997238\n"
     ]
    },
    {
     "data": {
      "image/png": "[encoded data removed]",
      "text/plain": [
       "<Figure size 1080x216 with 1 Axes>"
      ]
     },
     "metadata": {
      "needs_background": "light"
     },
     "output_type": "display_data"
    },
    {
     "name": "stdout",
     "output_type": "stream",
     "text": [
      "Популяр. Рейтинг \n",
      "         jp_sales    percent\n",
      "rating                     \n",
      "E          30.43  43.708704\n",
      "T          20.53  29.488653\n",
      "M          10.14  14.564780\n",
      "E10+        8.52  12.237863\n",
      "EC          0.00   0.000000\n"
     ]
    },
    {
     "data": {
      "image/png": "[encoded data removed]",
      "text/plain": [
       "<Figure size 1080x216 with 1 Axes>"
      ]
     },
     "metadata": {
      "needs_background": "light"
     },
     "output_type": "display_data"
    }
   ],
   "source": [
    "region(final_data, 'jp_sales')"
   ]
  },
  {
   "cell_type": "markdown",
   "metadata": {},
   "source": [
    "В Японии огромную долю рынка занимают игры на портативные платформы. Самая популярная - 3DS занимает 2/3 рынка - 66%, PSV - 14%. Стационарные платформы занимают - менее 20%.\n",
    "Популярные жанры это Role-Playing -35.7%, Action -24%.\n",
    "Самые большие доли продаж игр приходятся на рейтинг «E» («Everyone») — «Для всех»  «M» («Mature») — «Для взрослых , «T» («Teen») — «Подросткам, «M» («Mature») — «Для взрослых .\n"
   ]
  },
  {
   "cell_type": "markdown",
   "metadata": {},
   "source": [
    "**Вывод:**\n",
    "Мы определили, что В Северной Америке любят играть на PS4, PC, Xone в игры жанра Action и Shooter. Самый популярный рейтинг у игр: «M» («Mature») — «Для взрослых.\n",
    "\n",
    "В Европе популярны игры жанра Action и Shooter на платформы PS4, PC, 3DS. Самый популярный рейтинг так же «M» («Mature») — «Для взрослых.\n",
    "\n",
    "В Японии самая популярная платформа 3DS. Самые популярные жанры Role-Playing, Action рейтинга «E» («Everyone») — «Для всех»"
   ]
  },
  {
   "cell_type": "markdown",
   "metadata": {},
   "source": [
    "\n",
    "<div class=\"alert alert-success\">\n",
    "<b>Комментарий ревьюера:</b>☀️В целом, по выводам согласна с тобой. Молодец, что пишешь их после блоков кода - это показывает твое умение интерпретировать результаты и выделять только самое важное.</div>"
   ]
  },
  {
   "cell_type": "markdown",
   "metadata": {},
   "source": [
    "## Проверка гипотез"
   ]
  },
  {
   "cell_type": "markdown",
   "metadata": {},
   "source": [
    "Следующие две гипотезы о равенстве средних двух генеральных совокупностей, значит для проверки будем использовать тест `scipy.stats.ttest_ind()`.\n",
    "Обе альтернативные гипотезы, которые мы будем проверять являются двухсторонними, поэтому параметр `alternative` указывать не будем т.к. по умолчанию — `'two-sided'`.\n"
   ]
  },
  {
   "cell_type": "markdown",
   "metadata": {},
   "source": [
    "### Средние пользовательские рейтинги платформ Xbox One и PC одинаковые"
   ]
  },
  {
   "cell_type": "markdown",
   "metadata": {},
   "source": [
    "H0: Средний пользовательский рейтинг Xbox One = Средний пользовательский рейтинг PC.\n",
    "\n",
    "H1: Средний пользовательский рейтинг Xbox One != Средний пользовательский рейтинг PC.\n",
    "\n",
    "Уровень статистической значимости: 0.05"
   ]
  },
  {
   "cell_type": "code",
   "execution_count": 47,
   "metadata": {
    "scrolled": true
   },
   "outputs": [
    {
     "name": "stdout",
     "output_type": "stream",
     "text": [
      "Cредний пользовательский рейтинг платформы Xbox One равен: 6.521428571428572\n",
      "Cредний пользовательский рейтинг платформы Pc равен: 6.4454976303317535\n",
      "p-значение: 0.6252774522173157\n",
      "Не отвергаем нулевую гипотезу\n"
     ]
    }
   ],
   "source": [
    "alpha = 0.05\n",
    "xone = topical_data.loc[topical_data.platform=='XOne','user_score'].dropna()\n",
    "pc = topical_data.loc[topical_data.platform=='PC','user_score'].dropna()\n",
    "\n",
    "results = st.ttest_ind(xone,pc)\n",
    "print('Cредний пользовательский рейтинг платформы Xbox One равен:', xone.mean())\n",
    "print('Cредний пользовательский рейтинг платформы Pc равен:', pc.mean())\n",
    "print('p-значение:', results.pvalue)\n",
    "\n",
    "if results.pvalue < alpha:\n",
    "    print('Отвергаем нулевую гипотезу')\n",
    "else:\n",
    "    print('Не отвергаем нулевую гипотезу') "
   ]
  },
  {
   "cell_type": "markdown",
   "metadata": {},
   "source": [
    "Гипотеза подтвердилась средние пользовательские рейтинги платформ Xbox One и PC одинаковые"
   ]
  },
  {
   "cell_type": "markdown",
   "metadata": {},
   "source": [
    "\n",
    "<div class=\"alert alert-success\">\n",
    "<b>Комментарий ревьюера:</b>☀️Абсолютно точно.</div>\n",
    "\n",
    "<div class=\"alert alert-warning\">\n",
    "<b>Комментарий ревьюера:</b>☀️Еще хорошая практика - выводить средние значения сравниваемых параметров, например, средний пользовательский рейтинг платформы Xbox One равен...</div>"
   ]
  },
  {
   "cell_type": "markdown",
   "metadata": {},
   "source": [
    "### Средние пользовательские рейтинги жанров Action (англ. «действие», экшен-игры) и Sports (англ. «спортивные соревнования») разные."
   ]
  },
  {
   "cell_type": "markdown",
   "metadata": {},
   "source": [
    "H0: Средний пользовательский рейтинг жанра Action  = Средний пользовательский жанра Sports.\n",
    "\n",
    "H1: Средний пользовательский рейтинг жанра Action  != Средний пользовательский жанра Sports.\n",
    "\n",
    "Уровень статистической значимости: 0.05"
   ]
  },
  {
   "cell_type": "code",
   "execution_count": 48,
   "metadata": {},
   "outputs": [
    {
     "name": "stdout",
     "output_type": "stream",
     "text": [
      "Cредний пользовательский рейтинг жанра action равен: 6.834274952919021\n",
      "Cредний пользовательский рейтинг жанра sport равен: 5.455670103092784\n",
      "p-значение: 1.4822948747024695e-26\n",
      "Отвергаем нулевую гипотезу\n"
     ]
    }
   ],
   "source": [
    "alpha = 0.05\n",
    "action = topical_data.loc[topical_data.genre=='Action','user_score'].dropna()\n",
    "sport = topical_data.loc[topical_data.genre=='Sports','user_score'].dropna()\n",
    "\n",
    "results = st.ttest_ind(action, sport)\n",
    "print('Cредний пользовательский рейтинг жанра action равен:', action.mean())\n",
    "print('Cредний пользовательский рейтинг жанра sport равен:', sport.mean())\n",
    "print('p-значение:', results.pvalue)\n",
    "\n",
    "if results.pvalue < alpha:\n",
    "    print('Отвергаем нулевую гипотезу')\n",
    "else:\n",
    "    print('Не отвергаем нулевую гипотезу') "
   ]
  },
  {
   "cell_type": "markdown",
   "metadata": {},
   "source": [
    "Гипотеза о том, что  средние пользовательские рейтинги жанров Action (англ. «действие», экшен-игры) и Sports (англ. «спортивные соревнования») разные подтвердилась."
   ]
  },
  {
   "cell_type": "markdown",
   "metadata": {},
   "source": [
    "\n",
    "<div class=\"alert alert-danger\">\n",
    "<b>Комментарий ревьюера:</b>Гипотеза не подтвердилась.</div>"
   ]
  },
  {
   "cell_type": "markdown",
   "metadata": {},
   "source": [
    "<div class=\"alert alert-info\"> <b>Комментарий студента:</b> А вот тут не совсем понятно. По заданию надо потвердеть гипотезу в том, что средние разные, т.е. альтернативную, разве не так?</div>"
   ]
  },
  {
   "cell_type": "markdown",
   "metadata": {},
   "source": [
    "\n",
    "<div class=\"alert alert-success\">\n",
    "<b>Комментарий ревьюера v2.0:</b>☀️Да, все так. Нулевые гипотезы у тебя о равенстве, вторая НУЛЕВАЯ гипотеза отвергается, это в выводе нужно явно прописать. Со статистической точки зрения нулевая гипотеза у тебя отвергается, следовательно, подвтерждается предположение о том, что рейтинги разные.</div>"
   ]
  },
  {
   "cell_type": "markdown",
   "metadata": {},
   "source": [
    "**Вывод:**\n",
    " Обе гипотезы потвердились."
   ]
  },
  {
   "cell_type": "markdown",
   "metadata": {},
   "source": [
    "## Общий вывод"
   ]
  },
  {
   "cell_type": "markdown",
   "metadata": {},
   "source": [
    "Было проведено исследование по компьютерным играм.\n",
    "Над данными была проведены следующие работы:\n",
    "- Работа над пропусками.\n",
    "- Имена колонок приведены к стандарту.\n",
    "- Изменены тип данных нескольких столбцов.\n",
    "- Создан новый столбец с общими продажами.\n",
    "\n",
    "Исследовательский анализ данных показал:\n",
    "- Больше всего игр было выпущено с 2006 по 2011. С 2012 года производства игр резко снизилось.\n",
    "- За все время самые популярные платформы  это ps2 и x360.\n",
    "- Жизненный цикл игровых платформ 8- 10 лет( исключение составляет РС)\n",
    "- Определили потенциально выгодные платформы для 2017года: PS4, XOne, PC,3DS,PSV,WiiU.\n",
    "- Что платформы имеют высокую связь между оценкой критиков и количеством продаж. Пользовательские оценки слабо влияют на продажи.\n",
    "- Самые популярные жанры Shooter,Sports и platform. Самые не популярные жанры это Puzzle и Adventure.\n",
    "\n",
    "Так же провели исследование популярности платформ, жанров, и возрастного рейтинга в трех регионах:\n",
    "- В Северной Америке любят играть на PS4, PC, Xone в игры жанра Action и Shooter. Самый популярный рейтинг у игр: «M» («Mature») — «Для взрослых.\n",
    "- В Европе популярны игры жанра Action и Shooter на платформы PS4, PC, 3DS. Самый популярный рейтинг так же «M» («Mature») — «Для взрослых.\n",
    "- В Японии самая популярная платформа 3DS. Самые популярные жанры Role-Playing, Action рейтинга «E» («Everyone») — «Для всех»\n",
    "\n",
    "Были проверены две гипотезы, и обе  подтвердились:\n",
    "- Гипотеза, что средние пользовательские рейтинги платформ Xbox One и PC одинаковые\n",
    "- Гипотеза, что средние пользовательские рейтинги жанров Action (англ. «действие», экшен-игры) и Sports (англ. «спортивные соревнования») разные.\n"
   ]
  },
  {
   "cell_type": "markdown",
   "metadata": {},
   "source": [
    "\n",
    "<div class=\"alert alert-success\">\n",
    "<b>Комментарий ревьюера:</b>☀️Спасибо за содержательный общий вывод.</div>\n",
    "\n",
    "<div class=\"alert alert-warning\">\n",
    "<b>Комментарий ревьюера:</b>☀️Сергей, спасибо тебе за твой проект. Все получилось хорошо, однако есть моменты, которые нужно доработать. Подробнее о них ты узнаешь в моих комментариях по ходу проекта. Пожалуйста, ознакомься с ними и оставь свои. Отправляю тебе проект на доработку и жду на повторное ревью ;) Успехов!</div>"
   ]
  },
  {
   "cell_type": "markdown",
   "metadata": {},
   "source": [
    "\n",
    "<div class=\"alert alert-success\">\n",
    "<b>Комментарий ревьюера v2.0:</b>☀️Сергей, спасибо тебе за корректировки, которые ты внес в проект. Сейчас все принято ;) Поздравляю тебя ! Желаю успехов на поприще аналитики!</div>"
   ]
  }
 ],
 "metadata": {
  "ExecuteTimeLog": [
   {
    "duration": 435,
    "start_time": "2023-10-30T07:04:25.928Z"
   },
   {
    "duration": 184,
    "start_time": "2023-10-30T07:05:01.906Z"
   },
   {
    "duration": 20,
    "start_time": "2023-10-30T07:05:10.504Z"
   },
   {
    "duration": 15,
    "start_time": "2023-10-30T07:05:28.204Z"
   },
   {
    "duration": 4,
    "start_time": "2023-10-30T07:17:03.629Z"
   },
   {
    "duration": 21,
    "start_time": "2023-10-30T07:17:13.408Z"
   },
   {
    "duration": 10,
    "start_time": "2023-10-30T12:51:12.361Z"
   },
   {
    "duration": 60,
    "start_time": "2023-10-30T12:52:09.239Z"
   },
   {
    "duration": 6,
    "start_time": "2023-10-30T12:53:04.165Z"
   },
   {
    "duration": 6,
    "start_time": "2023-10-30T12:54:24.963Z"
   },
   {
    "duration": 3627,
    "start_time": "2023-10-30T12:54:43.412Z"
   },
   {
    "duration": 5,
    "start_time": "2023-10-30T12:54:49.546Z"
   },
   {
    "duration": 9,
    "start_time": "2023-10-30T12:55:36.694Z"
   },
   {
    "duration": 7,
    "start_time": "2023-10-30T12:55:50.476Z"
   },
   {
    "duration": 10,
    "start_time": "2023-10-30T12:55:56.229Z"
   },
   {
    "duration": 13,
    "start_time": "2023-10-30T12:56:32.600Z"
   },
   {
    "duration": 10,
    "start_time": "2023-10-30T12:57:05.884Z"
   },
   {
    "duration": 22,
    "start_time": "2023-10-30T12:57:29.206Z"
   },
   {
    "duration": 9,
    "start_time": "2023-10-30T12:57:47.810Z"
   },
   {
    "duration": 8,
    "start_time": "2023-10-30T12:57:54.628Z"
   },
   {
    "duration": 7,
    "start_time": "2023-10-30T12:58:10.892Z"
   },
   {
    "duration": 28,
    "start_time": "2023-10-30T12:58:20.627Z"
   },
   {
    "duration": 8,
    "start_time": "2023-10-30T12:58:35.363Z"
   },
   {
    "duration": 9,
    "start_time": "2023-10-30T13:00:55.767Z"
   },
   {
    "duration": 6,
    "start_time": "2023-10-30T13:01:03.093Z"
   },
   {
    "duration": 6,
    "start_time": "2023-10-30T13:01:24.119Z"
   },
   {
    "duration": 8,
    "start_time": "2023-10-30T13:01:44.942Z"
   },
   {
    "duration": 4737,
    "start_time": "2023-10-30T13:03:39.000Z"
   },
   {
    "duration": 13,
    "start_time": "2023-10-30T13:03:47.602Z"
   },
   {
    "duration": 8,
    "start_time": "2023-10-30T13:07:18.302Z"
   },
   {
    "duration": 7,
    "start_time": "2023-10-30T13:07:46.907Z"
   },
   {
    "duration": 6,
    "start_time": "2023-10-30T13:07:59.742Z"
   },
   {
    "duration": 8,
    "start_time": "2023-10-30T13:08:14.101Z"
   },
   {
    "duration": 10,
    "start_time": "2023-10-30T13:09:01.527Z"
   },
   {
    "duration": 9,
    "start_time": "2023-10-30T13:09:18.495Z"
   },
   {
    "duration": 11,
    "start_time": "2023-10-30T13:10:25.654Z"
   },
   {
    "duration": 14,
    "start_time": "2023-10-30T13:10:46.769Z"
   },
   {
    "duration": 10,
    "start_time": "2023-10-30T13:10:55.515Z"
   },
   {
    "duration": 10,
    "start_time": "2023-10-30T13:13:46.072Z"
   },
   {
    "duration": 8,
    "start_time": "2023-10-30T13:13:53.253Z"
   },
   {
    "duration": 150,
    "start_time": "2023-10-30T13:14:08.673Z"
   },
   {
    "duration": 9,
    "start_time": "2023-10-30T13:14:12.686Z"
   },
   {
    "duration": 8,
    "start_time": "2023-10-30T13:14:23.991Z"
   },
   {
    "duration": 8,
    "start_time": "2023-10-30T13:14:37.756Z"
   },
   {
    "duration": 9,
    "start_time": "2023-10-30T13:14:54.000Z"
   },
   {
    "duration": 9,
    "start_time": "2023-10-30T13:15:01.325Z"
   },
   {
    "duration": 9,
    "start_time": "2023-10-30T13:15:07.827Z"
   },
   {
    "duration": 12,
    "start_time": "2023-10-30T13:16:48.843Z"
   },
   {
    "duration": 13,
    "start_time": "2023-10-30T13:17:17.498Z"
   },
   {
    "duration": 5,
    "start_time": "2023-10-30T13:18:10.626Z"
   },
   {
    "duration": 6,
    "start_time": "2023-10-30T13:19:27.863Z"
   },
   {
    "duration": 8,
    "start_time": "2023-10-30T13:26:31.956Z"
   },
   {
    "duration": 9,
    "start_time": "2023-10-30T13:26:39.959Z"
   },
   {
    "duration": 7,
    "start_time": "2023-10-30T13:26:58.613Z"
   },
   {
    "duration": 8,
    "start_time": "2023-10-30T13:27:30.089Z"
   },
   {
    "duration": 7,
    "start_time": "2023-10-30T13:27:50.924Z"
   },
   {
    "duration": 5,
    "start_time": "2023-10-30T13:27:58.645Z"
   },
   {
    "duration": 3,
    "start_time": "2023-10-30T13:28:10.753Z"
   },
   {
    "duration": 63,
    "start_time": "2023-10-30T13:28:10.757Z"
   },
   {
    "duration": 13,
    "start_time": "2023-10-30T13:28:10.821Z"
   },
   {
    "duration": 26,
    "start_time": "2023-10-30T13:28:10.836Z"
   },
   {
    "duration": 4,
    "start_time": "2023-10-30T13:28:10.864Z"
   },
   {
    "duration": 34,
    "start_time": "2023-10-30T13:28:10.870Z"
   },
   {
    "duration": 34,
    "start_time": "2023-10-30T13:28:10.906Z"
   },
   {
    "duration": 35,
    "start_time": "2023-10-30T13:28:10.942Z"
   },
   {
    "duration": 37,
    "start_time": "2023-10-30T13:28:10.978Z"
   },
   {
    "duration": 6,
    "start_time": "2023-10-30T13:28:14.253Z"
   },
   {
    "duration": 8,
    "start_time": "2023-10-30T13:28:18.866Z"
   },
   {
    "duration": 5,
    "start_time": "2023-10-30T13:28:21.131Z"
   },
   {
    "duration": 7,
    "start_time": "2023-10-30T13:29:48.675Z"
   },
   {
    "duration": 6,
    "start_time": "2023-10-30T13:29:50.469Z"
   },
   {
    "duration": 2,
    "start_time": "2023-10-30T13:30:24.610Z"
   },
   {
    "duration": 3,
    "start_time": "2023-10-30T13:31:17.057Z"
   },
   {
    "duration": 60,
    "start_time": "2023-10-30T13:31:17.061Z"
   },
   {
    "duration": 12,
    "start_time": "2023-10-30T13:31:17.123Z"
   },
   {
    "duration": 21,
    "start_time": "2023-10-30T13:31:17.137Z"
   },
   {
    "duration": 4,
    "start_time": "2023-10-30T13:31:17.160Z"
   },
   {
    "duration": 14,
    "start_time": "2023-10-30T13:31:17.166Z"
   },
   {
    "duration": 35,
    "start_time": "2023-10-30T13:31:17.181Z"
   },
   {
    "duration": 18,
    "start_time": "2023-10-30T13:31:17.218Z"
   },
   {
    "duration": 16,
    "start_time": "2023-10-30T13:31:17.237Z"
   },
   {
    "duration": 5,
    "start_time": "2023-10-30T13:31:19.252Z"
   },
   {
    "duration": 8,
    "start_time": "2023-10-30T13:31:21.750Z"
   },
   {
    "duration": 5,
    "start_time": "2023-10-30T13:31:23.638Z"
   },
   {
    "duration": 4,
    "start_time": "2023-10-30T13:37:24.918Z"
   },
   {
    "duration": 3,
    "start_time": "2023-10-30T13:56:45.356Z"
   },
   {
    "duration": 110,
    "start_time": "2023-10-30T13:56:45.361Z"
   },
   {
    "duration": 13,
    "start_time": "2023-10-30T13:56:45.473Z"
   },
   {
    "duration": 60,
    "start_time": "2023-10-30T13:56:45.488Z"
   },
   {
    "duration": 23,
    "start_time": "2023-10-30T13:56:45.550Z"
   },
   {
    "duration": 23,
    "start_time": "2023-10-30T13:56:45.575Z"
   },
   {
    "duration": 49,
    "start_time": "2023-10-30T13:56:45.599Z"
   },
   {
    "duration": 43,
    "start_time": "2023-10-30T13:56:45.650Z"
   },
   {
    "duration": 27,
    "start_time": "2023-10-30T13:56:45.695Z"
   },
   {
    "duration": 16,
    "start_time": "2023-10-30T13:56:45.724Z"
   },
   {
    "duration": 38,
    "start_time": "2023-10-30T13:56:45.742Z"
   },
   {
    "duration": 38,
    "start_time": "2023-10-30T13:56:45.782Z"
   },
   {
    "duration": 19,
    "start_time": "2023-10-30T13:57:21.383Z"
   },
   {
    "duration": 11,
    "start_time": "2023-10-30T13:57:32.091Z"
   },
   {
    "duration": 22,
    "start_time": "2023-10-30T13:57:35.639Z"
   },
   {
    "duration": 8,
    "start_time": "2023-10-30T13:58:18.279Z"
   },
   {
    "duration": 16,
    "start_time": "2023-10-30T13:58:28.183Z"
   },
   {
    "duration": 23,
    "start_time": "2023-10-30T14:09:16.567Z"
   },
   {
    "duration": 15,
    "start_time": "2023-10-30T14:10:22.379Z"
   },
   {
    "duration": 15,
    "start_time": "2023-10-30T14:14:08.503Z"
   },
   {
    "duration": 14,
    "start_time": "2023-10-30T14:14:25.014Z"
   },
   {
    "duration": 16,
    "start_time": "2023-10-30T14:14:39.739Z"
   },
   {
    "duration": 105,
    "start_time": "2023-10-30T14:15:43.503Z"
   },
   {
    "duration": 1529,
    "start_time": "2023-10-30T14:22:32.042Z"
   },
   {
    "duration": 2054,
    "start_time": "2023-10-30T14:22:58.854Z"
   },
   {
    "duration": 2899,
    "start_time": "2023-10-30T14:23:22.605Z"
   },
   {
    "duration": 20,
    "start_time": "2023-10-30T14:23:37.225Z"
   },
   {
    "duration": 2,
    "start_time": "2023-10-30T14:23:58.388Z"
   },
   {
    "duration": 89,
    "start_time": "2023-10-30T14:23:58.392Z"
   },
   {
    "duration": 48,
    "start_time": "2023-10-30T14:23:58.483Z"
   },
   {
    "duration": 30,
    "start_time": "2023-10-30T14:23:58.533Z"
   },
   {
    "duration": 27,
    "start_time": "2023-10-30T14:23:58.565Z"
   },
   {
    "duration": 36,
    "start_time": "2023-10-30T14:23:58.594Z"
   },
   {
    "duration": 43,
    "start_time": "2023-10-30T14:23:58.632Z"
   },
   {
    "duration": 27,
    "start_time": "2023-10-30T14:23:58.676Z"
   },
   {
    "duration": 26,
    "start_time": "2023-10-30T14:23:58.705Z"
   },
   {
    "duration": 18,
    "start_time": "2023-10-30T14:23:58.733Z"
   },
   {
    "duration": 55,
    "start_time": "2023-10-30T14:23:58.753Z"
   },
   {
    "duration": 30,
    "start_time": "2023-10-30T14:23:58.810Z"
   },
   {
    "duration": 38,
    "start_time": "2023-10-30T14:23:58.842Z"
   },
   {
    "duration": 21,
    "start_time": "2023-10-30T14:24:12.935Z"
   },
   {
    "duration": 14,
    "start_time": "2023-10-30T14:24:42.001Z"
   },
   {
    "duration": 13,
    "start_time": "2023-10-30T14:24:53.126Z"
   },
   {
    "duration": 17,
    "start_time": "2023-10-30T14:25:09.033Z"
   },
   {
    "duration": 12,
    "start_time": "2023-10-30T14:25:19.831Z"
   },
   {
    "duration": 13,
    "start_time": "2023-10-30T14:25:34.383Z"
   },
   {
    "duration": 18,
    "start_time": "2023-10-30T14:29:54.373Z"
   },
   {
    "duration": 14,
    "start_time": "2023-10-30T14:29:58.802Z"
   },
   {
    "duration": 3,
    "start_time": "2023-10-30T14:30:19.175Z"
   },
   {
    "duration": 63,
    "start_time": "2023-10-30T14:30:19.179Z"
   },
   {
    "duration": 13,
    "start_time": "2023-10-30T14:30:19.244Z"
   },
   {
    "duration": 21,
    "start_time": "2023-10-30T14:30:19.259Z"
   },
   {
    "duration": 4,
    "start_time": "2023-10-30T14:30:19.282Z"
   },
   {
    "duration": 18,
    "start_time": "2023-10-30T14:30:19.287Z"
   },
   {
    "duration": 15,
    "start_time": "2023-10-30T14:30:19.307Z"
   },
   {
    "duration": 24,
    "start_time": "2023-10-30T14:30:19.323Z"
   },
   {
    "duration": 15,
    "start_time": "2023-10-30T14:30:19.349Z"
   },
   {
    "duration": 5,
    "start_time": "2023-10-30T14:30:19.366Z"
   },
   {
    "duration": 12,
    "start_time": "2023-10-30T14:30:19.372Z"
   },
   {
    "duration": 5,
    "start_time": "2023-10-30T14:30:19.386Z"
   },
   {
    "duration": 19,
    "start_time": "2023-10-30T14:30:19.393Z"
   },
   {
    "duration": 42,
    "start_time": "2023-10-30T14:30:19.414Z"
   },
   {
    "duration": 30,
    "start_time": "2023-10-30T14:30:24.020Z"
   },
   {
    "duration": 14,
    "start_time": "2023-10-30T14:30:30.690Z"
   },
   {
    "duration": 3,
    "start_time": "2023-10-30T14:30:47.904Z"
   },
   {
    "duration": 107,
    "start_time": "2023-10-30T14:30:47.908Z"
   },
   {
    "duration": 14,
    "start_time": "2023-10-30T14:30:48.017Z"
   },
   {
    "duration": 53,
    "start_time": "2023-10-30T14:30:48.033Z"
   },
   {
    "duration": 24,
    "start_time": "2023-10-30T14:30:48.088Z"
   },
   {
    "duration": 49,
    "start_time": "2023-10-30T14:30:48.114Z"
   },
   {
    "duration": 28,
    "start_time": "2023-10-30T14:30:48.165Z"
   },
   {
    "duration": 34,
    "start_time": "2023-10-30T14:30:48.195Z"
   },
   {
    "duration": 11,
    "start_time": "2023-10-30T14:30:54.701Z"
   },
   {
    "duration": 5,
    "start_time": "2023-10-30T14:30:57.117Z"
   },
   {
    "duration": 9,
    "start_time": "2023-10-30T14:31:00.705Z"
   },
   {
    "duration": 5,
    "start_time": "2023-10-30T14:31:03.774Z"
   },
   {
    "duration": 18,
    "start_time": "2023-10-30T14:31:08.679Z"
   },
   {
    "duration": 15,
    "start_time": "2023-10-30T14:31:20.565Z"
   },
   {
    "duration": 3,
    "start_time": "2023-10-30T14:31:58.551Z"
   },
   {
    "duration": 78,
    "start_time": "2023-10-30T14:31:58.556Z"
   },
   {
    "duration": 14,
    "start_time": "2023-10-30T14:31:58.635Z"
   },
   {
    "duration": 37,
    "start_time": "2023-10-30T14:31:58.651Z"
   },
   {
    "duration": 21,
    "start_time": "2023-10-30T14:31:58.690Z"
   },
   {
    "duration": 31,
    "start_time": "2023-10-30T14:31:58.712Z"
   },
   {
    "duration": 43,
    "start_time": "2023-10-30T14:31:58.745Z"
   },
   {
    "duration": 14,
    "start_time": "2023-10-30T14:32:04.506Z"
   },
   {
    "duration": 11,
    "start_time": "2023-10-30T14:32:06.263Z"
   },
   {
    "duration": 10,
    "start_time": "2023-10-30T14:32:08.958Z"
   },
   {
    "duration": 5,
    "start_time": "2023-10-30T14:32:12.794Z"
   },
   {
    "duration": 14,
    "start_time": "2023-10-30T14:32:16.208Z"
   },
   {
    "duration": 13,
    "start_time": "2023-10-30T14:32:20.438Z"
   },
   {
    "duration": 9,
    "start_time": "2023-10-30T14:32:33.944Z"
   },
   {
    "duration": 5,
    "start_time": "2023-10-30T14:32:38.260Z"
   },
   {
    "duration": 8,
    "start_time": "2023-10-30T14:32:41.390Z"
   },
   {
    "duration": 6,
    "start_time": "2023-10-30T14:32:43.675Z"
   },
   {
    "duration": 20,
    "start_time": "2023-10-30T14:32:47.033Z"
   },
   {
    "duration": 16,
    "start_time": "2023-10-30T14:33:06.896Z"
   },
   {
    "duration": 21,
    "start_time": "2023-10-30T14:34:11.753Z"
   },
   {
    "duration": 5,
    "start_time": "2023-10-30T14:34:50.325Z"
   },
   {
    "duration": 13,
    "start_time": "2023-10-30T14:34:59.150Z"
   },
   {
    "duration": 14,
    "start_time": "2023-10-30T14:35:02.671Z"
   },
   {
    "duration": 10,
    "start_time": "2023-10-30T14:35:06.299Z"
   },
   {
    "duration": 18,
    "start_time": "2023-10-30T14:35:09.443Z"
   },
   {
    "duration": 15,
    "start_time": "2023-10-30T14:35:26.096Z"
   },
   {
    "duration": 9,
    "start_time": "2023-10-30T14:36:05.287Z"
   },
   {
    "duration": 368,
    "start_time": "2023-10-30T14:36:25.586Z"
   },
   {
    "duration": 54,
    "start_time": "2023-10-30T14:36:25.956Z"
   },
   {
    "duration": 26,
    "start_time": "2023-10-30T14:36:26.012Z"
   },
   {
    "duration": 44,
    "start_time": "2023-10-30T14:36:26.040Z"
   },
   {
    "duration": 25,
    "start_time": "2023-10-30T14:36:26.086Z"
   },
   {
    "duration": 35,
    "start_time": "2023-10-30T14:36:26.112Z"
   },
   {
    "duration": 13,
    "start_time": "2023-10-30T14:36:26.149Z"
   },
   {
    "duration": 25,
    "start_time": "2023-10-30T14:36:26.163Z"
   },
   {
    "duration": 16,
    "start_time": "2023-10-30T14:36:26.190Z"
   },
   {
    "duration": 7,
    "start_time": "2023-10-30T14:36:26.208Z"
   },
   {
    "duration": 10,
    "start_time": "2023-10-30T14:36:26.217Z"
   },
   {
    "duration": 16,
    "start_time": "2023-10-30T14:36:26.229Z"
   },
   {
    "duration": 34,
    "start_time": "2023-10-30T14:36:26.247Z"
   },
   {
    "duration": 16,
    "start_time": "2023-10-30T14:36:26.283Z"
   },
   {
    "duration": 89,
    "start_time": "2023-10-30T14:36:26.301Z"
   },
   {
    "duration": 2,
    "start_time": "2023-10-30T14:36:41.306Z"
   },
   {
    "duration": 61,
    "start_time": "2023-10-30T14:36:41.310Z"
   },
   {
    "duration": 20,
    "start_time": "2023-10-30T14:36:41.373Z"
   },
   {
    "duration": 18,
    "start_time": "2023-10-30T14:36:41.395Z"
   },
   {
    "duration": 5,
    "start_time": "2023-10-30T14:36:41.415Z"
   },
   {
    "duration": 29,
    "start_time": "2023-10-30T14:36:41.422Z"
   },
   {
    "duration": 13,
    "start_time": "2023-10-30T14:36:41.453Z"
   },
   {
    "duration": 12,
    "start_time": "2023-10-30T14:36:41.468Z"
   },
   {
    "duration": 16,
    "start_time": "2023-10-30T14:36:41.482Z"
   },
   {
    "duration": 5,
    "start_time": "2023-10-30T14:36:41.500Z"
   },
   {
    "duration": 21,
    "start_time": "2023-10-30T14:36:41.507Z"
   },
   {
    "duration": 23,
    "start_time": "2023-10-30T14:36:41.530Z"
   },
   {
    "duration": 20,
    "start_time": "2023-10-30T14:36:46.108Z"
   },
   {
    "duration": 2,
    "start_time": "2023-10-30T14:36:59.678Z"
   },
   {
    "duration": 63,
    "start_time": "2023-10-30T14:36:59.682Z"
   },
   {
    "duration": 19,
    "start_time": "2023-10-30T14:36:59.747Z"
   },
   {
    "duration": 27,
    "start_time": "2023-10-30T14:36:59.768Z"
   },
   {
    "duration": 3,
    "start_time": "2023-10-30T14:36:59.797Z"
   },
   {
    "duration": 34,
    "start_time": "2023-10-30T14:36:59.801Z"
   },
   {
    "duration": 15,
    "start_time": "2023-10-30T14:36:59.837Z"
   },
   {
    "duration": 38,
    "start_time": "2023-10-30T14:36:59.854Z"
   },
   {
    "duration": 11,
    "start_time": "2023-10-30T14:36:59.894Z"
   },
   {
    "duration": 16,
    "start_time": "2023-10-30T14:36:59.907Z"
   },
   {
    "duration": 10,
    "start_time": "2023-10-30T14:36:59.925Z"
   },
   {
    "duration": 25,
    "start_time": "2023-10-30T14:36:59.936Z"
   },
   {
    "duration": 11,
    "start_time": "2023-10-30T14:37:10.344Z"
   },
   {
    "duration": 8,
    "start_time": "2023-10-30T14:37:14.845Z"
   },
   {
    "duration": 9,
    "start_time": "2023-10-30T14:37:17.346Z"
   },
   {
    "duration": 21,
    "start_time": "2023-10-30T14:37:27.825Z"
   },
   {
    "duration": 2,
    "start_time": "2023-10-30T14:37:34.662Z"
   },
   {
    "duration": 96,
    "start_time": "2023-10-30T14:37:34.667Z"
   },
   {
    "duration": 20,
    "start_time": "2023-10-30T14:37:34.765Z"
   },
   {
    "duration": 48,
    "start_time": "2023-10-30T14:37:34.787Z"
   },
   {
    "duration": 29,
    "start_time": "2023-10-30T14:37:34.838Z"
   },
   {
    "duration": 48,
    "start_time": "2023-10-30T14:37:34.869Z"
   },
   {
    "duration": 54,
    "start_time": "2023-10-30T14:37:34.918Z"
   },
   {
    "duration": 53,
    "start_time": "2023-10-30T14:37:34.974Z"
   },
   {
    "duration": 38,
    "start_time": "2023-10-30T14:37:35.029Z"
   },
   {
    "duration": 47,
    "start_time": "2023-10-30T14:37:35.068Z"
   },
   {
    "duration": 48,
    "start_time": "2023-10-30T14:37:35.116Z"
   },
   {
    "duration": 28,
    "start_time": "2023-10-30T14:37:35.166Z"
   },
   {
    "duration": 18,
    "start_time": "2023-10-30T14:37:38.739Z"
   },
   {
    "duration": 3,
    "start_time": "2023-10-30T14:37:48.623Z"
   },
   {
    "duration": 63,
    "start_time": "2023-10-30T14:37:48.627Z"
   },
   {
    "duration": 20,
    "start_time": "2023-10-30T14:37:48.691Z"
   },
   {
    "duration": 32,
    "start_time": "2023-10-30T14:37:48.712Z"
   },
   {
    "duration": 10,
    "start_time": "2023-10-30T14:37:48.746Z"
   },
   {
    "duration": 28,
    "start_time": "2023-10-30T14:37:48.757Z"
   },
   {
    "duration": 18,
    "start_time": "2023-10-30T14:37:48.787Z"
   },
   {
    "duration": 30,
    "start_time": "2023-10-30T14:37:48.806Z"
   },
   {
    "duration": 12,
    "start_time": "2023-10-30T14:37:50.865Z"
   },
   {
    "duration": 21,
    "start_time": "2023-10-30T14:37:58.324Z"
   },
   {
    "duration": 5,
    "start_time": "2023-10-30T14:38:07.623Z"
   },
   {
    "duration": 19,
    "start_time": "2023-10-30T14:38:14.626Z"
   },
   {
    "duration": 7,
    "start_time": "2023-10-30T14:38:25.237Z"
   },
   {
    "duration": 19,
    "start_time": "2023-10-30T14:38:28.371Z"
   },
   {
    "duration": 2,
    "start_time": "2023-10-30T14:38:37.947Z"
   },
   {
    "duration": 64,
    "start_time": "2023-10-30T14:38:37.951Z"
   },
   {
    "duration": 21,
    "start_time": "2023-10-30T14:38:38.016Z"
   },
   {
    "duration": 16,
    "start_time": "2023-10-30T14:38:38.039Z"
   },
   {
    "duration": 4,
    "start_time": "2023-10-30T14:38:38.058Z"
   },
   {
    "duration": 17,
    "start_time": "2023-10-30T14:38:38.063Z"
   },
   {
    "duration": 10,
    "start_time": "2023-10-30T14:38:38.082Z"
   },
   {
    "duration": 13,
    "start_time": "2023-10-30T14:38:38.093Z"
   },
   {
    "duration": 36,
    "start_time": "2023-10-30T14:38:38.108Z"
   },
   {
    "duration": 5,
    "start_time": "2023-10-30T14:38:38.146Z"
   },
   {
    "duration": 6,
    "start_time": "2023-10-30T14:38:47.297Z"
   },
   {
    "duration": 4,
    "start_time": "2023-10-30T14:38:54.719Z"
   },
   {
    "duration": 5,
    "start_time": "2023-10-30T14:38:57.866Z"
   },
   {
    "duration": 20,
    "start_time": "2023-10-30T14:39:00.888Z"
   },
   {
    "duration": 17,
    "start_time": "2023-10-30T14:39:03.863Z"
   },
   {
    "duration": 13,
    "start_time": "2023-10-30T14:39:20.510Z"
   },
   {
    "duration": 14,
    "start_time": "2023-10-30T14:39:38.217Z"
   },
   {
    "duration": 71,
    "start_time": "2023-10-30T14:40:51.283Z"
   },
   {
    "duration": 12,
    "start_time": "2023-10-30T14:41:54.911Z"
   },
   {
    "duration": 11,
    "start_time": "2023-10-30T14:42:29.202Z"
   },
   {
    "duration": 7,
    "start_time": "2023-10-30T14:42:40.782Z"
   },
   {
    "duration": 12,
    "start_time": "2023-10-30T14:42:48.414Z"
   },
   {
    "duration": 9,
    "start_time": "2023-10-30T14:48:50.818Z"
   },
   {
    "duration": 13,
    "start_time": "2023-10-30T14:48:56.708Z"
   },
   {
    "duration": 16,
    "start_time": "2023-10-30T14:49:09.167Z"
   },
   {
    "duration": 15,
    "start_time": "2023-10-30T14:49:19.427Z"
   },
   {
    "duration": 2,
    "start_time": "2023-10-30T14:49:49.903Z"
   },
   {
    "duration": 65,
    "start_time": "2023-10-30T14:49:49.908Z"
   },
   {
    "duration": 20,
    "start_time": "2023-10-30T14:49:49.975Z"
   },
   {
    "duration": 48,
    "start_time": "2023-10-30T14:49:49.996Z"
   },
   {
    "duration": 61,
    "start_time": "2023-10-30T14:49:50.046Z"
   },
   {
    "duration": 38,
    "start_time": "2023-10-30T14:49:50.108Z"
   },
   {
    "duration": 43,
    "start_time": "2023-10-30T14:49:50.148Z"
   },
   {
    "duration": 24,
    "start_time": "2023-10-30T14:49:50.193Z"
   },
   {
    "duration": 17,
    "start_time": "2023-10-30T14:49:50.218Z"
   },
   {
    "duration": 15,
    "start_time": "2023-10-30T14:49:50.236Z"
   },
   {
    "duration": 7,
    "start_time": "2023-10-30T14:49:50.252Z"
   },
   {
    "duration": 17,
    "start_time": "2023-10-30T14:49:50.261Z"
   },
   {
    "duration": 31,
    "start_time": "2023-10-30T14:49:50.280Z"
   },
   {
    "duration": 16,
    "start_time": "2023-10-30T14:49:50.314Z"
   },
   {
    "duration": 99,
    "start_time": "2023-10-30T14:49:50.331Z"
   },
   {
    "duration": 443,
    "start_time": "2023-10-30T14:54:13.360Z"
   },
   {
    "duration": 1955,
    "start_time": "2023-10-30T14:58:26.569Z"
   },
   {
    "duration": 236,
    "start_time": "2023-10-30T14:58:52.973Z"
   },
   {
    "duration": 252,
    "start_time": "2023-10-30T15:01:17.364Z"
   },
   {
    "duration": 93,
    "start_time": "2023-10-30T15:03:05.737Z"
   },
   {
    "duration": 1643,
    "start_time": "2023-10-30T15:03:39.073Z"
   },
   {
    "duration": 244,
    "start_time": "2023-10-30T15:04:56.757Z"
   },
   {
    "duration": 12,
    "start_time": "2023-10-30T15:05:21.799Z"
   },
   {
    "duration": 97,
    "start_time": "2023-10-30T15:05:36.683Z"
   },
   {
    "duration": 2231,
    "start_time": "2023-10-30T15:05:42.084Z"
   },
   {
    "duration": 142,
    "start_time": "2023-10-30T15:06:16.395Z"
   },
   {
    "duration": 10,
    "start_time": "2023-10-30T15:06:26.459Z"
   },
   {
    "duration": 249,
    "start_time": "2023-10-30T15:06:51.238Z"
   },
   {
    "duration": 142,
    "start_time": "2023-10-30T15:08:31.784Z"
   },
   {
    "duration": 1674,
    "start_time": "2023-10-30T15:08:41.859Z"
   },
   {
    "duration": 20,
    "start_time": "2023-10-30T15:09:12.142Z"
   },
   {
    "duration": 18,
    "start_time": "2023-10-30T15:14:52.492Z"
   },
   {
    "duration": 3,
    "start_time": "2023-10-30T15:15:08.765Z"
   },
   {
    "duration": 56,
    "start_time": "2023-10-30T15:15:08.769Z"
   },
   {
    "duration": 20,
    "start_time": "2023-10-30T15:15:08.827Z"
   },
   {
    "duration": 23,
    "start_time": "2023-10-30T15:15:08.849Z"
   },
   {
    "duration": 17,
    "start_time": "2023-10-30T15:15:08.874Z"
   },
   {
    "duration": 29,
    "start_time": "2023-10-30T15:15:08.892Z"
   },
   {
    "duration": 22,
    "start_time": "2023-10-30T15:15:08.923Z"
   },
   {
    "duration": 20,
    "start_time": "2023-10-30T15:15:08.946Z"
   },
   {
    "duration": 30,
    "start_time": "2023-10-30T15:15:08.967Z"
   },
   {
    "duration": 29,
    "start_time": "2023-10-30T15:15:08.998Z"
   },
   {
    "duration": 15,
    "start_time": "2023-10-30T15:15:09.029Z"
   },
   {
    "duration": 18,
    "start_time": "2023-10-30T15:15:09.046Z"
   },
   {
    "duration": 28,
    "start_time": "2023-10-30T15:15:09.066Z"
   },
   {
    "duration": 17,
    "start_time": "2023-10-30T15:15:12.506Z"
   },
   {
    "duration": 119,
    "start_time": "2023-10-30T15:16:58.121Z"
   },
   {
    "duration": 66,
    "start_time": "2023-10-30T15:17:09.668Z"
   },
   {
    "duration": 8,
    "start_time": "2023-10-30T15:17:36.866Z"
   },
   {
    "duration": 7,
    "start_time": "2023-10-30T15:17:40.360Z"
   },
   {
    "duration": 7,
    "start_time": "2023-10-30T15:17:52.490Z"
   },
   {
    "duration": 7,
    "start_time": "2023-10-30T15:17:59.449Z"
   },
   {
    "duration": 18,
    "start_time": "2023-10-30T15:18:29.033Z"
   },
   {
    "duration": 16,
    "start_time": "2023-10-30T15:18:57.866Z"
   },
   {
    "duration": 23,
    "start_time": "2023-10-30T15:20:36.306Z"
   },
   {
    "duration": 22,
    "start_time": "2023-10-30T15:21:34.479Z"
   },
   {
    "duration": 12,
    "start_time": "2023-10-30T15:23:41.783Z"
   },
   {
    "duration": 11,
    "start_time": "2023-10-30T15:24:43.123Z"
   },
   {
    "duration": 13,
    "start_time": "2023-10-30T15:25:45.947Z"
   },
   {
    "duration": 16,
    "start_time": "2023-10-30T15:26:03.951Z"
   },
   {
    "duration": 22,
    "start_time": "2023-10-30T15:26:53.625Z"
   },
   {
    "duration": 28,
    "start_time": "2023-10-30T15:27:12.197Z"
   },
   {
    "duration": 22,
    "start_time": "2023-10-30T15:27:53.615Z"
   },
   {
    "duration": 2310,
    "start_time": "2023-10-30T15:28:14.849Z"
   },
   {
    "duration": 23,
    "start_time": "2023-10-30T15:28:36.564Z"
   },
   {
    "duration": 16,
    "start_time": "2023-10-30T15:28:59.832Z"
   },
   {
    "duration": 29,
    "start_time": "2023-10-30T15:29:32.705Z"
   },
   {
    "duration": 15,
    "start_time": "2023-10-30T15:30:07.458Z"
   },
   {
    "duration": 28705,
    "start_time": "2023-10-30T15:30:30.998Z"
   },
   {
    "duration": 16,
    "start_time": "2023-10-30T15:31:07.202Z"
   },
   {
    "duration": 18,
    "start_time": "2023-10-30T15:31:10.721Z"
   },
   {
    "duration": 28857,
    "start_time": "2023-10-30T15:31:28.009Z"
   },
   {
    "duration": 16,
    "start_time": "2023-10-30T15:31:59.780Z"
   },
   {
    "duration": 16,
    "start_time": "2023-10-30T15:32:02.273Z"
   },
   {
    "duration": 5,
    "start_time": "2023-10-30T15:33:33.490Z"
   },
   {
    "duration": 28920,
    "start_time": "2023-10-30T15:33:56.237Z"
   },
   {
    "duration": 5,
    "start_time": "2023-10-30T15:34:29.119Z"
   },
   {
    "duration": 4,
    "start_time": "2023-10-30T15:34:32.554Z"
   },
   {
    "duration": 16,
    "start_time": "2023-10-30T15:34:35.160Z"
   },
   {
    "duration": 24,
    "start_time": "2023-10-30T15:35:26.316Z"
   },
   {
    "duration": 28901,
    "start_time": "2023-10-30T15:35:59.240Z"
   },
   {
    "duration": 20,
    "start_time": "2023-10-30T15:36:33.044Z"
   },
   {
    "duration": 4,
    "start_time": "2023-10-30T15:36:39.601Z"
   },
   {
    "duration": 1708,
    "start_time": "2023-10-30T15:37:40.812Z"
   },
   {
    "duration": 1880,
    "start_time": "2023-10-30T15:38:00.818Z"
   },
   {
    "duration": 11,
    "start_time": "2023-10-30T15:40:14.400Z"
   },
   {
    "duration": 6,
    "start_time": "2023-10-30T15:40:24.328Z"
   },
   {
    "duration": 5,
    "start_time": "2023-10-30T15:40:36.943Z"
   },
   {
    "duration": 8,
    "start_time": "2023-10-30T15:40:55.438Z"
   },
   {
    "duration": 4,
    "start_time": "2023-10-30T15:41:14.872Z"
   },
   {
    "duration": 29568,
    "start_time": "2023-10-30T15:41:46.732Z"
   },
   {
    "duration": 5,
    "start_time": "2023-10-30T15:42:17.828Z"
   },
   {
    "duration": 4,
    "start_time": "2023-10-30T15:42:20.280Z"
   },
   {
    "duration": 15,
    "start_time": "2023-10-30T15:42:38.686Z"
   },
   {
    "duration": 28931,
    "start_time": "2023-10-30T15:43:34.353Z"
   },
   {
    "duration": 28704,
    "start_time": "2023-10-30T15:46:07.280Z"
   },
   {
    "duration": 4,
    "start_time": "2023-10-30T15:46:41.731Z"
   },
   {
    "duration": 3,
    "start_time": "2023-10-30T15:46:55.480Z"
   },
   {
    "duration": 17,
    "start_time": "2023-10-30T15:46:59.749Z"
   },
   {
    "duration": 9,
    "start_time": "2023-10-30T15:48:37.837Z"
   },
   {
    "duration": 10,
    "start_time": "2023-10-30T15:48:56.277Z"
   },
   {
    "duration": 36,
    "start_time": "2023-10-30T15:49:17.411Z"
   },
   {
    "duration": 18,
    "start_time": "2023-10-30T15:49:58.641Z"
   },
   {
    "duration": 18,
    "start_time": "2023-10-30T15:50:20.295Z"
   },
   {
    "duration": 19,
    "start_time": "2023-10-30T15:50:33.357Z"
   },
   {
    "duration": 18,
    "start_time": "2023-10-30T15:50:50.316Z"
   },
   {
    "duration": 21,
    "start_time": "2023-10-30T15:51:12.626Z"
   },
   {
    "duration": 21,
    "start_time": "2023-10-30T15:51:18.518Z"
   },
   {
    "duration": 25,
    "start_time": "2023-10-30T15:51:29.158Z"
   },
   {
    "duration": 19,
    "start_time": "2023-10-30T15:51:56.519Z"
   },
   {
    "duration": 19,
    "start_time": "2023-10-30T15:52:49.666Z"
   },
   {
    "duration": 21,
    "start_time": "2023-10-30T15:52:52.930Z"
   },
   {
    "duration": 21,
    "start_time": "2023-10-30T15:52:59.188Z"
   },
   {
    "duration": 18,
    "start_time": "2023-10-30T15:53:02.610Z"
   },
   {
    "duration": 93,
    "start_time": "2023-10-30T15:53:17.292Z"
   },
   {
    "duration": 20,
    "start_time": "2023-10-30T15:53:34.821Z"
   },
   {
    "duration": 15,
    "start_time": "2023-10-30T15:53:42.976Z"
   },
   {
    "duration": 18,
    "start_time": "2023-10-30T15:54:01.156Z"
   },
   {
    "duration": 18,
    "start_time": "2023-10-30T15:54:29.083Z"
   },
   {
    "duration": 15,
    "start_time": "2023-10-30T15:54:41.566Z"
   },
   {
    "duration": 16,
    "start_time": "2023-10-30T15:54:53.811Z"
   },
   {
    "duration": 4,
    "start_time": "2023-10-30T15:54:57.574Z"
   },
   {
    "duration": 5,
    "start_time": "2023-10-30T15:55:09.517Z"
   },
   {
    "duration": 15,
    "start_time": "2023-10-30T15:55:37.404Z"
   },
   {
    "duration": 15,
    "start_time": "2023-10-30T15:56:14.891Z"
   },
   {
    "duration": 17,
    "start_time": "2023-10-30T15:56:32.494Z"
   },
   {
    "duration": 14,
    "start_time": "2023-10-30T15:57:24.445Z"
   },
   {
    "duration": 17,
    "start_time": "2023-10-30T15:57:53.732Z"
   },
   {
    "duration": 1658,
    "start_time": "2023-10-30T15:58:19.155Z"
   },
   {
    "duration": 4,
    "start_time": "2023-10-30T15:58:58.009Z"
   },
   {
    "duration": 19,
    "start_time": "2023-10-30T15:59:05.805Z"
   },
   {
    "duration": 4,
    "start_time": "2023-10-30T15:59:09.474Z"
   },
   {
    "duration": 4,
    "start_time": "2023-10-30T15:59:11.982Z"
   },
   {
    "duration": 21,
    "start_time": "2023-10-30T15:59:32.892Z"
   },
   {
    "duration": 18,
    "start_time": "2023-10-30T16:00:36.167Z"
   },
   {
    "duration": 4,
    "start_time": "2023-10-30T16:00:38.567Z"
   },
   {
    "duration": 4,
    "start_time": "2023-10-30T16:00:45.126Z"
   },
   {
    "duration": 18,
    "start_time": "2023-10-30T16:00:47.495Z"
   },
   {
    "duration": 4,
    "start_time": "2023-10-30T16:00:51.405Z"
   },
   {
    "duration": 16,
    "start_time": "2023-10-30T16:00:55.466Z"
   },
   {
    "duration": 18,
    "start_time": "2023-10-30T16:01:15.734Z"
   },
   {
    "duration": 4,
    "start_time": "2023-10-30T16:01:18.471Z"
   },
   {
    "duration": 20,
    "start_time": "2023-10-30T16:01:56.963Z"
   },
   {
    "duration": 29473,
    "start_time": "2023-10-30T16:02:08.480Z"
   },
   {
    "duration": 5,
    "start_time": "2023-10-30T16:03:06.334Z"
   },
   {
    "duration": 35828,
    "start_time": "2023-10-30T16:03:22.004Z"
   },
   {
    "duration": 26,
    "start_time": "2023-10-30T16:07:31.545Z"
   },
   {
    "duration": 1617,
    "start_time": "2023-10-30T16:13:38.960Z"
   },
   {
    "duration": 9,
    "start_time": "2023-10-30T16:13:55.677Z"
   },
   {
    "duration": 16,
    "start_time": "2023-10-30T16:14:01.166Z"
   },
   {
    "duration": 1478,
    "start_time": "2023-10-30T16:14:32.867Z"
   },
   {
    "duration": 2787,
    "start_time": "2023-10-30T16:14:53.183Z"
   },
   {
    "duration": 186,
    "start_time": "2023-10-30T16:15:06.284Z"
   },
   {
    "duration": 3604,
    "start_time": "2023-10-30T16:15:18.275Z"
   },
   {
    "duration": 2776,
    "start_time": "2023-10-30T16:15:39.342Z"
   },
   {
    "duration": 3,
    "start_time": "2023-10-30T16:15:53.445Z"
   },
   {
    "duration": 4,
    "start_time": "2023-10-30T16:15:57.395Z"
   },
   {
    "duration": 430,
    "start_time": "2023-10-30T16:17:31.223Z"
   },
   {
    "duration": 4,
    "start_time": "2023-10-30T16:17:34.691Z"
   },
   {
    "duration": 4,
    "start_time": "2023-10-30T16:18:10.686Z"
   },
   {
    "duration": 15,
    "start_time": "2023-10-30T16:18:53.164Z"
   },
   {
    "duration": 76,
    "start_time": "2023-10-30T16:19:24.422Z"
   },
   {
    "duration": 22,
    "start_time": "2023-10-30T16:19:36.414Z"
   },
   {
    "duration": 6,
    "start_time": "2023-10-30T16:22:16.824Z"
   },
   {
    "duration": 10,
    "start_time": "2023-10-30T16:23:52.551Z"
   },
   {
    "duration": 1664,
    "start_time": "2023-10-30T16:24:04.940Z"
   },
   {
    "duration": 8,
    "start_time": "2023-10-30T16:24:27.674Z"
   },
   {
    "duration": 7,
    "start_time": "2023-10-30T16:24:51.303Z"
   },
   {
    "duration": 91,
    "start_time": "2023-10-30T16:25:19.029Z"
   },
   {
    "duration": 9,
    "start_time": "2023-10-30T16:25:22.816Z"
   },
   {
    "duration": 6,
    "start_time": "2023-10-30T16:25:37.984Z"
   },
   {
    "duration": 1551,
    "start_time": "2023-10-30T16:26:10.180Z"
   },
   {
    "duration": 6,
    "start_time": "2023-10-30T16:26:17.266Z"
   },
   {
    "duration": 8,
    "start_time": "2023-10-30T16:26:24.267Z"
   },
   {
    "duration": 7,
    "start_time": "2023-10-30T16:26:30.683Z"
   },
   {
    "duration": 7,
    "start_time": "2023-10-30T16:26:40.906Z"
   },
   {
    "duration": 8,
    "start_time": "2023-10-30T16:26:46.285Z"
   },
   {
    "duration": 7,
    "start_time": "2023-10-30T16:26:56.708Z"
   },
   {
    "duration": 7,
    "start_time": "2023-10-30T16:27:01.968Z"
   },
   {
    "duration": 7,
    "start_time": "2023-10-30T16:27:10.147Z"
   },
   {
    "duration": 15,
    "start_time": "2023-10-30T16:28:06.229Z"
   },
   {
    "duration": 7,
    "start_time": "2023-10-30T16:29:14.517Z"
   },
   {
    "duration": 6,
    "start_time": "2023-10-30T16:29:26.077Z"
   },
   {
    "duration": 22,
    "start_time": "2023-10-30T16:29:50.540Z"
   },
   {
    "duration": 14,
    "start_time": "2023-10-30T16:29:58.706Z"
   },
   {
    "duration": 14,
    "start_time": "2023-10-30T16:30:01.130Z"
   },
   {
    "duration": 7,
    "start_time": "2023-10-30T16:30:15.526Z"
   },
   {
    "duration": 4,
    "start_time": "2023-10-30T16:31:57.796Z"
   },
   {
    "duration": 6,
    "start_time": "2023-10-30T16:32:50.923Z"
   },
   {
    "duration": 14,
    "start_time": "2023-10-30T16:32:55.551Z"
   },
   {
    "duration": 14,
    "start_time": "2023-10-30T16:32:58.258Z"
   },
   {
    "duration": 7,
    "start_time": "2023-10-30T16:33:05.803Z"
   },
   {
    "duration": 6,
    "start_time": "2023-10-30T16:33:20.486Z"
   },
   {
    "duration": 21,
    "start_time": "2023-10-30T16:33:24.240Z"
   },
   {
    "duration": 3,
    "start_time": "2023-10-30T16:33:49.501Z"
   },
   {
    "duration": 55,
    "start_time": "2023-10-30T16:33:49.505Z"
   },
   {
    "duration": 21,
    "start_time": "2023-10-30T16:33:49.562Z"
   },
   {
    "duration": 15,
    "start_time": "2023-10-30T16:33:49.585Z"
   },
   {
    "duration": 6,
    "start_time": "2023-10-30T16:33:49.602Z"
   },
   {
    "duration": 35,
    "start_time": "2023-10-30T16:33:49.610Z"
   },
   {
    "duration": 10,
    "start_time": "2023-10-30T16:33:49.647Z"
   },
   {
    "duration": 28,
    "start_time": "2023-10-30T16:33:49.659Z"
   },
   {
    "duration": 19,
    "start_time": "2023-10-30T16:33:49.689Z"
   },
   {
    "duration": 5,
    "start_time": "2023-10-30T16:33:49.709Z"
   },
   {
    "duration": 8,
    "start_time": "2023-10-30T16:33:49.715Z"
   },
   {
    "duration": 20,
    "start_time": "2023-10-30T16:33:49.724Z"
   },
   {
    "duration": 19,
    "start_time": "2023-10-30T16:33:49.746Z"
   },
   {
    "duration": 13,
    "start_time": "2023-10-30T16:33:49.767Z"
   },
   {
    "duration": 456,
    "start_time": "2023-10-30T16:33:49.782Z"
   },
   {
    "duration": 4,
    "start_time": "2023-10-30T16:33:55.790Z"
   },
   {
    "duration": 787,
    "start_time": "2023-10-30T16:34:11.406Z"
   },
   {
    "duration": 4,
    "start_time": "2023-10-30T16:35:42.769Z"
   },
   {
    "duration": 8850,
    "start_time": "2023-10-30T16:35:54.161Z"
   },
   {
    "duration": 14,
    "start_time": "2023-10-30T16:36:03.013Z"
   },
   {
    "duration": 3,
    "start_time": "2023-10-30T16:36:09.601Z"
   },
   {
    "duration": 93,
    "start_time": "2023-10-30T16:36:09.605Z"
   },
   {
    "duration": 19,
    "start_time": "2023-10-30T16:36:09.700Z"
   },
   {
    "duration": 51,
    "start_time": "2023-10-30T16:36:09.720Z"
   },
   {
    "duration": 24,
    "start_time": "2023-10-30T16:36:09.774Z"
   },
   {
    "duration": 58,
    "start_time": "2023-10-30T16:36:09.799Z"
   },
   {
    "duration": 36,
    "start_time": "2023-10-30T16:36:09.858Z"
   },
   {
    "duration": 56,
    "start_time": "2023-10-30T16:36:09.896Z"
   },
   {
    "duration": 52,
    "start_time": "2023-10-30T16:36:09.954Z"
   },
   {
    "duration": 81,
    "start_time": "2023-10-30T16:36:10.007Z"
   },
   {
    "duration": 23,
    "start_time": "2023-10-30T16:36:10.090Z"
   },
   {
    "duration": 19,
    "start_time": "2023-10-30T16:36:10.115Z"
   },
   {
    "duration": 50,
    "start_time": "2023-10-30T16:36:10.136Z"
   },
   {
    "duration": 13,
    "start_time": "2023-10-30T16:36:20.497Z"
   },
   {
    "duration": 458,
    "start_time": "2023-10-30T16:36:53.686Z"
   },
   {
    "duration": 14,
    "start_time": "2023-10-30T16:37:00.368Z"
   },
   {
    "duration": 5,
    "start_time": "2023-10-30T16:37:09.186Z"
   },
   {
    "duration": 9108,
    "start_time": "2023-10-30T16:37:16.844Z"
   },
   {
    "duration": 14,
    "start_time": "2023-10-30T16:37:29.968Z"
   },
   {
    "duration": 6,
    "start_time": "2023-10-30T16:37:53.821Z"
   },
   {
    "duration": 5,
    "start_time": "2023-10-30T16:41:52.478Z"
   },
   {
    "duration": 5,
    "start_time": "2023-10-30T16:42:24.787Z"
   },
   {
    "duration": 4,
    "start_time": "2023-10-30T16:50:00.718Z"
   },
   {
    "duration": 13,
    "start_time": "2023-10-30T16:50:05.128Z"
   },
   {
    "duration": 5,
    "start_time": "2023-10-30T16:50:26.814Z"
   },
   {
    "duration": 19,
    "start_time": "2023-10-30T16:51:18.683Z"
   },
   {
    "duration": 17,
    "start_time": "2023-10-30T16:51:33.105Z"
   },
   {
    "duration": 7,
    "start_time": "2023-10-30T16:51:42.565Z"
   },
   {
    "duration": 13,
    "start_time": "2023-10-30T16:51:46.295Z"
   },
   {
    "duration": 23,
    "start_time": "2023-10-30T16:52:07.711Z"
   },
   {
    "duration": 8264,
    "start_time": "2023-10-30T16:52:11.058Z"
   },
   {
    "duration": 22,
    "start_time": "2023-10-30T16:52:19.324Z"
   },
   {
    "duration": 3,
    "start_time": "2023-10-30T16:52:30.638Z"
   },
   {
    "duration": 113,
    "start_time": "2023-10-30T16:52:30.643Z"
   },
   {
    "duration": 21,
    "start_time": "2023-10-30T16:52:30.757Z"
   },
   {
    "duration": 55,
    "start_time": "2023-10-30T16:52:30.779Z"
   },
   {
    "duration": 1569,
    "start_time": "2023-10-30T16:52:30.837Z"
   },
   {
    "duration": 0,
    "start_time": "2023-10-30T16:52:32.407Z"
   },
   {
    "duration": 0,
    "start_time": "2023-10-30T16:52:32.409Z"
   },
   {
    "duration": 0,
    "start_time": "2023-10-30T16:52:32.410Z"
   },
   {
    "duration": 0,
    "start_time": "2023-10-30T16:52:32.411Z"
   },
   {
    "duration": 0,
    "start_time": "2023-10-30T16:52:32.412Z"
   },
   {
    "duration": 0,
    "start_time": "2023-10-30T16:52:32.413Z"
   },
   {
    "duration": 0,
    "start_time": "2023-10-30T16:52:32.414Z"
   },
   {
    "duration": 0,
    "start_time": "2023-10-30T16:52:32.415Z"
   },
   {
    "duration": 0,
    "start_time": "2023-10-30T16:52:32.417Z"
   },
   {
    "duration": 0,
    "start_time": "2023-10-30T16:52:32.417Z"
   },
   {
    "duration": 0,
    "start_time": "2023-10-30T16:52:32.418Z"
   },
   {
    "duration": 0,
    "start_time": "2023-10-30T16:52:32.419Z"
   },
   {
    "duration": 0,
    "start_time": "2023-10-30T16:52:32.420Z"
   },
   {
    "duration": 0,
    "start_time": "2023-10-30T16:52:32.421Z"
   },
   {
    "duration": 3,
    "start_time": "2023-10-30T16:53:14.466Z"
   },
   {
    "duration": 58,
    "start_time": "2023-10-30T16:53:14.472Z"
   },
   {
    "duration": 21,
    "start_time": "2023-10-30T16:53:14.531Z"
   },
   {
    "duration": 20,
    "start_time": "2023-10-30T16:53:14.554Z"
   },
   {
    "duration": 3,
    "start_time": "2023-10-30T16:53:14.576Z"
   },
   {
    "duration": 18,
    "start_time": "2023-10-30T16:53:14.581Z"
   },
   {
    "duration": 17,
    "start_time": "2023-10-30T16:53:14.601Z"
   },
   {
    "duration": 0,
    "start_time": "2023-10-30T16:53:14.619Z"
   },
   {
    "duration": 0,
    "start_time": "2023-10-30T16:53:14.621Z"
   },
   {
    "duration": 1,
    "start_time": "2023-10-30T16:53:14.643Z"
   },
   {
    "duration": 1,
    "start_time": "2023-10-30T16:53:14.645Z"
   },
   {
    "duration": 0,
    "start_time": "2023-10-30T16:53:14.647Z"
   },
   {
    "duration": 0,
    "start_time": "2023-10-30T16:53:14.648Z"
   },
   {
    "duration": 0,
    "start_time": "2023-10-30T16:53:14.649Z"
   },
   {
    "duration": 0,
    "start_time": "2023-10-30T16:53:14.651Z"
   },
   {
    "duration": 0,
    "start_time": "2023-10-30T16:53:14.651Z"
   },
   {
    "duration": 0,
    "start_time": "2023-10-30T16:53:14.653Z"
   },
   {
    "duration": 0,
    "start_time": "2023-10-30T16:53:14.654Z"
   },
   {
    "duration": 0,
    "start_time": "2023-10-30T16:53:14.655Z"
   },
   {
    "duration": 3,
    "start_time": "2023-10-30T16:53:46.673Z"
   },
   {
    "duration": 5671,
    "start_time": "2023-10-30T16:53:46.678Z"
   },
   {
    "duration": 20,
    "start_time": "2023-10-30T16:53:52.350Z"
   },
   {
    "duration": 24,
    "start_time": "2023-10-30T16:53:52.372Z"
   },
   {
    "duration": 34,
    "start_time": "2023-10-30T16:53:52.399Z"
   },
   {
    "duration": 47,
    "start_time": "2023-10-30T16:53:52.434Z"
   },
   {
    "duration": 29,
    "start_time": "2023-10-30T16:53:52.482Z"
   },
   {
    "duration": 39,
    "start_time": "2023-10-30T16:53:52.512Z"
   },
   {
    "duration": 47,
    "start_time": "2023-10-30T16:53:52.552Z"
   },
   {
    "duration": 27,
    "start_time": "2023-10-30T16:53:52.601Z"
   },
   {
    "duration": 52,
    "start_time": "2023-10-30T16:53:52.630Z"
   },
   {
    "duration": 42,
    "start_time": "2023-10-30T16:53:52.683Z"
   },
   {
    "duration": 65,
    "start_time": "2023-10-30T16:53:52.728Z"
   },
   {
    "duration": 64,
    "start_time": "2023-10-30T16:53:52.794Z"
   },
   {
    "duration": 489,
    "start_time": "2023-10-30T16:53:52.860Z"
   },
   {
    "duration": 4,
    "start_time": "2023-10-30T16:53:53.351Z"
   },
   {
    "duration": 9684,
    "start_time": "2023-10-30T16:53:53.356Z"
   },
   {
    "duration": 5,
    "start_time": "2023-10-30T16:54:03.042Z"
   },
   {
    "duration": 1680,
    "start_time": "2023-10-30T16:54:03.049Z"
   },
   {
    "duration": 17,
    "start_time": "2023-10-30T16:54:18.178Z"
   },
   {
    "duration": 15,
    "start_time": "2023-10-30T16:54:58.862Z"
   },
   {
    "duration": 397,
    "start_time": "2023-10-31T11:53:44.072Z"
   },
   {
    "duration": 102,
    "start_time": "2023-10-31T11:53:44.471Z"
   },
   {
    "duration": 28,
    "start_time": "2023-10-31T11:53:44.575Z"
   },
   {
    "duration": 17,
    "start_time": "2023-10-31T11:53:44.604Z"
   },
   {
    "duration": 8,
    "start_time": "2023-10-31T11:53:44.623Z"
   },
   {
    "duration": 16,
    "start_time": "2023-10-31T11:53:44.633Z"
   },
   {
    "duration": 13,
    "start_time": "2023-10-31T11:53:44.651Z"
   },
   {
    "duration": 14,
    "start_time": "2023-10-31T11:53:44.666Z"
   },
   {
    "duration": 41,
    "start_time": "2023-10-31T11:53:44.681Z"
   },
   {
    "duration": 7,
    "start_time": "2023-10-31T11:53:44.723Z"
   },
   {
    "duration": 5,
    "start_time": "2023-10-31T11:53:44.731Z"
   },
   {
    "duration": 14,
    "start_time": "2023-10-31T11:53:44.738Z"
   },
   {
    "duration": 38,
    "start_time": "2023-10-31T11:53:44.753Z"
   },
   {
    "duration": 22,
    "start_time": "2023-10-31T11:53:44.793Z"
   },
   {
    "duration": 479,
    "start_time": "2023-10-31T11:53:44.817Z"
   },
   {
    "duration": 9828,
    "start_time": "2023-10-31T11:53:45.297Z"
   },
   {
    "duration": 15,
    "start_time": "2023-10-31T11:53:55.126Z"
   },
   {
    "duration": 20,
    "start_time": "2023-10-31T11:53:55.142Z"
   },
   {
    "duration": 15,
    "start_time": "2023-10-31T11:53:55.163Z"
   },
   {
    "duration": 10,
    "start_time": "2023-10-31T11:53:55.179Z"
   },
   {
    "duration": 4,
    "start_time": "2023-10-31T11:55:01.846Z"
   },
   {
    "duration": 16,
    "start_time": "2023-10-31T11:55:13.336Z"
   },
   {
    "duration": 5,
    "start_time": "2023-10-31T11:57:23.910Z"
   },
   {
    "duration": 16,
    "start_time": "2023-10-31T11:57:26.666Z"
   },
   {
    "duration": 20,
    "start_time": "2023-10-31T12:00:31.939Z"
   },
   {
    "duration": 16,
    "start_time": "2023-10-31T12:00:41.392Z"
   },
   {
    "duration": 16,
    "start_time": "2023-10-31T12:00:58.701Z"
   },
   {
    "duration": 3,
    "start_time": "2023-10-31T12:02:27.588Z"
   },
   {
    "duration": 2,
    "start_time": "2023-10-31T12:02:50.839Z"
   },
   {
    "duration": 13,
    "start_time": "2023-10-31T12:02:53.162Z"
   },
   {
    "duration": 2,
    "start_time": "2023-10-31T12:03:00.112Z"
   },
   {
    "duration": 13,
    "start_time": "2023-10-31T12:03:02.181Z"
   },
   {
    "duration": 7,
    "start_time": "2023-10-31T12:10:28.211Z"
   },
   {
    "duration": 7,
    "start_time": "2023-10-31T12:10:39.558Z"
   },
   {
    "duration": 973,
    "start_time": "2023-10-31T12:11:35.827Z"
   },
   {
    "duration": 1486,
    "start_time": "2023-10-31T12:13:14.902Z"
   },
   {
    "duration": 1291,
    "start_time": "2023-10-31T12:13:33.436Z"
   },
   {
    "duration": 167,
    "start_time": "2023-10-31T12:14:25.699Z"
   },
   {
    "duration": 245,
    "start_time": "2023-10-31T12:14:54.297Z"
   },
   {
    "duration": 13,
    "start_time": "2023-10-31T12:16:12.392Z"
   },
   {
    "duration": 17,
    "start_time": "2023-10-31T12:16:17.027Z"
   },
   {
    "duration": 21,
    "start_time": "2023-10-31T12:17:03.988Z"
   },
   {
    "duration": 357,
    "start_time": "2023-10-31T12:17:14.811Z"
   },
   {
    "duration": 362,
    "start_time": "2023-10-31T12:18:56.149Z"
   },
   {
    "duration": 2,
    "start_time": "2023-10-31T12:19:17.168Z"
   },
   {
    "duration": 420,
    "start_time": "2023-10-31T12:19:21.677Z"
   },
   {
    "duration": 894,
    "start_time": "2023-10-31T12:25:21.637Z"
   },
   {
    "duration": 895,
    "start_time": "2023-10-31T12:25:38.933Z"
   },
   {
    "duration": 909,
    "start_time": "2023-10-31T12:26:43.405Z"
   },
   {
    "duration": 900,
    "start_time": "2023-10-31T12:26:50.416Z"
   },
   {
    "duration": 961,
    "start_time": "2023-10-31T12:27:25.638Z"
   },
   {
    "duration": 925,
    "start_time": "2023-10-31T12:27:37.591Z"
   },
   {
    "duration": 479,
    "start_time": "2023-10-31T12:33:37.740Z"
   },
   {
    "duration": 503,
    "start_time": "2023-10-31T12:34:04.046Z"
   },
   {
    "duration": 366,
    "start_time": "2023-10-31T12:34:12.745Z"
   },
   {
    "duration": 365,
    "start_time": "2023-10-31T12:34:20.546Z"
   },
   {
    "duration": 499,
    "start_time": "2023-10-31T12:34:28.760Z"
   },
   {
    "duration": 351,
    "start_time": "2023-10-31T12:34:39.869Z"
   },
   {
    "duration": 354,
    "start_time": "2023-10-31T12:34:46.703Z"
   },
   {
    "duration": 368,
    "start_time": "2023-10-31T12:34:50.453Z"
   },
   {
    "duration": 22,
    "start_time": "2023-10-31T12:35:56.374Z"
   },
   {
    "duration": 325,
    "start_time": "2023-10-31T12:36:22.538Z"
   },
   {
    "duration": 17,
    "start_time": "2023-10-31T12:36:55.399Z"
   },
   {
    "duration": 408,
    "start_time": "2023-10-31T12:37:03.818Z"
   },
   {
    "duration": 317,
    "start_time": "2023-10-31T12:39:47.138Z"
   },
   {
    "duration": 298,
    "start_time": "2023-10-31T12:42:19.601Z"
   },
   {
    "duration": 20,
    "start_time": "2023-10-31T12:48:10.557Z"
   },
   {
    "duration": 4,
    "start_time": "2023-10-31T12:48:13.422Z"
   },
   {
    "duration": 354,
    "start_time": "2023-10-31T12:48:15.103Z"
   },
   {
    "duration": 302,
    "start_time": "2023-10-31T12:49:23.876Z"
   },
   {
    "duration": 10,
    "start_time": "2023-10-31T12:49:43.437Z"
   },
   {
    "duration": 317,
    "start_time": "2023-10-31T12:49:51.515Z"
   },
   {
    "duration": 9,
    "start_time": "2023-10-31T12:49:54.201Z"
   },
   {
    "duration": 9,
    "start_time": "2023-10-31T12:50:08.590Z"
   },
   {
    "duration": 3,
    "start_time": "2023-10-31T12:52:40.740Z"
   },
   {
    "duration": 5,
    "start_time": "2023-10-31T12:52:49.377Z"
   },
   {
    "duration": 3,
    "start_time": "2023-10-31T12:53:03.045Z"
   },
   {
    "duration": 5,
    "start_time": "2023-10-31T12:53:07.496Z"
   },
   {
    "duration": 96,
    "start_time": "2023-10-31T12:57:45.159Z"
   },
   {
    "duration": 2771,
    "start_time": "2023-10-31T12:57:54.716Z"
   },
   {
    "duration": 4461,
    "start_time": "2023-10-31T12:58:27.388Z"
   },
   {
    "duration": 2726,
    "start_time": "2023-10-31T12:58:53.358Z"
   },
   {
    "duration": 2899,
    "start_time": "2023-10-31T12:59:16.916Z"
   },
   {
    "duration": 2874,
    "start_time": "2023-10-31T12:59:25.718Z"
   },
   {
    "duration": 1356,
    "start_time": "2023-11-01T04:40:17.266Z"
   },
   {
    "duration": 108,
    "start_time": "2023-11-01T04:40:18.624Z"
   },
   {
    "duration": 26,
    "start_time": "2023-11-01T04:40:18.734Z"
   },
   {
    "duration": 14,
    "start_time": "2023-11-01T04:40:18.762Z"
   },
   {
    "duration": 8,
    "start_time": "2023-11-01T04:40:18.778Z"
   },
   {
    "duration": 48,
    "start_time": "2023-11-01T04:40:18.788Z"
   },
   {
    "duration": 35,
    "start_time": "2023-11-01T04:40:18.838Z"
   },
   {
    "duration": 49,
    "start_time": "2023-11-01T04:40:18.874Z"
   },
   {
    "duration": 27,
    "start_time": "2023-11-01T04:40:18.925Z"
   },
   {
    "duration": 5,
    "start_time": "2023-11-01T04:40:18.954Z"
   },
   {
    "duration": 43,
    "start_time": "2023-11-01T04:40:18.961Z"
   },
   {
    "duration": 46,
    "start_time": "2023-11-01T04:40:19.006Z"
   },
   {
    "duration": 157,
    "start_time": "2023-11-01T04:40:19.054Z"
   },
   {
    "duration": 14,
    "start_time": "2023-11-01T04:40:19.214Z"
   },
   {
    "duration": 452,
    "start_time": "2023-11-01T04:40:19.230Z"
   },
   {
    "duration": 9176,
    "start_time": "2023-11-01T04:40:19.683Z"
   },
   {
    "duration": 14,
    "start_time": "2023-11-01T04:40:28.861Z"
   },
   {
    "duration": 16,
    "start_time": "2023-11-01T04:40:28.876Z"
   },
   {
    "duration": 5,
    "start_time": "2023-11-01T04:40:28.901Z"
   },
   {
    "duration": 19,
    "start_time": "2023-11-01T04:40:28.908Z"
   },
   {
    "duration": 11,
    "start_time": "2023-11-01T04:40:28.929Z"
   },
   {
    "duration": 18,
    "start_time": "2023-11-01T04:40:28.942Z"
   },
   {
    "duration": 17,
    "start_time": "2023-11-01T04:40:28.963Z"
   },
   {
    "duration": 8,
    "start_time": "2023-11-01T04:40:28.982Z"
   },
   {
    "duration": 358,
    "start_time": "2023-11-01T04:40:28.991Z"
   },
   {
    "duration": 315,
    "start_time": "2023-11-01T04:40:29.350Z"
   },
   {
    "duration": 4,
    "start_time": "2023-11-01T04:40:29.667Z"
   },
   {
    "duration": 2658,
    "start_time": "2023-11-01T04:40:29.673Z"
   },
   {
    "duration": 4,
    "start_time": "2023-11-01T04:40:32.332Z"
   },
   {
    "duration": 14,
    "start_time": "2023-11-01T04:41:06.718Z"
   },
   {
    "duration": 13,
    "start_time": "2023-11-01T04:41:21.725Z"
   },
   {
    "duration": 13,
    "start_time": "2023-11-01T04:41:29.920Z"
   },
   {
    "duration": 15,
    "start_time": "2023-11-01T04:41:40.120Z"
   },
   {
    "duration": 138,
    "start_time": "2023-11-01T04:49:06.961Z"
   },
   {
    "duration": 72,
    "start_time": "2023-11-01T04:49:15.860Z"
   },
   {
    "duration": 13,
    "start_time": "2023-11-01T04:49:24.666Z"
   },
   {
    "duration": 8,
    "start_time": "2023-11-01T04:49:31.299Z"
   },
   {
    "duration": 107,
    "start_time": "2023-11-01T04:51:14.963Z"
   },
   {
    "duration": 12,
    "start_time": "2023-11-01T04:51:16.735Z"
   },
   {
    "duration": 10,
    "start_time": "2023-11-01T04:51:36.790Z"
   },
   {
    "duration": 12,
    "start_time": "2023-11-01T04:51:39.108Z"
   },
   {
    "duration": 5,
    "start_time": "2023-11-01T05:05:23.263Z"
   },
   {
    "duration": 18,
    "start_time": "2023-11-01T05:05:36.937Z"
   },
   {
    "duration": 32,
    "start_time": "2023-11-01T05:05:54.720Z"
   },
   {
    "duration": 25,
    "start_time": "2023-11-01T05:06:16.936Z"
   },
   {
    "duration": 173,
    "start_time": "2023-11-01T05:21:32.399Z"
   },
   {
    "duration": 211,
    "start_time": "2023-11-01T05:22:27.371Z"
   },
   {
    "duration": 218,
    "start_time": "2023-11-01T05:22:59.885Z"
   },
   {
    "duration": 309,
    "start_time": "2023-11-01T05:25:45.958Z"
   },
   {
    "duration": 208,
    "start_time": "2023-11-01T05:25:53.375Z"
   },
   {
    "duration": 204,
    "start_time": "2023-11-01T05:25:57.620Z"
   },
   {
    "duration": 177,
    "start_time": "2023-11-01T05:31:43.021Z"
   },
   {
    "duration": 3,
    "start_time": "2023-11-01T05:34:49.993Z"
   },
   {
    "duration": 253,
    "start_time": "2023-11-01T05:41:26.112Z"
   },
   {
    "duration": 278,
    "start_time": "2023-11-01T05:42:52.772Z"
   },
   {
    "duration": 7,
    "start_time": "2023-11-01T05:44:55.662Z"
   },
   {
    "duration": 327,
    "start_time": "2023-11-01T05:45:14.931Z"
   },
   {
    "duration": 4,
    "start_time": "2023-11-01T05:45:38.437Z"
   },
   {
    "duration": 3,
    "start_time": "2023-11-01T05:45:42.760Z"
   },
   {
    "duration": 83,
    "start_time": "2023-11-01T05:45:42.766Z"
   },
   {
    "duration": 22,
    "start_time": "2023-11-01T05:45:42.851Z"
   },
   {
    "duration": 45,
    "start_time": "2023-11-01T05:45:42.875Z"
   },
   {
    "duration": 32,
    "start_time": "2023-11-01T05:45:42.923Z"
   },
   {
    "duration": 37,
    "start_time": "2023-11-01T05:45:42.957Z"
   },
   {
    "duration": 11,
    "start_time": "2023-11-01T05:45:42.996Z"
   },
   {
    "duration": 14,
    "start_time": "2023-11-01T05:45:43.008Z"
   },
   {
    "duration": 27,
    "start_time": "2023-11-01T05:45:43.023Z"
   },
   {
    "duration": 9,
    "start_time": "2023-11-01T05:45:43.052Z"
   },
   {
    "duration": 27,
    "start_time": "2023-11-01T05:45:43.062Z"
   },
   {
    "duration": 9,
    "start_time": "2023-11-01T05:45:43.090Z"
   },
   {
    "duration": 23,
    "start_time": "2023-11-01T05:45:43.100Z"
   },
   {
    "duration": 22,
    "start_time": "2023-11-01T05:45:43.126Z"
   },
   {
    "duration": 460,
    "start_time": "2023-11-01T05:45:43.150Z"
   },
   {
    "duration": 9297,
    "start_time": "2023-11-01T05:45:43.612Z"
   },
   {
    "duration": 13,
    "start_time": "2023-11-01T05:45:52.911Z"
   },
   {
    "duration": 62,
    "start_time": "2023-11-01T05:45:52.926Z"
   },
   {
    "duration": 36,
    "start_time": "2023-11-01T05:45:52.990Z"
   },
   {
    "duration": 47,
    "start_time": "2023-11-01T05:45:53.028Z"
   },
   {
    "duration": 33,
    "start_time": "2023-11-01T05:45:53.077Z"
   },
   {
    "duration": 8,
    "start_time": "2023-11-01T05:45:53.112Z"
   },
   {
    "duration": 36,
    "start_time": "2023-11-01T05:45:53.121Z"
   },
   {
    "duration": 31,
    "start_time": "2023-11-01T05:45:53.159Z"
   },
   {
    "duration": 350,
    "start_time": "2023-11-01T05:45:53.192Z"
   },
   {
    "duration": 303,
    "start_time": "2023-11-01T05:45:53.544Z"
   },
   {
    "duration": 5,
    "start_time": "2023-11-01T05:45:53.849Z"
   },
   {
    "duration": 2776,
    "start_time": "2023-11-01T05:45:53.855Z"
   },
   {
    "duration": 13,
    "start_time": "2023-11-01T05:45:56.633Z"
   },
   {
    "duration": 17,
    "start_time": "2023-11-01T05:45:56.647Z"
   },
   {
    "duration": 36,
    "start_time": "2023-11-01T05:45:56.665Z"
   },
   {
    "duration": 25,
    "start_time": "2023-11-01T05:45:56.703Z"
   },
   {
    "duration": 45,
    "start_time": "2023-11-01T05:45:56.730Z"
   },
   {
    "duration": 186,
    "start_time": "2023-11-01T05:45:56.777Z"
   },
   {
    "duration": 4,
    "start_time": "2023-11-01T05:45:56.964Z"
   },
   {
    "duration": 26,
    "start_time": "2023-11-01T05:45:56.969Z"
   },
   {
    "duration": 7,
    "start_time": "2023-11-01T05:47:40.043Z"
   },
   {
    "duration": 8,
    "start_time": "2023-11-01T05:47:56.011Z"
   },
   {
    "duration": 160,
    "start_time": "2023-11-01T05:49:40.354Z"
   },
   {
    "duration": 4,
    "start_time": "2023-11-01T05:49:48.165Z"
   },
   {
    "duration": 150,
    "start_time": "2023-11-01T05:49:50.833Z"
   },
   {
    "duration": 3,
    "start_time": "2023-11-01T05:50:06.005Z"
   },
   {
    "duration": 141,
    "start_time": "2023-11-01T05:50:07.806Z"
   },
   {
    "duration": 304,
    "start_time": "2023-11-01T05:52:58.412Z"
   },
   {
    "duration": 383,
    "start_time": "2023-11-01T05:53:13.025Z"
   },
   {
    "duration": 1509,
    "start_time": "2023-11-01T06:02:44.009Z"
   },
   {
    "duration": 1545,
    "start_time": "2023-11-01T06:03:10.456Z"
   },
   {
    "duration": 14,
    "start_time": "2023-11-01T06:11:40.303Z"
   },
   {
    "duration": 288,
    "start_time": "2023-11-01T06:12:27.216Z"
   },
   {
    "duration": 176,
    "start_time": "2023-11-01T06:13:07.022Z"
   },
   {
    "duration": 13,
    "start_time": "2023-11-01T14:33:02.642Z"
   },
   {
    "duration": 19,
    "start_time": "2023-11-01T14:33:12.915Z"
   },
   {
    "duration": 9,
    "start_time": "2023-11-01T14:33:56.309Z"
   },
   {
    "duration": 9,
    "start_time": "2023-11-01T14:34:07.634Z"
   },
   {
    "duration": 15,
    "start_time": "2023-11-01T14:37:37.367Z"
   },
   {
    "duration": 16,
    "start_time": "2023-11-01T14:38:18.031Z"
   },
   {
    "duration": 16,
    "start_time": "2023-11-01T14:38:48.287Z"
   },
   {
    "duration": 16,
    "start_time": "2023-11-01T14:38:57.064Z"
   },
   {
    "duration": 14,
    "start_time": "2023-11-01T14:39:43.400Z"
   },
   {
    "duration": 11,
    "start_time": "2023-11-01T14:40:16.099Z"
   },
   {
    "duration": 111,
    "start_time": "2023-11-01T14:44:39.379Z"
   },
   {
    "duration": 15,
    "start_time": "2023-11-01T14:44:49.430Z"
   },
   {
    "duration": 17,
    "start_time": "2023-11-01T14:50:11.323Z"
   },
   {
    "duration": 14,
    "start_time": "2023-11-01T14:50:26.727Z"
   },
   {
    "duration": 4,
    "start_time": "2023-11-01T15:04:50.881Z"
   },
   {
    "duration": 492,
    "start_time": "2023-11-01T15:05:09.204Z"
   },
   {
    "duration": 488,
    "start_time": "2023-11-01T15:06:20.091Z"
   },
   {
    "duration": 89,
    "start_time": "2023-11-01T15:06:21.872Z"
   },
   {
    "duration": 488,
    "start_time": "2023-11-01T15:06:26.188Z"
   },
   {
    "duration": 5,
    "start_time": "2023-11-01T15:06:47.747Z"
   },
   {
    "duration": 5,
    "start_time": "2023-11-01T15:06:50.758Z"
   },
   {
    "duration": 616,
    "start_time": "2023-11-01T15:06:52.906Z"
   },
   {
    "duration": 5,
    "start_time": "2023-11-01T15:07:17.150Z"
   },
   {
    "duration": 7,
    "start_time": "2023-11-01T15:07:54.035Z"
   },
   {
    "duration": 462,
    "start_time": "2023-11-01T15:07:56.836Z"
   },
   {
    "duration": 5,
    "start_time": "2023-11-01T15:08:25.450Z"
   },
   {
    "duration": 339,
    "start_time": "2023-11-01T15:08:28.008Z"
   },
   {
    "duration": 6,
    "start_time": "2023-11-01T15:09:22.534Z"
   },
   {
    "duration": 332,
    "start_time": "2023-11-01T15:09:25.723Z"
   },
   {
    "duration": 6,
    "start_time": "2023-11-01T15:09:49.240Z"
   },
   {
    "duration": 483,
    "start_time": "2023-11-01T15:09:51.496Z"
   },
   {
    "duration": 6,
    "start_time": "2023-11-01T15:10:06.692Z"
   },
   {
    "duration": 454,
    "start_time": "2023-11-01T15:10:08.868Z"
   },
   {
    "duration": 6,
    "start_time": "2023-11-01T15:10:21.853Z"
   },
   {
    "duration": 6,
    "start_time": "2023-11-01T15:20:54.758Z"
   },
   {
    "duration": 571,
    "start_time": "2023-11-01T15:20:57.064Z"
   },
   {
    "duration": 4,
    "start_time": "2023-11-01T15:21:41.731Z"
   },
   {
    "duration": 367,
    "start_time": "2023-11-01T15:21:43.509Z"
   },
   {
    "duration": 319,
    "start_time": "2023-11-01T15:21:51.970Z"
   },
   {
    "duration": 84,
    "start_time": "2023-11-01T15:25:34.929Z"
   },
   {
    "duration": 115,
    "start_time": "2023-11-01T15:25:42.241Z"
   },
   {
    "duration": 95,
    "start_time": "2023-11-01T15:26:19.697Z"
   },
   {
    "duration": 4,
    "start_time": "2023-11-01T15:26:24.094Z"
   },
   {
    "duration": 21,
    "start_time": "2023-11-01T15:26:26.427Z"
   },
   {
    "duration": 3,
    "start_time": "2023-11-01T15:26:51.978Z"
   },
   {
    "duration": 29,
    "start_time": "2023-11-01T15:26:53.827Z"
   },
   {
    "duration": 4,
    "start_time": "2023-11-01T15:27:50.948Z"
   },
   {
    "duration": 30,
    "start_time": "2023-11-01T15:27:53.589Z"
   },
   {
    "duration": 5,
    "start_time": "2023-11-01T15:28:08.749Z"
   },
   {
    "duration": 30,
    "start_time": "2023-11-01T15:28:10.702Z"
   },
   {
    "duration": 72,
    "start_time": "2023-11-01T15:28:28.038Z"
   },
   {
    "duration": 28,
    "start_time": "2023-11-01T15:28:29.987Z"
   },
   {
    "duration": 45,
    "start_time": "2023-11-01T15:28:35.089Z"
   },
   {
    "duration": 87,
    "start_time": "2023-11-01T15:28:38.305Z"
   },
   {
    "duration": 107,
    "start_time": "2023-11-01T15:28:52.037Z"
   },
   {
    "duration": 4,
    "start_time": "2023-11-01T15:29:08.060Z"
   },
   {
    "duration": 29,
    "start_time": "2023-11-01T15:29:10.406Z"
   },
   {
    "duration": 85,
    "start_time": "2023-11-01T15:29:38.032Z"
   },
   {
    "duration": 4,
    "start_time": "2023-11-01T15:29:43.645Z"
   },
   {
    "duration": 30,
    "start_time": "2023-11-01T15:29:45.792Z"
   },
   {
    "duration": 30,
    "start_time": "2023-11-01T15:29:50.319Z"
   },
   {
    "duration": 6,
    "start_time": "2023-11-01T15:30:16.652Z"
   },
   {
    "duration": 30,
    "start_time": "2023-11-01T15:30:19.492Z"
   },
   {
    "duration": 30,
    "start_time": "2023-11-01T15:30:22.146Z"
   },
   {
    "duration": 4,
    "start_time": "2023-11-01T15:30:57.417Z"
   },
   {
    "duration": 29,
    "start_time": "2023-11-01T15:30:59.517Z"
   },
   {
    "duration": 4,
    "start_time": "2023-11-01T15:31:51.534Z"
   },
   {
    "duration": 446,
    "start_time": "2023-11-01T15:31:54.095Z"
   },
   {
    "duration": 4,
    "start_time": "2023-11-01T15:32:20.172Z"
   },
   {
    "duration": 356,
    "start_time": "2023-11-01T15:32:22.204Z"
   },
   {
    "duration": 320,
    "start_time": "2023-11-01T15:32:27.658Z"
   },
   {
    "duration": 859,
    "start_time": "2023-11-01T15:32:37.983Z"
   },
   {
    "duration": 288,
    "start_time": "2023-11-01T15:32:49.801Z"
   },
   {
    "duration": 5,
    "start_time": "2023-11-01T15:32:56.157Z"
   },
   {
    "duration": 180,
    "start_time": "2023-11-01T15:33:01.330Z"
   },
   {
    "duration": 5,
    "start_time": "2023-11-01T15:33:07.628Z"
   },
   {
    "duration": 456,
    "start_time": "2023-11-01T15:33:09.549Z"
   },
   {
    "duration": 4,
    "start_time": "2023-11-01T15:33:56.021Z"
   },
   {
    "duration": 354,
    "start_time": "2023-11-01T15:33:58.151Z"
   },
   {
    "duration": 4,
    "start_time": "2023-11-01T15:34:23.153Z"
   },
   {
    "duration": 26,
    "start_time": "2023-11-01T15:34:24.990Z"
   },
   {
    "duration": 5,
    "start_time": "2023-11-01T15:35:02.592Z"
   },
   {
    "duration": 366,
    "start_time": "2023-11-01T15:35:04.937Z"
   },
   {
    "duration": 440,
    "start_time": "2023-11-01T15:35:09.566Z"
   },
   {
    "duration": 4,
    "start_time": "2023-11-01T15:35:53.312Z"
   },
   {
    "duration": 328,
    "start_time": "2023-11-01T15:35:55.196Z"
   },
   {
    "duration": 346,
    "start_time": "2023-11-01T15:35:58.714Z"
   },
   {
    "duration": 3,
    "start_time": "2023-11-01T15:37:04.148Z"
   },
   {
    "duration": 359,
    "start_time": "2023-11-01T15:37:05.863Z"
   },
   {
    "duration": 4,
    "start_time": "2023-11-01T15:37:19.307Z"
   },
   {
    "duration": 361,
    "start_time": "2023-11-01T15:37:21.333Z"
   },
   {
    "duration": 326,
    "start_time": "2023-11-01T15:37:24.070Z"
   },
   {
    "duration": 4,
    "start_time": "2023-11-01T15:37:41.178Z"
   },
   {
    "duration": 436,
    "start_time": "2023-11-01T15:37:43.116Z"
   },
   {
    "duration": 305,
    "start_time": "2023-11-01T15:37:46.135Z"
   },
   {
    "duration": 5,
    "start_time": "2023-11-01T15:38:29.465Z"
   },
   {
    "duration": 354,
    "start_time": "2023-11-01T15:38:31.294Z"
   },
   {
    "duration": 4,
    "start_time": "2023-11-01T15:39:20.653Z"
   },
   {
    "duration": 365,
    "start_time": "2023-11-01T15:39:22.481Z"
   },
   {
    "duration": 312,
    "start_time": "2023-11-01T15:39:27.867Z"
   },
   {
    "duration": 4,
    "start_time": "2023-11-01T15:39:51.784Z"
   },
   {
    "duration": 33,
    "start_time": "2023-11-01T15:39:53.445Z"
   },
   {
    "duration": 5,
    "start_time": "2023-11-01T15:39:58.891Z"
   },
   {
    "duration": 447,
    "start_time": "2023-11-01T15:40:01.066Z"
   },
   {
    "duration": 4,
    "start_time": "2023-11-01T15:40:19.063Z"
   },
   {
    "duration": 347,
    "start_time": "2023-11-01T15:40:20.646Z"
   },
   {
    "duration": 4,
    "start_time": "2023-11-01T15:40:47.831Z"
   },
   {
    "duration": 357,
    "start_time": "2023-11-01T15:40:49.179Z"
   },
   {
    "duration": 4,
    "start_time": "2023-11-01T15:41:21.752Z"
   },
   {
    "duration": 362,
    "start_time": "2023-11-01T15:41:23.267Z"
   },
   {
    "duration": 342,
    "start_time": "2023-11-01T15:41:26.982Z"
   },
   {
    "duration": 924,
    "start_time": "2023-11-01T15:41:31.221Z"
   },
   {
    "duration": 179,
    "start_time": "2023-11-01T15:41:41.395Z"
   },
   {
    "duration": 500,
    "start_time": "2023-11-01T15:45:07.780Z"
   },
   {
    "duration": 555,
    "start_time": "2023-11-01T15:49:00.068Z"
   },
   {
    "duration": 1338,
    "start_time": "2023-11-02T11:28:19.037Z"
   },
   {
    "duration": 190,
    "start_time": "2023-11-02T11:28:20.377Z"
   },
   {
    "duration": 25,
    "start_time": "2023-11-02T11:28:20.569Z"
   },
   {
    "duration": 21,
    "start_time": "2023-11-02T11:28:20.596Z"
   },
   {
    "duration": 12,
    "start_time": "2023-11-02T11:28:20.619Z"
   },
   {
    "duration": 24,
    "start_time": "2023-11-02T11:28:20.632Z"
   },
   {
    "duration": 40,
    "start_time": "2023-11-02T11:28:20.658Z"
   },
   {
    "duration": 39,
    "start_time": "2023-11-02T11:28:20.700Z"
   },
   {
    "duration": 34,
    "start_time": "2023-11-02T11:28:20.741Z"
   },
   {
    "duration": 36,
    "start_time": "2023-11-02T11:28:20.777Z"
   },
   {
    "duration": 31,
    "start_time": "2023-11-02T11:28:20.815Z"
   },
   {
    "duration": 38,
    "start_time": "2023-11-02T11:28:20.848Z"
   },
   {
    "duration": 65,
    "start_time": "2023-11-02T11:28:20.888Z"
   },
   {
    "duration": 44,
    "start_time": "2023-11-02T11:28:20.955Z"
   },
   {
    "duration": 457,
    "start_time": "2023-11-02T11:28:21.001Z"
   },
   {
    "duration": 9020,
    "start_time": "2023-11-02T11:28:21.459Z"
   },
   {
    "duration": 16,
    "start_time": "2023-11-02T11:28:30.481Z"
   },
   {
    "duration": 94,
    "start_time": "2023-11-02T11:28:30.499Z"
   },
   {
    "duration": 61,
    "start_time": "2023-11-02T11:28:30.595Z"
   },
   {
    "duration": 70,
    "start_time": "2023-11-02T11:28:30.658Z"
   },
   {
    "duration": 54,
    "start_time": "2023-11-02T11:28:30.729Z"
   },
   {
    "duration": 56,
    "start_time": "2023-11-02T11:28:30.785Z"
   },
   {
    "duration": 57,
    "start_time": "2023-11-02T11:28:30.843Z"
   },
   {
    "duration": 50,
    "start_time": "2023-11-02T11:28:30.902Z"
   },
   {
    "duration": 424,
    "start_time": "2023-11-02T11:28:30.953Z"
   },
   {
    "duration": 302,
    "start_time": "2023-11-02T11:28:31.378Z"
   },
   {
    "duration": 4,
    "start_time": "2023-11-02T11:28:31.682Z"
   },
   {
    "duration": 2695,
    "start_time": "2023-11-02T11:28:31.689Z"
   },
   {
    "duration": 12,
    "start_time": "2023-11-02T11:28:34.386Z"
   },
   {
    "duration": 13,
    "start_time": "2023-11-02T11:28:34.399Z"
   },
   {
    "duration": 13,
    "start_time": "2023-11-02T11:28:34.413Z"
   },
   {
    "duration": 24,
    "start_time": "2023-11-02T11:28:34.428Z"
   },
   {
    "duration": 114,
    "start_time": "2023-11-02T11:28:34.454Z"
   },
   {
    "duration": 184,
    "start_time": "2023-11-02T11:28:34.570Z"
   },
   {
    "duration": 3,
    "start_time": "2023-11-02T11:28:34.756Z"
   },
   {
    "duration": 11,
    "start_time": "2023-11-02T11:28:34.760Z"
   },
   {
    "duration": 286,
    "start_time": "2023-11-02T11:28:34.773Z"
   },
   {
    "duration": 1552,
    "start_time": "2023-11-02T11:28:35.060Z"
   },
   {
    "duration": 179,
    "start_time": "2023-11-02T11:28:36.614Z"
   },
   {
    "duration": 13,
    "start_time": "2023-11-02T11:28:36.794Z"
   },
   {
    "duration": 70,
    "start_time": "2023-11-02T11:28:36.808Z"
   },
   {
    "duration": 439,
    "start_time": "2023-11-02T11:28:36.879Z"
   },
   {
    "duration": 435,
    "start_time": "2023-11-02T11:28:37.319Z"
   },
   {
    "duration": 514,
    "start_time": "2023-11-02T11:28:37.756Z"
   },
   {
    "duration": 6,
    "start_time": "2023-11-02T11:29:22.846Z"
   },
   {
    "duration": 3,
    "start_time": "2023-11-02T11:32:21.618Z"
   },
   {
    "duration": 7,
    "start_time": "2023-11-02T11:36:28.435Z"
   },
   {
    "duration": 6,
    "start_time": "2023-11-02T11:36:40.796Z"
   },
   {
    "duration": 6,
    "start_time": "2023-11-02T11:40:36.772Z"
   },
   {
    "duration": 6,
    "start_time": "2023-11-02T11:41:24.705Z"
   },
   {
    "duration": 6,
    "start_time": "2023-11-02T11:42:34.954Z"
   },
   {
    "duration": 6,
    "start_time": "2023-11-02T11:42:48.353Z"
   },
   {
    "duration": 7,
    "start_time": "2023-11-02T11:44:10.424Z"
   },
   {
    "duration": 9,
    "start_time": "2023-11-02T11:44:26.112Z"
   },
   {
    "duration": 8,
    "start_time": "2023-11-02T11:44:43.441Z"
   },
   {
    "duration": 9,
    "start_time": "2023-11-02T11:45:00.254Z"
   },
   {
    "duration": 5,
    "start_time": "2023-11-02T11:45:12.123Z"
   },
   {
    "duration": 8,
    "start_time": "2023-11-02T11:45:22.971Z"
   },
   {
    "duration": 12,
    "start_time": "2023-11-02T11:45:34.314Z"
   },
   {
    "duration": 9,
    "start_time": "2023-11-02T11:46:02.549Z"
   },
   {
    "duration": 8,
    "start_time": "2023-11-02T11:47:12.986Z"
   },
   {
    "duration": 7,
    "start_time": "2023-11-02T11:47:25.549Z"
   },
   {
    "duration": 8,
    "start_time": "2023-11-02T11:48:13.938Z"
   },
   {
    "duration": 94,
    "start_time": "2023-11-02T11:48:42.129Z"
   },
   {
    "duration": 8,
    "start_time": "2023-11-02T11:48:45.872Z"
   },
   {
    "duration": 11,
    "start_time": "2023-11-02T11:49:14.226Z"
   },
   {
    "duration": 7,
    "start_time": "2023-11-02T11:51:36.367Z"
   },
   {
    "duration": 7,
    "start_time": "2023-11-02T11:51:39.968Z"
   },
   {
    "duration": 8,
    "start_time": "2023-11-02T11:52:00.267Z"
   },
   {
    "duration": 145,
    "start_time": "2023-11-02T11:52:44.123Z"
   },
   {
    "duration": 7,
    "start_time": "2023-11-02T11:53:05.165Z"
   },
   {
    "duration": 4,
    "start_time": "2023-11-02T11:53:18.628Z"
   },
   {
    "duration": 7,
    "start_time": "2023-11-02T11:54:13.885Z"
   },
   {
    "duration": 14,
    "start_time": "2023-11-02T11:55:49.700Z"
   },
   {
    "duration": 7,
    "start_time": "2023-11-02T11:59:27.098Z"
   },
   {
    "duration": 8,
    "start_time": "2023-11-02T11:59:43.950Z"
   },
   {
    "duration": 7,
    "start_time": "2023-11-02T11:59:58.945Z"
   },
   {
    "duration": 20,
    "start_time": "2023-11-02T12:02:01.392Z"
   },
   {
    "duration": 9,
    "start_time": "2023-11-02T12:02:47.394Z"
   },
   {
    "duration": 3,
    "start_time": "2023-11-02T12:02:56.788Z"
   },
   {
    "duration": 84,
    "start_time": "2023-11-02T12:02:56.793Z"
   },
   {
    "duration": 19,
    "start_time": "2023-11-02T12:02:56.879Z"
   },
   {
    "duration": 19,
    "start_time": "2023-11-02T12:02:56.900Z"
   },
   {
    "duration": 20,
    "start_time": "2023-11-02T12:02:56.921Z"
   },
   {
    "duration": 39,
    "start_time": "2023-11-02T12:02:56.943Z"
   },
   {
    "duration": 25,
    "start_time": "2023-11-02T12:02:56.983Z"
   },
   {
    "duration": 40,
    "start_time": "2023-11-02T12:02:57.010Z"
   },
   {
    "duration": 13,
    "start_time": "2023-11-02T12:02:57.052Z"
   },
   {
    "duration": 5,
    "start_time": "2023-11-02T12:02:57.066Z"
   },
   {
    "duration": 22,
    "start_time": "2023-11-02T12:02:57.073Z"
   },
   {
    "duration": 32,
    "start_time": "2023-11-02T12:02:57.096Z"
   },
   {
    "duration": 34,
    "start_time": "2023-11-02T12:02:57.129Z"
   },
   {
    "duration": 44,
    "start_time": "2023-11-02T12:02:57.165Z"
   },
   {
    "duration": 451,
    "start_time": "2023-11-02T12:02:57.211Z"
   },
   {
    "duration": 8980,
    "start_time": "2023-11-02T12:02:57.664Z"
   },
   {
    "duration": 14,
    "start_time": "2023-11-02T12:03:06.645Z"
   },
   {
    "duration": 7,
    "start_time": "2023-11-02T12:03:06.660Z"
   },
   {
    "duration": 13,
    "start_time": "2023-11-02T12:03:06.668Z"
   },
   {
    "duration": 17,
    "start_time": "2023-11-02T12:03:06.683Z"
   },
   {
    "duration": 6,
    "start_time": "2023-11-02T12:03:06.701Z"
   },
   {
    "duration": 7,
    "start_time": "2023-11-02T12:03:06.709Z"
   },
   {
    "duration": 30,
    "start_time": "2023-11-02T12:03:06.717Z"
   },
   {
    "duration": 8,
    "start_time": "2023-11-02T12:03:06.749Z"
   },
   {
    "duration": 334,
    "start_time": "2023-11-02T12:03:06.758Z"
   },
   {
    "duration": 284,
    "start_time": "2023-11-02T12:03:07.093Z"
   },
   {
    "duration": 4,
    "start_time": "2023-11-02T12:03:07.379Z"
   },
   {
    "duration": 2632,
    "start_time": "2023-11-02T12:03:07.385Z"
   },
   {
    "duration": 12,
    "start_time": "2023-11-02T12:03:10.020Z"
   },
   {
    "duration": 14,
    "start_time": "2023-11-02T12:03:10.044Z"
   },
   {
    "duration": 25,
    "start_time": "2023-11-02T12:03:10.059Z"
   },
   {
    "duration": 22,
    "start_time": "2023-11-02T12:03:10.086Z"
   },
   {
    "duration": 45,
    "start_time": "2023-11-02T12:03:10.109Z"
   },
   {
    "duration": 197,
    "start_time": "2023-11-02T12:03:10.156Z"
   },
   {
    "duration": 3,
    "start_time": "2023-11-02T12:03:10.355Z"
   },
   {
    "duration": 18,
    "start_time": "2023-11-02T12:03:10.359Z"
   },
   {
    "duration": 399,
    "start_time": "2023-11-02T12:03:10.378Z"
   },
   {
    "duration": 1506,
    "start_time": "2023-11-02T12:03:10.779Z"
   },
   {
    "duration": 254,
    "start_time": "2023-11-02T12:03:12.287Z"
   },
   {
    "duration": 14,
    "start_time": "2023-11-02T12:03:12.542Z"
   },
   {
    "duration": 4,
    "start_time": "2023-11-02T12:03:12.557Z"
   },
   {
    "duration": 451,
    "start_time": "2023-11-02T12:03:12.563Z"
   },
   {
    "duration": 484,
    "start_time": "2023-11-02T12:03:13.016Z"
   },
   {
    "duration": 430,
    "start_time": "2023-11-02T12:03:13.501Z"
   },
   {
    "duration": 18,
    "start_time": "2023-11-02T12:03:13.933Z"
   },
   {
    "duration": 9,
    "start_time": "2023-11-02T12:03:13.952Z"
   },
   {
    "duration": 28,
    "start_time": "2023-11-02T12:03:31.872Z"
   },
   {
    "duration": 5,
    "start_time": "2023-11-02T12:03:57.869Z"
   },
   {
    "duration": 5,
    "start_time": "2023-11-02T12:04:09.567Z"
   },
   {
    "duration": 6,
    "start_time": "2023-11-02T12:06:53.670Z"
   },
   {
    "duration": 8,
    "start_time": "2023-11-02T12:06:59.640Z"
   },
   {
    "duration": 7,
    "start_time": "2023-11-02T12:07:05.873Z"
   },
   {
    "duration": 8,
    "start_time": "2023-11-02T12:08:02.688Z"
   },
   {
    "duration": 8,
    "start_time": "2023-11-02T12:08:41.437Z"
   },
   {
    "duration": 6,
    "start_time": "2023-11-02T12:08:48.053Z"
   },
   {
    "duration": 7,
    "start_time": "2023-11-02T12:09:09.277Z"
   },
   {
    "duration": 5,
    "start_time": "2023-11-02T12:14:58.330Z"
   },
   {
    "duration": 2229,
    "start_time": "2023-11-02T12:15:01.061Z"
   },
   {
    "duration": 5,
    "start_time": "2023-11-02T12:15:57.672Z"
   },
   {
    "duration": 1821,
    "start_time": "2023-11-02T12:15:59.857Z"
   },
   {
    "duration": 5,
    "start_time": "2023-11-02T12:17:01.481Z"
   },
   {
    "duration": 1711,
    "start_time": "2023-11-02T12:17:03.262Z"
   },
   {
    "duration": 14,
    "start_time": "2023-11-02T12:17:28.441Z"
   },
   {
    "duration": 2027,
    "start_time": "2023-11-02T12:17:29.733Z"
   },
   {
    "duration": 5,
    "start_time": "2023-11-02T12:19:02.706Z"
   },
   {
    "duration": 13,
    "start_time": "2023-11-02T12:19:04.814Z"
   },
   {
    "duration": 114,
    "start_time": "2023-11-02T12:19:29.739Z"
   },
   {
    "duration": 5,
    "start_time": "2023-11-02T12:19:44.759Z"
   },
   {
    "duration": 14,
    "start_time": "2023-11-02T12:19:46.554Z"
   },
   {
    "duration": 4,
    "start_time": "2023-11-02T12:20:02.488Z"
   },
   {
    "duration": 505,
    "start_time": "2023-11-02T12:20:07.313Z"
   },
   {
    "duration": 4,
    "start_time": "2023-11-02T12:39:36.867Z"
   },
   {
    "duration": 8,
    "start_time": "2023-11-02T12:42:55.864Z"
   },
   {
    "duration": 7,
    "start_time": "2023-11-02T12:43:30.065Z"
   },
   {
    "duration": 8,
    "start_time": "2023-11-02T12:43:43.266Z"
   },
   {
    "duration": 188,
    "start_time": "2023-11-02T12:44:42.468Z"
   },
   {
    "duration": 198,
    "start_time": "2023-11-02T12:55:28.090Z"
   },
   {
    "duration": 4,
    "start_time": "2023-11-02T12:55:41.224Z"
   },
   {
    "duration": 274,
    "start_time": "2023-11-02T12:55:45.522Z"
   },
   {
    "duration": 4,
    "start_time": "2023-11-02T12:55:50.199Z"
   },
   {
    "duration": 283,
    "start_time": "2023-11-02T12:55:53.523Z"
   },
   {
    "duration": 1531,
    "start_time": "2023-11-02T12:56:01.117Z"
   },
   {
    "duration": 3,
    "start_time": "2023-11-02T13:02:07.853Z"
   },
   {
    "duration": 390,
    "start_time": "2023-11-02T13:02:07.866Z"
   },
   {
    "duration": 96,
    "start_time": "2023-11-02T13:02:08.259Z"
   },
   {
    "duration": 20,
    "start_time": "2023-11-02T13:02:08.357Z"
   },
   {
    "duration": 9,
    "start_time": "2023-11-02T13:02:08.379Z"
   },
   {
    "duration": 66,
    "start_time": "2023-11-02T13:02:08.390Z"
   },
   {
    "duration": 54,
    "start_time": "2023-11-02T13:02:08.458Z"
   },
   {
    "duration": 16,
    "start_time": "2023-11-02T13:02:08.514Z"
   },
   {
    "duration": 32,
    "start_time": "2023-11-02T13:02:08.532Z"
   },
   {
    "duration": 33,
    "start_time": "2023-11-02T13:02:08.566Z"
   },
   {
    "duration": 31,
    "start_time": "2023-11-02T13:02:08.601Z"
   },
   {
    "duration": 22,
    "start_time": "2023-11-02T13:02:08.634Z"
   },
   {
    "duration": 55,
    "start_time": "2023-11-02T13:02:08.658Z"
   },
   {
    "duration": 35,
    "start_time": "2023-11-02T13:02:08.715Z"
   },
   {
    "duration": 468,
    "start_time": "2023-11-02T13:02:08.753Z"
   },
   {
    "duration": 9244,
    "start_time": "2023-11-02T13:02:09.223Z"
   },
   {
    "duration": 14,
    "start_time": "2023-11-02T13:02:18.469Z"
   },
   {
    "duration": 28,
    "start_time": "2023-11-02T13:02:18.484Z"
   },
   {
    "duration": 34,
    "start_time": "2023-11-02T13:02:18.513Z"
   },
   {
    "duration": 30,
    "start_time": "2023-11-02T13:02:18.548Z"
   },
   {
    "duration": 9,
    "start_time": "2023-11-02T13:02:18.579Z"
   },
   {
    "duration": 18,
    "start_time": "2023-11-02T13:02:18.590Z"
   },
   {
    "duration": 18,
    "start_time": "2023-11-02T13:02:18.610Z"
   },
   {
    "duration": 20,
    "start_time": "2023-11-02T13:02:18.630Z"
   },
   {
    "duration": 336,
    "start_time": "2023-11-02T13:02:18.652Z"
   },
   {
    "duration": 298,
    "start_time": "2023-11-02T13:02:18.989Z"
   },
   {
    "duration": 4,
    "start_time": "2023-11-02T13:02:19.289Z"
   },
   {
    "duration": 2884,
    "start_time": "2023-11-02T13:02:19.295Z"
   },
   {
    "duration": 12,
    "start_time": "2023-11-02T13:02:22.181Z"
   },
   {
    "duration": 36,
    "start_time": "2023-11-02T13:02:22.194Z"
   },
   {
    "duration": 83,
    "start_time": "2023-11-02T13:02:22.232Z"
   },
   {
    "duration": 47,
    "start_time": "2023-11-02T13:02:22.316Z"
   },
   {
    "duration": 39,
    "start_time": "2023-11-02T13:02:22.364Z"
   },
   {
    "duration": 344,
    "start_time": "2023-11-02T13:02:22.404Z"
   },
   {
    "duration": 152,
    "start_time": "2023-11-02T13:02:22.751Z"
   },
   {
    "duration": 43,
    "start_time": "2023-11-02T13:02:22.905Z"
   },
   {
    "duration": 330,
    "start_time": "2023-11-02T13:02:22.949Z"
   },
   {
    "duration": 1644,
    "start_time": "2023-11-02T13:02:23.281Z"
   },
   {
    "duration": 192,
    "start_time": "2023-11-02T13:02:24.926Z"
   },
   {
    "duration": 5,
    "start_time": "2023-11-02T13:02:25.119Z"
   },
   {
    "duration": 491,
    "start_time": "2023-11-02T13:02:25.125Z"
   },
   {
    "duration": 568,
    "start_time": "2023-11-02T13:02:25.619Z"
   },
   {
    "duration": 475,
    "start_time": "2023-11-02T13:02:26.188Z"
   },
   {
    "duration": 9,
    "start_time": "2023-11-02T13:02:26.665Z"
   },
   {
    "duration": 38,
    "start_time": "2023-11-02T13:02:26.676Z"
   },
   {
    "duration": 14,
    "start_time": "2023-11-02T13:02:45.394Z"
   },
   {
    "duration": 12,
    "start_time": "2023-11-02T13:12:46.305Z"
   },
   {
    "duration": 5,
    "start_time": "2023-11-02T13:13:21.296Z"
   },
   {
    "duration": 5,
    "start_time": "2023-11-02T13:13:44.466Z"
   },
   {
    "duration": 24,
    "start_time": "2023-11-02T13:15:31.710Z"
   },
   {
    "duration": 16,
    "start_time": "2023-11-02T13:16:02.604Z"
   },
   {
    "duration": 15,
    "start_time": "2023-11-02T13:16:33.645Z"
   },
   {
    "duration": 8467,
    "start_time": "2023-11-02T13:18:41.478Z"
   },
   {
    "duration": 17,
    "start_time": "2023-11-02T13:18:56.582Z"
   },
   {
    "duration": 5,
    "start_time": "2023-11-02T13:19:00.042Z"
   },
   {
    "duration": 4,
    "start_time": "2023-11-02T13:19:11.606Z"
   },
   {
    "duration": 71,
    "start_time": "2023-11-02T13:19:11.611Z"
   },
   {
    "duration": 19,
    "start_time": "2023-11-02T13:19:11.683Z"
   },
   {
    "duration": 66,
    "start_time": "2023-11-02T13:19:11.704Z"
   },
   {
    "duration": 8,
    "start_time": "2023-11-02T13:19:11.772Z"
   },
   {
    "duration": 29,
    "start_time": "2023-11-02T13:19:11.782Z"
   },
   {
    "duration": 36,
    "start_time": "2023-11-02T13:19:11.813Z"
   },
   {
    "duration": 14,
    "start_time": "2023-11-02T13:19:11.850Z"
   },
   {
    "duration": 15,
    "start_time": "2023-11-02T13:19:11.865Z"
   },
   {
    "duration": 20,
    "start_time": "2023-11-02T13:19:11.881Z"
   },
   {
    "duration": 16,
    "start_time": "2023-11-02T13:19:11.902Z"
   },
   {
    "duration": 8,
    "start_time": "2023-11-02T13:19:11.919Z"
   },
   {
    "duration": 30,
    "start_time": "2023-11-02T13:19:11.928Z"
   },
   {
    "duration": 13,
    "start_time": "2023-11-02T13:19:11.961Z"
   },
   {
    "duration": 447,
    "start_time": "2023-11-02T13:19:11.975Z"
   },
   {
    "duration": 9059,
    "start_time": "2023-11-02T13:19:12.424Z"
   },
   {
    "duration": 13,
    "start_time": "2023-11-02T13:19:21.485Z"
   },
   {
    "duration": 13,
    "start_time": "2023-11-02T13:19:21.500Z"
   },
   {
    "duration": 7,
    "start_time": "2023-11-02T13:19:21.515Z"
   },
   {
    "duration": 29,
    "start_time": "2023-11-02T13:19:21.523Z"
   },
   {
    "duration": 5,
    "start_time": "2023-11-02T13:19:21.554Z"
   },
   {
    "duration": 13,
    "start_time": "2023-11-02T13:19:21.561Z"
   },
   {
    "duration": 15,
    "start_time": "2023-11-02T13:19:21.575Z"
   },
   {
    "duration": 4,
    "start_time": "2023-11-02T13:19:21.592Z"
   },
   {
    "duration": 357,
    "start_time": "2023-11-02T13:19:21.598Z"
   },
   {
    "duration": 306,
    "start_time": "2023-11-02T13:19:21.957Z"
   },
   {
    "duration": 5,
    "start_time": "2023-11-02T13:19:22.264Z"
   },
   {
    "duration": 2762,
    "start_time": "2023-11-02T13:19:22.270Z"
   },
   {
    "duration": 22,
    "start_time": "2023-11-02T13:19:25.034Z"
   },
   {
    "duration": 27,
    "start_time": "2023-11-02T13:19:25.058Z"
   },
   {
    "duration": 25,
    "start_time": "2023-11-02T13:19:25.086Z"
   },
   {
    "duration": 39,
    "start_time": "2023-11-02T13:19:25.113Z"
   },
   {
    "duration": 45,
    "start_time": "2023-11-02T13:19:25.154Z"
   },
   {
    "duration": 188,
    "start_time": "2023-11-02T13:19:25.201Z"
   },
   {
    "duration": 3,
    "start_time": "2023-11-02T13:19:25.390Z"
   },
   {
    "duration": 44,
    "start_time": "2023-11-02T13:19:25.396Z"
   },
   {
    "duration": 279,
    "start_time": "2023-11-02T13:19:25.442Z"
   },
   {
    "duration": 1488,
    "start_time": "2023-11-02T13:19:25.723Z"
   },
   {
    "duration": 182,
    "start_time": "2023-11-02T13:19:27.213Z"
   },
   {
    "duration": 5,
    "start_time": "2023-11-02T13:19:27.397Z"
   },
   {
    "duration": 457,
    "start_time": "2023-11-02T13:19:27.405Z"
   },
   {
    "duration": 529,
    "start_time": "2023-11-02T13:19:27.864Z"
   },
   {
    "duration": 461,
    "start_time": "2023-11-02T13:19:28.395Z"
   },
   {
    "duration": 8,
    "start_time": "2023-11-02T13:19:28.858Z"
   },
   {
    "duration": 16,
    "start_time": "2023-11-02T13:19:28.868Z"
   },
   {
    "duration": 324,
    "start_time": "2023-11-02T13:21:07.711Z"
   },
   {
    "duration": 12,
    "start_time": "2023-11-02T13:23:31.852Z"
   },
   {
    "duration": 22,
    "start_time": "2023-11-02T13:24:24.641Z"
   },
   {
    "duration": 4,
    "start_time": "2023-11-02T13:24:45.286Z"
   },
   {
    "duration": 265,
    "start_time": "2023-11-02T13:25:19.627Z"
   },
   {
    "duration": 273,
    "start_time": "2023-11-02T13:27:06.916Z"
   },
   {
    "duration": 1644,
    "start_time": "2023-11-02T13:27:14.142Z"
   },
   {
    "duration": 280,
    "start_time": "2023-11-02T13:27:44.391Z"
   },
   {
    "duration": 1489,
    "start_time": "2023-11-02T13:28:07.581Z"
   },
   {
    "duration": 1585,
    "start_time": "2023-11-02T13:28:24.789Z"
   },
   {
    "duration": 1495,
    "start_time": "2023-11-02T13:28:38.039Z"
   },
   {
    "duration": 1107,
    "start_time": "2023-11-02T13:42:44.265Z"
   },
   {
    "duration": 105,
    "start_time": "2023-11-02T13:42:45.374Z"
   },
   {
    "duration": 23,
    "start_time": "2023-11-02T13:42:45.480Z"
   },
   {
    "duration": 17,
    "start_time": "2023-11-02T13:42:45.505Z"
   },
   {
    "duration": 4,
    "start_time": "2023-11-02T13:42:45.524Z"
   },
   {
    "duration": 37,
    "start_time": "2023-11-02T13:42:45.529Z"
   },
   {
    "duration": 8,
    "start_time": "2023-11-02T13:42:45.569Z"
   },
   {
    "duration": 18,
    "start_time": "2023-11-02T13:42:45.578Z"
   },
   {
    "duration": 19,
    "start_time": "2023-11-02T13:42:45.598Z"
   },
   {
    "duration": 6,
    "start_time": "2023-11-02T13:42:45.623Z"
   },
   {
    "duration": 29,
    "start_time": "2023-11-02T13:42:45.631Z"
   },
   {
    "duration": 6,
    "start_time": "2023-11-02T13:42:45.673Z"
   },
   {
    "duration": 30,
    "start_time": "2023-11-02T13:42:45.680Z"
   },
   {
    "duration": 12,
    "start_time": "2023-11-02T13:42:45.712Z"
   },
   {
    "duration": 405,
    "start_time": "2023-11-02T13:42:45.726Z"
   },
   {
    "duration": 9261,
    "start_time": "2023-11-02T13:42:46.133Z"
   },
   {
    "duration": 13,
    "start_time": "2023-11-02T13:42:55.396Z"
   },
   {
    "duration": 12,
    "start_time": "2023-11-02T13:42:55.411Z"
   },
   {
    "duration": 39,
    "start_time": "2023-11-02T13:42:55.425Z"
   },
   {
    "duration": 121,
    "start_time": "2023-11-02T13:42:55.465Z"
   },
   {
    "duration": 8,
    "start_time": "2023-11-02T13:42:55.588Z"
   },
   {
    "duration": 31,
    "start_time": "2023-11-02T13:42:55.597Z"
   },
   {
    "duration": 40,
    "start_time": "2023-11-02T13:42:55.629Z"
   },
   {
    "duration": 5,
    "start_time": "2023-11-02T13:42:55.677Z"
   },
   {
    "duration": 381,
    "start_time": "2023-11-02T13:42:55.683Z"
   },
   {
    "duration": 310,
    "start_time": "2023-11-02T13:42:56.065Z"
   },
   {
    "duration": 5,
    "start_time": "2023-11-02T13:42:56.378Z"
   },
   {
    "duration": 2602,
    "start_time": "2023-11-02T13:42:56.386Z"
   },
   {
    "duration": 11,
    "start_time": "2023-11-02T13:42:58.990Z"
   },
   {
    "duration": 12,
    "start_time": "2023-11-02T13:42:59.002Z"
   },
   {
    "duration": 45,
    "start_time": "2023-11-02T13:42:59.015Z"
   },
   {
    "duration": 11,
    "start_time": "2023-11-02T13:42:59.066Z"
   },
   {
    "duration": 99,
    "start_time": "2023-11-02T13:42:59.078Z"
   },
   {
    "duration": 177,
    "start_time": "2023-11-02T13:42:59.178Z"
   },
   {
    "duration": 7,
    "start_time": "2023-11-02T13:42:59.362Z"
   },
   {
    "duration": 7,
    "start_time": "2023-11-02T13:42:59.370Z"
   },
   {
    "duration": 294,
    "start_time": "2023-11-02T13:42:59.379Z"
   },
   {
    "duration": 1515,
    "start_time": "2023-11-02T13:42:59.674Z"
   },
   {
    "duration": 187,
    "start_time": "2023-11-02T13:43:01.191Z"
   },
   {
    "duration": 5,
    "start_time": "2023-11-02T13:43:01.379Z"
   },
   {
    "duration": 539,
    "start_time": "2023-11-02T13:43:01.387Z"
   },
   {
    "duration": 491,
    "start_time": "2023-11-02T13:43:01.928Z"
   },
   {
    "duration": 562,
    "start_time": "2023-11-02T13:43:02.421Z"
   },
   {
    "duration": 7,
    "start_time": "2023-11-02T13:43:02.985Z"
   },
   {
    "duration": 27,
    "start_time": "2023-11-02T13:43:02.993Z"
   },
   {
    "duration": 4,
    "start_time": "2023-11-02T14:19:34.506Z"
   },
   {
    "duration": 4,
    "start_time": "2023-11-02T14:19:38.129Z"
   },
   {
    "duration": 59,
    "start_time": "2023-11-02T14:19:38.135Z"
   },
   {
    "duration": 20,
    "start_time": "2023-11-02T14:19:38.195Z"
   },
   {
    "duration": 25,
    "start_time": "2023-11-02T14:19:38.219Z"
   },
   {
    "duration": 20,
    "start_time": "2023-11-02T14:19:38.247Z"
   },
   {
    "duration": 20,
    "start_time": "2023-11-02T14:19:38.270Z"
   },
   {
    "duration": 15,
    "start_time": "2023-11-02T14:19:38.292Z"
   },
   {
    "duration": 20,
    "start_time": "2023-11-02T14:19:38.309Z"
   },
   {
    "duration": 20,
    "start_time": "2023-11-02T14:19:38.333Z"
   },
   {
    "duration": 6,
    "start_time": "2023-11-02T14:19:38.355Z"
   },
   {
    "duration": 9,
    "start_time": "2023-11-02T14:19:38.362Z"
   },
   {
    "duration": 10,
    "start_time": "2023-11-02T14:19:38.373Z"
   },
   {
    "duration": 21,
    "start_time": "2023-11-02T14:19:38.385Z"
   },
   {
    "duration": 44,
    "start_time": "2023-11-02T14:19:38.407Z"
   },
   {
    "duration": 466,
    "start_time": "2023-11-02T14:19:38.453Z"
   },
   {
    "duration": 9631,
    "start_time": "2023-11-02T14:19:38.921Z"
   },
   {
    "duration": 22,
    "start_time": "2023-11-02T14:19:48.554Z"
   },
   {
    "duration": 27,
    "start_time": "2023-11-02T14:19:48.577Z"
   },
   {
    "duration": 12,
    "start_time": "2023-11-02T14:19:48.605Z"
   },
   {
    "duration": 38,
    "start_time": "2023-11-02T14:19:48.619Z"
   },
   {
    "duration": 9,
    "start_time": "2023-11-02T14:19:48.660Z"
   },
   {
    "duration": 6,
    "start_time": "2023-11-02T14:19:48.671Z"
   },
   {
    "duration": 24,
    "start_time": "2023-11-02T14:19:48.679Z"
   },
   {
    "duration": 25,
    "start_time": "2023-11-02T14:19:48.707Z"
   },
   {
    "duration": 4,
    "start_time": "2023-11-02T14:19:53.806Z"
   },
   {
    "duration": 59,
    "start_time": "2023-11-02T14:19:53.812Z"
   },
   {
    "duration": 24,
    "start_time": "2023-11-02T14:19:53.873Z"
   },
   {
    "duration": 45,
    "start_time": "2023-11-02T14:19:53.899Z"
   },
   {
    "duration": 4,
    "start_time": "2023-11-02T14:19:53.947Z"
   },
   {
    "duration": 38,
    "start_time": "2023-11-02T14:19:53.953Z"
   },
   {
    "duration": 45,
    "start_time": "2023-11-02T14:19:53.992Z"
   },
   {
    "duration": 29,
    "start_time": "2023-11-02T14:19:54.039Z"
   },
   {
    "duration": 45,
    "start_time": "2023-11-02T14:19:54.070Z"
   },
   {
    "duration": 24,
    "start_time": "2023-11-02T14:19:54.117Z"
   },
   {
    "duration": 31,
    "start_time": "2023-11-02T14:19:54.143Z"
   },
   {
    "duration": 11,
    "start_time": "2023-11-02T14:19:54.179Z"
   },
   {
    "duration": 56,
    "start_time": "2023-11-02T14:19:54.192Z"
   },
   {
    "duration": 24,
    "start_time": "2023-11-02T14:19:54.252Z"
   },
   {
    "duration": 490,
    "start_time": "2023-11-02T14:19:54.279Z"
   },
   {
    "duration": 9171,
    "start_time": "2023-11-02T14:19:54.771Z"
   },
   {
    "duration": 13,
    "start_time": "2023-11-02T14:20:03.944Z"
   },
   {
    "duration": 84,
    "start_time": "2023-11-02T14:20:03.959Z"
   },
   {
    "duration": 48,
    "start_time": "2023-11-02T14:20:04.045Z"
   },
   {
    "duration": 64,
    "start_time": "2023-11-02T14:20:04.095Z"
   },
   {
    "duration": 24,
    "start_time": "2023-11-02T14:20:04.161Z"
   },
   {
    "duration": 42,
    "start_time": "2023-11-02T14:20:04.187Z"
   },
   {
    "duration": 47,
    "start_time": "2023-11-02T14:20:04.231Z"
   },
   {
    "duration": 39,
    "start_time": "2023-11-02T14:20:04.280Z"
   },
   {
    "duration": 373,
    "start_time": "2023-11-02T14:20:04.321Z"
   },
   {
    "duration": 308,
    "start_time": "2023-11-02T14:20:04.696Z"
   },
   {
    "duration": 5,
    "start_time": "2023-11-02T14:20:05.006Z"
   },
   {
    "duration": 3070,
    "start_time": "2023-11-02T14:20:05.013Z"
   },
   {
    "duration": 14,
    "start_time": "2023-11-02T14:20:08.085Z"
   },
   {
    "duration": 28,
    "start_time": "2023-11-02T14:20:08.102Z"
   },
   {
    "duration": 27,
    "start_time": "2023-11-02T14:20:08.145Z"
   },
   {
    "duration": 33,
    "start_time": "2023-11-02T14:20:08.174Z"
   },
   {
    "duration": 43,
    "start_time": "2023-11-02T14:20:08.210Z"
   },
   {
    "duration": 200,
    "start_time": "2023-11-02T14:20:08.256Z"
   },
   {
    "duration": 4,
    "start_time": "2023-11-02T14:20:08.459Z"
   },
   {
    "duration": 68,
    "start_time": "2023-11-02T14:20:08.465Z"
   },
   {
    "duration": 344,
    "start_time": "2023-11-02T14:20:08.535Z"
   },
   {
    "duration": 1710,
    "start_time": "2023-11-02T14:20:08.880Z"
   },
   {
    "duration": 218,
    "start_time": "2023-11-02T14:20:10.592Z"
   },
   {
    "duration": 7,
    "start_time": "2023-11-02T14:20:10.812Z"
   },
   {
    "duration": 593,
    "start_time": "2023-11-02T14:20:10.824Z"
   },
   {
    "duration": 603,
    "start_time": "2023-11-02T14:20:11.419Z"
   },
   {
    "duration": 492,
    "start_time": "2023-11-02T14:20:12.024Z"
   },
   {
    "duration": 7,
    "start_time": "2023-11-02T14:20:12.518Z"
   },
   {
    "duration": 24,
    "start_time": "2023-11-02T14:20:12.527Z"
   },
   {
    "duration": 17,
    "start_time": "2023-11-02T14:21:46.356Z"
   },
   {
    "duration": 190,
    "start_time": "2023-11-02T14:21:58.354Z"
   },
   {
    "duration": 186,
    "start_time": "2023-11-02T14:22:20.708Z"
   },
   {
    "duration": 8,
    "start_time": "2023-11-02T14:28:00.911Z"
   },
   {
    "duration": 9,
    "start_time": "2023-11-02T14:28:28.851Z"
   },
   {
    "duration": 176,
    "start_time": "2023-11-02T14:29:48.685Z"
   },
   {
    "duration": 179,
    "start_time": "2023-11-02T14:30:29.187Z"
   },
   {
    "duration": 172,
    "start_time": "2023-11-02T14:30:39.517Z"
   },
   {
    "duration": 183,
    "start_time": "2023-11-02T14:30:47.627Z"
   },
   {
    "duration": 166,
    "start_time": "2023-11-02T14:31:03.675Z"
   },
   {
    "duration": 270,
    "start_time": "2023-11-02T14:31:13.685Z"
   },
   {
    "duration": 185,
    "start_time": "2023-11-02T14:31:22.748Z"
   },
   {
    "duration": 194,
    "start_time": "2023-11-02T14:32:29.575Z"
   },
   {
    "duration": 15,
    "start_time": "2023-11-02T14:34:00.076Z"
   },
   {
    "duration": 4,
    "start_time": "2023-11-02T14:34:13.783Z"
   },
   {
    "duration": 336,
    "start_time": "2023-11-02T14:34:15.324Z"
   },
   {
    "duration": 299,
    "start_time": "2023-11-02T14:35:04.399Z"
   },
   {
    "duration": 943,
    "start_time": "2023-11-02T14:36:09.870Z"
   },
   {
    "duration": 848,
    "start_time": "2023-11-02T14:36:27.382Z"
   },
   {
    "duration": 188,
    "start_time": "2023-11-02T14:37:02.690Z"
   },
   {
    "duration": 179,
    "start_time": "2023-11-02T14:37:15.841Z"
   },
   {
    "duration": 189,
    "start_time": "2023-11-02T14:37:21.464Z"
   },
   {
    "duration": 302,
    "start_time": "2023-11-02T14:38:57.280Z"
   },
   {
    "duration": 186,
    "start_time": "2023-11-02T14:39:29.288Z"
   },
   {
    "duration": 5,
    "start_time": "2023-11-02T14:40:22.605Z"
   },
   {
    "duration": 490,
    "start_time": "2023-11-02T14:40:24.803Z"
   },
   {
    "duration": 483,
    "start_time": "2023-11-02T14:40:39.149Z"
   },
   {
    "duration": 493,
    "start_time": "2023-11-02T14:40:43.552Z"
   },
   {
    "duration": 12,
    "start_time": "2023-11-02T14:40:54.335Z"
   },
   {
    "duration": 9,
    "start_time": "2023-11-02T14:44:11.073Z"
   },
   {
    "duration": 4,
    "start_time": "2023-11-02T14:44:15.544Z"
   },
   {
    "duration": 408,
    "start_time": "2023-11-02T14:44:21.503Z"
   },
   {
    "duration": 1460,
    "start_time": "2023-11-02T14:45:24.291Z"
   },
   {
    "duration": 10,
    "start_time": "2023-11-02T14:51:19.849Z"
   },
   {
    "duration": 8,
    "start_time": "2023-11-02T14:53:02.744Z"
   },
   {
    "duration": 10,
    "start_time": "2023-11-02T14:53:38.671Z"
   },
   {
    "duration": 6,
    "start_time": "2023-11-02T14:53:44.377Z"
   },
   {
    "duration": 6,
    "start_time": "2023-11-02T14:54:19.343Z"
   },
   {
    "duration": 22,
    "start_time": "2023-11-02T14:54:36.051Z"
   },
   {
    "duration": 27,
    "start_time": "2023-11-02T14:55:00.206Z"
   },
   {
    "duration": 24,
    "start_time": "2023-11-02T14:55:08.410Z"
   },
   {
    "duration": 20,
    "start_time": "2023-11-02T14:55:48.702Z"
   },
   {
    "duration": 24,
    "start_time": "2023-11-02T14:55:51.337Z"
   },
   {
    "duration": 24,
    "start_time": "2023-11-02T14:57:00.416Z"
   },
   {
    "duration": 21,
    "start_time": "2023-11-02T14:57:02.293Z"
   },
   {
    "duration": 20,
    "start_time": "2023-11-02T14:58:44.123Z"
   },
   {
    "duration": 102,
    "start_time": "2023-11-02T14:58:45.567Z"
   },
   {
    "duration": 13,
    "start_time": "2023-11-02T14:58:50.116Z"
   },
   {
    "duration": 9,
    "start_time": "2023-11-02T14:59:40.568Z"
   },
   {
    "duration": 13,
    "start_time": "2023-11-02T14:59:42.431Z"
   },
   {
    "duration": 20,
    "start_time": "2023-11-02T14:59:48.618Z"
   },
   {
    "duration": 10,
    "start_time": "2023-11-02T15:00:14.892Z"
   },
   {
    "duration": 5,
    "start_time": "2023-11-02T15:00:18.452Z"
   },
   {
    "duration": 3344,
    "start_time": "2023-11-02T15:00:33.487Z"
   },
   {
    "duration": 0,
    "start_time": "2023-11-02T15:00:36.832Z"
   },
   {
    "duration": 3136,
    "start_time": "2023-11-02T15:00:51.699Z"
   },
   {
    "duration": 0,
    "start_time": "2023-11-02T15:00:54.837Z"
   },
   {
    "duration": 5,
    "start_time": "2023-11-02T15:00:58.788Z"
   },
   {
    "duration": 23,
    "start_time": "2023-11-02T15:01:22.664Z"
   },
   {
    "duration": 15,
    "start_time": "2023-11-02T15:02:35.726Z"
   },
   {
    "duration": 22,
    "start_time": "2023-11-02T15:02:38.516Z"
   },
   {
    "duration": 15,
    "start_time": "2023-11-02T15:02:40.174Z"
   },
   {
    "duration": 15,
    "start_time": "2023-11-02T15:02:43.241Z"
   },
   {
    "duration": 21,
    "start_time": "2023-11-02T15:02:46.605Z"
   },
   {
    "duration": 3,
    "start_time": "2023-11-02T15:02:55.008Z"
   },
   {
    "duration": 98,
    "start_time": "2023-11-02T15:02:55.013Z"
   },
   {
    "duration": 19,
    "start_time": "2023-11-02T15:02:55.113Z"
   },
   {
    "duration": 31,
    "start_time": "2023-11-02T15:02:55.134Z"
   },
   {
    "duration": 16,
    "start_time": "2023-11-02T15:02:55.167Z"
   },
   {
    "duration": 22,
    "start_time": "2023-11-02T15:02:55.184Z"
   },
   {
    "duration": 33,
    "start_time": "2023-11-02T15:02:55.208Z"
   },
   {
    "duration": 28,
    "start_time": "2023-11-02T15:02:55.243Z"
   },
   {
    "duration": 31,
    "start_time": "2023-11-02T15:02:55.272Z"
   },
   {
    "duration": 5,
    "start_time": "2023-11-02T15:02:55.304Z"
   },
   {
    "duration": 20,
    "start_time": "2023-11-02T15:02:55.311Z"
   },
   {
    "duration": 16,
    "start_time": "2023-11-02T15:02:55.332Z"
   },
   {
    "duration": 34,
    "start_time": "2023-11-02T15:02:55.351Z"
   },
   {
    "duration": 58,
    "start_time": "2023-11-02T15:02:55.386Z"
   },
   {
    "duration": 451,
    "start_time": "2023-11-02T15:02:55.445Z"
   },
   {
    "duration": 9366,
    "start_time": "2023-11-02T15:02:55.898Z"
   },
   {
    "duration": 14,
    "start_time": "2023-11-02T15:03:05.266Z"
   },
   {
    "duration": 56,
    "start_time": "2023-11-02T15:03:05.281Z"
   },
   {
    "duration": 40,
    "start_time": "2023-11-02T15:03:05.338Z"
   },
   {
    "duration": 17,
    "start_time": "2023-11-02T15:03:07.175Z"
   },
   {
    "duration": 11,
    "start_time": "2023-11-02T15:03:19.017Z"
   },
   {
    "duration": 100,
    "start_time": "2023-11-02T15:04:27.178Z"
   },
   {
    "duration": 10,
    "start_time": "2023-11-02T15:04:33.377Z"
   },
   {
    "duration": 31,
    "start_time": "2023-11-02T15:04:42.079Z"
   },
   {
    "duration": 9,
    "start_time": "2023-11-02T15:04:52.701Z"
   },
   {
    "duration": 16,
    "start_time": "2023-11-02T15:05:03.371Z"
   },
   {
    "duration": 10,
    "start_time": "2023-11-02T15:05:05.480Z"
   },
   {
    "duration": 11,
    "start_time": "2023-11-02T15:05:18.870Z"
   },
   {
    "duration": 10,
    "start_time": "2023-11-02T15:05:20.983Z"
   },
   {
    "duration": 9,
    "start_time": "2023-11-02T15:05:38.200Z"
   },
   {
    "duration": 14,
    "start_time": "2023-11-02T15:32:54.415Z"
   },
   {
    "duration": 1197,
    "start_time": "2023-11-02T15:42:13.257Z"
   },
   {
    "duration": 57,
    "start_time": "2023-11-02T15:42:14.456Z"
   },
   {
    "duration": 18,
    "start_time": "2023-11-02T15:42:14.515Z"
   },
   {
    "duration": 26,
    "start_time": "2023-11-02T15:42:14.535Z"
   },
   {
    "duration": 43,
    "start_time": "2023-11-02T15:42:14.563Z"
   },
   {
    "duration": 65,
    "start_time": "2023-11-02T15:42:14.608Z"
   },
   {
    "duration": 38,
    "start_time": "2023-11-02T15:42:14.674Z"
   },
   {
    "duration": 48,
    "start_time": "2023-11-02T15:42:14.713Z"
   },
   {
    "duration": 49,
    "start_time": "2023-11-02T15:42:14.762Z"
   },
   {
    "duration": 25,
    "start_time": "2023-11-02T15:42:14.813Z"
   },
   {
    "duration": 41,
    "start_time": "2023-11-02T15:42:14.840Z"
   },
   {
    "duration": 31,
    "start_time": "2023-11-02T15:42:14.882Z"
   },
   {
    "duration": 56,
    "start_time": "2023-11-02T15:42:14.915Z"
   },
   {
    "duration": 14,
    "start_time": "2023-11-02T15:42:14.974Z"
   },
   {
    "duration": 526,
    "start_time": "2023-11-02T15:42:14.989Z"
   },
   {
    "duration": 9099,
    "start_time": "2023-11-02T15:42:15.517Z"
   },
   {
    "duration": 14,
    "start_time": "2023-11-02T15:42:24.618Z"
   },
   {
    "duration": 58,
    "start_time": "2023-11-02T15:42:24.633Z"
   },
   {
    "duration": 39,
    "start_time": "2023-11-02T15:42:24.692Z"
   },
   {
    "duration": 28,
    "start_time": "2023-11-02T15:42:24.732Z"
   },
   {
    "duration": 34,
    "start_time": "2023-11-02T15:42:24.762Z"
   },
   {
    "duration": 47,
    "start_time": "2023-11-02T15:42:24.798Z"
   },
   {
    "duration": 26,
    "start_time": "2023-11-02T15:42:24.846Z"
   },
   {
    "duration": 23,
    "start_time": "2023-11-02T15:42:24.874Z"
   },
   {
    "duration": 59,
    "start_time": "2023-11-02T15:42:24.899Z"
   },
   {
    "duration": 26,
    "start_time": "2023-11-02T15:42:24.960Z"
   },
   {
    "duration": 387,
    "start_time": "2023-11-02T15:42:24.988Z"
   },
   {
    "duration": 324,
    "start_time": "2023-11-02T15:42:25.376Z"
   },
   {
    "duration": 5,
    "start_time": "2023-11-02T15:42:25.701Z"
   },
   {
    "duration": 2681,
    "start_time": "2023-11-02T15:42:25.707Z"
   },
   {
    "duration": 11,
    "start_time": "2023-11-02T15:42:28.390Z"
   },
   {
    "duration": 28,
    "start_time": "2023-11-02T15:42:28.403Z"
   },
   {
    "duration": 29,
    "start_time": "2023-11-02T15:42:28.432Z"
   },
   {
    "duration": 34,
    "start_time": "2023-11-02T15:42:28.463Z"
   },
   {
    "duration": 186,
    "start_time": "2023-11-02T15:42:28.499Z"
   },
   {
    "duration": 261,
    "start_time": "2023-11-02T15:42:28.686Z"
   },
   {
    "duration": 3,
    "start_time": "2023-11-02T15:42:28.949Z"
   },
   {
    "duration": 35,
    "start_time": "2023-11-02T15:42:28.954Z"
   },
   {
    "duration": 315,
    "start_time": "2023-11-02T15:42:28.991Z"
   },
   {
    "duration": 1544,
    "start_time": "2023-11-02T15:42:29.307Z"
   },
   {
    "duration": 220,
    "start_time": "2023-11-02T15:42:30.854Z"
   },
   {
    "duration": 223,
    "start_time": "2023-11-02T15:42:31.076Z"
   },
   {
    "duration": 6,
    "start_time": "2023-11-02T15:42:31.301Z"
   },
   {
    "duration": 603,
    "start_time": "2023-11-02T15:42:31.309Z"
   },
   {
    "duration": 511,
    "start_time": "2023-11-02T15:42:31.914Z"
   },
   {
    "duration": 549,
    "start_time": "2023-11-02T15:42:32.427Z"
   },
   {
    "duration": 8,
    "start_time": "2023-11-02T15:42:32.978Z"
   },
   {
    "duration": 35,
    "start_time": "2023-11-02T15:42:32.987Z"
   },
   {
    "duration": 1422,
    "start_time": "2023-11-03T08:54:41.930Z"
   },
   {
    "duration": 102,
    "start_time": "2023-11-03T08:54:43.354Z"
   },
   {
    "duration": 17,
    "start_time": "2023-11-03T08:54:43.458Z"
   },
   {
    "duration": 22,
    "start_time": "2023-11-03T08:54:43.477Z"
   },
   {
    "duration": 13,
    "start_time": "2023-11-03T08:54:43.501Z"
   },
   {
    "duration": 26,
    "start_time": "2023-11-03T08:54:43.515Z"
   },
   {
    "duration": 24,
    "start_time": "2023-11-03T08:54:43.543Z"
   },
   {
    "duration": 22,
    "start_time": "2023-11-03T08:54:43.569Z"
   },
   {
    "duration": 40,
    "start_time": "2023-11-03T08:54:43.592Z"
   },
   {
    "duration": 5,
    "start_time": "2023-11-03T08:54:43.634Z"
   },
   {
    "duration": 8,
    "start_time": "2023-11-03T08:54:43.640Z"
   },
   {
    "duration": 7,
    "start_time": "2023-11-03T08:54:43.649Z"
   },
   {
    "duration": 23,
    "start_time": "2023-11-03T08:54:43.657Z"
   },
   {
    "duration": 15,
    "start_time": "2023-11-03T08:54:43.683Z"
   },
   {
    "duration": 464,
    "start_time": "2023-11-03T08:54:43.699Z"
   },
   {
    "duration": 8847,
    "start_time": "2023-11-03T08:54:44.165Z"
   },
   {
    "duration": 16,
    "start_time": "2023-11-03T08:54:53.014Z"
   },
   {
    "duration": 28,
    "start_time": "2023-11-03T08:54:53.032Z"
   },
   {
    "duration": 36,
    "start_time": "2023-11-03T08:54:53.062Z"
   },
   {
    "duration": 42,
    "start_time": "2023-11-03T08:54:53.099Z"
   },
   {
    "duration": 40,
    "start_time": "2023-11-03T08:54:53.142Z"
   },
   {
    "duration": 31,
    "start_time": "2023-11-03T08:54:53.183Z"
   },
   {
    "duration": 25,
    "start_time": "2023-11-03T08:54:53.216Z"
   },
   {
    "duration": 17,
    "start_time": "2023-11-03T08:54:53.243Z"
   },
   {
    "duration": 41,
    "start_time": "2023-11-03T08:54:53.262Z"
   },
   {
    "duration": 20,
    "start_time": "2023-11-03T08:54:53.305Z"
   },
   {
    "duration": 365,
    "start_time": "2023-11-03T08:54:53.327Z"
   },
   {
    "duration": 310,
    "start_time": "2023-11-03T08:54:53.694Z"
   },
   {
    "duration": 5,
    "start_time": "2023-11-03T08:54:54.005Z"
   },
   {
    "duration": 2783,
    "start_time": "2023-11-03T08:54:54.011Z"
   },
   {
    "duration": 15,
    "start_time": "2023-11-03T08:54:56.796Z"
   },
   {
    "duration": 16,
    "start_time": "2023-11-03T08:54:56.823Z"
   },
   {
    "duration": 20,
    "start_time": "2023-11-03T08:54:56.841Z"
   },
   {
    "duration": 12,
    "start_time": "2023-11-03T08:54:56.862Z"
   },
   {
    "duration": 127,
    "start_time": "2023-11-03T08:54:56.876Z"
   },
   {
    "duration": 202,
    "start_time": "2023-11-03T08:54:57.004Z"
   },
   {
    "duration": 4,
    "start_time": "2023-11-03T08:54:57.208Z"
   },
   {
    "duration": 35,
    "start_time": "2023-11-03T08:54:57.214Z"
   },
   {
    "duration": 302,
    "start_time": "2023-11-03T08:54:57.251Z"
   },
   {
    "duration": 1613,
    "start_time": "2023-11-03T08:54:57.554Z"
   },
   {
    "duration": 208,
    "start_time": "2023-11-03T08:54:59.171Z"
   },
   {
    "duration": 187,
    "start_time": "2023-11-03T08:54:59.381Z"
   },
   {
    "duration": 5,
    "start_time": "2023-11-03T08:54:59.570Z"
   },
   {
    "duration": 502,
    "start_time": "2023-11-03T08:54:59.576Z"
   },
   {
    "duration": 532,
    "start_time": "2023-11-03T08:55:00.080Z"
   },
   {
    "duration": 603,
    "start_time": "2023-11-03T08:55:00.614Z"
   },
   {
    "duration": 12,
    "start_time": "2023-11-03T08:55:01.219Z"
   },
   {
    "duration": 70,
    "start_time": "2023-11-03T08:55:01.233Z"
   }
  ],
  "kernelspec": {
   "display_name": "Python 3 (ipykernel)",
   "language": "python",
   "name": "python3"
  },
  "language_info": {
   "codemirror_mode": {
    "name": "ipython",
    "version": 3
   },
   "file_extension": ".py",
   "mimetype": "text/x-python",
   "name": "python",
   "nbconvert_exporter": "python",
   "pygments_lexer": "ipython3",
   "version": "3.9.5"
  },
  "toc": {
   "base_numbering": 1,
   "nav_menu": {},
   "number_sections": true,
   "sideBar": true,
   "skip_h1_title": true,
   "title_cell": "Table of Contents",
   "title_sidebar": "Contents",
   "toc_cell": false,
   "toc_position": {},
   "toc_section_display": true,
   "toc_window_display": false
  }
 },
 "nbformat": 4,
 "nbformat_minor": 2
}
